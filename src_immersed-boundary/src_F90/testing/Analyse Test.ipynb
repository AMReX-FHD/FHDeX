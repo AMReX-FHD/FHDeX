{
 "cells": [
  {
   "cell_type": "markdown",
   "metadata": {},
   "source": [
    "### Imports"
   ]
  },
  {
   "cell_type": "markdown",
   "metadata": {},
   "source": [
    "Using `PyPlot` to plot data"
   ]
  },
  {
   "cell_type": "code",
   "execution_count": 1,
   "metadata": {},
   "outputs": [],
   "source": [
    "using PyPlot"
   ]
  },
  {
   "cell_type": "markdown",
   "metadata": {},
   "source": [
    "# Test Implementation of the 6-point Peskin Kernel"
   ]
  },
  {
   "cell_type": "markdown",
   "metadata": {},
   "source": [
    "## Load Data"
   ]
  },
  {
   "cell_type": "markdown",
   "metadata": {},
   "source": [
    "This data is populated by the `test_kernel_6p` program.\n",
    "1. `make`\n",
    "2. `./test_kernel_6p > test_data.6p`"
   ]
  },
  {
   "cell_type": "code",
   "execution_count": 2,
   "metadata": {},
   "outputs": [],
   "source": [
    "f = open(\"test_data.txt\")\n",
    "a = readlines(f)\n",
    "close(f)"
   ]
  },
  {
   "cell_type": "markdown",
   "metadata": {},
   "source": [
    "## Parse Data"
   ]
  },
  {
   "cell_type": "markdown",
   "metadata": {},
   "source": [
    "Simple data structure to hold $(x,f(x))$ tuples"
   ]
  },
  {
   "cell_type": "code",
   "execution_count": 3,
   "metadata": {},
   "outputs": [],
   "source": [
    "struct TestData\n",
    "    dx::Float64\n",
    "     x::Array{Float64}\n",
    "    fx::Array{Float64}\n",
    "end"
   ]
  },
  {
   "cell_type": "markdown",
   "metadata": {},
   "source": [
    "Parse the `test_data.txt` file:"
   ]
  },
  {
   "cell_type": "code",
   "execution_count": 4,
   "metadata": {},
   "outputs": [
    {
     "data": {
      "text/plain": [
       "parse_test (generic function with 1 method)"
      ]
     },
     "execution_count": 4,
     "metadata": {},
     "output_type": "execute_result"
    }
   ],
   "source": [
    "function parse_test(file_lines)\n",
    "    # file format:\n",
    "    #  1:      HEADER\n",
    "    #  2:      dx= <dx>\n",
    "    #  3..n+2: <x> <f(x)> \n",
    "    \n",
    "    # extract dx from the second line\n",
    "    line::Array{String} = split(file_lines[2], \"=\")\n",
    "    dx::Float64         = parse(Float64, line[2])\n",
    "    \n",
    "    # initialize arrays holding data\n",
    "    n_lines::Int       = length(file_lines)\n",
    "    x::Array{Float64}  = Array{Float64}(undef, n_lines - 2)\n",
    "    fx::Array{Float64} = Array{Float64}(undef, n_lines - 2)\n",
    "\n",
    "    # iterate over the rest of the lines, parsing the (x, f(x)) tuples\n",
    "    for i = 3:n_lines\n",
    "        line    = split(file_lines[i])\n",
    "         x[i-2] = parse(Float64, line[1])\n",
    "        fx[i-2] = parse(Float64, line[2])\n",
    "    end\n",
    "    \n",
    "    test_data = TestData(dx, x, fx)\n",
    "end"
   ]
  },
  {
   "cell_type": "markdown",
   "metadata": {},
   "source": [
    "## Compare `test_data.txt` to Theory"
   ]
  },
  {
   "cell_type": "markdown",
   "metadata": {},
   "source": [
    "The 6-point kernel function, based on the paper: \n",
    "\n",
    ">*A Gaussian-like immersed-boundary kernel with three continuous derivatives and improved translational invariance*\n",
    ">Yuanxun Bao, Jason Kaye, Charles S. Peskin, *Journal of Computational Physics* **316**, 139 (2016)\n",
    ">https://dx.doi.org/10.1016/j.jcp.2016.04.024\n",
    "\n",
    "Note also: https://github.com/stochasticHydroTools/IBMethod/blob/master/IBKernels/Kernels.c because the paper above has mistakes (but the repo's OK)"
   ]
  },
  {
   "cell_type": "markdown",
   "metadata": {},
   "source": [
    "Compare Kernel to Gaussian"
   ]
  },
  {
   "cell_type": "code",
   "execution_count": 5,
   "metadata": {},
   "outputs": [
    {
     "data": {
      "text/plain": [
       "gauss (generic function with 1 method)"
      ]
     },
     "execution_count": 5,
     "metadata": {},
     "output_type": "execute_result"
    }
   ],
   "source": [
    "gauss(x, σ) = 1/(σ .* √(2π)) .* exp.(-1/2 .* (x./σ).^2)"
   ]
  },
  {
   "cell_type": "code",
   "execution_count": 6,
   "metadata": {},
   "outputs": [
    {
     "data": {
      "image/png": "[encoded data removed]",
      "text/plain": [
       "Figure(PyObject <Figure size 640x480 with 1 Axes>)"
      ]
     },
     "metadata": {},
     "output_type": "display_data"
    },
    {
     "data": {
      "text/plain": [
       "1-element Array{PyCall.PyObject,1}:\n",
       " PyObject <matplotlib.lines.Line2D object at 0x7fa9734acef0>"
      ]
     },
     "execution_count": 6,
     "metadata": {},
     "output_type": "execute_result"
    }
   ],
   "source": [
    "test_data = parse_test(a)\n",
    "plot(test_data.x, test_data.fx)\n",
    "plot(test_data.x, gauss(test_data.x, √(59/60-√(29)/20)))"
   ]
  },
  {
   "cell_type": "code",
   "execution_count": null,
   "metadata": {},
   "outputs": [],
   "source": []
  }
 ],
 "metadata": {
  "kernelspec": {
   "display_name": "Julia 1.1.0",
   "language": "julia",
   "name": "julia-1.1"
  },
  "language_info": {
   "file_extension": ".jl",
   "mimetype": "application/julia",
   "name": "julia",
   "version": "1.1.0"
  }
 },
 "nbformat": 4,
 "nbformat_minor": 2
}
