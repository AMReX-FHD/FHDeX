{
 "cells": [
  {
   "cell_type": "code",
   "execution_count": null,
   "id": "e655c6f9-9209-4027-a113-85e91f9c6c0c",
   "metadata": {
    "tags": []
   },
   "outputs": [],
   "source": [
    "from dataclasses import dataclass\n",
    "from typing import Union, Tuple"
   ]
  },
  {
   "cell_type": "code",
   "execution_count": null,
   "id": "5239376a-c81b-4206-8bfc-a2024b2322ff",
   "metadata": {},
   "outputs": [],
   "source": [
    "import numpy as np"
   ]
  },
  {
   "cell_type": "code",
   "execution_count": null,
   "id": "330094a8-09de-4fe5-b48f-393b48169d03",
   "metadata": {
    "tags": []
   },
   "outputs": [],
   "source": [
    "import sph"
   ]
  },
  {
   "cell_type": "code",
   "execution_count": null,
   "id": "4a588de5-95ba-43f1-a2b3-0f1ac6dffc71",
   "metadata": {
    "tags": []
   },
   "outputs": [],
   "source": [
    "@dataclass\n",
    "class Point:\n",
    "    id: int\n",
    "    coord: Union[None, Tuple[float]]\n",
    "    neighbors: Tuple[int]"
   ]
  },
  {
   "cell_type": "code",
   "execution_count": null,
   "id": "bbc247ea-b311-455e-9dc2-d881148a103c",
   "metadata": {
    "tags": []
   },
   "outputs": [],
   "source": [
    "def map_points(delaunay):\n",
    "    pt_map: Dict[int, Point] = dict()\n",
    "    for i in range(sph.delaunay.n_points):\n",
    "        pt_map[i] = Point(\n",
    "            id=i,\n",
    "            coord=tuple(delaunay.points[i,:]),\n",
    "            neighbors=tuple(delaunay.point_neighbors(i))\n",
    "        )\n",
    "    return pt_map"
   ]
  },
  {
   "cell_type": "code",
   "execution_count": null,
   "id": "1ce9e6cc-f711-46f1-b7e1-ae7a02425763",
   "metadata": {
    "tags": []
   },
   "outputs": [],
   "source": [
    "pts = map_points(sph.delaunay)"
   ]
  },
  {
   "cell_type": "code",
   "execution_count": null,
   "id": "7db00fae-10e1-49a5-9f6e-efaf08d6fc19",
   "metadata": {
    "tags": []
   },
   "outputs": [],
   "source": [
    "for i in range(sph.delaunay.n_cells):\n",
    "    cell = sph.delaunay.get_cell(i)\n",
    "    for j in range(cell.GetNumberOfPoints()):\n",
    "        coord = cell.GetPoints().GetPoint(j)\n",
    "        idx = cell.point_ids[j]\n",
    "        #print(f\"{idx=}, {coord=}, {pts[idx].coord=}\")\n",
    "        if coord != pts[idx].coord:\n",
    "            print(f\"{idx=} FAILED\")\n",
    "print(\"DONE\")"
   ]
  },
  {
   "cell_type": "code",
   "execution_count": null,
   "id": "f285e933-d0d2-41d6-8938-eaceeb0762da",
   "metadata": {},
   "outputs": [],
   "source": [
    "pts"
   ]
  },
  {
   "cell_type": "code",
   "execution_count": null,
   "id": "f3e615e3-736e-42af-b40d-7b4fa7768d03",
   "metadata": {},
   "outputs": [],
   "source": [
    "max_nn = 0\n",
    "for _, pt in pts.items():\n",
    "    max_nn = max(max_nn, len(pt.neighbors))"
   ]
  },
  {
   "cell_type": "code",
   "execution_count": null,
   "id": "8c464a14-42a0-4a27-8bfc-d08eb5b10cd5",
   "metadata": {},
   "outputs": [],
   "source": [
    "max_nn"
   ]
  },
  {
   "cell_type": "code",
   "execution_count": null,
   "id": "895204f0-59ab-400f-9863-b83a8b147cf5",
   "metadata": {},
   "outputs": [],
   "source": [
    "\n",
    "for idx in pts.keys():\n",
    "    i = pts[idx].id\n",
    "    p0 = np.array(pts[idx].coord)\n",
    "    print(f\"{i}\\t{p0[0]}\\t{p0[1]}\\t{p0[2]}\\t1\\t0\\t1\")"
   ]
  },
  {
   "cell_type": "code",
   "execution_count": null,
   "id": "b233012b-5608-434c-a68d-eca9e80f0b65",
   "metadata": {},
   "outputs": [],
   "source": [
    "k=1e-3 #/max_nn\n",
    "for idx in pts.keys():\n",
    "    i = pts[idx].id\n",
    "    p0 = np.array(pts[idx].coord)\n",
    "    for j in pts[idx].neighbors:\n",
    "        p1 = np.array(pts[j].coord)\n",
    "        dist = np.sqrt(np.sum((p1-p0)**2))\n",
    "        print(f\"{i}\\t{j}\\t{k/len(pts[idx].neighbors)}\\t{dist}\")"
   ]
  },
  {
   "cell_type": "code",
   "execution_count": null,
   "id": "38d24330-99fe-4352-bfd8-407f9600b52a",
   "metadata": {},
   "outputs": [],
   "source": []
  }
 ],
 "metadata": {
  "kernelspec": {
   "display_name": "Python 3 (ipykernel)",
   "language": "python",
   "name": "python3"
  },
  "language_info": {
   "codemirror_mode": {
    "name": "ipython",
    "version": 3
   },
   "file_extension": ".py",
   "mimetype": "text/x-python",
   "name": "python",
   "nbconvert_exporter": "python",
   "pygments_lexer": "ipython3",
   "version": "3.9.16"
  }
 },
 "nbformat": 4,
 "nbformat_minor": 5
}
