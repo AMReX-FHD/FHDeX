{
 "cells": [
  {
   "cell_type": "code",
   "execution_count": 1,
   "metadata": {},
   "outputs": [],
   "source": [
    "import sys, os, os.path\n",
    "import glob"
   ]
  },
  {
   "cell_type": "code",
   "execution_count": 2,
   "metadata": {},
   "outputs": [],
   "source": [
    "import scipy as sp\n",
    "import numpy as np\n",
    "\n",
    "import matplotlib\n",
    "import matplotlib.pyplot as pp"
   ]
  },
  {
   "cell_type": "code",
   "execution_count": 3,
   "metadata": {},
   "outputs": [],
   "source": [
    "import yt\n",
    "from yt.frontends.boxlib.data_structures import AMReXDataset"
   ]
  },
  {
   "cell_type": "code",
   "execution_count": 4,
   "metadata": {},
   "outputs": [
    {
     "name": "stdout",
     "output_type": "stream",
     "text": [
      "Populating the interactive namespace from numpy and matplotlib\n"
     ]
    }
   ],
   "source": [
    "%pylab inline"
   ]
  },
  {
   "cell_type": "code",
   "execution_count": 5,
   "metadata": {},
   "outputs": [
    {
     "name": "stdout",
     "output_type": "stream",
     "text": [
      "`SCRATCH` is not an environment variable => data_root is empty\n"
     ]
    }
   ],
   "source": [
    "# Try Cori's scratch... otherwise the user will have to manually input the data root\n",
    "scratch_env_key = \"SCRATCH\"\n",
    "if scratch_env_key in os.environ.keys():\n",
    "    data_root = os.environ[scratch_env_key]\n",
    "else:\n",
    "    data_root = \"\"\n",
    "    print(RuntimeWarning(\"`SCRATCH` is not an environment variable => data_root is empty\"))"
   ]
  },
  {
   "cell_type": "code",
   "execution_count": 6,
   "metadata": {},
   "outputs": [],
   "source": [
    "data_dir  = \".\"\n",
    "data_path = os.path.join(data_root, data_dir)"
   ]
  },
  {
   "cell_type": "code",
   "execution_count": 7,
   "metadata": {},
   "outputs": [],
   "source": [
    "step     = 1\n",
    "n_fill   = 5\n",
    "prefix   = \"plt\"\n",
    "file_fmt = prefix + \"{:0\" + str(n_fill) + \"d}\""
   ]
  },
  {
   "cell_type": "code",
   "execution_count": 8,
   "metadata": {},
   "outputs": [],
   "source": [
    "data_glob  = os.path.join(data_path, prefix + \"*\")\n",
    "data_files = glob.glob(data_glob)\n",
    "data_files.sort()"
   ]
  },
  {
   "cell_type": "code",
   "execution_count": 9,
   "metadata": {},
   "outputs": [],
   "source": [
    "def check_sequential(files_sorted, step):\n",
    "    sequential = True\n",
    "    for i in range(len(files_sorted)):\n",
    "        c_file = file_fmt.format(i*step)\n",
    "        c_path = os.path.join(data_path, c_file)\n",
    "\n",
    "        missing = list()\n",
    "        if c_path not in files_sorted:\n",
    "            missing.append(c_path)\n",
    "            sequential = False\n",
    "\n",
    "    return sequential, missing"
   ]
  },
  {
   "cell_type": "code",
   "execution_count": 10,
   "metadata": {},
   "outputs": [
    {
     "data": {
      "text/plain": [
       "(False, ['./plt00005'])"
      ]
     },
     "execution_count": 10,
     "metadata": {},
     "output_type": "execute_result"
    }
   ],
   "source": [
    "check_sequential(data_files, step)"
   ]
  },
  {
   "cell_type": "code",
   "execution_count": 11,
   "metadata": {},
   "outputs": [
    {
     "data": {
      "text/plain": [
       "'./plt0000000'"
      ]
     },
     "execution_count": 11,
     "metadata": {},
     "output_type": "execute_result"
    }
   ],
   "source": [
    "data_files[0]"
   ]
  },
  {
   "cell_type": "code",
   "execution_count": 12,
   "metadata": {},
   "outputs": [
    {
     "name": "stderr",
     "output_type": "stream",
     "text": [
      "yt : [INFO     ] 2019-04-30 13:53:41,825 Parameters: current_time              = 0.0\n",
      "yt : [INFO     ] 2019-04-30 13:53:41,825 Parameters: domain_dimensions         = [32 32 32]\n",
      "yt : [INFO     ] 2019-04-30 13:53:41,826 Parameters: domain_left_edge          = [0. 0. 0.]\n",
      "yt : [INFO     ] 2019-04-30 13:53:41,826 Parameters: domain_right_edge         = [1. 1. 1.]\n"
     ]
    }
   ],
   "source": [
    "ds = AMReXDataset(data_files[0])"
   ]
  },
  {
   "cell_type": "code",
   "execution_count": 13,
   "metadata": {},
   "outputs": [
    {
     "data": {
      "text/plain": [
       "defaultdict(list,\n",
       "            {'immersed_boundaries': ['particle_cpu',\n",
       "              'particle_density',\n",
       "              'particle_dragx',\n",
       "              'particle_dragy',\n",
       "              'particle_dragz',\n",
       "              'particle_id',\n",
       "              'particle_mass',\n",
       "              'particle_omegax',\n",
       "              'particle_omegay',\n",
       "              'particle_omegaz',\n",
       "              'particle_oneOverI',\n",
       "              'particle_phase',\n",
       "              'particle_position_x',\n",
       "              'particle_position_y',\n",
       "              'particle_position_z',\n",
       "              'particle_radius',\n",
       "              'particle_state',\n",
       "              'particle_velx',\n",
       "              'particle_vely',\n",
       "              'particle_velz',\n",
       "              'particle_volume']})"
      ]
     },
     "execution_count": 13,
     "metadata": {},
     "output_type": "execute_result"
    }
   ],
   "source": [
    "ds.particle_fields_by_type"
   ]
  },
  {
   "cell_type": "code",
   "execution_count": 14,
   "metadata": {},
   "outputs": [
    {
     "data": {
      "text/plain": [
       "[('all', 'particle_cpu'),\n",
       " ('all', 'particle_density'),\n",
       " ('all', 'particle_dragx'),\n",
       " ('all', 'particle_dragy'),\n",
       " ('all', 'particle_dragz'),\n",
       " ('all', 'particle_id'),\n",
       " ('all', 'particle_mass'),\n",
       " ('all', 'particle_omegax'),\n",
       " ('all', 'particle_omegay'),\n",
       " ('all', 'particle_omegaz'),\n",
       " ('all', 'particle_oneOverI'),\n",
       " ('all', 'particle_phase'),\n",
       " ('all', 'particle_position_x'),\n",
       " ('all', 'particle_position_y'),\n",
       " ('all', 'particle_position_z'),\n",
       " ('all', 'particle_radius'),\n",
       " ('all', 'particle_state'),\n",
       " ('all', 'particle_velx'),\n",
       " ('all', 'particle_vely'),\n",
       " ('all', 'particle_velz'),\n",
       " ('all', 'particle_volume'),\n",
       " ('boxlib', 'averaged_velx'),\n",
       " ('boxlib', 'averaged_vely'),\n",
       " ('boxlib', 'averaged_velz'),\n",
       " ('boxlib', 'divergence'),\n",
       " ('boxlib', 'force_ibm_x'),\n",
       " ('boxlib', 'force_ibm_y'),\n",
       " ('boxlib', 'force_ibm_z'),\n",
       " ('boxlib', 'pres'),\n",
       " ('boxlib', 'shifted_force_ibm_x'),\n",
       " ('boxlib', 'shifted_force_ibm_y'),\n",
       " ('boxlib', 'shifted_force_ibm_z'),\n",
       " ('boxlib', 'shifted_velx'),\n",
       " ('boxlib', 'shifted_vely'),\n",
       " ('boxlib', 'shifted_velz'),\n",
       " ('boxlib', 'tracer'),\n",
       " ('immersed_boundaries', 'particle_cpu'),\n",
       " ('immersed_boundaries', 'particle_density'),\n",
       " ('immersed_boundaries', 'particle_dragx'),\n",
       " ('immersed_boundaries', 'particle_dragy'),\n",
       " ('immersed_boundaries', 'particle_dragz'),\n",
       " ('immersed_boundaries', 'particle_id'),\n",
       " ('immersed_boundaries', 'particle_mass'),\n",
       " ('immersed_boundaries', 'particle_omegax'),\n",
       " ('immersed_boundaries', 'particle_omegay'),\n",
       " ('immersed_boundaries', 'particle_omegaz'),\n",
       " ('immersed_boundaries', 'particle_oneOverI'),\n",
       " ('immersed_boundaries', 'particle_phase'),\n",
       " ('immersed_boundaries', 'particle_position_x'),\n",
       " ('immersed_boundaries', 'particle_position_y'),\n",
       " ('immersed_boundaries', 'particle_position_z'),\n",
       " ('immersed_boundaries', 'particle_radius'),\n",
       " ('immersed_boundaries', 'particle_state'),\n",
       " ('immersed_boundaries', 'particle_velx'),\n",
       " ('immersed_boundaries', 'particle_vely'),\n",
       " ('immersed_boundaries', 'particle_velz'),\n",
       " ('immersed_boundaries', 'particle_volume')]"
      ]
     },
     "execution_count": 14,
     "metadata": {},
     "output_type": "execute_result"
    }
   ],
   "source": [
    "ds.field_list"
   ]
  },
  {
   "cell_type": "code",
   "execution_count": 15,
   "metadata": {},
   "outputs": [],
   "source": [
    "ad = ds.all_data()"
   ]
  },
  {
   "cell_type": "code",
   "execution_count": 16,
   "metadata": {},
   "outputs": [
    {
     "data": {
      "text/plain": [
       "0.5 code_length"
      ]
     },
     "execution_count": 16,
     "metadata": {},
     "output_type": "execute_result"
    }
   ],
   "source": [
    "ad[\"all\", \"particle_position_x\"][0]"
   ]
  },
  {
   "cell_type": "code",
   "execution_count": 17,
   "metadata": {},
   "outputs": [
    {
     "data": {
      "text/plain": [
       "0.5 code_length"
      ]
     },
     "execution_count": 17,
     "metadata": {},
     "output_type": "execute_result"
    }
   ],
   "source": [
    "ad[\"all\", \"particle_position_y\"][0]"
   ]
  },
  {
   "cell_type": "code",
   "execution_count": 18,
   "metadata": {},
   "outputs": [
    {
     "data": {
      "text/plain": [
       "0.5 code_length"
      ]
     },
     "execution_count": 18,
     "metadata": {},
     "output_type": "execute_result"
    }
   ],
   "source": [
    "ad[\"all\", \"particle_position_z\"][0]"
   ]
  },
  {
   "cell_type": "code",
   "execution_count": null,
   "metadata": {},
   "outputs": [],
   "source": []
  }
 ],
 "metadata": {
  "kernelspec": {
   "display_name": "Python 3",
   "language": "python",
   "name": "python3"
  },
  "language_info": {
   "codemirror_mode": {
    "name": "ipython",
    "version": 3
   },
   "file_extension": ".py",
   "mimetype": "text/x-python",
   "name": "python",
   "nbconvert_exporter": "python",
   "pygments_lexer": "ipython3",
   "version": "3.6.8"
  }
 },
 "nbformat": 4,
 "nbformat_minor": 2
}
