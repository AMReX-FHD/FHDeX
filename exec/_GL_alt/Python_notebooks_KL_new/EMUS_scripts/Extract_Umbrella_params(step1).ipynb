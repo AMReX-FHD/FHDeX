{
 "cells": [
  {
   "cell_type": "code",
   "execution_count": 1,
   "metadata": {},
   "outputs": [
    {
     "name": "stdout",
     "output_type": "stream",
     "text": [
      "Populating the interactive namespace from numpy and matplotlib\n"
     ]
    }
   ],
   "source": [
    "# Three python scripts for computing the free energy have been written\n",
    "\n",
    "# Before implmenting these scripts to get a free energy, the following should be checked:\n",
    "#    1. Install EMUS. The github repo is https://github.com/ehthiede/EMUS  (install info at bottom of page)\n",
    "#    2. These scripts should be run in a directory where there is a folder holding all the umbrella files\n",
    "\n",
    "\n",
    "\n",
    "\n",
    "# This script cuts the spring constant and the umbrella center data from every umbrella file\n",
    "\n",
    "# These values are then collected as a column where every entry corresponds to an umbrella and writes them \n",
    "# to files called \"phi0_centers\" and \" spring_constants\"\n",
    "\n",
    "# The script leaves behind the 4 columns of data in the umbrella file\n",
    "#NOTE: This should all be done on a copy of the umbrella files\n",
    "\n",
    "\n",
    "import sys, os, os.path\n",
    "import glob\n",
    "\n",
    "import scipy as sp\n",
    "import numpy as np\n",
    "\n",
    "from emus import usutils as uu\n",
    "from emus import emus, avar\n",
    "\n",
    "\n",
    "import matplotlib\n",
    "import matplotlib.pyplot as pp\n",
    "from mpl_toolkits.mplot3d import Axes3D\n",
    "\n",
    "import yt\n",
    "from yt.frontends.boxlib.data_structures import AMReXDataset\n",
    "\n",
    "from tempfile import TemporaryFile\n",
    "\n",
    "\n",
    "%pylab inline\n",
    "\n"
   ]
  },
  {
   "cell_type": "code",
   "execution_count": 2,
   "metadata": {},
   "outputs": [],
   "source": [
    "location='./umb_files' #data file location. A copy of the data should be used. \n",
    "list = sorted(os.listdir(\"./umb_files\"))\n",
    "Number_of_Umbrellas=len(list) \n",
    "dat = np.loadtxt('./umb_files/umbrella00000000.txt',usecols=[0],unpack=True) #any of the files should work\n",
    "Number_of_Samples_in_Umb=dat.shape[0]\n",
    "dat_array=numpy.zeros(shape=(Number_of_Samples_in_Umb,Number_of_Umbrellas),dtype=float64)\n",
    "phi_loc=numpy.zeros(shape=(Number_of_Umbrellas),dtype=float64)\n",
    "kappa=numpy.zeros(shape=(Number_of_Umbrellas),dtype=float64)\n",
    "\n",
    "\n",
    "# code below extracts the spring constant and phi_0 values. Only works if these are in the data file\n",
    "\n",
    "\n",
    "i=0\n",
    "for filename in list:    \n",
    "    a=os.path.join(location, filename)\n",
    "    with open(a) as f:\n",
    "        Temp_list=f.readlines()\n",
    "        kappa[i]=(float(Temp_list[0]))\n",
    "        phi_loc[i]=(float(Temp_list[1]))\n",
    "    i=i+1\n",
    "    \n",
    "    \n",
    "    \n",
    "#only run this part ONCE on non-orginal data. It deletes the spring and phi_0 locaations\n",
    "    \n",
    "for filename in list:    \n",
    "    a=os.path.join(location, filename)\n",
    "    with open(a, 'r') as fin:\n",
    "        data = fin.read().splitlines(True)\n",
    "    with open(a, 'w') as fout:\n",
    "        fout.writelines(data[2:])   \n",
    " \n",
    "    \n",
    " # portion below  initializes varaibles and saves umbrella parameters to a text file       \n",
    "centers=(phi_loc)\n",
    "fks=(kappa)\n",
    "np.savetxt('phi0_centers.txt', centers, fmt=\"%10.8f\",delimiter='\\t')\n",
    "np.savetxt('spring_constants.txt', fks, fmt=\"%10.8f\",delimiter='\\t')\n",
    "\n",
    "# To continue, open the file named \"Comp_EMU_FE\""
   ]
  },
  {
   "cell_type": "code",
   "execution_count": null,
   "metadata": {},
   "outputs": [],
   "source": []
  }
 ],
 "metadata": {
  "kernelspec": {
   "display_name": "Python 3",
   "language": "python",
   "name": "python3"
  },
  "language_info": {
   "codemirror_mode": {
    "name": "ipython",
    "version": 3
   },
   "file_extension": ".py",
   "mimetype": "text/x-python",
   "name": "python",
   "nbconvert_exporter": "python",
   "pygments_lexer": "ipython3",
   "version": "3.7.3"
  }
 },
 "nbformat": 4,
 "nbformat_minor": 2
}
