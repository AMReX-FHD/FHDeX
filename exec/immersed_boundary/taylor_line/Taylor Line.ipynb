{
 "cells": [
  {
   "cell_type": "code",
   "execution_count": 9,
   "id": "ff6888dc",
   "metadata": {},
   "outputs": [],
   "source": [
    "import sys, os, os.path\n",
    "import glob\n",
    "\n",
    "import scipy as sp\n",
    "import numpy as np\n",
    "\n",
    "import matplotlib\n",
    "import matplotlib.pyplot as pp\n",
    "\n",
    "import yt\n",
    "from yt.frontends.boxlib.data_structures import AMReXDataset\n",
    "yt.funcs.mylog.setLevel(50)"
   ]
  },
  {
   "cell_type": "code",
   "execution_count": 10,
   "id": "97260103",
   "metadata": {},
   "outputs": [],
   "source": [
    "%matplotlib inline"
   ]
  },
  {
   "cell_type": "code",
   "execution_count": 11,
   "id": "092ddc5d",
   "metadata": {},
   "outputs": [],
   "source": [
    "sys.path.append(\"src_analysis\")\n",
    "from data_model import *\n",
    "from visualize  import *"
   ]
  },
  {
   "cell_type": "code",
   "execution_count": 12,
   "id": "a3615b32",
   "metadata": {},
   "outputs": [],
   "source": [
    "sys.path.append(\"chlamy-flagellum-master\")\n",
    "import pychlamy.data_model       as cdm\n",
    "from   pychlamy.geometry         import DiscreteCurve\n",
    "from   pychlamy.fourier_analysis import FourierTransform\n",
    "from   scipy.io                  import loadmat"
   ]
  },
  {
   "cell_type": "code",
   "execution_count": 13,
   "id": "ab4f4f8c",
   "metadata": {},
   "outputs": [],
   "source": [
    "def get_line(lines, name):\n",
    "    \"\"\"\n",
    "    Select line based on variable name, ignoring comments\n",
    "    \"\"\"\n",
    "    for line in lines:\n",
    "        data = line.strip()\n",
    "        if data.startswith(name):\n",
    "            return data\n",
    "    return None\n",
    "\n",
    "def select_data(x):\n",
    "    \"\"\"\n",
    "    Select the substring after the '=' sign\n",
    "    \"\"\"\n",
    "    return x.split(\"=\")[1].strip()\n",
    "\n",
    "def select_vector(x):\n",
    "    \"\"\"\n",
    "    Select the last 3 (space-delimited) non-empty substrings after the '=' sign\n",
    "    \"\"\"\n",
    "    data = select_data(x)\n",
    "    return list(filter(lambda x:len(x)>0, data.split(\" \")))[:3]"
   ]
  },
  {
   "cell_type": "code",
   "execution_count": 14,
   "id": "5ea50489",
   "metadata": {},
   "outputs": [],
   "source": [
    "def get_timings(inputs_file_path):\n",
    "    with open(inputs_file_path) as f:\n",
    "        lines = f.readlines()\n",
    "\n",
    "    fixed_dt  = float(select_data(get_line(lines, \"fixed_dt\")))\n",
    "    plot_int  = int(select_data(get_line(lines, \"plot_int\")))\n",
    "    frequency = float(select_data(get_line(lines, \"frequency\")))\n",
    "\n",
    "    return fixed_dt*plot_int, frequency"
   ]
  },
  {
   "cell_type": "code",
   "execution_count": 15,
   "id": "ca1650e2",
   "metadata": {},
   "outputs": [],
   "source": [
    "def get_dimension(inputs_file_path):\n",
    "    with open(inputs_file_path) as f:\n",
    "        lines = f.readlines()\n",
    "\n",
    "    lo = map(lambda x:float(x), select_vector(get_line(lines, \"prob_lo\")))\n",
    "    hi = map(lambda x:float(x), select_vector(get_line(lines, \"prob_hi\")))\n",
    "    \n",
    "    return np.array(list(lo)), np.array(list(hi))\n",
    "\n",
    "def get_property(inputs_file_path, prop, parser):\n",
    "    with open(inputs_file_path) as f:\n",
    "        lines = f.readlines()\n",
    "\n",
    "    return parser(select_data(get_line(lines, prop)))"
   ]
  },
  {
   "cell_type": "code",
   "execution_count": 16,
   "id": "f31f0019",
   "metadata": {},
   "outputs": [],
   "source": [
    "def shift_pbc(pos, prev_pos, size):\n",
    "    new_pos = np.zeros(3)\n",
    "    for i in range(3):\n",
    "        new_pos[i] = pos[i]\n",
    "        if (pos[i] - prev_pos[i]) > size[i]/2:\n",
    "            new_pos[i] = pos[i] - size[i]\n",
    "        if (pos[i] - prev_pos[i]) < -size[i]/2:\n",
    "            new_pos[i] = pos[i] + size[i]\n",
    "    return new_pos"
   ]
  },
  {
   "cell_type": "code",
   "execution_count": 17,
   "id": "4d459d59",
   "metadata": {},
   "outputs": [],
   "source": [
    "def avg_pos(data_file, prev_pos, size):\n",
    "    ds = yt.load(data_file)\n",
    "\n",
    "    amrex_ds = AMReXDataset(data_file)\n",
    "    ad = amrex_ds.all_data()\n",
    "    aos = AoS(ad)\n",
    "\n",
    "    p_x = 0\n",
    "    p_y = 0\n",
    "    p_z = 0\n",
    "    n = 0\n",
    "\n",
    "    for j, part in enumerate(aos.particles):\n",
    "        p = shift_pbc(part.pos, prev_pos, size)\n",
    "        p_x += p[0]\n",
    "        p_y += p[1]\n",
    "        p_z += p[2]\n",
    "        n += 1\n",
    "\n",
    "    return np.array([p_x/n, p_y/n, p_z/n])"
   ]
  },
  {
   "cell_type": "code",
   "execution_count": 18,
   "id": "7e5afaaf",
   "metadata": {},
   "outputs": [],
   "source": [
    "# data_root = \"/home/shared/gxu\"\n",
    "data_path = \"/home/mhuber/Project/FHDeX/exec/immersed_boundary/taylor_line\"\n",
    "inputs_file = os.path.join(data_path, \"inputs_taylor\")"
   ]
  },
  {
   "cell_type": "code",
   "execution_count": 19,
   "id": "d86c357e",
   "metadata": {},
   "outputs": [],
   "source": [
    "n_fill   = 7\n",
    "prefix   = \"plt\""
   ]
  },
  {
   "cell_type": "code",
   "execution_count": 20,
   "id": "faaa9170",
   "metadata": {},
   "outputs": [],
   "source": [
    "data_glob  = os.path.join(data_path, prefix + \"*\")\n",
    "data_files = glob.glob(data_glob)\n",
    "data_files.sort()"
   ]
  },
  {
   "cell_type": "code",
   "execution_count": 21,
   "id": "550f6768",
   "metadata": {},
   "outputs": [
    {
     "data": {
      "text/plain": [
       "['/home/mhuber/Project/FHDeX/exec/immersed_boundary/taylor_line/plt0000000',\n",
       " '/home/mhuber/Project/FHDeX/exec/immersed_boundary/taylor_line/plt0000200',\n",
       " '/home/mhuber/Project/FHDeX/exec/immersed_boundary/taylor_line/plt0000400',\n",
       " '/home/mhuber/Project/FHDeX/exec/immersed_boundary/taylor_line/plt0000600',\n",
       " '/home/mhuber/Project/FHDeX/exec/immersed_boundary/taylor_line/plt0000800',\n",
       " '/home/mhuber/Project/FHDeX/exec/immersed_boundary/taylor_line/plt0001000',\n",
       " '/home/mhuber/Project/FHDeX/exec/immersed_boundary/taylor_line/plt0001200',\n",
       " '/home/mhuber/Project/FHDeX/exec/immersed_boundary/taylor_line/plt0001400',\n",
       " '/home/mhuber/Project/FHDeX/exec/immersed_boundary/taylor_line/plt0001600',\n",
       " '/home/mhuber/Project/FHDeX/exec/immersed_boundary/taylor_line/plt0001800',\n",
       " '/home/mhuber/Project/FHDeX/exec/immersed_boundary/taylor_line/plt0002000',\n",
       " '/home/mhuber/Project/FHDeX/exec/immersed_boundary/taylor_line/plt0002200',\n",
       " '/home/mhuber/Project/FHDeX/exec/immersed_boundary/taylor_line/plt0002400',\n",
       " '/home/mhuber/Project/FHDeX/exec/immersed_boundary/taylor_line/plt0002600',\n",
       " '/home/mhuber/Project/FHDeX/exec/immersed_boundary/taylor_line/plt0002800',\n",
       " '/home/mhuber/Project/FHDeX/exec/immersed_boundary/taylor_line/plt0003000',\n",
       " '/home/mhuber/Project/FHDeX/exec/immersed_boundary/taylor_line/plt0003200',\n",
       " '/home/mhuber/Project/FHDeX/exec/immersed_boundary/taylor_line/plt0003400',\n",
       " '/home/mhuber/Project/FHDeX/exec/immersed_boundary/taylor_line/plt0003600',\n",
       " '/home/mhuber/Project/FHDeX/exec/immersed_boundary/taylor_line/plt0003800',\n",
       " '/home/mhuber/Project/FHDeX/exec/immersed_boundary/taylor_line/plt0004000',\n",
       " '/home/mhuber/Project/FHDeX/exec/immersed_boundary/taylor_line/plt0004200',\n",
       " '/home/mhuber/Project/FHDeX/exec/immersed_boundary/taylor_line/plt0004400',\n",
       " '/home/mhuber/Project/FHDeX/exec/immersed_boundary/taylor_line/plt0004600',\n",
       " '/home/mhuber/Project/FHDeX/exec/immersed_boundary/taylor_line/plt0004800',\n",
       " '/home/mhuber/Project/FHDeX/exec/immersed_boundary/taylor_line/plt0005000',\n",
       " '/home/mhuber/Project/FHDeX/exec/immersed_boundary/taylor_line/plt0005200',\n",
       " '/home/mhuber/Project/FHDeX/exec/immersed_boundary/taylor_line/plt0005400',\n",
       " '/home/mhuber/Project/FHDeX/exec/immersed_boundary/taylor_line/plt0005600',\n",
       " '/home/mhuber/Project/FHDeX/exec/immersed_boundary/taylor_line/plt0005800',\n",
       " '/home/mhuber/Project/FHDeX/exec/immersed_boundary/taylor_line/plt0006000',\n",
       " '/home/mhuber/Project/FHDeX/exec/immersed_boundary/taylor_line/plt0006200',\n",
       " '/home/mhuber/Project/FHDeX/exec/immersed_boundary/taylor_line/plt0006400',\n",
       " '/home/mhuber/Project/FHDeX/exec/immersed_boundary/taylor_line/plt0006600',\n",
       " '/home/mhuber/Project/FHDeX/exec/immersed_boundary/taylor_line/plt0006800',\n",
       " '/home/mhuber/Project/FHDeX/exec/immersed_boundary/taylor_line/plt0007000',\n",
       " '/home/mhuber/Project/FHDeX/exec/immersed_boundary/taylor_line/plt0007200',\n",
       " '/home/mhuber/Project/FHDeX/exec/immersed_boundary/taylor_line/plt0007400',\n",
       " '/home/mhuber/Project/FHDeX/exec/immersed_boundary/taylor_line/plt0007600',\n",
       " '/home/mhuber/Project/FHDeX/exec/immersed_boundary/taylor_line/plt0007800',\n",
       " '/home/mhuber/Project/FHDeX/exec/immersed_boundary/taylor_line/plt0008000',\n",
       " '/home/mhuber/Project/FHDeX/exec/immersed_boundary/taylor_line/plt0008200',\n",
       " '/home/mhuber/Project/FHDeX/exec/immersed_boundary/taylor_line/plt0008400',\n",
       " '/home/mhuber/Project/FHDeX/exec/immersed_boundary/taylor_line/plt0008600',\n",
       " '/home/mhuber/Project/FHDeX/exec/immersed_boundary/taylor_line/plt0008800',\n",
       " '/home/mhuber/Project/FHDeX/exec/immersed_boundary/taylor_line/plt0009000',\n",
       " '/home/mhuber/Project/FHDeX/exec/immersed_boundary/taylor_line/plt0009200',\n",
       " '/home/mhuber/Project/FHDeX/exec/immersed_boundary/taylor_line/plt0009400']"
      ]
     },
     "execution_count": 21,
     "metadata": {},
     "output_type": "execute_result"
    }
   ],
   "source": [
    "data_files"
   ]
  },
  {
   "cell_type": "code",
   "execution_count": 22,
   "id": "e0682c6c",
   "metadata": {},
   "outputs": [
    {
     "ename": "NameError",
     "evalue": "name 'ds' is not defined",
     "output_type": "error",
     "traceback": [
      "\u001b[0;31m---------------------------------------------------------------------------\u001b[0m",
      "\u001b[0;31mNameError\u001b[0m                                 Traceback (most recent call last)",
      "Cell \u001b[0;32mIn[22], line 1\u001b[0m\n\u001b[0;32m----> 1\u001b[0m \u001b[43mds\u001b[49m\u001b[38;5;241m.\u001b[39mfield_list\n",
      "\u001b[0;31mNameError\u001b[0m: name 'ds' is not defined"
     ]
    }
   ],
   "source": [
    "ds.field_list"
   ]
  },
  {
   "cell_type": "code",
   "execution_count": 25,
   "id": "0e16140f",
   "metadata": {
    "scrolled": true
   },
   "outputs": [
    {
     "name": "stderr",
     "output_type": "stream",
     "text": [
      "/home/mhuber/miniconda3/lib/python3.10/site-packages/yt/visualization/plot_modifications.py:755: VisibleDeprecationWarning: `plot_args` is deprecated. You can now pass arbitrary keyword arguments instead of a dictionary.\n",
      "Deprecated since yt 4.1.0\n",
      "This feature is planned for removal two minor releases later (anticipated)\n",
      "  super().__init__(\n"
     ]
    },
    {
     "ename": "YTPlotCallbackError",
     "evalue": "annotate_sphere callback failed",
     "output_type": "error",
     "traceback": [
      "\u001b[0;31m---------------------------------------------------------------------------\u001b[0m",
      "\u001b[0;31mUnitConversionError\u001b[0m                       Traceback (most recent call last)",
      "File \u001b[0;32m~/miniconda3/lib/python3.10/site-packages/yt/visualization/plot_window.py:1297\u001b[0m, in \u001b[0;36mPWViewerMPL.run_callbacks\u001b[0;34m(self)\u001b[0m\n\u001b[1;32m   1296\u001b[0m \u001b[38;5;28;01mtry\u001b[39;00m:\n\u001b[0;32m-> 1297\u001b[0m     \u001b[43mcallback\u001b[49m\u001b[43m(\u001b[49m\u001b[43mcbw\u001b[49m\u001b[43m)\u001b[49m\n\u001b[1;32m   1298\u001b[0m \u001b[38;5;28;01mexcept\u001b[39;00m (\u001b[38;5;167;01mNotImplementedError\u001b[39;00m, YTDataTypeUnsupported):\n",
      "File \u001b[0;32m~/miniconda3/lib/python3.10/site-packages/yt/visualization/plot_modifications.py:1950\u001b[0m, in \u001b[0;36mSphereCallback.__call__\u001b[0;34m(self, plot)\u001b[0m\n\u001b[1;32m   1949\u001b[0m         units \u001b[38;5;241m=\u001b[39m \u001b[38;5;124m\"\u001b[39m\u001b[38;5;124mcode_length\u001b[39m\u001b[38;5;124m\"\u001b[39m\n\u001b[0;32m-> 1950\u001b[0m     \u001b[38;5;28mself\u001b[39m\u001b[38;5;241m.\u001b[39mradius \u001b[38;5;241m=\u001b[39m \u001b[38;5;28;43mself\u001b[39;49m\u001b[38;5;241;43m.\u001b[39;49m\u001b[43mradius\u001b[49m\u001b[38;5;241;43m.\u001b[39;49m\u001b[43mto\u001b[49m\u001b[43m(\u001b[49m\u001b[43munits\u001b[49m\u001b[43m)\u001b[49m\n\u001b[1;32m   1952\u001b[0m \u001b[38;5;66;03m# This assures the radius has the appropriate size in\u001b[39;00m\n\u001b[1;32m   1953\u001b[0m \u001b[38;5;66;03m# the different coordinate systems, since one cannot simply\u001b[39;00m\n\u001b[1;32m   1954\u001b[0m \u001b[38;5;66;03m# apply a different transform for a length in the same way\u001b[39;00m\n\u001b[1;32m   1955\u001b[0m \u001b[38;5;66;03m# you can for a coordinate.\u001b[39;00m\n",
      "File \u001b[0;32m~/miniconda3/lib/python3.10/site-packages/unyt/array.py:947\u001b[0m, in \u001b[0;36munyt_array.to\u001b[0;34m(self, units, equivalence, **kwargs)\u001b[0m\n\u001b[1;32m    906\u001b[0m \u001b[38;5;250m\u001b[39m\u001b[38;5;124;03m\"\"\"\u001b[39;00m\n\u001b[1;32m    907\u001b[0m \u001b[38;5;124;03mCreates a copy of this array with the data converted to the\u001b[39;00m\n\u001b[1;32m    908\u001b[0m \u001b[38;5;124;03msupplied units, and returns it.\u001b[39;00m\n\u001b[0;32m   (...)\u001b[0m\n\u001b[1;32m    945\u001b[0m \u001b[38;5;124;03m898755178736817.6 J\u001b[39;00m\n\u001b[1;32m    946\u001b[0m \u001b[38;5;124;03m\"\"\"\u001b[39;00m\n\u001b[0;32m--> 947\u001b[0m \u001b[38;5;28;01mreturn\u001b[39;00m \u001b[38;5;28;43mself\u001b[39;49m\u001b[38;5;241;43m.\u001b[39;49m\u001b[43min_units\u001b[49m\u001b[43m(\u001b[49m\u001b[43munits\u001b[49m\u001b[43m,\u001b[49m\u001b[43m \u001b[49m\u001b[43mequivalence\u001b[49m\u001b[38;5;241;43m=\u001b[39;49m\u001b[43mequivalence\u001b[49m\u001b[43m,\u001b[49m\u001b[43m \u001b[49m\u001b[38;5;241;43m*\u001b[39;49m\u001b[38;5;241;43m*\u001b[39;49m\u001b[43mkwargs\u001b[49m\u001b[43m)\u001b[49m\n",
      "File \u001b[0;32m~/miniconda3/lib/python3.10/site-packages/unyt/array.py:874\u001b[0m, in \u001b[0;36munyt_array.in_units\u001b[0;34m(self, units, equivalence, **kwargs)\u001b[0m\n\u001b[1;32m    873\u001b[0m     new_units \u001b[38;5;241m=\u001b[39m units\n\u001b[0;32m--> 874\u001b[0m     (conversion_factor, offset) \u001b[38;5;241m=\u001b[39m \u001b[38;5;28;43mself\u001b[39;49m\u001b[38;5;241;43m.\u001b[39;49m\u001b[43munits\u001b[49m\u001b[38;5;241;43m.\u001b[39;49m\u001b[43mget_conversion_factor\u001b[49m\u001b[43m(\u001b[49m\n\u001b[1;32m    875\u001b[0m \u001b[43m        \u001b[49m\u001b[43mnew_units\u001b[49m\u001b[43m,\u001b[49m\u001b[43m \u001b[49m\u001b[38;5;28;43mself\u001b[39;49m\u001b[38;5;241;43m.\u001b[39;49m\u001b[43mdtype\u001b[49m\n\u001b[1;32m    876\u001b[0m \u001b[43m    \u001b[49m\u001b[43m)\u001b[49m\n\u001b[1;32m    877\u001b[0m dsize \u001b[38;5;241m=\u001b[39m \u001b[38;5;28mmax\u001b[39m(\u001b[38;5;241m2\u001b[39m, \u001b[38;5;28mself\u001b[39m\u001b[38;5;241m.\u001b[39mdtype\u001b[38;5;241m.\u001b[39mitemsize)\n",
      "File \u001b[0;32m~/miniconda3/lib/python3.10/site-packages/unyt/unit_object.py:694\u001b[0m, in \u001b[0;36mUnit.get_conversion_factor\u001b[0;34m(self, other_units, dtype)\u001b[0m\n\u001b[1;32m    668\u001b[0m \u001b[38;5;250m\u001b[39m\u001b[38;5;124;03m\"\"\"Get the conversion factor and offset (if any) from one unit\u001b[39;00m\n\u001b[1;32m    669\u001b[0m \u001b[38;5;124;03mto another\u001b[39;00m\n\u001b[1;32m    670\u001b[0m \n\u001b[0;32m   (...)\u001b[0m\n\u001b[1;32m    692\u001b[0m \u001b[38;5;124;03m(1.7999999999999998, -31.999999999999886)\u001b[39;00m\n\u001b[1;32m    693\u001b[0m \u001b[38;5;124;03m\"\"\"\u001b[39;00m\n\u001b[0;32m--> 694\u001b[0m \u001b[38;5;28;01mreturn\u001b[39;00m \u001b[43m_get_conversion_factor\u001b[49m\u001b[43m(\u001b[49m\u001b[38;5;28;43mself\u001b[39;49m\u001b[43m,\u001b[49m\u001b[43m \u001b[49m\u001b[43mother_units\u001b[49m\u001b[43m,\u001b[49m\u001b[43m \u001b[49m\u001b[43mdtype\u001b[49m\u001b[43m)\u001b[49m\n",
      "File \u001b[0;32m~/miniconda3/lib/python3.10/site-packages/unyt/unit_object.py:939\u001b[0m, in \u001b[0;36m_get_conversion_factor\u001b[0;34m(old_units, new_units, dtype)\u001b[0m\n\u001b[1;32m    938\u001b[0m \u001b[38;5;28;01mif\u001b[39;00m old_units\u001b[38;5;241m.\u001b[39mdimensions \u001b[38;5;241m!=\u001b[39m new_units\u001b[38;5;241m.\u001b[39mdimensions:\n\u001b[0;32m--> 939\u001b[0m     \u001b[38;5;28;01mraise\u001b[39;00m UnitConversionError(\n\u001b[1;32m    940\u001b[0m         old_units, old_units\u001b[38;5;241m.\u001b[39mdimensions, new_units, new_units\u001b[38;5;241m.\u001b[39mdimensions\n\u001b[1;32m    941\u001b[0m     )\n\u001b[1;32m    942\u001b[0m old_basevalue \u001b[38;5;241m=\u001b[39m old_units\u001b[38;5;241m.\u001b[39mbase_value\n",
      "\u001b[0;31mUnitConversionError\u001b[0m: Cannot convert between '1/code_length' (dim '1/(length)') and 'code_length' (dim '(length)').",
      "\nThe above exception was the direct cause of the following exception:\n",
      "\u001b[0;31mYTPlotCallbackError\u001b[0m                       Traceback (most recent call last)",
      "Cell \u001b[0;32mIn[25], line 15\u001b[0m\n\u001b[1;32m     13\u001b[0m add_ibm(slc, data_files[plot_index], prop)\n\u001b[1;32m     14\u001b[0m slc\u001b[38;5;241m.\u001b[39mannotate_quiver(\u001b[38;5;124m\"\u001b[39m\u001b[38;5;124mcc_forcex\u001b[39m\u001b[38;5;124m\"\u001b[39m, \u001b[38;5;124m\"\u001b[39m\u001b[38;5;124mcc_forcey\u001b[39m\u001b[38;5;124m\"\u001b[39m, plot_args\u001b[38;5;241m=\u001b[39m{\u001b[38;5;124m\"\u001b[39m\u001b[38;5;124mcolor\u001b[39m\u001b[38;5;124m\"\u001b[39m: \u001b[38;5;124m\"\u001b[39m\u001b[38;5;124mred\u001b[39m\u001b[38;5;124m\"\u001b[39m}, scale\u001b[38;5;241m=\u001b[39m\u001b[38;5;241m1e5\u001b[39m)\n\u001b[0;32m---> 15\u001b[0m \u001b[43mslc\u001b[49m\u001b[38;5;241;43m.\u001b[39;49m\u001b[43mshow\u001b[49m\u001b[43m(\u001b[49m\u001b[43m)\u001b[49m\n",
      "File \u001b[0;32m~/miniconda3/lib/python3.10/site-packages/yt/visualization/_commons.py:169\u001b[0m, in \u001b[0;36mvalidate_plot.<locals>.newfunc\u001b[0;34m(self, *args, **kwargs)\u001b[0m\n\u001b[1;32m    165\u001b[0m     \u001b[38;5;28mself\u001b[39m\u001b[38;5;241m.\u001b[39m_recreate_profile()\n\u001b[1;32m    166\u001b[0m \u001b[38;5;28;01mif\u001b[39;00m \u001b[38;5;129;01mnot\u001b[39;00m \u001b[38;5;28mself\u001b[39m\u001b[38;5;241m.\u001b[39m_plot_valid:\n\u001b[1;32m    167\u001b[0m     \u001b[38;5;66;03m# it is the responsibility of _setup_plots to\u001b[39;00m\n\u001b[1;32m    168\u001b[0m     \u001b[38;5;66;03m# call plot.run_callbacks()\u001b[39;00m\n\u001b[0;32m--> 169\u001b[0m     \u001b[38;5;28;43mself\u001b[39;49m\u001b[38;5;241;43m.\u001b[39;49m\u001b[43m_setup_plots\u001b[49m\u001b[43m(\u001b[49m\u001b[43m)\u001b[49m\n\u001b[1;32m    170\u001b[0m retv \u001b[38;5;241m=\u001b[39m f(\u001b[38;5;28mself\u001b[39m, \u001b[38;5;241m*\u001b[39margs, \u001b[38;5;241m*\u001b[39m\u001b[38;5;241m*\u001b[39mkwargs)\n\u001b[1;32m    171\u001b[0m \u001b[38;5;28;01mreturn\u001b[39;00m retv\n",
      "File \u001b[0;32m~/miniconda3/lib/python3.10/site-packages/yt/visualization/plot_window.py:1240\u001b[0m, in \u001b[0;36mPWViewerMPL._setup_plots\u001b[0;34m(self)\u001b[0m\n\u001b[1;32m   1237\u001b[0m         \u001b[38;5;28mself\u001b[39m\u001b[38;5;241m.\u001b[39mplots[f]\u001b[38;5;241m.\u001b[39m_toggle_axes(draw_axes, draw_frame)\n\u001b[1;32m   1239\u001b[0m \u001b[38;5;28mself\u001b[39m\u001b[38;5;241m.\u001b[39m_set_font_properties()\n\u001b[0;32m-> 1240\u001b[0m \u001b[38;5;28;43mself\u001b[39;49m\u001b[38;5;241;43m.\u001b[39;49m\u001b[43mrun_callbacks\u001b[49m\u001b[43m(\u001b[49m\u001b[43m)\u001b[49m\n\u001b[1;32m   1242\u001b[0m \u001b[38;5;28;01mif\u001b[39;00m \u001b[38;5;28mself\u001b[39m\u001b[38;5;241m.\u001b[39m_flip_horizontal \u001b[38;5;129;01mor\u001b[39;00m \u001b[38;5;28mself\u001b[39m\u001b[38;5;241m.\u001b[39m_flip_vertical:\n\u001b[1;32m   1243\u001b[0m     \u001b[38;5;66;03m# some callbacks (e.g., streamlines) fail when applied to a\u001b[39;00m\n\u001b[1;32m   1244\u001b[0m     \u001b[38;5;66;03m# flipped axis, so flip only at the end.\u001b[39;00m\n\u001b[1;32m   1245\u001b[0m     \u001b[38;5;28;01mfor\u001b[39;00m f \u001b[38;5;129;01min\u001b[39;00m field_list:\n",
      "File \u001b[0;32m~/miniconda3/lib/python3.10/site-packages/yt/visualization/plot_window.py:1301\u001b[0m, in \u001b[0;36mPWViewerMPL.run_callbacks\u001b[0;34m(self)\u001b[0m\n\u001b[1;32m   1299\u001b[0m         \u001b[38;5;28;01mraise\u001b[39;00m\n\u001b[1;32m   1300\u001b[0m     \u001b[38;5;28;01mexcept\u001b[39;00m \u001b[38;5;167;01mException\u001b[39;00m \u001b[38;5;28;01mas\u001b[39;00m e:\n\u001b[0;32m-> 1301\u001b[0m         \u001b[38;5;28;01mraise\u001b[39;00m YTPlotCallbackError(callback\u001b[38;5;241m.\u001b[39m_type_name) \u001b[38;5;28;01mfrom\u001b[39;00m \u001b[38;5;21;01me\u001b[39;00m\n\u001b[1;32m   1302\u001b[0m \u001b[38;5;28;01mfor\u001b[39;00m key \u001b[38;5;129;01min\u001b[39;00m \u001b[38;5;28mself\u001b[39m\u001b[38;5;241m.\u001b[39mfrb\u001b[38;5;241m.\u001b[39mkeys():\n\u001b[1;32m   1303\u001b[0m     \u001b[38;5;28;01mif\u001b[39;00m key \u001b[38;5;129;01mnot\u001b[39;00m \u001b[38;5;129;01min\u001b[39;00m keys:\n",
      "\u001b[0;31mYTPlotCallbackError\u001b[0m: annotate_sphere callback failed"
     ]
    }
   ],
   "source": [
    "# don't use `plot_index = -1` here because this would get the equilibrium \n",
    "# configuration's time wrong\n",
    "# plot_index = len(data_files) - 1\n",
    "plot_index = 4\n",
    "\n",
    "# set up plot\n",
    "#prop = PlotProperies(marker_rad=2e-5, slc_name=\"pres\", slc_max=1e-2)\n",
    "prop = PlotProperies(marker_rad=2e-5, slc_name=[(\"boxlib\", \"avg_velx\"), (\"boxlib\", \"avg_vely\"), (\"boxlib\", \"avg_velz\"), (\"boxlib\", \"pres\")], slc_max=1e-2)\n",
    "# load data\n",
    "ds = yt.load(data_files[plot_index])\n",
    "# plot everything\n",
    "slc  = slice_plt(ds, prop)\n",
    "add_ibm(slc, data_files[plot_index], prop)\n",
    "slc.annotate_quiver(\"cc_forcex\", \"cc_forcey\", plot_args={\"color\": \"red\"}, scale=1e5)\n",
    "slc.show()"
   ]
  },
  {
   "cell_type": "code",
   "execution_count": 23,
   "id": "0d113633",
   "metadata": {},
   "outputs": [
    {
     "name": "stdout",
     "output_type": "stream",
     "text": [
      "Working on: pictureRun47two00000.png\r"
     ]
    },
    {
     "ename": "NameError",
     "evalue": "name 'prop' is not defined",
     "output_type": "error",
     "traceback": [
      "\u001b[0;31m---------------------------------------------------------------------------\u001b[0m",
      "\u001b[0;31mNameError\u001b[0m                                 Traceback (most recent call last)",
      "Cell \u001b[0;32mIn[23], line 13\u001b[0m\n\u001b[1;32m     10\u001b[0m ds \u001b[38;5;241m=\u001b[39m yt\u001b[38;5;241m.\u001b[39mload(data_file)\n\u001b[1;32m     12\u001b[0m \u001b[38;5;66;03m# plot everything\u001b[39;00m\n\u001b[0;32m---> 13\u001b[0m slc  \u001b[38;5;241m=\u001b[39m slice_plt(ds, \u001b[43mprop\u001b[49m)\n\u001b[1;32m     14\u001b[0m add_ibm(slc, data_file, prop)\n\u001b[1;32m     15\u001b[0m \u001b[38;5;66;03m# add_equilibrium(slc, dc, theta_nodes, data_files, i, dt, plot_int, frequency, prop)\u001b[39;00m\n",
      "\u001b[0;31mNameError\u001b[0m: name 'prop' is not defined"
     ]
    }
   ],
   "source": [
    "for i, data_file in enumerate(data_files):\n",
    "    frame_file = \"pictureRun47two\" + str(i).zfill(5) + \".png\"\n",
    "\n",
    "    if os.path.isfile(frame_file):\n",
    "        continue\n",
    "    else:\n",
    "        print(f\"Working on: {frame_file}\", end=\"\\r\")\n",
    "\n",
    "    # load data\n",
    "    ds = yt.load(data_file)\n",
    "\n",
    "    # plot everything\n",
    "    slc  = slice_plt(ds, prop)\n",
    "    add_ibm(slc, data_file, prop)\n",
    "    # add_equilibrium(slc, dc, theta_nodes, data_files, i, dt, plot_int, frequency, prop)\n",
    "    slc.annotate_quiver(\"cc_forcex\", \"cc_forcey\", plot_args={\"color\": \"red\"}, scale=1e6)\n",
    "\n",
    "    slc.save(frame_file)"
   ]
  },
  {
   "cell_type": "code",
   "execution_count": 24,
   "id": "ddfb0e13",
   "metadata": {},
   "outputs": [],
   "source": [
    "#from IPython.display import Image\n",
    "#Image(filename='picture600400.png')"
   ]
  },
  {
   "cell_type": "code",
   "execution_count": null,
   "id": "4a704e4c",
   "metadata": {},
   "outputs": [],
   "source": []
  },
  {
   "cell_type": "code",
   "execution_count": null,
   "id": "dbc4eddb",
   "metadata": {},
   "outputs": [],
   "source": []
  },
  {
   "cell_type": "code",
   "execution_count": null,
   "id": "da70608c",
   "metadata": {},
   "outputs": [],
   "source": []
  },
  {
   "cell_type": "code",
   "execution_count": null,
   "id": "850343f5",
   "metadata": {},
   "outputs": [],
   "source": []
  },
  {
   "cell_type": "code",
   "execution_count": null,
   "id": "3655eb83",
   "metadata": {},
   "outputs": [],
   "source": []
  }
 ],
 "metadata": {
  "kernelspec": {
   "display_name": "Python 3 (ipykernel)",
   "language": "python",
   "name": "python3"
  },
  "language_info": {
   "codemirror_mode": {
    "name": "ipython",
    "version": 3
   },
   "file_extension": ".py",
   "mimetype": "text/x-python",
   "name": "python",
   "nbconvert_exporter": "python",
   "pygments_lexer": "ipython3",
   "version": "3.10.10"
  }
 },
 "nbformat": 4,
 "nbformat_minor": 5
}
