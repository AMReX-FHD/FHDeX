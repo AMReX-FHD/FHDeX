{
 "cells": [
  {
   "cell_type": "markdown",
   "metadata": {},
   "source": [
    "# An Exploration of Fluctuating Channel Flow"
   ]
  },
  {
   "cell_type": "markdown",
   "metadata": {},
   "source": [
    "This is a sandbox for exploring the fluctuating channel flow data. Data is loaded using the YT package. You might need to install (using `pip`):\n",
    "1. Jupyter (and Jupyter Lab)\n",
    "2. YT\n",
    "3. numpy\n",
    "4. matplotlib\n",
    "\n",
    "... Have fun!"
   ]
  },
  {
   "cell_type": "markdown",
   "metadata": {},
   "source": [
    "## Import Basics"
   ]
  },
  {
   "cell_type": "code",
   "execution_count": 62,
   "metadata": {},
   "outputs": [],
   "source": [
    "import sys, os, os.path\n",
    "import glob\n",
    "\n",
    "import scipy as sp\n",
    "import numpy as np\n",
    "\n",
    "import matplotlib\n",
    "import matplotlib.pyplot as pp\n",
    "\n",
    "import yt\n",
    "from yt.frontends.boxlib.data_structures import AMReXDataset\n",
    "yt.funcs.mylog.setLevel(50)"
   ]
  },
  {
   "cell_type": "markdown",
   "metadata": {},
   "source": [
    "Inline plots and namespace:"
   ]
  },
  {
   "cell_type": "code",
   "execution_count": 63,
   "metadata": {},
   "outputs": [
    {
     "name": "stdout",
     "output_type": "stream",
     "text": [
      "Populating the interactive namespace from numpy and matplotlib\n"
     ]
    },
    {
     "data": {
      "text/plain": [
       "u'%e'"
      ]
     },
     "execution_count": 63,
     "metadata": {},
     "output_type": "execute_result"
    }
   ],
   "source": [
    "%pylab inline\n",
    "%precision %e"
   ]
  },
  {
   "cell_type": "markdown",
   "metadata": {},
   "source": [
    "# Utilities"
   ]
  },
  {
   "cell_type": "markdown",
   "metadata": {},
   "source": [
    "Replace `phi` with `concentration` in plot file's header file (yt doesn't like `phi`...)"
   ]
  },
  {
   "cell_type": "code",
   "execution_count": 64,
   "metadata": {},
   "outputs": [],
   "source": [
    "### Replace \"phi\" with \"concentration\" in plt header file (yt doesn't like phi...)\n",
    "def substitute_header(plt_file, source=\"phi\", target=\"con\"):\n",
    "    \n",
    "    # load header file\n",
    "    header_file = os.path.join(plt_file, \"Header\")\n",
    "    with open(header_file, \"r\") as f:\n",
    "        header_orig = f.readlines()\n",
    "    \n",
    "    # select variable lables\n",
    "    n_lables   = int(header_orig[1])\n",
    "    l_offset   = 2\n",
    "    \n",
    "    # make a backup copy(iff the source was found in original)\n",
    "    if source+\"\\n\" in header_orig:\n",
    "        header_cpy  = os.path.join(plt_file, \"Header.backup\")\n",
    "        with open(header_cpy, \"w\") as f:\n",
    "            for line in header_orig:\n",
    "                f.write(line)\n",
    "    \n",
    "    # replace source with target\n",
    "    for i in range(l_offset, n_lables+l_offset):\n",
    "        if header_orig[i] == source+\"\\n\":\n",
    "            header_orig[i] = target+\"\\n\"\n",
    "    \n",
    "    # save substituted file in place of original\n",
    "    with open(header_file, \"w\") as f:\n",
    "        for line in header_orig:\n",
    "            f.write(line)"
   ]
  },
  {
   "cell_type": "markdown",
   "metadata": {},
   "source": [
    "# Find Data"
   ]
  },
  {
   "cell_type": "markdown",
   "metadata": {},
   "source": [
    "Currently we're working in the same directory as a the data $=>$ look in `.` for plot files"
   ]
  },
  {
   "cell_type": "code",
   "execution_count": 65,
   "metadata": {},
   "outputs": [],
   "source": [
    "data_root = \".\"\n",
    "data_dir  = \".\""
   ]
  },
  {
   "cell_type": "code",
   "execution_count": 66,
   "metadata": {},
   "outputs": [],
   "source": [
    "data_path = os.path.join(data_root, data_dir)"
   ]
  },
  {
   "cell_type": "code",
   "execution_count": 67,
   "metadata": {},
   "outputs": [],
   "source": [
    "n_fill   = 5\n",
    "prefix   = \"plt\"\n",
    "file_fmt = prefix + \"{:0\" + str(n_fill) + \"d}\""
   ]
  },
  {
   "cell_type": "code",
   "execution_count": 68,
   "metadata": {},
   "outputs": [
    {
     "data": {
      "text/plain": [
       "'plt{:05d}'"
      ]
     },
     "execution_count": 68,
     "metadata": {},
     "output_type": "execute_result"
    }
   ],
   "source": [
    "file_fmt"
   ]
  },
  {
   "cell_type": "code",
   "execution_count": 69,
   "metadata": {},
   "outputs": [
    {
     "name": "stdout",
     "output_type": "stream",
     "text": [
      "['././plt0000000', '././plt0000100', '././plt0000200', '././plt0000300', '././plt0000400']\n"
     ]
    }
   ],
   "source": [
    "data_glob  = os.path.join(data_path, prefix + \"*\")\n",
    "data_files = glob.glob(data_glob)\n",
    "data_files.sort()\n",
    "print(data_files)"
   ]
  },
  {
   "cell_type": "code",
   "execution_count": 70,
   "metadata": {},
   "outputs": [
    {
     "data": {
      "text/plain": [
       "5"
      ]
     },
     "execution_count": 70,
     "metadata": {},
     "output_type": "execute_result"
    }
   ],
   "source": [
    "len(data_files)"
   ]
  },
  {
   "cell_type": "markdown",
   "metadata": {},
   "source": [
    "## Plot Final State of the Simulation"
   ]
  },
  {
   "cell_type": "code",
   "execution_count": 71,
   "metadata": {},
   "outputs": [],
   "source": [
    "def plot_index(data_file, str_field, str_coord):\n",
    "    substitute_header(data_file)\n",
    "    \n",
    "    # Loads the data file\n",
    "    ds = yt.load(data_file)\n",
    "    \n",
    "    # Takes a slice perpendicular to the coordinate represented by `str_coord`\n",
    "    # -> the slice is at the center of the box.\n",
    "    # -> the data field being sliced has to have the same name as `str_field`\n",
    "    slc = yt.SlicePlot(ds, str_coord, str_field)\n",
    "    \n",
    "    # Set the plotted variable to log scale\n",
    "    #slc.set_log(str_field, True)\n",
    "    \n",
    "    # Show data\n",
    "    slc.show()\n",
    "    #slc.save(\"step_0.png\")"
   ]
  },
  {
   "cell_type": "markdown",
   "metadata": {},
   "source": [
    "Let's find out what fields are contained in the plot file"
   ]
  },
  {
   "cell_type": "code",
   "execution_count": 72,
   "metadata": {},
   "outputs": [
    {
     "data": {
      "text/plain": [
       "array([32, 32, 32])"
      ]
     },
     "execution_count": 72,
     "metadata": {},
     "output_type": "execute_result"
    }
   ],
   "source": [
    "ds = yt.load(data_files[-1])\n",
    "ds.field_list\n",
    "ds.domain_dimensions"
   ]
  },
  {
   "cell_type": "markdown",
   "metadata": {},
   "source": [
    "Plot the last plot file's $y$-velocity (slicing normal the $y$-axis)."
   ]
  },
  {
   "cell_type": "code",
   "execution_count": 73,
   "metadata": {},
   "outputs": [
    {
     "data": {
      "text/html": [
       "<img style=\"max-width:100%%;max-height:100%%;\" src=\"data:image/png;base64,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\"><br>"
      ],
      "text/plain": [
       "<yt.visualization.plot_window.AxisAlignedSlicePlot at 0x7fa3bdde31d0>"
      ]
     },
     "metadata": {},
     "output_type": "display_data"
    }
   ],
   "source": [
    "plot_index(data_files[-1], \"shifted_vely\", \"y\")"
   ]
  },
  {
   "cell_type": "markdown",
   "metadata": {},
   "source": [
    "Let's do the same for the presure"
   ]
  },
  {
   "cell_type": "code",
   "execution_count": 74,
   "metadata": {},
   "outputs": [
    {
     "data": {
      "text/html": [
       "<img style=\"max-width:100%%;max-height:100%%;\" src=\"data:image/png;base64,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\"><br>"
      ],
      "text/plain": [
       "<yt.visualization.plot_window.AxisAlignedSlicePlot at 0x7fa3beafd550>"
      ]
     },
     "metadata": {},
     "output_type": "display_data"
    }
   ],
   "source": [
    "plot_index(data_files[-1], \"pres\", \"x\")"
   ]
  },
  {
   "cell_type": "markdown",
   "metadata": {},
   "source": [
    "# Analyse Data"
   ]
  },
  {
   "cell_type": "markdown",
   "metadata": {},
   "source": [
    "... with `numpy`"
   ]
  },
  {
   "cell_type": "markdown",
   "metadata": {},
   "source": [
    "## Velocity fluctuations"
   ]
  },
  {
   "cell_type": "code",
   "execution_count": 75,
   "metadata": {},
   "outputs": [],
   "source": [
    "ds = yt.load(data_files[-1])"
   ]
  },
  {
   "cell_type": "markdown",
   "metadata": {},
   "source": [
    "Get information about geometry: $\\mathrm{d}x$ and index of centre"
   ]
  },
  {
   "cell_type": "code",
   "execution_count": 76,
   "metadata": {},
   "outputs": [
    {
     "name": "stdout",
     "output_type": "stream",
     "text": [
      "[16. 16. 16.]\n"
     ]
    }
   ],
   "source": [
    "dx = np.array(\n",
    "    [\n",
    "        ( ds.domain_right_edge[i] - ds.domain_left_edge[i] ) / ds.domain_dimensions[i] \n",
    "        for i in range(ds.dimensionality) \n",
    "    ]\n",
    ")\n",
    "\n",
    "\n",
    "centre_slice = np.array([ei for ei in ds.domain_right_edge ])/2\n",
    "ind_cen      = centre_slice / dx\n",
    "print(ind_cen)"
   ]
  },
  {
   "cell_type": "markdown",
   "metadata": {},
   "source": [
    "Extract a \"cube of data\" from the plot file. This might seem a bit convoluted, but remember that YT is built to handle multi-level data. This function covers a given level (in our case, level 0) with a 3D grid (cube) and exports the data into a dict of `numpy` arrays. This way `cube[\"filed name\"]` is a 3D numpy array."
   ]
  },
  {
   "cell_type": "code",
   "execution_count": 77,
   "metadata": {},
   "outputs": [],
   "source": [
    "cube = ds.covering_grid(level=0, fields=[\"shifted_velx\", \"shifted_vely\", \"shifted_velz\"], \n",
    "                        left_edge=ds.domain_left_edge, dims=ds.domain_dimensions)\n",
    "velx = cube[\"shifted_velx\"]\n",
    "vely = cube[\"shifted_vely\"]\n",
    "velz = cube[\"shifted_velz\"]"
   ]
  },
  {
   "cell_type": "markdown",
   "metadata": {},
   "source": [
    "Double-check the data."
   ]
  },
  {
   "cell_type": "code",
   "execution_count": 78,
   "metadata": {},
   "outputs": [
    {
     "data": {
      "text/plain": [
       "<matplotlib.colorbar.Colorbar at 0x7fa3bdbfdad0>"
      ]
     },
     "execution_count": 78,
     "metadata": {},
     "output_type": "execute_result"
    },
    {
     "data": {
      "image/png": "[encoded data removed]",
      "text/plain": [
       "<Figure size 288x288 with 2 Axes>"
      ]
     },
     "metadata": {
      "needs_background": "light"
     },
     "output_type": "display_data"
    }
   ],
   "source": [
    "matshow(velx[:, 16, :])\n",
    "colorbar()"
   ]
  },
  {
   "cell_type": "code",
   "execution_count": 79,
   "metadata": {},
   "outputs": [
    {
     "data": {
      "text/plain": [
       "<matplotlib.colorbar.Colorbar at 0x7fa3bed333d0>"
      ]
     },
     "execution_count": 79,
     "metadata": {},
     "output_type": "execute_result"
    },
    {
     "data": {
      "image/png": "[encoded data removed]",
      "text/plain": [
       "<Figure size 288x288 with 2 Axes>"
      ]
     },
     "metadata": {
      "needs_background": "light"
     },
     "output_type": "display_data"
    }
   ],
   "source": [
    "matshow(vely[:, 16, :])\n",
    "colorbar()"
   ]
  },
  {
   "cell_type": "code",
   "execution_count": 80,
   "metadata": {},
   "outputs": [
    {
     "data": {
      "text/plain": [
       "<matplotlib.colorbar.Colorbar at 0x7fa3bedac3d0>"
      ]
     },
     "execution_count": 80,
     "metadata": {},
     "output_type": "execute_result"
    },
    {
     "data": {
      "image/png": "[encoded data removed]",
      "text/plain": [
       "<Figure size 288x288 with 2 Axes>"
      ]
     },
     "metadata": {
      "needs_background": "light"
     },
     "output_type": "display_data"
    }
   ],
   "source": [
    "matshow(velz[:, 16, :])\n",
    "colorbar()"
   ]
  },
  {
   "cell_type": "code",
   "execution_count": 81,
   "metadata": {},
   "outputs": [],
   "source": [
    "class SoA:\n",
    "    _pref = \"particle_\"\n",
    "    _pos  = \"position_\"\n",
    "    _vel  = \"vel\"\n",
    "# New here\n",
    "    _id   = \"id\"\n",
    "    _cpu  = \"cpu\"\n",
    "    _id_0 = \"id_0\"\n",
    "    _cpu_0 = \"cpu_0\"\n",
    "    \n",
    "    def __init__(self, data):\n",
    "        str_pos = self._pref+self._pos\n",
    "        self.px = np.array(data[str_pos + \"x\"])\n",
    "        self.py = np.array(data[str_pos + \"y\"])\n",
    "        self.pz = np.array(data[str_pos + \"z\"])\n",
    "\n",
    "        str_vel = self._pref+self._vel\n",
    "        self.vx = np.array(data[str_vel + \"x\"])\n",
    "        self.vy = np.array(data[str_vel + \"y\"])\n",
    "        self.vz = np.array(data[str_vel + \"z\"])\n",
    "\n",
    "        str_id = self._pref+self._id\n",
    "        self.id = np.array(data[str_id])\n",
    "        str_cpu = self._pref+self._cpu\n",
    "        self.cpu = np.array(data[str_cpu])\n",
    "        \n",
    "        str_id_0 = self._pref+self._id_0\n",
    "        self.id_0 = np.array(data[str_id_0])\n",
    "        str_cpu_0 = self._pref+self._cpu_0\n",
    "        self.cpu_0 = np.array(data[str_cpu_0])\n",
    " \n",
    "# new here\n",
    "    def __str__(self):\n",
    "        return \"{pos:\"  + str(self.px) + \",\" + str(self.py) + \",\" + str(self.pz) + \\\n",
    "              \"; vel:\"  + str(self.vx) + \",\" + str(self.vy) + \",\" + str(self.vz) + \\\n",
    "              \"; id:\"   + str(self.id) + \", cpu:\" + str(self.cpu) + \", id_0:\" + str(self.id_0) + \", cpu_0:\" + str(self.cpu_0) + \",\" + \"}\"\n",
    "\n",
    "\n",
    "    def __repr__(self):\n",
    "        return str(self)\n",
    "\n",
    "\n",
    "# new here\n",
    "class Particle:\n",
    "    def __init__(self, px, py, pz, vx, vy, vz, id, cpu, id_0, cpu_0):\n",
    "        self.pos = np.array([px, py, pz])\n",
    "        self.vel = np.array([vx, vy, vz])\n",
    "        self.id  = np.array(id)\n",
    "        self.cpu  = np.array(cpu)\n",
    "        self.id_0  = np.array(id_0)\n",
    "        self.cpu_0  = np.array(cpu_0)\n",
    "\n",
    "    def __str__(self):\n",
    "        return \"P(\" + str(self.pos) + \",\" + str(self.vel) + \",\" + str(self.id) + \",\" + str(self.cpu) + \",\" + str(self.id_0) + \",\" + str(self.cpu_0) + \",\" + \")\"\n",
    "    \n",
    "\n",
    "    def __repr__(self):\n",
    "        return str(self)\n",
    "\n",
    "\n",
    "class AoS:\n",
    "    def __init__(self, amrex_data):\n",
    "        self.particles = list()\n",
    "        soa = SoA(amrex_data)\n",
    "# new here        \n",
    "        data = zip(soa.px, soa.py, soa.pz, soa.vx, soa.vy, soa.vz, soa.id, soa.cpu, soa.id_0, soa.cpu_0)\n",
    "        for elt in data:\n",
    "            self.particles.append(Particle(* elt))\n",
    "\n",
    "\n"
   ]
  },
  {
   "cell_type": "code",
   "execution_count": 82,
   "metadata": {},
   "outputs": [],
   "source": [
    "ds = AMReXDataset(data_files[-1])"
   ]
  },
  {
   "cell_type": "code",
   "execution_count": 83,
   "metadata": {},
   "outputs": [
    {
     "data": {
      "text/plain": [
       "defaultdict(list,\n",
       "            {'immbdy_markers': ['particle_cpu',\n",
       "              'particle_cpu_0',\n",
       "              'particle_cpu_1',\n",
       "              'particle_forcex',\n",
       "              'particle_forcey',\n",
       "              'particle_forcez',\n",
       "              'particle_id',\n",
       "              'particle_id_0',\n",
       "              'particle_id_1',\n",
       "              'particle_position_x',\n",
       "              'particle_position_y',\n",
       "              'particle_position_z',\n",
       "              'particle_pred_forcex',\n",
       "              'particle_pred_forcey',\n",
       "              'particle_pred_forcez',\n",
       "              'particle_pred_posx',\n",
       "              'particle_pred_posy',\n",
       "              'particle_pred_posz',\n",
       "              'particle_pred_velx',\n",
       "              'particle_pred_vely',\n",
       "              'particle_pred_velz',\n",
       "              'particle_radius',\n",
       "              'particle_velx',\n",
       "              'particle_vely',\n",
       "              'particle_velz']})"
      ]
     },
     "execution_count": 83,
     "metadata": {},
     "output_type": "execute_result"
    }
   ],
   "source": [
    "ds.particle_fields_by_type"
   ]
  },
  {
   "cell_type": "code",
   "execution_count": 34,
   "metadata": {},
   "outputs": [],
   "source": [
    "ad = ds.all_data()\n",
    "soa = SoA(ad)\n",
    "aos = AoS(ad)"
   ]
  },
  {
   "cell_type": "code",
   "execution_count": 35,
   "metadata": {},
   "outputs": [
    {
     "data": {
      "text/plain": [
       "[P([0.22500172 0.49954317 0.5       ],[ 0.00017902 -0.02088623  0.        ],8.0,6.0,7.0,6.0,),\n",
       " P([0.20000188 0.49946386 0.5       ],[ 0.00018856 -0.02762144  0.        ],7.0,6.0,6.0,6.0,),\n",
       " P([0.1250024 0.4996293 0.5      ],[ 0.00020692 -0.0250263   0.        ],4.0,6.0,3.0,6.0,),\n",
       " P([0.10000309 0.4998158  0.5       ],[ 0.00027743 -0.01650398  0.        ],3.0,6.0,2.0,6.0,),\n",
       " P([0.15000204 0.49950396 0.5       ],[ 0.00018489 -0.02927692  0.        ],5.0,6.0,4.0,6.0,),\n",
       " P([0.27500068 0.49984637 0.5       ],[ 6.69849530e-05 -1.30850813e-03  0.00000000e+00],10.0,6.0,9.0,6.0,),\n",
       " P([0.25000131 0.49967997 0.5       ],[ 0.00014212 -0.01234421  0.        ],9.0,6.0,8.0,6.0,),\n",
       " P([0.17500194 0.49945108 0.5       ],[ 0.00019621 -0.03058422  0.        ],6.0,6.0,5.0,6.0,),\n",
       " P([0.52499574 0.49989961 0.5       ],[-0.00038464 -0.00902892  0.        ],20.0,6.0,19.0,6.0,),\n",
       " P([0.5499945  0.49965267 0.5       ],[-0.00052099 -0.02020803  0.        ],21.0,6.0,20.0,6.0,),\n",
       " P([0.05000561 0.50030824 0.5       ],[0.00053647 0.00833004 0.        ],1.0,6.0,-1.0,-1.0,),\n",
       " P([0.39999825 0.50054872 0.5       ],[-0.00013195  0.03254741  0.        ],15.0,6.0,14.0,6.0,),\n",
       " P([0.37499835 0.50049275 0.5       ],[-0.00013882  0.03160623  0.        ],14.0,6.0,13.0,6.0,),\n",
       " P([0.34999866 0.50037542 0.5       ],[-0.00012953  0.0274037   0.        ],13.0,6.0,12.0,6.0,),\n",
       " P([0.32499921 0.50022058 0.5       ],[-7.33256988e-05  1.94380467e-02  0.00000000e+00],12.0,6.0,11.0,6.0,),\n",
       " P([0.07500421 0.50004548 0.5       ],[ 0.00037251 -0.00508486  0.        ],2.0,6.0,1.0,6.0,),\n",
       " P([0.49999684 0.50012647 0.5       ],[-0.00028667  0.00310837  0.        ],19.0,6.0,18.0,6.0,),\n",
       " P([0.47499758 0.50032042 0.5       ],[-0.00019327  0.01388144  0.        ],18.0,6.0,17.0,6.0,),\n",
       " P([0.44999803 0.50046225 0.5       ],[-0.000143    0.02296685  0.        ],17.0,6.0,16.0,6.0,),\n",
       " P([0.42499819 0.50053736 0.5       ],[-0.00013852  0.02964367  0.        ],16.0,6.0,15.0,6.0,),\n",
       " P([0.29999992 0.50003632 0.5       ],[-8.35833031e-06  9.55340442e-03  0.00000000e+00],11.0,6.0,10.0,6.0,)]"
      ]
     },
     "execution_count": 35,
     "metadata": {},
     "output_type": "execute_result"
    }
   ],
   "source": [
    "aos.particles"
   ]
  },
  {
   "cell_type": "code",
   "execution_count": null,
   "metadata": {},
   "outputs": [],
   "source": []
  },
  {
   "cell_type": "code",
   "execution_count": 51,
   "metadata": {},
   "outputs": [],
   "source": [
    "nop = 20#number of particles"
   ]
  },
  {
   "cell_type": "code",
   "execution_count": null,
   "metadata": {},
   "outputs": [],
   "source": []
  },
  {
   "cell_type": "code",
   "execution_count": null,
   "metadata": {},
   "outputs": [],
   "source": []
  },
  {
   "cell_type": "code",
   "execution_count": 52,
   "metadata": {},
   "outputs": [
    {
     "data": {
      "text/plain": [
       "array([0.22500172, 0.49954317, 0.5       ])"
      ]
     },
     "execution_count": 52,
     "metadata": {},
     "output_type": "execute_result"
    }
   ],
   "source": [
    "aos.particles[0].pos[0:nop]"
   ]
  },
  {
   "cell_type": "code",
   "execution_count": 53,
   "metadata": {},
   "outputs": [],
   "source": [
    "positions_ = dict()\n",
    "id_        = dict()\n",
    "cpu_       = dict()\n",
    "id0_       = dict()\n",
    "cpu0_      = dict()\n",
    "\n",
    "for x in range(1,nop+1):\n",
    "    positions_[x] = list()\n",
    "    id_[x]        = list()\n",
    "    cpu_[x]       = list()\n",
    "    id0_[x]       = list()\n",
    "    cpu0_[x]      = list()\n",
    "    \n",
    "\n",
    "for k in range(0, nop+1):\n",
    "    data_file = data_files[k]\n",
    "    #ds = yt.load(data_files[-1])\n",
    "    ds = AMReXDataset(data_file)\n",
    "    t = ds.current_time\n",
    "    ad = ds.all_data()\n",
    "    aos = AoS(ad)\n",
    "    for y in range(1,nop+1):\n",
    "        positions_[y].append(aos.particles[y-1].pos)\n",
    "        id_[y].append(aos.particles[y-1].id)\n",
    "        cpu_[y].append(aos.particles[y-1].cpu)\n",
    "        id0_[y].append(aos.particles[y-1].id_0)\n",
    "        cpu0_[y].append(aos.particles[y-1].cpu_0)\n",
    "        \n",
    "   "
   ]
  },
  {
   "cell_type": "code",
   "execution_count": 54,
   "metadata": {},
   "outputs": [
    {
     "data": {
      "image/png": "[encoded data removed]",
      "text/plain": [
       "<Figure size 432x288 with 1 Axes>"
      ]
     },
     "metadata": {
      "needs_background": "light"
     },
     "output_type": "display_data"
    }
   ],
   "source": [
    "x_ = dict()\n",
    "y_ = dict()\n",
    "z_ = dict()\n",
    "for v in range(1,nop+1):\n",
    "    x_[v] = np.array([pos[0] for pos in positions_[v]])\n",
    "    y_[v] = np.array([pos[1] for pos in positions_[v]])\n",
    "    z_[v] = np.array([pos[2] for pos in positions_[v]])\n",
    "\n",
    "\n",
    "    \n",
    "for p in range(1, nop+1):\n",
    "    plot(x_[p], y_[p])\n",
    "    "
   ]
  },
  {
   "cell_type": "code",
   "execution_count": 55,
   "metadata": {},
   "outputs": [
    {
     "data": {
      "image/png": "[encoded data removed]",
      "text/plain": [
       "<Figure size 432x288 with 1 Axes>"
      ]
     },
     "metadata": {
      "needs_background": "light"
     },
     "output_type": "display_data"
    }
   ],
   "source": [
    "for p in range(1,nop+1):\n",
    "    plot(x_[p])\n",
    "   "
   ]
  },
  {
   "cell_type": "code",
   "execution_count": 56,
   "metadata": {},
   "outputs": [
    {
     "data": {
      "image/png": "[encoded data removed]",
      "text/plain": [
       "<Figure size 432x288 with 1 Axes>"
      ]
     },
     "metadata": {
      "needs_background": "light"
     },
     "output_type": "display_data"
    }
   ],
   "source": [
    "for p in range(1,nop+1):\n",
    "    plot(y_[p])"
   ]
  },
  {
   "cell_type": "code",
   "execution_count": 57,
   "metadata": {},
   "outputs": [
    {
     "data": {
      "image/png": "[encoded data removed]",
      "text/plain": [
       "<Figure size 432x288 with 1 Axes>"
      ]
     },
     "metadata": {
      "needs_background": "light"
     },
     "output_type": "display_data"
    }
   ],
   "source": [
    "for p in range(1,nop+1):\n",
    "    plot(z_[p])"
   ]
  },
  {
   "cell_type": "code",
   "execution_count": 58,
   "metadata": {},
   "outputs": [
    {
     "data": {
      "image/png": "[encoded data removed]",
      "text/plain": [
       "<Figure size 432x288 with 1 Axes>"
      ]
     },
     "metadata": {
      "needs_background": "light"
     },
     "output_type": "display_data"
    }
   ],
   "source": [
    "for p in range(1,nop+1):\n",
    "    plot(id_[p], '^')"
   ]
  },
  {
   "cell_type": "code",
   "execution_count": 59,
   "metadata": {},
   "outputs": [
    {
     "data": {
      "image/png": "[encoded data removed]",
      "text/plain": [
       "<Figure size 432x288 with 1 Axes>"
      ]
     },
     "metadata": {
      "needs_background": "light"
     },
     "output_type": "display_data"
    }
   ],
   "source": [
    "for p in range(1,nop+1):\n",
    "    plot(cpu_[p], '^')"
   ]
  },
  {
   "cell_type": "code",
   "execution_count": 60,
   "metadata": {},
   "outputs": [
    {
     "data": {
      "image/png": "[encoded data removed]",
      "text/plain": [
       "<Figure size 432x288 with 1 Axes>"
      ]
     },
     "metadata": {
      "needs_background": "light"
     },
     "output_type": "display_data"
    }
   ],
   "source": [
    "for p in range(1,nop+1):\n",
    "    plot(id0_[p], '^')"
   ]
  },
  {
   "cell_type": "code",
   "execution_count": 61,
   "metadata": {},
   "outputs": [
    {
     "ename": "ValueError",
     "evalue": "setting an array element with a sequence.",
     "output_type": "error",
     "traceback": [
      "\u001b[0;31m---------------------------------------------------------------------------\u001b[0m",
      "\u001b[0;31mValueError\u001b[0m                                Traceback (most recent call last)",
      "\u001b[0;32m<ipython-input-61-f501f44013c2>\u001b[0m in \u001b[0;36m<module>\u001b[0;34m()\u001b[0m\n\u001b[1;32m     66\u001b[0m         \u001b[0mmarker_posy_\u001b[0m\u001b[0;34m[\u001b[0m\u001b[0mn\u001b[0m\u001b[0;34m]\u001b[0m\u001b[0;34m.\u001b[0m\u001b[0mappend\u001b[0m\u001b[0;34m(\u001b[0m\u001b[0;34m[\u001b[0m\u001b[0mpos\u001b[0m\u001b[0;34m[\u001b[0m\u001b[0;36m1\u001b[0m\u001b[0;34m]\u001b[0m \u001b[0;32mfor\u001b[0m \u001b[0mpos\u001b[0m \u001b[0;32min\u001b[0m \u001b[0mposition_sorted_\u001b[0m\u001b[0;34m[\u001b[0m\u001b[0mv\u001b[0m\u001b[0;34m]\u001b[0m\u001b[0;34m]\u001b[0m\u001b[0;34m)\u001b[0m\u001b[0;34m\u001b[0m\u001b[0m\n\u001b[1;32m     67\u001b[0m \u001b[0;34m\u001b[0m\u001b[0m\n\u001b[0;32m---> 68\u001b[0;31m     \u001b[0mplot\u001b[0m\u001b[0;34m(\u001b[0m\u001b[0mmarker_posy_\u001b[0m\u001b[0;34m[\u001b[0m\u001b[0mn\u001b[0m\u001b[0;34m]\u001b[0m\u001b[0;34m,\u001b[0m\u001b[0;34m'-o'\u001b[0m\u001b[0;34m)\u001b[0m  \u001b[0;31m# this is to plot the marker y positions at a given time step to show the flagellum shape\u001b[0m\u001b[0;34m\u001b[0m\u001b[0m\n\u001b[0m\u001b[1;32m     69\u001b[0m     \u001b[0;31m#import time\u001b[0m\u001b[0;34m\u001b[0m\u001b[0;34m\u001b[0m\u001b[0m\n\u001b[1;32m     70\u001b[0m     \u001b[0;31m#time.sleep(1.3)\u001b[0m\u001b[0;34m\u001b[0m\u001b[0;34m\u001b[0m\u001b[0m\n",
      "\u001b[0;32m/home/gxu/anaconda2/lib/python2.7/site-packages/matplotlib/pyplot.pyc\u001b[0m in \u001b[0;36mplot\u001b[0;34m(*args, **kwargs)\u001b[0m\n\u001b[1;32m   3361\u001b[0m                       mplDeprecation)\n\u001b[1;32m   3362\u001b[0m     \u001b[0;32mtry\u001b[0m\u001b[0;34m:\u001b[0m\u001b[0;34m\u001b[0m\u001b[0m\n\u001b[0;32m-> 3363\u001b[0;31m         \u001b[0mret\u001b[0m \u001b[0;34m=\u001b[0m \u001b[0max\u001b[0m\u001b[0;34m.\u001b[0m\u001b[0mplot\u001b[0m\u001b[0;34m(\u001b[0m\u001b[0;34m*\u001b[0m\u001b[0margs\u001b[0m\u001b[0;34m,\u001b[0m \u001b[0;34m**\u001b[0m\u001b[0mkwargs\u001b[0m\u001b[0;34m)\u001b[0m\u001b[0;34m\u001b[0m\u001b[0m\n\u001b[0m\u001b[1;32m   3364\u001b[0m     \u001b[0;32mfinally\u001b[0m\u001b[0;34m:\u001b[0m\u001b[0;34m\u001b[0m\u001b[0m\n\u001b[1;32m   3365\u001b[0m         \u001b[0max\u001b[0m\u001b[0;34m.\u001b[0m\u001b[0m_hold\u001b[0m \u001b[0;34m=\u001b[0m \u001b[0mwashold\u001b[0m\u001b[0;34m\u001b[0m\u001b[0m\n",
      "\u001b[0;32m/home/gxu/anaconda2/lib/python2.7/site-packages/matplotlib/__init__.pyc\u001b[0m in \u001b[0;36minner\u001b[0;34m(ax, *args, **kwargs)\u001b[0m\n\u001b[1;32m   1865\u001b[0m                         \u001b[0;34m\"the Matplotlib list!)\"\u001b[0m \u001b[0;34m%\u001b[0m \u001b[0;34m(\u001b[0m\u001b[0mlabel_namer\u001b[0m\u001b[0;34m,\u001b[0m \u001b[0mfunc\u001b[0m\u001b[0;34m.\u001b[0m\u001b[0m__name__\u001b[0m\u001b[0;34m)\u001b[0m\u001b[0;34m,\u001b[0m\u001b[0;34m\u001b[0m\u001b[0m\n\u001b[1;32m   1866\u001b[0m                         RuntimeWarning, stacklevel=2)\n\u001b[0;32m-> 1867\u001b[0;31m             \u001b[0;32mreturn\u001b[0m \u001b[0mfunc\u001b[0m\u001b[0;34m(\u001b[0m\u001b[0max\u001b[0m\u001b[0;34m,\u001b[0m \u001b[0;34m*\u001b[0m\u001b[0margs\u001b[0m\u001b[0;34m,\u001b[0m \u001b[0;34m**\u001b[0m\u001b[0mkwargs\u001b[0m\u001b[0;34m)\u001b[0m\u001b[0;34m\u001b[0m\u001b[0m\n\u001b[0m\u001b[1;32m   1868\u001b[0m \u001b[0;34m\u001b[0m\u001b[0m\n\u001b[1;32m   1869\u001b[0m         inner.__doc__ = _add_data_doc(inner.__doc__,\n",
      "\u001b[0;32m/home/gxu/anaconda2/lib/python2.7/site-packages/matplotlib/axes/_axes.pyc\u001b[0m in \u001b[0;36mplot\u001b[0;34m(self, *args, **kwargs)\u001b[0m\n\u001b[1;32m   1527\u001b[0m \u001b[0;34m\u001b[0m\u001b[0m\n\u001b[1;32m   1528\u001b[0m         \u001b[0;32mfor\u001b[0m \u001b[0mline\u001b[0m \u001b[0;32min\u001b[0m \u001b[0mself\u001b[0m\u001b[0;34m.\u001b[0m\u001b[0m_get_lines\u001b[0m\u001b[0;34m(\u001b[0m\u001b[0;34m*\u001b[0m\u001b[0margs\u001b[0m\u001b[0;34m,\u001b[0m \u001b[0;34m**\u001b[0m\u001b[0mkwargs\u001b[0m\u001b[0;34m)\u001b[0m\u001b[0;34m:\u001b[0m\u001b[0;34m\u001b[0m\u001b[0m\n\u001b[0;32m-> 1529\u001b[0;31m             \u001b[0mself\u001b[0m\u001b[0;34m.\u001b[0m\u001b[0madd_line\u001b[0m\u001b[0;34m(\u001b[0m\u001b[0mline\u001b[0m\u001b[0;34m)\u001b[0m\u001b[0;34m\u001b[0m\u001b[0m\n\u001b[0m\u001b[1;32m   1530\u001b[0m             \u001b[0mlines\u001b[0m\u001b[0;34m.\u001b[0m\u001b[0mappend\u001b[0m\u001b[0;34m(\u001b[0m\u001b[0mline\u001b[0m\u001b[0;34m)\u001b[0m\u001b[0;34m\u001b[0m\u001b[0m\n\u001b[1;32m   1531\u001b[0m \u001b[0;34m\u001b[0m\u001b[0m\n",
      "\u001b[0;32m/home/gxu/anaconda2/lib/python2.7/site-packages/matplotlib/axes/_base.pyc\u001b[0m in \u001b[0;36madd_line\u001b[0;34m(self, line)\u001b[0m\n\u001b[1;32m   1958\u001b[0m             \u001b[0mline\u001b[0m\u001b[0;34m.\u001b[0m\u001b[0mset_clip_path\u001b[0m\u001b[0;34m(\u001b[0m\u001b[0mself\u001b[0m\u001b[0;34m.\u001b[0m\u001b[0mpatch\u001b[0m\u001b[0;34m)\u001b[0m\u001b[0;34m\u001b[0m\u001b[0m\n\u001b[1;32m   1959\u001b[0m \u001b[0;34m\u001b[0m\u001b[0m\n\u001b[0;32m-> 1960\u001b[0;31m         \u001b[0mself\u001b[0m\u001b[0;34m.\u001b[0m\u001b[0m_update_line_limits\u001b[0m\u001b[0;34m(\u001b[0m\u001b[0mline\u001b[0m\u001b[0;34m)\u001b[0m\u001b[0;34m\u001b[0m\u001b[0m\n\u001b[0m\u001b[1;32m   1961\u001b[0m         \u001b[0;32mif\u001b[0m \u001b[0;32mnot\u001b[0m \u001b[0mline\u001b[0m\u001b[0;34m.\u001b[0m\u001b[0mget_label\u001b[0m\u001b[0;34m(\u001b[0m\u001b[0;34m)\u001b[0m\u001b[0;34m:\u001b[0m\u001b[0;34m\u001b[0m\u001b[0m\n\u001b[1;32m   1962\u001b[0m             \u001b[0mline\u001b[0m\u001b[0;34m.\u001b[0m\u001b[0mset_label\u001b[0m\u001b[0;34m(\u001b[0m\u001b[0;34m'_line%d'\u001b[0m \u001b[0;34m%\u001b[0m \u001b[0mlen\u001b[0m\u001b[0;34m(\u001b[0m\u001b[0mself\u001b[0m\u001b[0;34m.\u001b[0m\u001b[0mlines\u001b[0m\u001b[0;34m)\u001b[0m\u001b[0;34m)\u001b[0m\u001b[0;34m\u001b[0m\u001b[0m\n",
      "\u001b[0;32m/home/gxu/anaconda2/lib/python2.7/site-packages/matplotlib/axes/_base.pyc\u001b[0m in \u001b[0;36m_update_line_limits\u001b[0;34m(self, line)\u001b[0m\n\u001b[1;32m   1980\u001b[0m         \u001b[0mFigures\u001b[0m \u001b[0mout\u001b[0m \u001b[0mthe\u001b[0m \u001b[0mdata\u001b[0m \u001b[0mlimit\u001b[0m \u001b[0mof\u001b[0m \u001b[0mthe\u001b[0m \u001b[0mgiven\u001b[0m \u001b[0mline\u001b[0m\u001b[0;34m,\u001b[0m \u001b[0mupdating\u001b[0m \u001b[0mself\u001b[0m\u001b[0;34m.\u001b[0m\u001b[0mdataLim\u001b[0m\u001b[0;34m.\u001b[0m\u001b[0;34m\u001b[0m\u001b[0m\n\u001b[1;32m   1981\u001b[0m         \"\"\"\n\u001b[0;32m-> 1982\u001b[0;31m         \u001b[0mpath\u001b[0m \u001b[0;34m=\u001b[0m \u001b[0mline\u001b[0m\u001b[0;34m.\u001b[0m\u001b[0mget_path\u001b[0m\u001b[0;34m(\u001b[0m\u001b[0;34m)\u001b[0m\u001b[0;34m\u001b[0m\u001b[0m\n\u001b[0m\u001b[1;32m   1983\u001b[0m         \u001b[0;32mif\u001b[0m \u001b[0mpath\u001b[0m\u001b[0;34m.\u001b[0m\u001b[0mvertices\u001b[0m\u001b[0;34m.\u001b[0m\u001b[0msize\u001b[0m \u001b[0;34m==\u001b[0m \u001b[0;36m0\u001b[0m\u001b[0;34m:\u001b[0m\u001b[0;34m\u001b[0m\u001b[0m\n\u001b[1;32m   1984\u001b[0m             \u001b[0;32mreturn\u001b[0m\u001b[0;34m\u001b[0m\u001b[0m\n",
      "\u001b[0;32m/home/gxu/anaconda2/lib/python2.7/site-packages/matplotlib/lines.pyc\u001b[0m in \u001b[0;36mget_path\u001b[0;34m(self)\u001b[0m\n\u001b[1;32m    954\u001b[0m         \"\"\"\n\u001b[1;32m    955\u001b[0m         \u001b[0;32mif\u001b[0m \u001b[0mself\u001b[0m\u001b[0;34m.\u001b[0m\u001b[0m_invalidy\u001b[0m \u001b[0;32mor\u001b[0m \u001b[0mself\u001b[0m\u001b[0;34m.\u001b[0m\u001b[0m_invalidx\u001b[0m\u001b[0;34m:\u001b[0m\u001b[0;34m\u001b[0m\u001b[0m\n\u001b[0;32m--> 956\u001b[0;31m             \u001b[0mself\u001b[0m\u001b[0;34m.\u001b[0m\u001b[0mrecache\u001b[0m\u001b[0;34m(\u001b[0m\u001b[0;34m)\u001b[0m\u001b[0;34m\u001b[0m\u001b[0m\n\u001b[0m\u001b[1;32m    957\u001b[0m         \u001b[0;32mreturn\u001b[0m \u001b[0mself\u001b[0m\u001b[0;34m.\u001b[0m\u001b[0m_path\u001b[0m\u001b[0;34m\u001b[0m\u001b[0m\n\u001b[1;32m    958\u001b[0m \u001b[0;34m\u001b[0m\u001b[0m\n",
      "\u001b[0;32m/home/gxu/anaconda2/lib/python2.7/site-packages/matplotlib/lines.pyc\u001b[0m in \u001b[0;36mrecache\u001b[0;34m(self, always)\u001b[0m\n\u001b[1;32m    655\u001b[0m         \u001b[0;32mif\u001b[0m \u001b[0malways\u001b[0m \u001b[0;32mor\u001b[0m \u001b[0mself\u001b[0m\u001b[0;34m.\u001b[0m\u001b[0m_invalidy\u001b[0m\u001b[0;34m:\u001b[0m\u001b[0;34m\u001b[0m\u001b[0m\n\u001b[1;32m    656\u001b[0m             \u001b[0myconv\u001b[0m \u001b[0;34m=\u001b[0m \u001b[0mself\u001b[0m\u001b[0;34m.\u001b[0m\u001b[0mconvert_yunits\u001b[0m\u001b[0;34m(\u001b[0m\u001b[0mself\u001b[0m\u001b[0;34m.\u001b[0m\u001b[0m_yorig\u001b[0m\u001b[0;34m)\u001b[0m\u001b[0;34m\u001b[0m\u001b[0m\n\u001b[0;32m--> 657\u001b[0;31m             \u001b[0my\u001b[0m \u001b[0;34m=\u001b[0m \u001b[0m_to_unmasked_float_array\u001b[0m\u001b[0;34m(\u001b[0m\u001b[0myconv\u001b[0m\u001b[0;34m)\u001b[0m\u001b[0;34m.\u001b[0m\u001b[0mravel\u001b[0m\u001b[0;34m(\u001b[0m\u001b[0;34m)\u001b[0m\u001b[0;34m\u001b[0m\u001b[0m\n\u001b[0m\u001b[1;32m    658\u001b[0m         \u001b[0;32melse\u001b[0m\u001b[0;34m:\u001b[0m\u001b[0;34m\u001b[0m\u001b[0m\n\u001b[1;32m    659\u001b[0m             \u001b[0my\u001b[0m \u001b[0;34m=\u001b[0m \u001b[0mself\u001b[0m\u001b[0;34m.\u001b[0m\u001b[0m_y\u001b[0m\u001b[0;34m\u001b[0m\u001b[0m\n",
      "\u001b[0;32m/home/gxu/anaconda2/lib/python2.7/site-packages/matplotlib/cbook/__init__.pyc\u001b[0m in \u001b[0;36m_to_unmasked_float_array\u001b[0;34m(x)\u001b[0m\n\u001b[1;32m   2050\u001b[0m         \u001b[0;32mreturn\u001b[0m \u001b[0mnp\u001b[0m\u001b[0;34m.\u001b[0m\u001b[0mma\u001b[0m\u001b[0;34m.\u001b[0m\u001b[0masarray\u001b[0m\u001b[0;34m(\u001b[0m\u001b[0mx\u001b[0m\u001b[0;34m,\u001b[0m \u001b[0mfloat\u001b[0m\u001b[0;34m)\u001b[0m\u001b[0;34m.\u001b[0m\u001b[0mfilled\u001b[0m\u001b[0;34m(\u001b[0m\u001b[0mnp\u001b[0m\u001b[0;34m.\u001b[0m\u001b[0mnan\u001b[0m\u001b[0;34m)\u001b[0m\u001b[0;34m\u001b[0m\u001b[0m\n\u001b[1;32m   2051\u001b[0m     \u001b[0;32melse\u001b[0m\u001b[0;34m:\u001b[0m\u001b[0;34m\u001b[0m\u001b[0m\n\u001b[0;32m-> 2052\u001b[0;31m         \u001b[0;32mreturn\u001b[0m \u001b[0mnp\u001b[0m\u001b[0;34m.\u001b[0m\u001b[0masarray\u001b[0m\u001b[0;34m(\u001b[0m\u001b[0mx\u001b[0m\u001b[0;34m,\u001b[0m \u001b[0mfloat\u001b[0m\u001b[0;34m)\u001b[0m\u001b[0;34m\u001b[0m\u001b[0m\n\u001b[0m\u001b[1;32m   2053\u001b[0m \u001b[0;34m\u001b[0m\u001b[0m\n\u001b[1;32m   2054\u001b[0m \u001b[0;34m\u001b[0m\u001b[0m\n",
      "\u001b[0;32m/home/gxu/anaconda2/lib/python2.7/site-packages/numpy/core/numeric.pyc\u001b[0m in \u001b[0;36masarray\u001b[0;34m(a, dtype, order)\u001b[0m\n\u001b[1;32m    536\u001b[0m \u001b[0;34m\u001b[0m\u001b[0m\n\u001b[1;32m    537\u001b[0m     \"\"\"\n\u001b[0;32m--> 538\u001b[0;31m     \u001b[0;32mreturn\u001b[0m \u001b[0marray\u001b[0m\u001b[0;34m(\u001b[0m\u001b[0ma\u001b[0m\u001b[0;34m,\u001b[0m \u001b[0mdtype\u001b[0m\u001b[0;34m,\u001b[0m \u001b[0mcopy\u001b[0m\u001b[0;34m=\u001b[0m\u001b[0mFalse\u001b[0m\u001b[0;34m,\u001b[0m \u001b[0morder\u001b[0m\u001b[0;34m=\u001b[0m\u001b[0morder\u001b[0m\u001b[0;34m)\u001b[0m\u001b[0;34m\u001b[0m\u001b[0m\n\u001b[0m\u001b[1;32m    539\u001b[0m \u001b[0;34m\u001b[0m\u001b[0m\n\u001b[1;32m    540\u001b[0m \u001b[0;34m\u001b[0m\u001b[0m\n",
      "\u001b[0;31mValueError\u001b[0m: setting an array element with a sequence."
     ]
    },
    {
     "data": {
      "image/png": "[encoded data removed]",
      "text/plain": [
       "<Figure size 432x288 with 1 Axes>"
      ]
     },
     "metadata": {
      "needs_background": "light"
     },
     "output_type": "display_data"
    }
   ],
   "source": [
    "id_sorted_       = dict()\n",
    "cpu_sorted_      = dict()\n",
    "position_sorted_ = dict()\n",
    "marker_id_       = dict()\n",
    "marker_cpu_      = dict()\n",
    "\n",
    "x_               = dict()\n",
    "y_               = dict()\n",
    "z_               = dict()\n",
    "\n",
    "marker_posy_ = dict()\n",
    "\n",
    "m_index = dict()\n",
    "\n",
    "\n",
    "for x in range(1,nop+1):\n",
    "    id_sorted_[x]       = list()\n",
    "    cpu_sorted_[x]      = list()\n",
    "    position_sorted_[x] = list()\n",
    "    \n",
    "    \n",
    "prevmarker_id  = -1\n",
    "prevmarker_cpu = -1    \n",
    "\n",
    "#for data_file in data_files:\n",
    "#    ds = AMReXDataset(data_file)\n",
    "#    ad = ds.all_data()\n",
    "\n",
    "for n in range(1, 10):\n",
    "    marker_posy_[n] = list()\n",
    "\n",
    "for n in range(1, 10):\n",
    "    m = (n-1)*1\n",
    "    \n",
    "    data_file = data_files[m]\n",
    "    #ds = yt.load(data_files[-1])\n",
    "    ds = AMReXDataset(data_file)\n",
    "    t = ds.current_time\n",
    "    ad = ds.all_data()\n",
    "    aos = AoS(ad)\n",
    "    prevmarker_id = -1\n",
    "    prevmarker_cpu = -1\n",
    "    for k in range(0, nop):\n",
    "        if aos.particles[k].id_0 == prevmarker_id and aos.particles[k].cpu_0 == prevmarker_cpu:\n",
    "                id_sorted_[1].append(aos.particles[k].id)\n",
    "                cpu_sorted_[1].append(aos.particles[k].cpu)\n",
    "                position_sorted_[1].append(aos.particles[k].pos)\n",
    "                marker_id_[1] = aos.particles[k].id\n",
    "                marker_cpu_[1] = aos.particles[k].cpu\n",
    "                \n",
    "    for i in range(1,nop):    \n",
    "        for k in range(0, nop):\n",
    "            if aos.particles[k].id_0 == marker_id_[i] and aos.particles[k].cpu_0 == marker_cpu_[i]:\n",
    "                id_sorted_[i+1].append(aos.particles[k].id)\n",
    "                cpu_sorted_[i+1].append(aos.particles[k].cpu)\n",
    "                position_sorted_[i+1].append(aos.particles[k].pos)\n",
    "                marker_id_[i+1] = aos.particles[k].id\n",
    "                marker_cpu_[i+1] = aos.particles[k].cpu\n",
    "                \n",
    "    for v in range(1,nop+1):\n",
    "        m_index[v] = v\n",
    "        x_[v] = np.array([pos[0] for pos in position_sorted_[v]])\n",
    "        y_[v] = np.array([pos[1] for pos in position_sorted_[v]])\n",
    "        z_[v] = np.array([pos[2] for pos in position_sorted_[v]])\n",
    "               \n",
    "        marker_posy_[n].append([pos[1] for pos in position_sorted_[v]])\n",
    "        \n",
    "    plot(marker_posy_[n],'-o')  # this is to plot the marker y positions at a given time step to show the flagellum shape\n",
    "    #import time\n",
    "    #time.sleep(1.3) "
   ]
  },
  {
   "cell_type": "code",
   "execution_count": 206,
   "metadata": {},
   "outputs": [
    {
     "data": {
      "text/plain": [
       "[[0.502],\n",
       " [0.485],\n",
       " [0.475],\n",
       " [0.476],\n",
       " [0.486],\n",
       " [0.5],\n",
       " [0.512],\n",
       " [0.517],\n",
       " [0.512],\n",
       " [0.498]]"
      ]
     },
     "execution_count": 206,
     "metadata": {},
     "output_type": "execute_result"
    }
   ],
   "source": [
    "marker_posy_[1]"
   ]
  },
  {
   "cell_type": "code",
   "execution_count": 207,
   "metadata": {},
   "outputs": [],
   "source": [
    "%matplotlib inline\n",
    "\n",
    "#print(matplotlib.animation.writers.list())"
   ]
  },
  {
   "cell_type": "code",
   "execution_count": 208,
   "metadata": {},
   "outputs": [],
   "source": [
    "matplotlib.rcParams['animation.writer'] = 'ffmpeg'\n",
    "#matplotlib.rcParams['animation.writer'] = 'avconv'"
   ]
  },
  {
   "cell_type": "code",
   "execution_count": null,
   "metadata": {},
   "outputs": [],
   "source": []
  },
  {
   "cell_type": "code",
   "execution_count": 209,
   "metadata": {},
   "outputs": [
    {
     "data": {
      "image/png": "[encoded data removed]",
      "text/plain": [
       "<Figure size 432x288 with 1 Axes>"
      ]
     },
     "metadata": {
      "needs_background": "light"
     },
     "output_type": "display_data"
    }
   ],
   "source": [
    "x_                = dict()\n",
    "y_                = dict()\n",
    "z_                = dict()\n",
    "\n",
    "\n",
    "for v in range(1,nop+1):\n",
    "    x_[v] = np.array([pos[0] for pos in position_sorted_[v]])\n",
    "    y_[v] = np.array([pos[1] for pos in position_sorted_[v]])\n",
    "    z_[v] = np.array([pos[2] for pos in position_sorted_[v]])\n",
    "\n",
    "\n",
    "    \n",
    "for p in range(1,nop+1):\n",
    "    plot(x_[p], y_[p], \"-o\")\n",
    "    "
   ]
  },
  {
   "cell_type": "code",
   "execution_count": 210,
   "metadata": {},
   "outputs": [
    {
     "data": {
      "image/png": "[encoded data removed]",
      "text/plain": [
       "<Figure size 432x288 with 1 Axes>"
      ]
     },
     "metadata": {
      "needs_background": "light"
     },
     "output_type": "display_data"
    }
   ],
   "source": [
    "for p in range(1,nop+1):\n",
    "    plot(x_[p])\n",
    "   "
   ]
  },
  {
   "cell_type": "code",
   "execution_count": 211,
   "metadata": {},
   "outputs": [
    {
     "data": {
      "image/png": "[encoded data removed]",
      "text/plain": [
       "<Figure size 432x288 with 1 Axes>"
      ]
     },
     "metadata": {
      "needs_background": "light"
     },
     "output_type": "display_data"
    }
   ],
   "source": [
    "for p in range(1,nop+1):\n",
    "    plot(y_[p], \".\")\n",
    "   "
   ]
  },
  {
   "cell_type": "code",
   "execution_count": 212,
   "metadata": {},
   "outputs": [
    {
     "data": {
      "image/png": "[encoded data removed]",
      "text/plain": [
       "<Figure size 432x288 with 1 Axes>"
      ]
     },
     "metadata": {
      "needs_background": "light"
     },
     "output_type": "display_data"
    }
   ],
   "source": [
    "for p in range(1,nop+1):\n",
    "    plot(z_[p])\n",
    "   "
   ]
  },
  {
   "cell_type": "code",
   "execution_count": 213,
   "metadata": {},
   "outputs": [
    {
     "data": {
      "image/png": "[encoded data removed]",
      "text/plain": [
       "<Figure size 432x288 with 1 Axes>"
      ]
     },
     "metadata": {
      "needs_background": "light"
     },
     "output_type": "display_data"
    }
   ],
   "source": [
    "for p in range(1,nop+1):\n",
    "    plot(id_sorted_[p], '^')"
   ]
  },
  {
   "cell_type": "code",
   "execution_count": 214,
   "metadata": {},
   "outputs": [
    {
     "data": {
      "image/png": "[encoded data removed]",
      "text/plain": [
       "<Figure size 432x288 with 1 Axes>"
      ]
     },
     "metadata": {
      "needs_background": "light"
     },
     "output_type": "display_data"
    }
   ],
   "source": [
    "for p in range(1,nop+1):\n",
    "    plot(cpu_sorted_[p], '^')"
   ]
  },
  {
   "cell_type": "code",
   "execution_count": null,
   "metadata": {},
   "outputs": [],
   "source": []
  },
  {
   "cell_type": "code",
   "execution_count": null,
   "metadata": {},
   "outputs": [],
   "source": []
  },
  {
   "cell_type": "code",
   "execution_count": null,
   "metadata": {},
   "outputs": [],
   "source": []
  },
  {
   "cell_type": "code",
   "execution_count": null,
   "metadata": {},
   "outputs": [],
   "source": []
  },
  {
   "cell_type": "code",
   "execution_count": null,
   "metadata": {},
   "outputs": [],
   "source": []
  },
  {
   "cell_type": "markdown",
   "metadata": {},
   "source": [
    "## Remove Average `vely`"
   ]
  },
  {
   "cell_type": "markdown",
   "metadata": {},
   "source": [
    "The $y$-data might seem smooth. But there will be tiny fluctuations. In order to see those, let's compute the average in dimensions 2 and 3."
   ]
  },
  {
   "cell_type": "code",
   "execution_count": 215,
   "metadata": {},
   "outputs": [
    {
     "data": {
      "text/plain": [
       "[<matplotlib.lines.Line2D at 0x7f1b0823ef10>]"
      ]
     },
     "execution_count": 215,
     "metadata": {},
     "output_type": "execute_result"
    },
    {
     "data": {
      "image/png": "[encoded data removed]",
      "text/plain": [
       "<Figure size 432x288 with 1 Axes>"
      ]
     },
     "metadata": {
      "needs_background": "light"
     },
     "output_type": "display_data"
    }
   ],
   "source": [
    "m_vely = mean(mean(vely[:, :, :], axis=1), axis=1)\n",
    "#              ^^-- returns a 2D array of average velocities\n",
    "#         ^^------- returns a 1D array of average velocities (the average of the previous average)\n",
    "plot(m_vely)"
   ]
  },
  {
   "cell_type": "markdown",
   "metadata": {},
   "source": [
    "Compute fluctuations: `m_vely` is applied to all `dim=1` slices"
   ]
  },
  {
   "cell_type": "code",
   "execution_count": 216,
   "metadata": {},
   "outputs": [],
   "source": [
    "# slice-wise subtraction of the average velocity... \n",
    "# I can't think of a fancy pythonic way of doing this => I'll do it in this cumbersome way:\n",
    "fluct_vely = np.zeros_like(vely)\n",
    "for i in range(vely.shape[0]):\n",
    "    for j in range(vely.shape[1]):\n",
    "            fluct_vely[:, i, j] = vely[:, i, j] - m_vely[:]"
   ]
  },
  {
   "cell_type": "code",
   "execution_count": 217,
   "metadata": {},
   "outputs": [
    {
     "data": {
      "text/plain": [
       "<matplotlib.colorbar.Colorbar at 0x7f1b087a2c10>"
      ]
     },
     "execution_count": 217,
     "metadata": {},
     "output_type": "execute_result"
    },
    {
     "data": {
      "image/png": "[encoded data removed]",
      "text/plain": [
       "<Figure size 288x288 with 2 Axes>"
      ]
     },
     "metadata": {
      "needs_background": "light"
     },
     "output_type": "display_data"
    }
   ],
   "source": [
    "matshow(fluct_vely[:, 8, :])\n",
    "colorbar()"
   ]
  },
  {
   "cell_type": "markdown",
   "metadata": {},
   "source": [
    "## Compute $x$, $y$ and $z$ Temperatures (Fluctuations in `velx`, `vely`, `velz`)"
   ]
  },
  {
   "cell_type": "code",
   "execution_count": 218,
   "metadata": {},
   "outputs": [],
   "source": [
    "t_x = mean(mean(velx[:, :, :]**2, axis=1), axis=1)\n",
    "#           ^^-- returns a 2D array of average velocities\n",
    "#      ^^------- returns a 1D array of average velocities (the average of the previous average)\n",
    "t_x = sqrt(t_x)"
   ]
  },
  {
   "cell_type": "code",
   "execution_count": 219,
   "metadata": {},
   "outputs": [],
   "source": [
    "t_y = mean(mean(fluct_vely[:, :, :]**2, axis=1), axis=1)\n",
    "#           ^^-- returns a 2D array of average velocities\n",
    "#      ^^------- returns a 1D array of average velocities (the average of the previous average)\n",
    "t_y = sqrt(t_y)"
   ]
  },
  {
   "cell_type": "code",
   "execution_count": 220,
   "metadata": {},
   "outputs": [],
   "source": [
    "t_z = mean(mean(velz[:, :, :]**2, axis=1), axis=1)\n",
    "#           ^^-- returns a 2D array of average velocities\n",
    "#      ^^------- returns a 1D array of average velocities (the average of the previous average)\n",
    "t_z = sqrt(t_z)"
   ]
  },
  {
   "cell_type": "code",
   "execution_count": 221,
   "metadata": {},
   "outputs": [
    {
     "data": {
      "text/plain": [
       "[<matplotlib.lines.Line2D at 0x7f1b0a425690>]"
      ]
     },
     "execution_count": 221,
     "metadata": {},
     "output_type": "execute_result"
    },
    {
     "data": {
      "image/png": "[encoded data removed]",
      "text/plain": [
       "<Figure size 432x288 with 1 Axes>"
      ]
     },
     "metadata": {
      "needs_background": "light"
     },
     "output_type": "display_data"
    }
   ],
   "source": [
    "plot(t_x)\n",
    "plot(t_y)\n",
    "plot(t_z)"
   ]
  },
  {
   "cell_type": "markdown",
   "metadata": {},
   "source": [
    "We see that the $x$-fluctuations are supressed due to the wall $\\Rightarrow{}$ needs fixing!"
   ]
  },
  {
   "cell_type": "code",
   "execution_count": null,
   "metadata": {},
   "outputs": [],
   "source": []
  },
  {
   "cell_type": "code",
   "execution_count": null,
   "metadata": {},
   "outputs": [],
   "source": []
  },
  {
   "cell_type": "code",
   "execution_count": null,
   "metadata": {},
   "outputs": [],
   "source": []
  },
  {
   "cell_type": "code",
   "execution_count": null,
   "metadata": {},
   "outputs": [],
   "source": []
  },
  {
   "cell_type": "code",
   "execution_count": null,
   "metadata": {},
   "outputs": [],
   "source": []
  },
  {
   "cell_type": "code",
   "execution_count": null,
   "metadata": {},
   "outputs": [],
   "source": []
  },
  {
   "cell_type": "code",
   "execution_count": null,
   "metadata": {},
   "outputs": [],
   "source": []
  },
  {
   "cell_type": "code",
   "execution_count": null,
   "metadata": {},
   "outputs": [],
   "source": []
  },
  {
   "cell_type": "code",
   "execution_count": null,
   "metadata": {},
   "outputs": [],
   "source": []
  },
  {
   "cell_type": "code",
   "execution_count": null,
   "metadata": {},
   "outputs": [],
   "source": []
  },
  {
   "cell_type": "markdown",
   "metadata": {},
   "source": [
    "# Old Stuff $\\Rightarrow{}$ Clean up at some point"
   ]
  },
  {
   "cell_type": "code",
   "execution_count": 222,
   "metadata": {},
   "outputs": [],
   "source": [
    "def grad(phi):\n",
    "    dphi_x = np.zeros_like(phi)\n",
    "    dphi_y = np.zeros_like(phi)\n",
    "    dphi_z = np.zeros_like(phi)\n",
    "    \n",
    "    dphi_x[ :-1, :, :] += phi[1:,   :, :]\n",
    "    dphi_x[1:,   :, :] -= phi[ :-1, :, :]\n",
    "    \n",
    "    dphi_y[:,  :-1, :] += phi[:, 1:,   :]\n",
    "    dphi_y[:, 1:,   :] -= phi[:,  :-1, :]\n",
    "    \n",
    "    dphi_z[:, :,  :-1] += phi[:, :, 1:, ]\n",
    "    dphi_z[:, :, 1:  ] -= phi[:, :,  :-1]\n",
    "    \n",
    "    return dphi_x, dphi_y, dphi_z"
   ]
  },
  {
   "cell_type": "code",
   "execution_count": 223,
   "metadata": {},
   "outputs": [
    {
     "ename": "ReferenceError",
     "evalue": "weakly-referenced object no longer exists",
     "output_type": "error",
     "traceback": [
      "\u001b[0;31m---------------------------------------------------------------------------\u001b[0m",
      "\u001b[0;31mReferenceError\u001b[0m                            Traceback (most recent call last)",
      "\u001b[0;32m<ipython-input-223-50359a45d56d>\u001b[0m in \u001b[0;36m<module>\u001b[0;34m()\u001b[0m\n\u001b[0;32m----> 1\u001b[0;31m \u001b[0mgrad_x\u001b[0m\u001b[0;34m,\u001b[0m \u001b[0mgrad_y\u001b[0m\u001b[0;34m,\u001b[0m \u001b[0mgrad_z\u001b[0m \u001b[0;34m=\u001b[0m \u001b[0mgrad\u001b[0m\u001b[0;34m(\u001b[0m\u001b[0mcube\u001b[0m\u001b[0;34m[\u001b[0m\u001b[0;34m\"con\"\u001b[0m\u001b[0;34m]\u001b[0m\u001b[0;34m)\u001b[0m\u001b[0;34m\u001b[0m\u001b[0m\n\u001b[0m",
      "\u001b[0;32m/home/jwagner/anaconda2/lib/python2.7/site-packages/yt/data_objects/data_containers.pyc\u001b[0m in \u001b[0;36m__getitem__\u001b[0;34m(self, key)\u001b[0m\n\u001b[1;32m    246\u001b[0m         \u001b[0mReturns\u001b[0m \u001b[0ma\u001b[0m \u001b[0msingle\u001b[0m \u001b[0mfield\u001b[0m\u001b[0;34m.\u001b[0m  \u001b[0mWill\u001b[0m \u001b[0madd\u001b[0m \u001b[0;32mif\u001b[0m \u001b[0mnecessary\u001b[0m\u001b[0;34m.\u001b[0m\u001b[0;34m\u001b[0m\u001b[0m\n\u001b[1;32m    247\u001b[0m         \"\"\"\n\u001b[0;32m--> 248\u001b[0;31m         \u001b[0mf\u001b[0m \u001b[0;34m=\u001b[0m \u001b[0mself\u001b[0m\u001b[0;34m.\u001b[0m\u001b[0m_determine_fields\u001b[0m\u001b[0;34m(\u001b[0m\u001b[0;34m[\u001b[0m\u001b[0mkey\u001b[0m\u001b[0;34m]\u001b[0m\u001b[0;34m)\u001b[0m\u001b[0;34m[\u001b[0m\u001b[0;36m0\u001b[0m\u001b[0;34m]\u001b[0m\u001b[0;34m\u001b[0m\u001b[0m\n\u001b[0m\u001b[1;32m    249\u001b[0m         \u001b[0;32mif\u001b[0m \u001b[0mf\u001b[0m \u001b[0;32mnot\u001b[0m \u001b[0;32min\u001b[0m \u001b[0mself\u001b[0m\u001b[0;34m.\u001b[0m\u001b[0mfield_data\u001b[0m \u001b[0;32mand\u001b[0m \u001b[0mkey\u001b[0m \u001b[0;32mnot\u001b[0m \u001b[0;32min\u001b[0m \u001b[0mself\u001b[0m\u001b[0;34m.\u001b[0m\u001b[0mfield_data\u001b[0m\u001b[0;34m:\u001b[0m\u001b[0;34m\u001b[0m\u001b[0m\n\u001b[1;32m    250\u001b[0m             \u001b[0;32mif\u001b[0m \u001b[0mf\u001b[0m \u001b[0;32min\u001b[0m \u001b[0mself\u001b[0m\u001b[0;34m.\u001b[0m\u001b[0m_container_fields\u001b[0m\u001b[0;34m:\u001b[0m\u001b[0;34m\u001b[0m\u001b[0m\n",
      "\u001b[0;32m/home/jwagner/anaconda2/lib/python2.7/site-packages/yt/data_objects/data_containers.pyc\u001b[0m in \u001b[0;36m_determine_fields\u001b[0;34m(self, fields)\u001b[0m\n\u001b[1;32m   1163\u001b[0m             \u001b[0;32melse\u001b[0m\u001b[0;34m:\u001b[0m\u001b[0;34m\u001b[0m\u001b[0m\n\u001b[1;32m   1164\u001b[0m                 \u001b[0mfname\u001b[0m \u001b[0;34m=\u001b[0m \u001b[0mfield\u001b[0m\u001b[0;34m\u001b[0m\u001b[0m\n\u001b[0;32m-> 1165\u001b[0;31m                 \u001b[0mfinfo\u001b[0m \u001b[0;34m=\u001b[0m \u001b[0mself\u001b[0m\u001b[0;34m.\u001b[0m\u001b[0mds\u001b[0m\u001b[0;34m.\u001b[0m\u001b[0m_get_field_info\u001b[0m\u001b[0;34m(\u001b[0m\u001b[0;34m\"unknown\"\u001b[0m\u001b[0;34m,\u001b[0m \u001b[0mfname\u001b[0m\u001b[0;34m)\u001b[0m\u001b[0;34m\u001b[0m\u001b[0m\n\u001b[0m\u001b[1;32m   1166\u001b[0m                 \u001b[0;32mif\u001b[0m \u001b[0mfinfo\u001b[0m\u001b[0;34m.\u001b[0m\u001b[0mparticle_type\u001b[0m\u001b[0;34m:\u001b[0m\u001b[0;34m\u001b[0m\u001b[0m\n\u001b[1;32m   1167\u001b[0m                     \u001b[0mftype\u001b[0m \u001b[0;34m=\u001b[0m \u001b[0mself\u001b[0m\u001b[0;34m.\u001b[0m\u001b[0m_current_particle_type\u001b[0m\u001b[0;34m\u001b[0m\u001b[0m\n",
      "\u001b[0;31mReferenceError\u001b[0m: weakly-referenced object no longer exists"
     ]
    }
   ],
   "source": [
    "grad_x, grad_y, grad_z = grad(cube[\"con\"])"
   ]
  },
  {
   "cell_type": "code",
   "execution_count": null,
   "metadata": {},
   "outputs": [],
   "source": [
    "matshow(cube['con'][32, :, :])"
   ]
  },
  {
   "cell_type": "code",
   "execution_count": null,
   "metadata": {},
   "outputs": [],
   "source": [
    "matshow(grad_z[32, :, 65:])"
   ]
  },
  {
   "cell_type": "code",
   "execution_count": null,
   "metadata": {},
   "outputs": [],
   "source": [
    "matshow(cube['con'][43, :, :])"
   ]
  },
  {
   "cell_type": "code",
   "execution_count": null,
   "metadata": {},
   "outputs": [],
   "source": [
    "matshow(grad_z[43, :, :])"
   ]
  },
  {
   "cell_type": "code",
   "execution_count": null,
   "metadata": {},
   "outputs": [],
   "source": [
    "plot(grad_z[43, 30, :])"
   ]
  },
  {
   "cell_type": "code",
   "execution_count": null,
   "metadata": {},
   "outputs": [],
   "source": [
    "matshow(grad_z[32, :, :])"
   ]
  },
  {
   "cell_type": "code",
   "execution_count": null,
   "metadata": {},
   "outputs": [],
   "source": [
    "matshow(cube['con'][:, :, 45])"
   ]
  },
  {
   "cell_type": "code",
   "execution_count": null,
   "metadata": {},
   "outputs": [],
   "source": [
    "matshow(grad_x[:, :, 45])"
   ]
  },
  {
   "cell_type": "code",
   "execution_count": null,
   "metadata": {},
   "outputs": [],
   "source": [
    "def sphere_coord(i_x, i_y, i_z, dr=dx, r_c=centre_colloid):\n",
    "    x = (i_x + 0.5)*dr[0] - r_c[0]\n",
    "    y = (i_y + 0.5)*dr[1] - r_c[1]\n",
    "    z = (i_z + 0.5)*dr[2] - r_c[2]\n",
    "    \n",
    "    r     = np.sqrt( x**2 + y**2 + z**2)\n",
    "    theta = np.arccos(z/r)\n",
    "    phi   = np.arctan2(y, x)\n",
    "        \n",
    "    return r, theta, phi\n",
    "\n",
    "def r_unit(theta, phi):\n",
    "    return np.array([\n",
    "        np.sin(theta)*np.cos(phi),\n",
    "        np.sin(theta)*np.sin(phi),\n",
    "        np.cos(theta)\n",
    "    ])\n",
    "\n",
    "def theta_unit(theta, phi):\n",
    "    return np.array([\n",
    "        np.cos(theta)*np.cos(phi),\n",
    "        np.cos(theta)*np.sin(phi),\n",
    "       -np.sin(theta)\n",
    "    ])\n",
    "\n",
    "def phi_unit(phi):\n",
    "    return np.array([\n",
    "       -np.sin(phi),\n",
    "        np.cos(phi),\n",
    "        0\n",
    "    ])"
   ]
  },
  {
   "cell_type": "code",
   "execution_count": null,
   "metadata": {},
   "outputs": [],
   "source": [
    "def grad_sphere(grad_x, grad_y, grad_z):\n",
    "    grad_r     = np.zeros_like(grad_x)\n",
    "    grad_phi   = np.zeros_like(grad_y)\n",
    "    grad_theta = np.zeros_like(grad_z)\n",
    "    \n",
    "    r_dat     = np.zeros_like(grad_x)\n",
    "    phi_dat   = np.zeros_like(grad_x)\n",
    "    theta_dat = np.zeros_like(grad_x)\n",
    "    \n",
    "    for ind, x in ndenumerate(grad_x):\n",
    "        y = grad_y[ind]\n",
    "        z = grad_z[ind]\n",
    "        \n",
    "        r, theta, phi = sphere_coord(ind[0], ind[1], ind[2])\n",
    "        r_vec     = r_unit(theta, phi)\n",
    "        theta_vec = theta_unit(theta, phi)\n",
    "        phi_vec   = phi_unit(phi)\n",
    "        \n",
    "        grad_r[ind]     = np.dot(np.array([x, y, z]), r_vec)\n",
    "        grad_phi[ind]   = np.dot(np.array([x, y, z]), phi_vec)\n",
    "        grad_theta[ind] = np.dot(np.array([x, y, z]), theta_vec)\n",
    "        \n",
    "        r_dat[ind]     = r\n",
    "        phi_dat[ind]   = phi\n",
    "        theta_dat[ind] = theta\n",
    "        \n",
    "    return np.array(grad_r), np.array(grad_phi), np.array(grad_theta), r_dat, phi_dat, theta_dat"
   ]
  },
  {
   "cell_type": "code",
   "execution_count": null,
   "metadata": {},
   "outputs": [],
   "source": [
    "grad_r, grad_phi, grad_theta, r_dat, phi_dat, theta_dat = grad_sphere(grad_x, grad_y, grad_z)"
   ]
  },
  {
   "cell_type": "code",
   "execution_count": null,
   "metadata": {},
   "outputs": [],
   "source": [
    "matshow(r_dat[32, :, :])"
   ]
  },
  {
   "cell_type": "code",
   "execution_count": null,
   "metadata": {},
   "outputs": [],
   "source": [
    "matshow(phi_dat[32, :, :])"
   ]
  },
  {
   "cell_type": "code",
   "execution_count": null,
   "metadata": {},
   "outputs": [],
   "source": [
    "matshow(theta_dat[32, :, :])"
   ]
  },
  {
   "cell_type": "code",
   "execution_count": null,
   "metadata": {},
   "outputs": [],
   "source": [
    "matshow(grad_norm[43, :, :])"
   ]
  },
  {
   "cell_type": "code",
   "execution_count": null,
   "metadata": {},
   "outputs": [],
   "source": [
    "matshow(grad_phi[45, :, :])"
   ]
  },
  {
   "cell_type": "code",
   "execution_count": null,
   "metadata": {},
   "outputs": [],
   "source": [
    "matshow(grad_theta[45, :, :])"
   ]
  },
  {
   "cell_type": "code",
   "execution_count": null,
   "metadata": {},
   "outputs": [],
   "source": [
    "plot(grad_theta[45, 32, :])\n",
    "plot(grad_phi[45, 40, :])"
   ]
  },
  {
   "cell_type": "code",
   "execution_count": null,
   "metadata": {},
   "outputs": [],
   "source": [
    "plot(grad_theta[45, 40, :])\n",
    "plot(grad_phi[45, 40, :])"
   ]
  },
  {
   "cell_type": "code",
   "execution_count": null,
   "metadata": {},
   "outputs": [],
   "source": [
    "matshow(grad_theta[:, :, 60])"
   ]
  },
  {
   "cell_type": "code",
   "execution_count": null,
   "metadata": {},
   "outputs": [],
   "source": [
    "matshow(grad_phi[:, :, 60])"
   ]
  },
  {
   "cell_type": "code",
   "execution_count": null,
   "metadata": {},
   "outputs": [],
   "source": [
    "matshow(cube['con'][:, :, 60])"
   ]
  },
  {
   "cell_type": "code",
   "execution_count": null,
   "metadata": {},
   "outputs": [],
   "source": [
    "matshow(r_dat[:, :, 60])"
   ]
  },
  {
   "cell_type": "code",
   "execution_count": null,
   "metadata": {},
   "outputs": [],
   "source": [
    "matshow(theta_dat[:, :, 60])"
   ]
  },
  {
   "cell_type": "code",
   "execution_count": null,
   "metadata": {},
   "outputs": [],
   "source": [
    "matshow(phi_dat[:, :, 60])"
   ]
  },
  {
   "cell_type": "code",
   "execution_count": null,
   "metadata": {},
   "outputs": [],
   "source": [
    "def scan_theta(r, phi, theta_range, grad_x, grad_y, grad_z, r_c=centre_colloid, dr=dx):\n",
    "    scan = np.zeros_like(theta_range)\n",
    "    \n",
    "    for i, theta in enumerate(theta_range):\n",
    "        x = r_c[0] + r * np.sin(theta)*np.cos(phi)\n",
    "        y = r_c[1] + r * np.sin(theta)*np.sin(phi)\n",
    "        z = r_c[2] + r * np.cos(theta)\n",
    "                \n",
    "        i_x = int(x / dx[0])\n",
    "        i_y = int(y / dx[1])\n",
    "        i_z = int(z / dx[2])\n",
    "        \n",
    "        dphi_x = grad_x[i_x, i_y, i_z]\n",
    "        dphi_y = grad_y[i_x, i_y, i_z]\n",
    "        dphi_z = grad_z[i_x, i_y, i_z]\n",
    "        \n",
    "        e_theta = theta_unit(theta, phi)\n",
    "        scan[i] = np.dot(np.array([dphi_x, dphi_y, dphi_z]), -e_theta)\n",
    "    \n",
    "    return scan"
   ]
  },
  {
   "cell_type": "code",
   "execution_count": null,
   "metadata": {},
   "outputs": [],
   "source": [
    "x = np.linspace(0, np.pi, num=100)\n",
    "y_1 = scan_theta(1.4e-3, 0.0, x, grad_x, grad_y, grad_z)\n",
    "y_2 = scan_theta(1.4e-3, 0.5, x, grad_x, grad_y, grad_z)\n",
    "y_3 = scan_theta(1.4e-3, 1, x, grad_x, grad_y, grad_z)"
   ]
  },
  {
   "cell_type": "code",
   "execution_count": null,
   "metadata": {},
   "outputs": [],
   "source": [
    "plot(np.pi-x, y_1)\n",
    "plot(np.pi-x, y_2)\n",
    "plot(np.pi-x, y_3)"
   ]
  },
  {
   "cell_type": "code",
   "execution_count": null,
   "metadata": {},
   "outputs": [],
   "source": [
    "y"
   ]
  },
  {
   "cell_type": "code",
   "execution_count": null,
   "metadata": {},
   "outputs": [],
   "source": [
    "sel = np.abs(r_dat - 1.1e-3) < 1e-3\n",
    "sum(sel)"
   ]
  },
  {
   "cell_type": "code",
   "execution_count": null,
   "metadata": {},
   "outputs": [],
   "source": [
    "theta_sel = theta_dat[sel]\n",
    "phi_sel   = phi_dat[sel]\n",
    "\n",
    "grad_norm_sel  = grad_norm[sel]\n",
    "grad_phi_sel   = grad_phi[sel]\n",
    "grad_theta_sel = grad_theta[sel]"
   ]
  },
  {
   "cell_type": "code",
   "execution_count": null,
   "metadata": {},
   "outputs": [],
   "source": [
    "phi_selector = np.abs(phi_sel - 0.6) < 1e-3\n",
    "sum(phi_selector)"
   ]
  },
  {
   "cell_type": "code",
   "execution_count": null,
   "metadata": {},
   "outputs": [],
   "source": [
    "sorted_pts = np.array(sorted(zip(theta_sel[phi_selector], grad_theta_sel[phi_selector])))"
   ]
  },
  {
   "cell_type": "code",
   "execution_count": null,
   "metadata": {},
   "outputs": [],
   "source": [
    "plot(sorted_pts[:,0], sorted_pts[:,1])"
   ]
  },
  {
   "cell_type": "code",
   "execution_count": null,
   "metadata": {},
   "outputs": [],
   "source": [
    "plot(theta_sel[:100])"
   ]
  },
  {
   "cell_type": "code",
   "execution_count": null,
   "metadata": {},
   "outputs": [],
   "source": []
  },
  {
   "cell_type": "code",
   "execution_count": null,
   "metadata": {},
   "outputs": [],
   "source": []
  },
  {
   "cell_type": "code",
   "execution_count": null,
   "metadata": {},
   "outputs": [],
   "source": []
  },
  {
   "cell_type": "code",
   "execution_count": null,
   "metadata": {},
   "outputs": [],
   "source": []
  },
  {
   "cell_type": "code",
   "execution_count": null,
   "metadata": {},
   "outputs": [],
   "source": []
  },
  {
   "cell_type": "code",
   "execution_count": null,
   "metadata": {},
   "outputs": [],
   "source": []
  },
  {
   "cell_type": "code",
   "execution_count": null,
   "metadata": {},
   "outputs": [],
   "source": []
  },
  {
   "cell_type": "code",
   "execution_count": null,
   "metadata": {},
   "outputs": [],
   "source": []
  },
  {
   "cell_type": "code",
   "execution_count": null,
   "metadata": {},
   "outputs": [],
   "source": []
  },
  {
   "cell_type": "code",
   "execution_count": null,
   "metadata": {},
   "outputs": [],
   "source": []
  },
  {
   "cell_type": "code",
   "execution_count": null,
   "metadata": {},
   "outputs": [],
   "source": []
  },
  {
   "cell_type": "code",
   "execution_count": null,
   "metadata": {},
   "outputs": [],
   "source": []
  },
  {
   "cell_type": "code",
   "execution_count": null,
   "metadata": {},
   "outputs": [],
   "source": []
  },
  {
   "cell_type": "code",
   "execution_count": null,
   "metadata": {},
   "outputs": [],
   "source": []
  },
  {
   "cell_type": "code",
   "execution_count": null,
   "metadata": {},
   "outputs": [],
   "source": []
  }
 ],
 "metadata": {
  "kernelspec": {
   "display_name": "Python 2",
   "language": "python",
   "name": "python2"
  },
  "language_info": {
   "codemirror_mode": {
    "name": "ipython",
    "version": 2
   },
   "file_extension": ".py",
   "mimetype": "text/x-python",
   "name": "python",
   "nbconvert_exporter": "python",
   "pygments_lexer": "ipython2",
   "version": "2.7.16"
  }
 },
 "nbformat": 4,
 "nbformat_minor": 4
}
