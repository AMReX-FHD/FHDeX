{
 "cells": [
  {
   "cell_type": "code",
   "execution_count": 191,
   "metadata": {},
   "outputs": [],
   "source": [
    "import sys, os, os.path\n",
    "import glob\n",
    "import math"
   ]
  },
  {
   "cell_type": "code",
   "execution_count": 192,
   "metadata": {},
   "outputs": [],
   "source": [
    "import scipy as sp\n",
    "import numpy as np\n",
    "\n",
    "import matplotlib\n",
    "import matplotlib.pyplot as pp\n"
   ]
  },
  {
   "cell_type": "code",
   "execution_count": 193,
   "metadata": {},
   "outputs": [],
   "source": [
    "#import yt\n",
    "#from yt.frontends.boxlib.data_structures import AMReXDataset"
   ]
  },
  {
   "cell_type": "code",
   "execution_count": 194,
   "metadata": {},
   "outputs": [],
   "source": [
    "#%pylab inline"
   ]
  },
  {
   "cell_type": "code",
   "execution_count": 195,
   "metadata": {},
   "outputs": [
    {
     "name": "stdout",
     "output_type": "stream",
     "text": [
      "0\n",
      "1\n",
      "2\n",
      "3\n",
      "4\n",
      "5\n",
      "[-0.5, -0.3, -0.09999999999999998, 0.10000000000000009, 0.30000000000000004, 0.5]\n"
     ]
    }
   ],
   "source": [
    "num_dir=6;\n",
    "scale_fact=[];\n",
    "maxSGrad=[];\n",
    "maxVel=[];\n",
    "maxzVel=[];\n",
    "\n",
    "start=-0.5\n",
    "for i in range(num_dir):\n",
    "    print (i)\n",
    "    #if ((start+0.2*i)<0) :\n",
    "    scale_fact.append(start+0.2*i)\n",
    "    sf=scale_fact[i]\n",
    "    #else :\n",
    "    #    sf=start+0.2*i\n",
    "    data_root = \"/home/malvarado/FHDeX/exec/immersed_boundary/\"\n",
    "    \n",
    "    data_dir  = \"channel_soft\"\n",
    "    #print(data_dir)\n",
    "    data_path = os.path.join(data_root, data_dir)\n",
    "    name = \"ft_postprocess%0.2f.txt\" % sf\n",
    "    f = open(name)\n",
    "    #print(scale_fact[i])\n",
    "#for line in f:\n",
    "    #if is_number('line')\n",
    "    a=f.readlines()\n",
    "    #print(a[1])\n",
    "    #scale_fact.append(float(a[1][1:5]))\n",
    "    maxSGrad.append(float(a[3][1:9]))\n",
    "    maxVel.append(float(a[5][1:9]))\n",
    "    maxzVel.append(float(a[7][1:9]))\n",
    "    #print(a)\n",
    "    #a1[2:end-1]\n",
    "    f.close()\n",
    "print(scale_fact)\n",
    "#print(a2)\n",
    "#print(a3)\n",
    "#print(a)"
   ]
  },
  {
   "cell_type": "code",
   "execution_count": 196,
   "metadata": {},
   "outputs": [
    {
     "name": "stdout",
     "output_type": "stream",
     "text": [
      "-0.55\n",
      "0.55\n",
      "0.02355477\n",
      "0.03160523\n"
     ]
    },
    {
     "data": {
      "image/png": "[encoded data removed]",
      "text/plain": [
       "<Figure size 432x288 with 1 Axes>"
      ]
     },
     "metadata": {
      "needs_background": "light"
     },
     "output_type": "display_data"
    }
   ],
   "source": [
    "pp.plot(scale_fact,maxSGrad, \"o\")\n",
    "pp.xlabel('scaling factor')\n",
    "pp.ylabel('max surface gradient')\n",
    "pp.title('Max Surface Gradient Magnitude')\n",
    "\n",
    "x1,x2,y1,y2 = pp.axis()\n",
    "\n",
    "print(x1)\n",
    "print(x2)\n",
    "print(y1)\n",
    "print(y2)\n",
    "\n",
    "#pp.axis(x1,x2,y1, y2)\n",
    "#pp.ylim(y1-2,y2+2)\n",
    "#print(maxSGrad)\n",
    "pp.xticks(np.arange(min(scale_fact)-0.1, max(scale_fact)+0.1, 0.1))\n",
    "\n",
    "pp.yticks(np.arange(min(maxSGrad)-0.01, max(maxSGrad)+0.01, 0.01))\n",
    "#pp.ylim(-1.0,2.0)\n",
    "#axes = pp.gca()\n",
    "#axes.set_xlim([-1.0, 2.0])\n",
    "#axes.set_ylim([ymin,ymax])\n",
    "pp.show()\n",
    "#axes.set_ylim([0, 0.04])"
   ]
  },
  {
   "cell_type": "code",
   "execution_count": 188,
   "metadata": {},
   "outputs": [
    {
     "data": {
      "text/plain": [
       "([<matplotlib.axis.YTick at 0x7f1af88609b0>,\n",
       "  <matplotlib.axis.YTick at 0x7f1af88602e8>,\n",
       "  <matplotlib.axis.YTick at 0x7f1af884a4e0>,\n",
       "  <matplotlib.axis.YTick at 0x7f1af88014e0>,\n",
       "  <matplotlib.axis.YTick at 0x7f1af8810860>,\n",
       "  <matplotlib.axis.YTick at 0x7f1af8810d68>,\n",
       "  <matplotlib.axis.YTick at 0x7f1af88192b0>,\n",
       "  <matplotlib.axis.YTick at 0x7f1af88197b8>,\n",
       "  <matplotlib.axis.YTick at 0x7f1af8819cc0>,\n",
       "  <matplotlib.axis.YTick at 0x7f1af8822208>,\n",
       "  <matplotlib.axis.YTick at 0x7f1af8822710>,\n",
       "  <matplotlib.axis.YTick at 0x7f1af8819780>,\n",
       "  <matplotlib.axis.YTick at 0x7f1af8810908>,\n",
       "  <matplotlib.axis.YTick at 0x7f1af88228d0>,\n",
       "  <matplotlib.axis.YTick at 0x7f1af88226d8>,\n",
       "  <matplotlib.axis.YTick at 0x7f1af882b518>,\n",
       "  <matplotlib.axis.YTick at 0x7f1af882ba20>,\n",
       "  <matplotlib.axis.YTick at 0x7f1af882bf28>,\n",
       "  <matplotlib.axis.YTick at 0x7f1af8831470>,\n",
       "  <matplotlib.axis.YTick at 0x7f1af8831978>,\n",
       "  <matplotlib.axis.YTick at 0x7f1af8831e80>],\n",
       " <a list of 21 Text yticklabel objects>)"
      ]
     },
     "execution_count": 188,
     "metadata": {},
     "output_type": "execute_result"
    },
    {
     "data": {
      "image/png": "[encoded data removed]",
      "text/plain": [
       "<Figure size 432x288 with 1 Axes>"
      ]
     },
     "metadata": {
      "needs_background": "light"
     },
     "output_type": "display_data"
    }
   ],
   "source": [
    "pp.plot(scale_fact,maxVel, \"o\")\n",
    "pp.xlabel('scaling factor')\n",
    "pp.ylabel('max velocity')\n",
    "pp.title('Max Velocity Magnitude Outside of IB')\n",
    "pp.xticks(np.arange(min(scale_fact)-0.1, max(scale_fact)+0.1, 0.1))\n",
    "\n",
    "pp.yticks(np.arange(0, max(maxVel)+0.01, 0.01))"
   ]
  },
  {
   "cell_type": "code",
   "execution_count": 189,
   "metadata": {},
   "outputs": [
    {
     "data": {
      "text/plain": [
       "([<matplotlib.axis.YTick at 0x7f1af88dd198>,\n",
       "  <matplotlib.axis.YTick at 0x7f1af87e5550>,\n",
       "  <matplotlib.axis.YTick at 0x7f1af87df550>,\n",
       "  <matplotlib.axis.YTick at 0x7f1af8792518>,\n",
       "  <matplotlib.axis.YTick at 0x7f1af8792cf8>,\n",
       "  <matplotlib.axis.YTick at 0x7f1af879c240>,\n",
       "  <matplotlib.axis.YTick at 0x7f1af879c748>,\n",
       "  <matplotlib.axis.YTick at 0x7f1af879cc18>,\n",
       "  <matplotlib.axis.YTick at 0x7f1af87a4198>,\n",
       "  <matplotlib.axis.YTick at 0x7f1af87a4668>,\n",
       "  <matplotlib.axis.YTick at 0x7f1af87a4b70>,\n",
       "  <matplotlib.axis.YTick at 0x7f1af879c7f0>,\n",
       "  <matplotlib.axis.YTick at 0x7f1af87827b8>,\n",
       "  <matplotlib.axis.YTick at 0x7f1af87a4128>,\n",
       "  <matplotlib.axis.YTick at 0x7f1af87ad400>,\n",
       "  <matplotlib.axis.YTick at 0x7f1af87ad908>,\n",
       "  <matplotlib.axis.YTick at 0x7f1af87ade10>,\n",
       "  <matplotlib.axis.YTick at 0x7f1af87b4358>,\n",
       "  <matplotlib.axis.YTick at 0x7f1af87b4860>,\n",
       "  <matplotlib.axis.YTick at 0x7f1af87b4d68>,\n",
       "  <matplotlib.axis.YTick at 0x7f1af87b47b8>],\n",
       " <a list of 21 Text yticklabel objects>)"
      ]
     },
     "execution_count": 189,
     "metadata": {},
     "output_type": "execute_result"
    },
    {
     "data": {
      "image/png": "[encoded data removed]",
      "text/plain": [
       "<Figure size 432x288 with 1 Axes>"
      ]
     },
     "metadata": {
      "needs_background": "light"
     },
     "output_type": "display_data"
    }
   ],
   "source": [
    "pp.plot(scale_fact,maxzVel, \"o\")\n",
    "pp.xlabel('scaling factor')\n",
    "pp.ylabel('max z velocity')\n",
    "pp.title('Max Z componet of Velocity Outside of IB')\n",
    "pp.xticks(np.arange(min(scale_fact)-0.1, max(scale_fact)+0.1, 0.1))\n",
    "\n",
    "pp.yticks(np.arange(0, max(maxzVel)+0.01, 0.01))"
   ]
  },
  {
   "cell_type": "code",
   "execution_count": 181,
   "metadata": {},
   "outputs": [
    {
     "ename": "FileNotFoundError",
     "evalue": "[Errno 2] No such file or directory: 'ft_pp.txt'",
     "output_type": "error",
     "traceback": [
      "\u001b[0;31m---------------------------------------------------------------------------\u001b[0m",
      "\u001b[0;31mFileNotFoundError\u001b[0m                         Traceback (most recent call last)",
      "\u001b[0;32m<ipython-input-181-6027a889cc23>\u001b[0m in \u001b[0;36m<module>\u001b[0;34m\u001b[0m\n\u001b[1;32m      1\u001b[0m \u001b[0;31m#data_files\u001b[0m\u001b[0;34m\u001b[0m\u001b[0;34m\u001b[0m\u001b[0;34m\u001b[0m\u001b[0m\n\u001b[1;32m      2\u001b[0m \u001b[0;34m\u001b[0m\u001b[0m\n\u001b[0;32m----> 3\u001b[0;31m \u001b[0mf\u001b[0m \u001b[0;34m=\u001b[0m \u001b[0mopen\u001b[0m\u001b[0;34m(\u001b[0m\u001b[0;34m\"ft_pp.txt\"\u001b[0m\u001b[0;34m)\u001b[0m\u001b[0;34m\u001b[0m\u001b[0;34m\u001b[0m\u001b[0m\n\u001b[0m\u001b[1;32m      4\u001b[0m \u001b[0;31m#for line in f:\u001b[0m\u001b[0;34m\u001b[0m\u001b[0;34m\u001b[0m\u001b[0;34m\u001b[0m\u001b[0m\n\u001b[1;32m      5\u001b[0m     \u001b[0;31m#if is_number('line')\u001b[0m\u001b[0;34m\u001b[0m\u001b[0;34m\u001b[0m\u001b[0;34m\u001b[0m\u001b[0m\n",
      "\u001b[0;31mFileNotFoundError\u001b[0m: [Errno 2] No such file or directory: 'ft_pp.txt'"
     ]
    }
   ],
   "source": [
    "#data_files\n",
    "\n",
    "f = open(\"ft_pp.txt\")\n",
    "#for line in f:\n",
    "    #if is_number('line')\n",
    "a=f.readlines()\n",
    "f.close()"
   ]
  },
  {
   "cell_type": "code",
   "execution_count": 8,
   "metadata": {},
   "outputs": [],
   "source": [
    "# to stitch together the movie:\n",
    "#    ffmpeg -pattern_type glob -i \"frame_*.png\" movie.mpeg"
   ]
  },
  {
   "cell_type": "code",
   "execution_count": 9,
   "metadata": {},
   "outputs": [
    {
     "data": {
      "text/plain": [
       "[' max surface gradient\\n',\n",
       " '0.0231533\\n',\n",
       " ' max  velocity \\n',\n",
       " '0.00907569\\n',\n",
       " ' max  z velocity \\n',\n",
       " '0.00858934\\n']"
      ]
     },
     "execution_count": 9,
     "metadata": {},
     "output_type": "execute_result"
    }
   ],
   "source": [
    "a"
   ]
  },
  {
   "cell_type": "code",
   "execution_count": 306,
   "metadata": {},
   "outputs": [
    {
     "data": {
      "text/plain": [
       "[('boxlib', 'C'),\n",
       " ('boxlib', 'averaged_velx'),\n",
       " ('boxlib', 'averaged_vely'),\n",
       " ('boxlib', 'averaged_velz'),\n",
       " ('boxlib', 'dCdx'),\n",
       " ('boxlib', 'dCdx_cen'),\n",
       " ('boxlib', 'dCdy'),\n",
       " ('boxlib', 'dCdy_cen'),\n",
       " ('boxlib', 'dCdz'),\n",
       " ('boxlib', 'dCdz_cen'),\n",
       " ('boxlib', 'divergence'),\n",
       " ('boxlib', 'force_ibm_x'),\n",
       " ('boxlib', 'force_ibm_y'),\n",
       " ('boxlib', 'force_ibm_z'),\n",
       " ('boxlib', 'pres'),\n",
       " ('boxlib', 'shifted_force_ibm_x'),\n",
       " ('boxlib', 'shifted_force_ibm_y'),\n",
       " ('boxlib', 'shifted_force_ibm_z'),\n",
       " ('boxlib', 'shifted_velx'),\n",
       " ('boxlib', 'shifted_vely'),\n",
       " ('boxlib', 'shifted_velz'),\n",
       " ('boxlib', 'tracer'),\n",
       " ('boxlib', '|Dc|')]"
      ]
     },
     "execution_count": 306,
     "metadata": {},
     "output_type": "execute_result"
    }
   ],
   "source": [
    "ds.field_list"
   ]
  },
  {
   "cell_type": "code",
   "execution_count": 15,
   "metadata": {},
   "outputs": [
    {
     "name": "stderr",
     "output_type": "stream",
     "text": [
      "yt : [INFO     ] 2019-08-01 14:22:00,731 Parameters: current_time              = 0.0\n",
      "yt : [INFO     ] 2019-08-01 14:22:00,732 Parameters: domain_dimensions         = [32 32 32]\n",
      "yt : [INFO     ] 2019-08-01 14:22:00,733 Parameters: domain_left_edge          = [0. 0. 0.]\n",
      "yt : [INFO     ] 2019-08-01 14:22:00,734 Parameters: domain_right_edge         = [1. 1. 1.]\n"
     ]
    },
    {
     "ename": "AttributeError",
     "evalue": "'BoxlibDataset' object has no attribute 'averaged_velz'",
     "output_type": "error",
     "traceback": [
      "\u001b[0;31m---------------------------------------------------------------------------\u001b[0m",
      "\u001b[0;31mAttributeError\u001b[0m                            Traceback (most recent call last)",
      "\u001b[0;32m<ipython-input-15-b7045c51a6d0>\u001b[0m in \u001b[0;36m<module>\u001b[0;34m\u001b[0m\n\u001b[1;32m      6\u001b[0m     \u001b[0;31m#sc.render()\u001b[0m\u001b[0;34m\u001b[0m\u001b[0;34m\u001b[0m\u001b[0;34m\u001b[0m\u001b[0m\n\u001b[1;32m      7\u001b[0m     \u001b[0mds\u001b[0m \u001b[0;34m=\u001b[0m \u001b[0myt\u001b[0m\u001b[0;34m.\u001b[0m\u001b[0mload\u001b[0m\u001b[0;34m(\u001b[0m\u001b[0mdata_files\u001b[0m\u001b[0;34m[\u001b[0m\u001b[0mi\u001b[0m\u001b[0;34m]\u001b[0m\u001b[0;34m)\u001b[0m\u001b[0;34m\u001b[0m\u001b[0;34m\u001b[0m\u001b[0m\n\u001b[0;32m----> 8\u001b[0;31m     \u001b[0mav\u001b[0m\u001b[0;34m=\u001b[0m\u001b[0mds\u001b[0m\u001b[0;34m.\u001b[0m\u001b[0maveraged_velz\u001b[0m\u001b[0;34m;\u001b[0m\u001b[0;34m\u001b[0m\u001b[0;34m\u001b[0m\u001b[0m\n\u001b[0m\u001b[1;32m      9\u001b[0m     \u001b[0mmax_magDC\u001b[0m\u001b[0;34m[\u001b[0m\u001b[0mi\u001b[0m\u001b[0;34m]\u001b[0m\u001b[0;34m=\u001b[0m \u001b[0maveraged_velz\u001b[0m\u001b[0;34m.\u001b[0m\u001b[0mmax\u001b[0m\u001b[0;34m(\u001b[0m\u001b[0;36m0\u001b[0m\u001b[0;34m)\u001b[0m\u001b[0;34m;\u001b[0m \u001b[0;31m#ds.max(\"|Dc|\")\u001b[0m\u001b[0;34m\u001b[0m\u001b[0;34m\u001b[0m\u001b[0m\n\u001b[1;32m     10\u001b[0m     \u001b[0mmax_magW\u001b[0m\u001b[0;34m[\u001b[0m\u001b[0mi\u001b[0m\u001b[0;34m]\u001b[0m\u001b[0;34m=\u001b[0m \u001b[0mds\u001b[0m\u001b[0;34m.\u001b[0m\u001b[0mmax\u001b[0m\u001b[0;34m(\u001b[0m\u001b[0;34m\"averaged_velz\"\u001b[0m\u001b[0;34m)\u001b[0m\u001b[0;34m\u001b[0m\u001b[0;34m\u001b[0m\u001b[0m\n",
      "\u001b[0;31mAttributeError\u001b[0m: 'BoxlibDataset' object has no attribute 'averaged_velz'"
     ]
    }
   ],
   "source": [
    "num_frames = 60\n",
    "max_magDC=[];\n",
    "max_magW=[];\n",
    "for i in range(num_frames):\n",
    "    #cam.rotate(2.0*np.pi/num_frames)\n",
    "    #sc.render()\n",
    "    ds = yt.load(data_files[i])\n",
    "    av=ds.averaged_velz;\n",
    "    max_magDC[i]= averaged_velz.max(0); #ds.max(\"|Dc|\")\n",
    "    max_magW[i]= ds.max(\"averaged_velz\")\n",
    "    \n",
    "    "
   ]
  },
  {
   "cell_type": "code",
   "execution_count": null,
   "metadata": {},
   "outputs": [],
   "source": []
  },
  {
   "cell_type": "code",
   "execution_count": null,
   "metadata": {},
   "outputs": [],
   "source": []
  },
  {
   "cell_type": "code",
   "execution_count": null,
   "metadata": {},
   "outputs": [],
   "source": []
  },
  {
   "cell_type": "code",
   "execution_count": null,
   "metadata": {
    "scrolled": true
   },
   "outputs": [],
   "source": []
  },
  {
   "cell_type": "code",
   "execution_count": null,
   "metadata": {},
   "outputs": [],
   "source": []
  },
  {
   "cell_type": "code",
   "execution_count": null,
   "metadata": {
    "scrolled": true
   },
   "outputs": [],
   "source": []
  },
  {
   "cell_type": "code",
   "execution_count": null,
   "metadata": {
    "scrolled": true
   },
   "outputs": [],
   "source": []
  },
  {
   "cell_type": "code",
   "execution_count": null,
   "metadata": {},
   "outputs": [],
   "source": []
  },
  {
   "cell_type": "code",
   "execution_count": null,
   "metadata": {},
   "outputs": [],
   "source": []
  },
  {
   "cell_type": "code",
   "execution_count": null,
   "metadata": {},
   "outputs": [],
   "source": []
  },
  {
   "cell_type": "code",
   "execution_count": null,
   "metadata": {},
   "outputs": [],
   "source": []
  },
  {
   "cell_type": "code",
   "execution_count": null,
   "metadata": {},
   "outputs": [],
   "source": []
  },
  {
   "cell_type": "code",
   "execution_count": null,
   "metadata": {},
   "outputs": [],
   "source": []
  },
  {
   "cell_type": "code",
   "execution_count": null,
   "metadata": {},
   "outputs": [],
   "source": []
  },
  {
   "cell_type": "code",
   "execution_count": null,
   "metadata": {},
   "outputs": [],
   "source": []
  },
  {
   "cell_type": "code",
   "execution_count": null,
   "metadata": {},
   "outputs": [],
   "source": []
  },
  {
   "cell_type": "code",
   "execution_count": null,
   "metadata": {},
   "outputs": [],
   "source": []
  },
  {
   "cell_type": "code",
   "execution_count": null,
   "metadata": {},
   "outputs": [],
   "source": []
  }
 ],
 "metadata": {
  "kernelspec": {
   "display_name": "Python 3",
   "language": "python",
   "name": "python3"
  },
  "language_info": {
   "codemirror_mode": {
    "name": "ipython",
    "version": 3
   },
   "file_extension": ".py",
   "mimetype": "text/x-python",
   "name": "python",
   "nbconvert_exporter": "python",
   "pygments_lexer": "ipython3",
   "version": "3.7.3"
  }
 },
 "nbformat": 4,
 "nbformat_minor": 2
}
