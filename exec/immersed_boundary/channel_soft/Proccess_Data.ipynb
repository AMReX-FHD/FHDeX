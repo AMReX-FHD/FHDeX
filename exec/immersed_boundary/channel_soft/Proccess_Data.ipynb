{
 "cells": [
  {
   "cell_type": "code",
   "execution_count": 57,
   "metadata": {},
   "outputs": [],
   "source": [
    "import sys, os, os.path\n",
    "import glob\n",
    "import math"
   ]
  },
  {
   "cell_type": "code",
   "execution_count": 58,
   "metadata": {},
   "outputs": [],
   "source": [
    "import scipy as sp\n",
    "import numpy as np\n",
    "\n",
    "import matplotlib\n",
    "import matplotlib.pyplot as pp\n"
   ]
  },
  {
   "cell_type": "code",
   "execution_count": 59,
   "metadata": {},
   "outputs": [],
   "source": [
    "#import yt\n",
    "#from yt.frontends.boxlib.data_structures import AMReXDataset"
   ]
  },
  {
   "cell_type": "code",
   "execution_count": 60,
   "metadata": {},
   "outputs": [],
   "source": [
    "#%pylab inline"
   ]
  },
  {
   "cell_type": "code",
   "execution_count": 65,
   "metadata": {},
   "outputs": [
    {
     "name": "stdout",
     "output_type": "stream",
     "text": [
      "SF_-0.10\n",
      "-0.1\n",
      "[0.0333927]\n",
      "SF_0.10\n",
      "0.1\n",
      "[0.0333927, 0.0333927]\n",
      "SF_0.20\n",
      "0.20000000000000004\n",
      "[0.0333927, 0.0333927, 0.0333927]\n",
      "[0.0333927, 0.0333927, 0.0333927]\n",
      "[0.0776882, 0.0776882, 0.0776882]\n",
      "[0.0373583, 0.0373583, 0.0373583]\n"
     ]
    }
   ],
   "source": [
    "num_dir=3;\n",
    "scale_fact=[];\n",
    "a1=[];\n",
    "a2=[];\n",
    "a3=[];\n",
    "start=-0.1\n",
    "for i in range(num_dir):\n",
    "    \n",
    "    if ((start+0.1*i)<0) :\n",
    "        scale_fact.append(start+0.1*i)\n",
    "    else :\n",
    "        scale_fact.append(start+0.1*(i+1))\n",
    "    \n",
    "    data_root = \"/home/malvarado/FHDeX/exec/immersed_boundary/channel_soft/Vary_SF\"\n",
    "    \n",
    "    data_dir  = \"SF_%0.2f\" % scale_fact[i]\n",
    "    print(data_dir)\n",
    "    data_path = os.path.join(data_root, data_dir)\n",
    "    \n",
    "    f = open(\"ft_pp.txt\")\n",
    "    print(scale_fact[i])\n",
    "#for line in f:\n",
    "    #if is_number('line')\n",
    "    a=f.readlines()\n",
    "    a1.append(float(a[1][1:9]))\n",
    "    a2.append(float(a[3][1:9]))\n",
    "    a3.append(float(a[5][1:9]))\n",
    "    print(a1)\n",
    "    #a1[2:end-1]\n",
    "    f.close()\n",
    "print(a1)\n",
    "print(a2)\n",
    "print(a3)"
   ]
  },
  {
   "cell_type": "code",
   "execution_count": 55,
   "metadata": {},
   "outputs": [
    {
     "data": {
      "text/plain": [
       "[<matplotlib.lines.Line2D at 0x7f7f53e28748>]"
      ]
     },
     "execution_count": 55,
     "metadata": {},
     "output_type": "execute_result"
    },
    {
     "data": {
      "image/png": "[encoded data removed]",
      "text/plain": [
       "<Figure size 432x288 with 1 Axes>"
      ]
     },
     "metadata": {
      "needs_background": "light"
     },
     "output_type": "display_data"
    }
   ],
   "source": [
    "pp.plot(scale_fact,a2, \"o\")"
   ]
  },
  {
   "cell_type": "code",
   "execution_count": 78,
   "metadata": {},
   "outputs": [],
   "source": []
  },
  {
   "cell_type": "code",
   "execution_count": 79,
   "metadata": {},
   "outputs": [],
   "source": []
  },
  {
   "cell_type": "code",
   "execution_count": 7,
   "metadata": {},
   "outputs": [],
   "source": [
    "#data_files\n",
    "\n",
    "f = open(\"ft_pp.txt\")\n",
    "#for line in f:\n",
    "    #if is_number('line')\n",
    "a=f.readlines()\n",
    "f.close()"
   ]
  },
  {
   "cell_type": "code",
   "execution_count": 8,
   "metadata": {},
   "outputs": [],
   "source": [
    "# to stitch together the movie:\n",
    "#    ffmpeg -pattern_type glob -i \"frame_*.png\" movie.mpeg"
   ]
  },
  {
   "cell_type": "code",
   "execution_count": 9,
   "metadata": {},
   "outputs": [
    {
     "data": {
      "text/plain": [
       "[' max surface gradient\\n',\n",
       " '0.0231533\\n',\n",
       " ' max  velocity \\n',\n",
       " '0.00907569\\n',\n",
       " ' max  z velocity \\n',\n",
       " '0.00858934\\n']"
      ]
     },
     "execution_count": 9,
     "metadata": {},
     "output_type": "execute_result"
    }
   ],
   "source": [
    "a"
   ]
  },
  {
   "cell_type": "code",
   "execution_count": 306,
   "metadata": {},
   "outputs": [
    {
     "data": {
      "text/plain": [
       "[('boxlib', 'C'),\n",
       " ('boxlib', 'averaged_velx'),\n",
       " ('boxlib', 'averaged_vely'),\n",
       " ('boxlib', 'averaged_velz'),\n",
       " ('boxlib', 'dCdx'),\n",
       " ('boxlib', 'dCdx_cen'),\n",
       " ('boxlib', 'dCdy'),\n",
       " ('boxlib', 'dCdy_cen'),\n",
       " ('boxlib', 'dCdz'),\n",
       " ('boxlib', 'dCdz_cen'),\n",
       " ('boxlib', 'divergence'),\n",
       " ('boxlib', 'force_ibm_x'),\n",
       " ('boxlib', 'force_ibm_y'),\n",
       " ('boxlib', 'force_ibm_z'),\n",
       " ('boxlib', 'pres'),\n",
       " ('boxlib', 'shifted_force_ibm_x'),\n",
       " ('boxlib', 'shifted_force_ibm_y'),\n",
       " ('boxlib', 'shifted_force_ibm_z'),\n",
       " ('boxlib', 'shifted_velx'),\n",
       " ('boxlib', 'shifted_vely'),\n",
       " ('boxlib', 'shifted_velz'),\n",
       " ('boxlib', 'tracer'),\n",
       " ('boxlib', '|Dc|')]"
      ]
     },
     "execution_count": 306,
     "metadata": {},
     "output_type": "execute_result"
    }
   ],
   "source": [
    "ds.field_list"
   ]
  },
  {
   "cell_type": "code",
   "execution_count": 15,
   "metadata": {},
   "outputs": [
    {
     "name": "stderr",
     "output_type": "stream",
     "text": [
      "yt : [INFO     ] 2019-08-01 14:22:00,731 Parameters: current_time              = 0.0\n",
      "yt : [INFO     ] 2019-08-01 14:22:00,732 Parameters: domain_dimensions         = [32 32 32]\n",
      "yt : [INFO     ] 2019-08-01 14:22:00,733 Parameters: domain_left_edge          = [0. 0. 0.]\n",
      "yt : [INFO     ] 2019-08-01 14:22:00,734 Parameters: domain_right_edge         = [1. 1. 1.]\n"
     ]
    },
    {
     "ename": "AttributeError",
     "evalue": "'BoxlibDataset' object has no attribute 'averaged_velz'",
     "output_type": "error",
     "traceback": [
      "\u001b[0;31m---------------------------------------------------------------------------\u001b[0m",
      "\u001b[0;31mAttributeError\u001b[0m                            Traceback (most recent call last)",
      "\u001b[0;32m<ipython-input-15-b7045c51a6d0>\u001b[0m in \u001b[0;36m<module>\u001b[0;34m\u001b[0m\n\u001b[1;32m      6\u001b[0m     \u001b[0;31m#sc.render()\u001b[0m\u001b[0;34m\u001b[0m\u001b[0;34m\u001b[0m\u001b[0;34m\u001b[0m\u001b[0m\n\u001b[1;32m      7\u001b[0m     \u001b[0mds\u001b[0m \u001b[0;34m=\u001b[0m \u001b[0myt\u001b[0m\u001b[0;34m.\u001b[0m\u001b[0mload\u001b[0m\u001b[0;34m(\u001b[0m\u001b[0mdata_files\u001b[0m\u001b[0;34m[\u001b[0m\u001b[0mi\u001b[0m\u001b[0;34m]\u001b[0m\u001b[0;34m)\u001b[0m\u001b[0;34m\u001b[0m\u001b[0;34m\u001b[0m\u001b[0m\n\u001b[0;32m----> 8\u001b[0;31m     \u001b[0mav\u001b[0m\u001b[0;34m=\u001b[0m\u001b[0mds\u001b[0m\u001b[0;34m.\u001b[0m\u001b[0maveraged_velz\u001b[0m\u001b[0;34m;\u001b[0m\u001b[0;34m\u001b[0m\u001b[0;34m\u001b[0m\u001b[0m\n\u001b[0m\u001b[1;32m      9\u001b[0m     \u001b[0mmax_magDC\u001b[0m\u001b[0;34m[\u001b[0m\u001b[0mi\u001b[0m\u001b[0;34m]\u001b[0m\u001b[0;34m=\u001b[0m \u001b[0maveraged_velz\u001b[0m\u001b[0;34m.\u001b[0m\u001b[0mmax\u001b[0m\u001b[0;34m(\u001b[0m\u001b[0;36m0\u001b[0m\u001b[0;34m)\u001b[0m\u001b[0;34m;\u001b[0m \u001b[0;31m#ds.max(\"|Dc|\")\u001b[0m\u001b[0;34m\u001b[0m\u001b[0;34m\u001b[0m\u001b[0m\n\u001b[1;32m     10\u001b[0m     \u001b[0mmax_magW\u001b[0m\u001b[0;34m[\u001b[0m\u001b[0mi\u001b[0m\u001b[0;34m]\u001b[0m\u001b[0;34m=\u001b[0m \u001b[0mds\u001b[0m\u001b[0;34m.\u001b[0m\u001b[0mmax\u001b[0m\u001b[0;34m(\u001b[0m\u001b[0;34m\"averaged_velz\"\u001b[0m\u001b[0;34m)\u001b[0m\u001b[0;34m\u001b[0m\u001b[0;34m\u001b[0m\u001b[0m\n",
      "\u001b[0;31mAttributeError\u001b[0m: 'BoxlibDataset' object has no attribute 'averaged_velz'"
     ]
    }
   ],
   "source": [
    "num_frames = 60\n",
    "max_magDC=[];\n",
    "max_magW=[];\n",
    "for i in range(num_frames):\n",
    "    #cam.rotate(2.0*np.pi/num_frames)\n",
    "    #sc.render()\n",
    "    ds = yt.load(data_files[i])\n",
    "    av=ds.averaged_velz;\n",
    "    max_magDC[i]= averaged_velz.max(0); #ds.max(\"|Dc|\")\n",
    "    max_magW[i]= ds.max(\"averaged_velz\")\n",
    "    \n",
    "    "
   ]
  },
  {
   "cell_type": "code",
   "execution_count": null,
   "metadata": {},
   "outputs": [],
   "source": []
  },
  {
   "cell_type": "code",
   "execution_count": null,
   "metadata": {},
   "outputs": [],
   "source": []
  },
  {
   "cell_type": "code",
   "execution_count": null,
   "metadata": {},
   "outputs": [],
   "source": []
  },
  {
   "cell_type": "code",
   "execution_count": null,
   "metadata": {
    "scrolled": true
   },
   "outputs": [],
   "source": []
  },
  {
   "cell_type": "code",
   "execution_count": null,
   "metadata": {},
   "outputs": [],
   "source": []
  },
  {
   "cell_type": "code",
   "execution_count": null,
   "metadata": {
    "scrolled": true
   },
   "outputs": [],
   "source": []
  },
  {
   "cell_type": "code",
   "execution_count": null,
   "metadata": {
    "scrolled": true
   },
   "outputs": [],
   "source": []
  },
  {
   "cell_type": "code",
   "execution_count": null,
   "metadata": {},
   "outputs": [],
   "source": []
  },
  {
   "cell_type": "code",
   "execution_count": null,
   "metadata": {},
   "outputs": [],
   "source": []
  },
  {
   "cell_type": "code",
   "execution_count": null,
   "metadata": {},
   "outputs": [],
   "source": []
  },
  {
   "cell_type": "code",
   "execution_count": null,
   "metadata": {},
   "outputs": [],
   "source": []
  },
  {
   "cell_type": "code",
   "execution_count": null,
   "metadata": {},
   "outputs": [],
   "source": []
  },
  {
   "cell_type": "code",
   "execution_count": null,
   "metadata": {},
   "outputs": [],
   "source": []
  },
  {
   "cell_type": "code",
   "execution_count": null,
   "metadata": {},
   "outputs": [],
   "source": []
  },
  {
   "cell_type": "code",
   "execution_count": null,
   "metadata": {},
   "outputs": [],
   "source": []
  },
  {
   "cell_type": "code",
   "execution_count": null,
   "metadata": {},
   "outputs": [],
   "source": []
  },
  {
   "cell_type": "code",
   "execution_count": null,
   "metadata": {},
   "outputs": [],
   "source": []
  },
  {
   "cell_type": "code",
   "execution_count": null,
   "metadata": {},
   "outputs": [],
   "source": []
  }
 ],
 "metadata": {
  "kernelspec": {
   "display_name": "Python 3",
   "language": "python",
   "name": "python3"
  },
  "language_info": {
   "codemirror_mode": {
    "name": "ipython",
    "version": 3
   },
   "file_extension": ".py",
   "mimetype": "text/x-python",
   "name": "python",
   "nbconvert_exporter": "python",
   "pygments_lexer": "ipython3",
   "version": "3.7.3"
  }
 },
 "nbformat": 4,
 "nbformat_minor": 2
}
