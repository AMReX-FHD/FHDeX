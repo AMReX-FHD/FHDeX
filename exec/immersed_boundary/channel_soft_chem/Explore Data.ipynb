{
 "cells": [
  {
   "cell_type": "code",
   "execution_count": 1,
   "metadata": {},
   "outputs": [],
   "source": [
    "import sys, os, os.path\n",
    "import glob"
   ]
  },
  {
   "cell_type": "code",
   "execution_count": 2,
   "metadata": {},
   "outputs": [],
   "source": [
    "import scipy as sp\n",
    "import numpy as np\n",
    "\n",
    "import matplotlib\n",
    "import matplotlib.pyplot as pp"
   ]
  },
  {
   "cell_type": "code",
   "execution_count": 3,
   "metadata": {},
   "outputs": [],
   "source": [
    "import yt\n",
    "from yt.frontends.boxlib.data_structures import AMReXDataset"
   ]
  },
  {
   "cell_type": "code",
   "execution_count": 4,
   "metadata": {},
   "outputs": [
    {
     "name": "stdout",
     "output_type": "stream",
     "text": [
      "Populating the interactive namespace from numpy and matplotlib\n"
     ]
    }
   ],
   "source": [
    "%pylab inline"
   ]
  },
  {
   "cell_type": "code",
   "execution_count": 5,
   "metadata": {},
   "outputs": [
    {
     "name": "stdout",
     "output_type": "stream",
     "text": [
      "`SCRATCH` is not an environment variable => data_root is empty\n"
     ]
    }
   ],
   "source": [
    "# Try Cori's scratch... otherwise the user will have to manually input the data root\n",
    "scratch_env_key = \"SCRATCH\"\n",
    "if scratch_env_key in os.environ.keys():\n",
    "    data_root = os.environ[scratch_env_key]\n",
    "else:\n",
    "    data_root = \"\"\n",
    "    print(RuntimeWarning(\"`SCRATCH` is not an environment variable => data_root is empty\"))"
   ]
  },
  {
   "cell_type": "code",
   "execution_count": 6,
   "metadata": {},
   "outputs": [],
   "source": [
    "data_dir  = \".\"\n",
    "data_path = os.path.join(data_root, data_dir)"
   ]
  },
  {
   "cell_type": "code",
   "execution_count": 7,
   "metadata": {},
   "outputs": [],
   "source": [
    "step     = 1\n",
    "n_fill   = 5\n",
    "prefix   = \"plt\"\n",
    "file_fmt = prefix + \"{:0\" + str(n_fill) + \"d}\""
   ]
  },
  {
   "cell_type": "code",
   "execution_count": 8,
   "metadata": {},
   "outputs": [],
   "source": [
    "data_glob  = os.path.join(data_path, prefix + \"*\")\n",
    "data_files = glob.glob(data_glob)\n",
    "data_files.sort()"
   ]
  },
  {
   "cell_type": "code",
   "execution_count": 9,
   "metadata": {},
   "outputs": [],
   "source": [
    "def check_sequential(files_sorted, step):\n",
    "    sequential = True\n",
    "    for i in range(len(files_sorted)):\n",
    "        c_file = file_fmt.format(i*step)\n",
    "        c_path = os.path.join(data_path, c_file)\n",
    "\n",
    "        missing = list()\n",
    "        if c_path not in files_sorted:\n",
    "            missing.append(c_path)\n",
    "            sequential = False\n",
    "\n",
    "    return sequential, missing"
   ]
  },
  {
   "cell_type": "code",
   "execution_count": 10,
   "metadata": {},
   "outputs": [
    {
     "data": {
      "text/plain": [
       "(False, ['./plt00011'])"
      ]
     },
     "execution_count": 10,
     "metadata": {},
     "output_type": "execute_result"
    }
   ],
   "source": [
    "check_sequential(data_files, step)"
   ]
  },
  {
   "cell_type": "code",
   "execution_count": 11,
   "metadata": {},
   "outputs": [],
   "source": [
    "class SoA:\n",
    "    _pref = \"particle_\"\n",
    "    _pos  = \"position_\"\n",
    "    _vel  = \"vel\"\n",
    "    _mass = \"mass\"\n",
    "    def __init__(self, data):\n",
    "        str_pos = self._pref+self._pos\n",
    "        self.px = np.array(data[str_pos + \"x\"])\n",
    "        self.py = np.array(data[str_pos + \"y\"])\n",
    "        self.pz = np.array(data[str_pos + \"z\"])\n",
    "\n",
    "        str_vel = self._pref+self._vel\n",
    "        self.vx = np.array(data[str_vel + \"x\"])\n",
    "        self.vy = np.array(data[str_vel + \"y\"])\n",
    "        self.vz = np.array(data[str_vel + \"z\"])\n",
    "\n",
    "        self.mass = np.array(data[self._pref + self._mass])\n",
    "\n",
    "        \n",
    "    def __str__(self):\n",
    "        return \"{pos:\"  + str(self.px) + \",\" + str(self.py) + \",\" + str(self.pz) + \\\n",
    "              \"; vel:\"  + str(self.vx) + \",\" + str(self.vy) + \",\" + str(self.vz) + \\\n",
    "              \"; mass:\" + str(self.mass) + \"}\"\n",
    "\n",
    "\n",
    "    def __repr__(self):\n",
    "        return str(self)\n",
    "\n",
    "\n",
    "\n",
    "class Particle:\n",
    "    def __init__(self, px, py, pz, vx, vy, vz, mass):\n",
    "        self.pos = np.array([px, py, pz])\n",
    "        self.vel = np.array([vx, vy, vz])\n",
    "        self.mass = mass\n",
    "\n",
    "\n",
    "    def __str__(self):\n",
    "        return \"P(\" + str(self.pos) + \",\" + str(self.vel) + \",\" + str(self.mass) + \")\"\n",
    "\n",
    "\n",
    "    def __repr__(self):\n",
    "        return str(self)\n",
    "\n",
    "\n",
    "class AoS:\n",
    "    def __init__(self, amrex_data):\n",
    "        self.particles = list()\n",
    "        soa = SoA(amrex_data)\n",
    "        \n",
    "        data = zip(soa.px, soa.py, soa.pz, soa.vx, soa.vy, soa.vz, soa.mass)\n",
    "        for elt in data:\n",
    "            self.particles.append(Particle(* elt))\n"
   ]
  },
  {
   "cell_type": "code",
   "execution_count": 13,
   "metadata": {},
   "outputs": [
    {
     "name": "stderr",
     "output_type": "stream",
     "text": [
      "yt : [INFO     ] 2019-04-30 17:24:48,310 Parameters: current_time              = 0.0009000000000000002\n",
      "yt : [INFO     ] 2019-04-30 17:24:48,320 Parameters: domain_dimensions         = [32 32 32]\n",
      "yt : [INFO     ] 2019-04-30 17:24:48,321 Parameters: domain_left_edge          = [0. 0. 0.]\n",
      "yt : [INFO     ] 2019-04-30 17:24:48,322 Parameters: domain_right_edge         = [1. 1. 1.]\n"
     ]
    }
   ],
   "source": [
    "ds = AMReXDataset(data_files[-1])"
   ]
  },
  {
   "cell_type": "code",
   "execution_count": 14,
   "metadata": {},
   "outputs": [
    {
     "data": {
      "text/plain": [
       "defaultdict(list,\n",
       "            {'immersed_boundaries': ['particle_cpu',\n",
       "              'particle_density',\n",
       "              'particle_dragx',\n",
       "              'particle_dragy',\n",
       "              'particle_dragz',\n",
       "              'particle_id',\n",
       "              'particle_mass',\n",
       "              'particle_omegax',\n",
       "              'particle_omegay',\n",
       "              'particle_omegaz',\n",
       "              'particle_oneOverI',\n",
       "              'particle_phase',\n",
       "              'particle_position_x',\n",
       "              'particle_position_y',\n",
       "              'particle_position_z',\n",
       "              'particle_radius',\n",
       "              'particle_state',\n",
       "              'particle_velx',\n",
       "              'particle_vely',\n",
       "              'particle_velz',\n",
       "              'particle_volume']})"
      ]
     },
     "execution_count": 14,
     "metadata": {},
     "output_type": "execute_result"
    }
   ],
   "source": [
    "ds.particle_fields_by_type"
   ]
  },
  {
   "cell_type": "code",
   "execution_count": 15,
   "metadata": {},
   "outputs": [],
   "source": [
    "ad = ds.all_data()\n",
    "soa = SoA(ad)\n",
    "aos = AoS(ad)"
   ]
  },
  {
   "cell_type": "code",
   "execution_count": 16,
   "metadata": {},
   "outputs": [
    {
     "data": {
      "text/plain": [
       "[P([0.5002341  0.50600852 0.50024773],[ 0.54624255 13.13256495  0.57813139],0.04188790204786391)]"
      ]
     },
     "execution_count": 16,
     "metadata": {},
     "output_type": "execute_result"
    }
   ],
   "source": [
    "aos.particles"
   ]
  },
  {
   "cell_type": "code",
   "execution_count": 17,
   "metadata": {},
   "outputs": [
    {
     "data": {
      "text/plain": [
       "YTArray([0.5002341]) code_length"
      ]
     },
     "execution_count": 17,
     "metadata": {},
     "output_type": "execute_result"
    }
   ],
   "source": [
    "ad[\"particle_position_x\"]"
   ]
  },
  {
   "cell_type": "code",
   "execution_count": 37,
   "metadata": {},
   "outputs": [],
   "source": [
    "part_x = np.array(ad[\"particle_position_x\"])"
   ]
  },
  {
   "cell_type": "code",
   "execution_count": 38,
   "metadata": {},
   "outputs": [
    {
     "data": {
      "text/plain": [
       "array([0.49999245])"
      ]
     },
     "execution_count": 38,
     "metadata": {},
     "output_type": "execute_result"
    }
   ],
   "source": [
    "part_x"
   ]
  },
  {
   "cell_type": "code",
   "execution_count": 39,
   "metadata": {},
   "outputs": [
    {
     "data": {
      "text/plain": [
       "array([2])"
      ]
     },
     "execution_count": 39,
     "metadata": {},
     "output_type": "execute_result"
    }
   ],
   "source": [
    "np.array([2])"
   ]
  },
  {
   "cell_type": "code",
   "execution_count": 28,
   "metadata": {},
   "outputs": [
    {
     "data": {
      "text/plain": [
       "0.500724076053728 code_length"
      ]
     },
     "execution_count": 28,
     "metadata": {},
     "output_type": "execute_result"
    }
   ],
   "source": [
    "ad[\"particle_position_y\"][0]"
   ]
  },
  {
   "cell_type": "code",
   "execution_count": 29,
   "metadata": {},
   "outputs": [
    {
     "data": {
      "text/plain": [
       "0.4999908907580099 code_length"
      ]
     },
     "execution_count": 29,
     "metadata": {},
     "output_type": "execute_result"
    }
   ],
   "source": [
    "ad[\"particle_position_z\"][0]"
   ]
  },
  {
   "cell_type": "code",
   "execution_count": 30,
   "metadata": {},
   "outputs": [
    {
     "data": {
      "text/plain": [
       "-0.0755310174836537 dimensionless"
      ]
     },
     "execution_count": 30,
     "metadata": {},
     "output_type": "execute_result"
    }
   ],
   "source": [
    "ad[\"particle_velx\"][0]"
   ]
  },
  {
   "cell_type": "code",
   "execution_count": 31,
   "metadata": {},
   "outputs": [
    {
     "data": {
      "text/plain": [
       "7.240760537280711 dimensionless"
      ]
     },
     "execution_count": 31,
     "metadata": {},
     "output_type": "execute_result"
    }
   ],
   "source": [
    "ad[\"particle_vely\"][0]"
   ]
  },
  {
   "cell_type": "code",
   "execution_count": 32,
   "metadata": {},
   "outputs": [
    {
     "data": {
      "text/plain": [
       "-0.09109241990090886 dimensionless"
      ]
     },
     "execution_count": 32,
     "metadata": {},
     "output_type": "execute_result"
    }
   ],
   "source": [
    "ad[\"particle_velz\"][0]"
   ]
  },
  {
   "cell_type": "code",
   "execution_count": null,
   "metadata": {},
   "outputs": [],
   "source": []
  }
 ],
 "metadata": {
  "kernelspec": {
   "display_name": "Python 3",
   "language": "python",
   "name": "python3"
  },
  "language_info": {
   "codemirror_mode": {
    "name": "ipython",
    "version": 3
   },
   "file_extension": ".py",
   "mimetype": "text/x-python",
   "name": "python",
   "nbconvert_exporter": "python",
   "pygments_lexer": "ipython3",
   "version": "3.6.8"
  }
 },
 "nbformat": 4,
 "nbformat_minor": 2
}
