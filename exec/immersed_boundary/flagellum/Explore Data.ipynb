{
 "cells": [
  {
   "cell_type": "markdown",
   "metadata": {},
   "source": [
    "# An Exploration of Fluctuating Channel Flow"
   ]
  },
  {
   "cell_type": "markdown",
   "metadata": {},
   "source": [
    "This is a sandbox for exploring the fluctuating channel flow data. Data is loaded using the YT package. You might need to install (using `pip`):\n",
    "1. Jupyter (and Jupyter Lab)\n",
    "2. YT\n",
    "3. numpy\n",
    "4. matplotlib\n",
    "\n",
    "... Have fun!"
   ]
  },
  {
   "cell_type": "markdown",
   "metadata": {},
   "source": [
    "## Import Basics"
   ]
  },
  {
   "cell_type": "code",
   "execution_count": 1,
   "metadata": {},
   "outputs": [],
   "source": [
    "import sys, os, os.path\n",
    "import glob\n",
    "\n",
    "import scipy as sp\n",
    "import numpy as np\n",
    "\n",
    "import matplotlib\n",
    "import matplotlib.pyplot as pp\n",
    "\n",
    "import yt\n",
    "from yt.frontends.boxlib.data_structures import AMReXDataset"
   ]
  },
  {
   "cell_type": "markdown",
   "metadata": {},
   "source": [
    "Inline plots and namespace:"
   ]
  },
  {
   "cell_type": "code",
   "execution_count": 2,
   "metadata": {},
   "outputs": [
    {
     "name": "stdout",
     "output_type": "stream",
     "text": [
      "Populating the interactive namespace from numpy and matplotlib\n"
     ]
    }
   ],
   "source": [
    "%pylab inline"
   ]
  },
  {
   "cell_type": "markdown",
   "metadata": {},
   "source": [
    "# Utilities"
   ]
  },
  {
   "cell_type": "markdown",
   "metadata": {},
   "source": [
    "Replace `phi` with `concentration` in plot file's header file (yt doesn't like `phi`...)"
   ]
  },
  {
   "cell_type": "code",
   "execution_count": 3,
   "metadata": {},
   "outputs": [],
   "source": [
    "### Replace \"phi\" with \"concentration\" in plt header file (yt doesn't like phi...)\n",
    "def substitute_header(plt_file, source=\"phi\", target=\"con\"):\n",
    "    \n",
    "    # load header file\n",
    "    header_file = os.path.join(plt_file, \"Header\")\n",
    "    with open(header_file, \"r\") as f:\n",
    "        header_orig = f.readlines()\n",
    "    \n",
    "    # select variable lables\n",
    "    n_lables   = int(header_orig[1])\n",
    "    l_offset   = 2\n",
    "    \n",
    "    # make a backup copy(iff the source was found in original)\n",
    "    if source+\"\\n\" in header_orig:\n",
    "        header_cpy  = os.path.join(plt_file, \"Header.backup\")\n",
    "        with open(header_cpy, \"w\") as f:\n",
    "            for line in header_orig:\n",
    "                f.write(line)\n",
    "    \n",
    "    # replace source with target\n",
    "    for i in range(l_offset, n_lables+l_offset):\n",
    "        if header_orig[i] == source+\"\\n\":\n",
    "            header_orig[i] = target+\"\\n\"\n",
    "    \n",
    "    # save substituted file in place of original\n",
    "    with open(header_file, \"w\") as f:\n",
    "        for line in header_orig:\n",
    "            f.write(line)"
   ]
  },
  {
   "cell_type": "markdown",
   "metadata": {},
   "source": [
    "# Find Data"
   ]
  },
  {
   "cell_type": "markdown",
   "metadata": {},
   "source": [
    "Currently we're working in the same directory as a the data $=>$ look in `.` for plot files"
   ]
  },
  {
   "cell_type": "code",
   "execution_count": 4,
   "metadata": {},
   "outputs": [],
   "source": [
    "data_root = \".\"\n",
    "data_dir  = \".\""
   ]
  },
  {
   "cell_type": "code",
   "execution_count": 5,
   "metadata": {},
   "outputs": [],
   "source": [
    "data_path = os.path.join(data_root, data_dir)"
   ]
  },
  {
   "cell_type": "code",
   "execution_count": 6,
   "metadata": {},
   "outputs": [],
   "source": [
    "n_fill   = 5\n",
    "prefix   = \"plt\"\n",
    "file_fmt = prefix + \"{:0\" + str(n_fill) + \"d}\""
   ]
  },
  {
   "cell_type": "code",
   "execution_count": 7,
   "metadata": {},
   "outputs": [
    {
     "data": {
      "text/plain": [
       "'plt{:05d}'"
      ]
     },
     "execution_count": 7,
     "metadata": {},
     "output_type": "execute_result"
    }
   ],
   "source": [
    "file_fmt"
   ]
  },
  {
   "cell_type": "code",
   "execution_count": 8,
   "metadata": {},
   "outputs": [
    {
     "name": "stdout",
     "output_type": "stream",
     "text": [
      "['././plt0000000', '././plt0000010', '././plt0000020', '././plt0000030', '././plt0000040', '././plt0000050', '././plt0000060', '././plt0000070', '././plt0000080', '././plt0000090', '././plt0000100']\n"
     ]
    }
   ],
   "source": [
    "data_glob  = os.path.join(data_path, prefix + \"*\")\n",
    "data_files = glob.glob(data_glob)\n",
    "data_files.sort()\n",
    "print(data_files)"
   ]
  },
  {
   "cell_type": "markdown",
   "metadata": {},
   "source": [
    "## Plot Final State of the Simulation"
   ]
  },
  {
   "cell_type": "code",
   "execution_count": 9,
   "metadata": {},
   "outputs": [],
   "source": [
    "def plot_index(data_file, str_field, str_coord):\n",
    "    substitute_header(data_file)\n",
    "    \n",
    "    # Loads the data file\n",
    "    ds = yt.load(data_file)\n",
    "    \n",
    "    # Takes a slice perpendicular to the coordinate represented by `str_coord`\n",
    "    # -> the slice is at the center of the box.\n",
    "    # -> the data field being sliced has to have the same name as `str_field`\n",
    "    slc = yt.SlicePlot(ds, str_coord, str_field)\n",
    "    \n",
    "    # Set the plotted variable to log scale\n",
    "    #slc.set_log(str_field, True)\n",
    "    \n",
    "    # Show data\n",
    "    slc.show()\n",
    "    #slc.save(\"step_0.png\")"
   ]
  },
  {
   "cell_type": "markdown",
   "metadata": {},
   "source": [
    "Let's find out what fields are contained in the plot file"
   ]
  },
  {
   "cell_type": "code",
   "execution_count": 10,
   "metadata": {},
   "outputs": [
    {
     "name": "stderr",
     "output_type": "stream",
     "text": [
      "yt : [INFO     ] 2019-07-19 16:38:42,061 Parameters: current_time              = 0.001\n",
      "yt : [INFO     ] 2019-07-19 16:38:42,063 Parameters: domain_dimensions         = [32 32 32]\n",
      "yt : [INFO     ] 2019-07-19 16:38:42,064 Parameters: domain_left_edge          = [0. 0. 0.]\n",
      "yt : [INFO     ] 2019-07-19 16:38:42,065 Parameters: domain_right_edge         = [1. 1. 1.]\n"
     ]
    },
    {
     "data": {
      "text/plain": [
       "[('boxlib', 'averaged_velx'),\n",
       " ('boxlib', 'averaged_vely'),\n",
       " ('boxlib', 'averaged_velz'),\n",
       " ('boxlib', 'divergence'),\n",
       " ('boxlib', 'pres'),\n",
       " ('boxlib', 'shifted_velx'),\n",
       " ('boxlib', 'shifted_vely'),\n",
       " ('boxlib', 'shifted_velz'),\n",
       " ('boxlib', 'tracer')]"
      ]
     },
     "execution_count": 10,
     "metadata": {},
     "output_type": "execute_result"
    }
   ],
   "source": [
    "ds = yt.load(data_files[-1])\n",
    "ds.field_list"
   ]
  },
  {
   "cell_type": "markdown",
   "metadata": {},
   "source": [
    "Plot the last plot file's $y$-velocity (slicing normal the $y$-axis)."
   ]
  },
  {
   "cell_type": "code",
   "execution_count": 11,
   "metadata": {},
   "outputs": [
    {
     "name": "stderr",
     "output_type": "stream",
     "text": [
      "yt : [INFO     ] 2019-07-19 16:38:42,306 Parameters: current_time              = 0.001\n",
      "yt : [INFO     ] 2019-07-19 16:38:42,307 Parameters: domain_dimensions         = [32 32 32]\n",
      "yt : [INFO     ] 2019-07-19 16:38:42,309 Parameters: domain_left_edge          = [0. 0. 0.]\n",
      "yt : [INFO     ] 2019-07-19 16:38:42,310 Parameters: domain_right_edge         = [1. 1. 1.]\n",
      "yt : [INFO     ] 2019-07-19 16:38:42,510 xlim = 0.000000 1.000000\n",
      "yt : [INFO     ] 2019-07-19 16:38:42,512 ylim = 0.000000 1.000000\n",
      "yt : [INFO     ] 2019-07-19 16:38:42,513 xlim = 0.000000 1.000000\n",
      "yt : [INFO     ] 2019-07-19 16:38:42,515 ylim = 0.000000 1.000000\n",
      "yt : [INFO     ] 2019-07-19 16:38:42,517 Making a fixed resolution buffer of (('boxlib', 'shifted_vely')) 800 by 800\n",
      "yt : [WARNING  ] 2019-07-19 16:38:42,543 Plot image for field ('boxlib', 'shifted_vely') has both positive and negative values. Min = -25.875945, Max = 1.647070.\n",
      "yt : [WARNING  ] 2019-07-19 16:38:42,544 Switching to symlog colorbar scaling unless linear scaling is specified later\n"
     ]
    },
    {
     "data": {
      "text/html": [
       "<img style=\"max-width:100%%;max-height:100%%;\" src=\"data:image/png;base64,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\"><br>"
      ],
      "text/plain": [
       "<yt.visualization.plot_window.AxisAlignedSlicePlot at 0x7f8024d2a890>"
      ]
     },
     "metadata": {},
     "output_type": "display_data"
    }
   ],
   "source": [
    "plot_index(data_files[-1], \"shifted_vely\", \"y\")"
   ]
  },
  {
   "cell_type": "markdown",
   "metadata": {},
   "source": [
    "Let's do the same for the presure"
   ]
  },
  {
   "cell_type": "code",
   "execution_count": 12,
   "metadata": {},
   "outputs": [
    {
     "name": "stderr",
     "output_type": "stream",
     "text": [
      "yt : [INFO     ] 2019-07-19 16:38:43,315 Parameters: current_time              = 0.001\n",
      "yt : [INFO     ] 2019-07-19 16:38:43,316 Parameters: domain_dimensions         = [32 32 32]\n",
      "yt : [INFO     ] 2019-07-19 16:38:43,318 Parameters: domain_left_edge          = [0. 0. 0.]\n",
      "yt : [INFO     ] 2019-07-19 16:38:43,319 Parameters: domain_right_edge         = [1. 1. 1.]\n",
      "yt : [INFO     ] 2019-07-19 16:38:43,479 xlim = 0.000000 1.000000\n",
      "yt : [INFO     ] 2019-07-19 16:38:43,481 ylim = 0.000000 1.000000\n",
      "yt : [INFO     ] 2019-07-19 16:38:43,483 xlim = 0.000000 1.000000\n",
      "yt : [INFO     ] 2019-07-19 16:38:43,485 ylim = 0.000000 1.000000\n",
      "yt : [INFO     ] 2019-07-19 16:38:43,487 Making a fixed resolution buffer of (('boxlib', 'pres')) 800 by 800\n",
      "yt : [WARNING  ] 2019-07-19 16:38:43,509 Plot image for field ('boxlib', 'pres') has both positive and negative values. Min = -1.207390, Max = 10.723600.\n",
      "yt : [WARNING  ] 2019-07-19 16:38:43,510 Switching to symlog colorbar scaling unless linear scaling is specified later\n"
     ]
    },
    {
     "data": {
      "text/html": [
       "<img style=\"max-width:100%%;max-height:100%%;\" src=\"data:image/png;base64,iVBORw0KGgoAAAANSUhEUgAAAw0AAAKWCAYAAAALN3XUAAAABHNCSVQICAgIfAhkiAAAAAlwSFlzAAALEgAACxIB0t1+/AAAADl0RVh0U29mdHdhcmUAbWF0cGxvdGxpYiB2ZXJzaW9uIDIuMi4zLCBodHRwOi8vbWF0cGxvdGxpYi5vcmcvIxREBQAAIABJREFUeJzs3Xt8VPWd//H3mZlkEiYXBBUFBBVYblKxXIyKlwrVBrBsHz+s2tZqf+XH4qNcaktV2oLUtoiyyGrF7U+XSrNqW6Rby4qgxlu1WzBsTRWVbrcWIUJTQCDXSTJzzu8PVn5NCYeQfOaSM6+nDx4Pc2bmnc+cM3Mm3/M53zOO53meAAAAAOA4QpkuAAAAAEB2Y9AAAAAAwBeDBgAAAAC+GDQAAAAA8MWgAQAAAIAvBg0AAAAAfDFoAAAAAOCLQQMAAAAAXwwaAAAAAPhi0AAAAADAF4MGAAAAAL4YNAAAAADwxaABAAAAgC8GDQAAAAB8MWgAAAAA4ItBAwAAAABfDBoAAAAA+GLQAAAAAMAXgwYAAAAAvhg0AAAAIKcdPnxYTz75ZKbLyGqO53leposIooJIscKhfBVGilUQKelyjuM2d/q+zYlGFUZiHd7muS1drqFdjtra/dyYaFIs0qsLQW6Xa4i7LSoIRbv8+A45/uPneDKugnDBiWOcPJNy4snkcbflyfDChZ2+76HmD9S7cECHt7UWhLtdiyS1RNu/fhLNdYoUnvz7I5mf6HINicZ6RWLFkiQ33PXX4V/zQv45yYZGhYs6sT1PkNNZbX/ep/wz+3Y7x3E6X0+yrlnhko5fb45sPmacv/k5Ud+sSHHnX+NHc5yu15OoiytScmRf4Hl/W1HXnKialj0HFe1/SieSbOppq4sr3IX1+rc8r/PHJZP1TQoXH+ez5CRyfLntc9yGBoWKik46JuR2vZ7Wv9Qq//R+R3ISNs8rrzXi/zvjdcovOPF+Nr/FP+dEWloPq6X1sC67RNr/YWu3sjpy6ukXa/Pmzea5kvRf//Vfuv3227Vv3z699tprKfkdQdC9VwiO69Re52jBxKe7nRNu2N7p+z753gO69tz5Hd6WaP1Dt2uRpETyz+1+Xv2HtfrKsJtPOsd1m7pcwy8/eEEzBkzu8uM7Egr5D3x+UbNJnxlYfsKcSKTjP7pP1i9qNunac2/tdk5b6Xmdvu9dL47WvIue7fC23SO6P4CRpD8Nq23381tPfFtjPve9k875cOC+Ltfw3urlOvcrd0iSmou7/jr8a60x/5y9dz+oMxfNPWGOV2BTzx8+MUvDnlza7ZxopPMHG3Z++1919vdu7PC2/FBbh8tPVl6o/WDx99/8mYYvu+6kc0InMRj6WzsWrdOIuz8rSXKN/phtc/0/irdOuF1jn7r9hDkJz2Zw/4dv/kRn3XVzt3NaWzs/8Nh71yM6c8n/6fA2r9XmIFGkuf1+/oMV92vANxacdE60sesDqurrPq2RDzwsSSr6sLjLOX/ttA9O8739P9ffrnEz7zlhzuD/7szA9MRerjpTVa+UmWT9tQmf2G+e+ZG/+7u/04wZM/Qv//IvKfsdQcCgIUBGnXJhpktIi+HF56T9d44oGZrW3zfqFPsd7ol0pyPWVaeP+UTaf+cpEyal/XcWTZqY1t933CO2KdT7yo+l/Xf2nTw67b/z1Az8Touj/iej5BNj0/r7JKnoso+n/XcWX5z+z8xw7OQ7G9115qgpaf+d6VZbW6v77rtPZ555pr761a8ec/u6detUWVmpoUOHqqqqSrNmzdLVV1+dgUp7NgYNATI6RwYNI0rOTfvvHFkyLK2/b/QpF6X190lSYV76Bw39xth2jDrjlInpHzQUX5oLg4bz0/47T53c+U6a2e+ckv5BQ+Q4p32lSmkGBg3FV4xL++8suST9B2ciXTgdqrv6j/pken+h58n1bLqLnbFp0yY98cQTeuyxx3TnnXcec/uaNWu0dOlS7dixQ7FYTDU1NRo9erQ2btyoSZPS/3nQkzERGt0yoU/6P1yQGhMHfiHTJcBIn2uvyHQJMHTG9ZdkugQYOfVT0zNdQuCUl5dr6dKlHd5WX1+vhQsX6sYbb1QsduQ024EDB6q8vFzz5s1LY5XBwKAB3TKxL4OGoLjwrI7PR0fP0/ezV2S6BBg643qOhgbFaVM/nekSUs6TlFTC/J+fcLjj+TybN2/WoUOHVFbWvqtUVlam6upqbd/e+XmjYNAAAACAAKqurpYkDRo0qN3ywYMHS5KqqqrSXlNPxqABAAAARjy5Spj/64r9+49ccam4uP2Vqor+Z25Jbe2RK/rt3LlTzzzzjN5991298sor3XjuwcZEaAAAAGSdNY/W6r779+hwXVKh0MlfEjYaPXK5Xsdp/x0modCRY+b5+fmSpLPPPlvr1q3rZrXBR6cBAAAAWefLX+qnt6svUM174485xagz+vU78kV6DQ0N7ZZ/9POAATbfrZQr6DQAAADAhCfvhBOX02XcuCOX8t29e7c+9rH//10yu3btkiSNHcvFXE4GnQYAAAAEzpQpU9S3b19t3bq13fItW7ZowoQJGj58eIYq65kYNAAAAMDEkU6D/X9+WlpaJEmu67ZbHolEtHjxYlVUVKi5uVmStHfvXm3YsEFLlixJzQoIME5PAgAAQI/0wgsv6KGHHpIkPfnkkxo5cqSmTZumkpISSdKCBQsUjUY1e/ZsjRkzRtu2bVNFRYWmT+eL9k4WgwYAAACYSco98Z1OWscnx0yePFmTJ0/2feScOXM0Z86cFNSUWzg9CQAAAIAvOg0AAAAw4SlVnQZkGp0GAAAAAL7oNGQ5z/O/YkCPFdTnlWW8kM1xgWTE5qiRG7bJ8UKeSY5dPTY5oZDN+yIcsrlGesSonjyjekKOzXoOG+VYsVo/rmvzfrdaz45RjufYvN+tcqxkWz3AiTBoAAAAgAlPnhKyGxA9t6lOz22q1+HDfc0y0TWcngQAAICsdFV5if7xgQEqLS3NdCk5j04DAAAAzCQNOw3IHnQaAAAAAPii0wAAAAATRy65iiCi0wAAAADAF50GAAAAmPAkJeRkugykAJ0GAAAAAL4YNAAAAADwxelJAAAAMMNE6GCi05Ai8USd1r97h97ZV5npUgAAAFLqj+8/o+d+NTfTZSCF6DSkSEGkRDNHLs90GQAAACk3ZPBUDRk8VZtf/xkToQOKTgMAAAAAX3QaAAAAYOLIJVftjkm/vOmwXtlUp8OH+5hlomvoNAAAACArXVFeqjsfOEulpaWZLiXn0WkAAACACU9SkmPSgcRWBQAAAOCLTkOO8Iyumux5bSY5kmuUY8TLtqtKh01S3LBNTluezfZK5Nu8ftywzfayylE4YRNjlBMJ2TyvaKjVJCcvZPO8rHKs5BnltLk2H8VJz+Y4YCRks99oDRnt541yvCzLccM2OUmjHKOXDwKMQQMAAACMOFxyNaAYVwIAAADwRacBAAAAJqwvudo+GZlEpwEAAACALzoNAAAAMOHJUcLoYh7tZdeFEHIRnQYAAAAAvug0AAAAwARf7hZcbFUAAAAAvhg0AAAAAPDF6UkAAAAwY3nJ1d9s+lC/2fShDh8uNstE19BpAAAAQFa6qLyPvvbAUJWWlma6lJxHpwEAAAAmUnfJVWQanQYAAAAAvug0AAAAwIQn2zkNyB5sVQAAAAC+crbTsG7dOlVWVmro0KGqqqrSrFmzdPXVV3f68Xfeeafef/99rV27NnVFAgAA9CCeHCU95jQEUU4OGtasWaOlS5dqx44disViqqmp0ejRo7Vx40ZNmjTphI9//fXXtXz5ct1www1pqBYAAADIrJwbNNTX12vhwoW65ZZbFIvFJEkDBw5UeXm55s2bpzfeeMP38U1NTXrwwQc1ceLEdJQrKWkT47UZ5djU41nVY8STm+kS2nNsjtIk823e4i2FLSY5bQWtJjmJvIRJjptn8zoM5dmsn/yIzfqJRZpNcnpF4iY5+Y7N9soP2eRYSXo2Z/iGs2z/4xo9r9awzfsrGcozyfHCNp9fbthme7kRo5yQVY5nkoPgyrk5DZs3b9ahQ4dUVlbWbnlZWZmqq6u1fft238cvWbJEixcvVjhM6w0AAOBvJRQy/4fMy7mtUF1dLUkaNGhQu+WDBw+WJFVVVR33sZs2bdKQIUM0bNiw1BUIAAAAZJmcOz1p//79kqTi4vZfR15UVCRJqq2t7fBxBw4c0Lp16/Too4+mtkAAAIAeii93C66cGzREo1FJkuM47ZaHQkeaLvn5+R0+btGiRfr+97/f6d9zKL5HS381VgWREhVGSnThgM+pbMDnulg1AABAdnrr7R9p2xv3q6X1sPqPyHQ1SJWcGzT069dPktTQ0NBu+Uc/Dxgw4JjH/PjHP9aVV16p/v37d/r39C7orwUTn+5GpQAAANlvzOj/rTGj/7ck6Zf/MZBOQ0Dl3JyGcePGSZJ2797dbvmuXbskSWPHjj3mMWvXrtWsWbNUVFR09N+rr76qxx9/XEVFRVq2bFnqCwcAAAAyJOc6DVOmTFHfvn21detWTZs27ejyLVu2aMKECRo+fPgxj3nsscfU3Nz+Eoaf//znNXDgQN1zzz3q06dPyusGAADIdp7E1Y4CKucGDZFIRIsXL9aqVau0aNEiFRYWau/evdqwYYN+8pOfHL3f8uXL9fjjj+vFF1/s8JSlwsJCFRcXa+jQoeksHwAAIGe8senPemNzrQ4f7njOKdIn5wYNkrRgwQJFo1HNnj1bY8aM0bZt21RRUaHp06cfvc+BAwdUW1ureNzmy40AAABwci4oP0MXlJ+hBybvyXQpOS8nBw2SNGfOHM2ZM+e4t69YsUIrVqw47u0vv/xyCqoCAADouTw5SnpMhA4iTjoDAAAA4CtnOw0AAACwx0ToYGKrAgAAAPBFpwEAAAAmPDl8uVtA0WkAAAAA4ItOAwAAAEx4khJcPSmQ6DQAAAAA8EWnIdt5SZsYr9Uop8Ukx3VtvjTPsTpvMmSzns04Nt982VZgs36aetls91ajnES0zSTHy7N5X+Tn2TyvXpFmk5ziSJNJTmHYZv30Ctmsn7BckxwrSaPjbq1OnklO2LFZP0nP5nlZHW1uS9jsD91wwiQnGbH5vHDDNjkJo3qMNjsCjEEDAAAATHhyzAbUyC5sVQAAAAC+6DQAAADADJdcDSY6DQAAAAB80WkAAACACc9zlGBWdSCxVQEAAAD4otMAAAAAE56Y0xBUdBoAAAAA+GLQAAAAAMAXpycBAADAhCfH7FvFJen3m9/X75/dpbrDNt98ja6j0wAAAICsNPxTg/XpVZeqtLQ006XkPDoNAAAAMMNE6GCi0wAAAADAF50GAAAAmLCe04DswVZNkXiiTuvfvUPv7KvMdCkAAAAp9d6fntELL87LdBlIIToNKVIQKdHMkcszXQYAAEDKnXvOVJ17zlT99NWNzGkIKDoNAAAAAHzRach6Ntcl9tRmkuO6cZMcz20xyZGTZxLjeTbrx4zR82oqcoxymk1y2qI26zmR32qSE47aPK+ivCaTnN55DTY5EZt6isM26yfq2Gz3iNH+0IrV0dQmJ2qSE3Zckxyr89HbXJs/MfIiNu/3lrDNenbDNq9DN2y0vSI29STCnkkOgotBAwAAAIwwETqo2KoAAAAAfNFpAAAAgAlPfLlbUNFpAAAAAOCLTgMAAABM8OVuwcVWBQAAAOCLTgMAAABMeJ6UoNMQSGxVAAAAAL4YNAAAAADwxelJAAAAMOIoySVXA4lOAwAAAABfdBoAAABgwpO45GpAsVUBAAAA+KLTAAAAABOeHC65GlBsVQAAAAC+6DQAAADATNLwmHTNc7/XB8//Qc7hOrNMdA2dBgAAAGSlgVcN14Urpqu0tDTTpeQ8Og1ZzvPabHLcuFFOi1GOTT1ykjY5co1ybHjhQpOc5pjN+okXNZvktEVbTXK8qM3rp1d+k0lOaX6DSU7fvHqTnFPCjSY5JSGb9VPg2OzHsk3cyzPJiRqtn7Bjsx+zuvJNm2fzJ0ara7Oe2yJRkxwvbLNfTUaMcvISJjleyDPJQXAxaAAAAIAJT46SHl/uFkScngQAAADAF50GAAAAmOHL3YKJrQoAAADAF50GAAAAmPBke8lVZA+2KgAAAABfdBpSJJ6o0/p379CoU6do1GlTMl0OAABAyuz84ybtfG+TPMdhTkNAMWhIkYJIiWaOXJ7pMgAAAFLu7CHlOntIuR6vHJXpUpAiDAUBAAAA+KLTAAAAADOcnhRMbFUAAAAAvug0AAAAwIQnJkIHFVsVAAAAgC86DQAAADDhiTkNQcVWBQAAAOCLTgMAAADMuByTDiS2KgAAAABfdBqynddqEuN6LTY5bpNNTrLZJMcJuSY5ntdmkuMYjcO9SC+TnMYim9dPS5HN9morjJvk5EVtXoe98+tNck7PO2ySc1q4ziSnT7jBJCfm2GyvqGPz/oooaZKTUNgkp8XLM8mJG+VYrR+rvwwSRvvDeDLfJKc5YvM6bI0kTHLcsM32SkascjyTHAQXgwYAAACY4JKrwcVWBQAAAOCLTgMAAABseJJLpyGQ2KoAAAAAfNFpAAAAgIkjX+7mZLoMpACdBgAAAAC+6DQAAADAiMOchoBiqwIAAADwxaABAAAAgC9OTwIAAIAZTk8KJgYNAAAAyEoHX3hTB196U6WHD2e6lJzHoAEAAAAmPOOJ0KVXjlXplWPl3vB/zTLRNfSPAAAAAPii0wAAAAAbnuTy5W6BRKcBAAAAgC86DQAAADDhKTVXT+Iod+axDQAAAAD4otOQIvFEnX7+7u0adepkjTp1SpdzPLWa1OO5caOcFpMc16geq1Gv57YZJdlI5hWY5NSXNJvktBbYvA7dqM12L402muScktdgknNauM4ox+aSgn1D9SY5McdmexUou95fCYVNclqUZ5LT4Ni8362YrZ+QzZ8YDRGj/WHY5nXYGrHJSeYlTXIS+Tb1JMJutx6/6w+bteu/N5vUguzEoCFFCiMlmjni7kyXAQAAkHKDhn1Kg4Z9Sk/8+8fl8eVugcRWBQAAAOCLTgMAAADMuLK/5KrNSXPoDjoNAAAAAHzRaQAAAIAZ5jQEE1sVAAAAgC86DQAAADDhyZHn2c9pQObRaQAAAADgi0EDAAAAAF+cngQAAAAbHhOhg4qtCgAAAMAXnQYAAACYYSJ0MNFpAAAAAOCLTgMAAADM0GkIJjoNAAAAAHzRaQAAAIARR+LqSYHEVgUAAADgi05DtvOSNjFui0mOm2wyymk2yZHn2sTIZj3LCZvEJKJRk5ymojqTnLaCVpOcUH7cJKc0r8Ek59RIvUnOaeHDJjn9QjY5fR2b5xWTzfaKODbvUysJo6OgLU6eSU5UbSY5VocBk7LZj7WEbdZPvVtoknM4bPM52BROmOS4YZvPnWTEKie73qfIPgwaAAAAYIeJ0IHE6UkAAAAAfNFpAAAAgA2PS64GFZ0GAAAAAL5ydtCwbt06zZ49W/fee6+uvfZaPfvss773b2tr0/e+9z0NGzZMRUVFGj9+vJ5++uk0VQsAANAT/M8lV63/IeNy8vSkNWvWaOnSpdqxY4disZhqamo0evRobdy4UZMmTerwMbfddptCoZDuuece7dy5U/fee69mzJihl156SZdddlmanwEAAACQPjk3aKivr9fChQt1yy23KBaLSZIGDhyo8vJyzZs3T2+88cYxj9mzZ48KCwu1bNmyo8suvfRSTZw4UT/60Y8YNAAAAHyEOQ2BlHP9ns2bN+vQoUMqKytrt7ysrEzV1dXavn37MY+pra3Vbbfd1m7ZhAkT1KdPHx08eDCl9QIAAACZlnODhurqaknSoEGD2i0fPHiwJKmqquqYx1xwwQXq3bv3Mcvj8bguueSSFFQJAAAAZI+cOz1p//79kqTi4uJ2y4uKiiQd6Sp0xpYtWxSLxTRr1izbAgEAAHoyTk8KpJwbNESjUUmS47R/QYdCR5ou+fn5ncpZtmyZHnnkEfXp06fD2w/GP9DSVz+ugkiJCiMlurD/9Sob8LluVA4AAJB9fv/bH2v7b36g1nidnLNPyXQ5SJGcGzT069dPktTQ0NBu+Uc/Dxgw4IQZq1ev1uTJkzVjxozj3ueUggFaMGFDNyoFAADIfsM/fpOGf/wmSdJPf34hnYaAyrk5DePGjZMk7d69u93yXbt2SZLGjh3r+/innnpKdXV1WrBgQWoKBAAAALJMzg0apkyZor59+2rr1q3tlm/ZskUTJkzQ8OHDj/vY5557Tm+++aYWLVrUbvmbb76ZkloBAAB6FE9yXMf8HzIv5wYNkUhEixcvVkVFhZqbmyVJe/fu1YYNG7RkyZKj91u+fLnGjBmjffv2SZJeffVV3XXXXRo1apTWr1+v9evX68knn9Stt96qPXv2ZOS5AAAAAOmQc3MaJGnBggWKRqOaPXu2xowZo23btqmiokLTp08/ep8DBw6otrZW8Xhc1dXVmjZtmurr6/XrX/+6XdbgwYO1cuXKdD8FAACALOQwpyGgcnLQIElz5szRnDlzjnv7ihUrtGLFCknSWWedpbq6unSVBgAAAGSVnB009BSe12aS43pxm5xkU1blWLFaz1LYJKW1V55JTkvMZrsn8ltNcgrzm01y+kQaTnynTjgtfNgkp2+o3iSnn3PIJKfUsVnPMdls97A8kxwrScfmKGijOneJ7hMJe65JTsKxOeM46djsxxqdqElOr1CLSU40bPN6DoUTJjluOGmTk2eTkwzbvA6t1b/6uhpee12nHrbZX6Prcm5OAwAAAFLH8RyzfyWTLlT/O+aptLQ0008r5zFoAAAAAOCL05MAAABgh4nQgUSnAQAAAIAvOg0AAACw4UmOxzHpIGKrAgAAAPBFpwEAAABG+HK3oKLTAAAAAMAXgwYAAAAAvjg9CQAAAGYcTk8KJDoNAAAAAHzRaQAAAIAJR5LjZboKpAKdBgAAAAC+6DQAAADADnMaAolOAwAAAABfdBoAAABgw+PqSUFFpwEAAACALzoNWc5Tq02O22KS4yaNchJNJjmO1bjXc01iHIVNclp62RylaYnFTXLcfJvt3ivSbJLTO9JoktM3VG+T49jklDo266ePbLZ7VDaXQMm2D5qEUU5YNu8LGR2UTXo2+8MWJ98kJxYy2m+EbD4HC8I2OZFwm0lOa8jmc8c1ykmGbXIQXNm2LwcAAEAPxulJwcTpSQAAAAB80WkAAACAEYdLrgYUnYYUaU7Uaf2ORXpnf2WmSwEAAEipmh3PaesvF2a6DKQQnYYUKYyUaOaIuzNdBgAAQMoNHHGVBo64Sr947DLmNAQUnQYAAAAAvug0AAAAwAydhmCi0wAAAADAF4MGAAAAAL44PQkAAAAmHI/Tk4KKTgMAAAAAX3QaAAAAYIdOQyDRaQAAAADgi04DAAAAzDhepitAKtBpAAAAAOCLTgMAAACMOCm5ehLNi8yj0wAAAADAF52GbOe5RjFtRjlxkxw3aZMTCkdNcuQlbXKcfJOYlgKbYyrJvIRJjiI2r5/ivCaTnJKQTU6pY5Qjo+elFpOcmNExuULP5iMiYnR8KiGb/WHSKEeOVT2tJjkJx2Y9x2Szf445NjlRx2b/k+/Y7A8jIZvPi5awTY4Xsnm/W+UguBg0AAAAwA6XXA0kTk8CAAAA4ItOAwAAAGx4YiJ0QNFpAAAAAOCLTgMAAADMOC5zGoKITgMAAAAAX3QaAAAAYIcJCIFEpwEAAACALwYNAAAAAHxxehIAAABMOErNJVeReXQaAAAAAPii0wAAAAAbnkOnIaDoNAAAAADwRacBAAAAZug0BBOdhhRpTtRp/Y5Femd/ZaZLAQAASKkPdjyn159amOkykEJ0GlKkMFKimSPuznQZAAAAKTdgxFUaMOIqbXj0ExKdhkCi0wAAAADAF52GLOd5rUY5bSY5brLFJMdzbeoxy5FrkuM4NuPw1qhNPclI0iQnFLFZz4Uhm9dzzIlnWY7R8zJ6HRZ6Nrv2QqfAJCds9FGTVMIkp81ovyrPpp6kY/M+jRutnwLZvN+jTnbl5Ids1k/EKEeOzfvdCxl9XoRtchBcDBoAAABgxvEyXQFSgdOTAAAAAPii0wAAAAA7TIQOJDoNAAAAAHzRaQAAAIANjy93Cyo6DQAAAAB80WkAAACACUcOnYaAotMAAAAAwBeDBgAAAAC+OD0JAAAAdvhyt0Ci0wAAAADAF50GAAAAmGEidDDRaQAAAADgi04DAAAAzNBpCCY6DQAAAAB80WkAAACADU8SnYZAotMAAAAAwBedhiznybXJ8dpsclyrnFabHM9m/chL2uQYacu3eV5u2OZ5hUM2OVEnYZITC7WY5BTI5vUcM8qJGh2diyrPJCdPhSY5IaN6QkbrWUYHQRNG+5+w0X4+YpZj8363yok6Ntvdav2EHKMvITDK4aA+0oVBAwAAAMw4LiOZIOL0JAAAAAC+6DQAAADAiNPjLrn6b//2b9q5c6fC4bDC4bDmzp2b6ZKyEoMGAAAA5KQ//OEPuvvuu1VVVSVJmjFjhsrKyjR+/PgMV5Z9OD0JAAAAJhwdmeNt/S9VKioqNGnSpKM/T548WQ8//HDqfmEPxqABAAAAOemtt97SwIEDj/581lln6a233spgRdmL05NSpDlRp/U7FmnUqZM16tQpmS4HAAAgZfa8+5z2vFuZkS93q62t1X333aczzzxTX/3qV4+5fd26daqsrNTQoUNVVVWlWbNm6eqrr5YkNTY2qqio6Oh9i4uLtW/fvrTV3pMwaEiRwkiJZo64O9NlAAAApFz/kVep/8irtOn/fjKtv3fTpk164okn9Nhjj+nOO+885vY1a9Zo6dKl2rFjh2KxmGpqajR69Ght3LhRkyZNUp8+fdTY2Hj0/o2Njerbt286n0KPwelJAAAA6JHKy8u1dOnSDm+rr6/XwoULdeONNyoWi0mSBg4cqPLycs2bN0+SNHbsWH3wwQdHH1NTU6Pzzz8/5XX3RAwaAAAAYMbxHPN/fsLhcIfLN2/erEOHDqmsrKzd8rKyMlVXV2v79u269tpr9eqrrx697cUXX9RNN93U/ZUQQGk9PamtrU1/+tOfdPDgQUWjUZ1++unq16/fcTc2AAAActMHL61T0bCAAAAgAElEQVTXrmceVaKpXr0L80768dXV1ZKkQYMGtVs+ePBgSVJVVZW+9KUvaf78+br33nvVq1cvTZkyRZdcckn3iw+glA8a9uzZozVr1uipp57SW2+9pVAopD59+iiRSOjgwYPKz8/X5ZdfrqlTp+qmm25ScXFxqksCAABAilh9udvAK67VwCuulSQd+sHNJ/34/fv3S9Ixf1t+NPG5trZWkvSFL3yhG1XmjpSdntTa2qpvfOMb+vSnPy3P87Ry5UodOHBA8Xhce/bs0V/+8he1tbVp9+7dmjt3rnbv3q3LL79c999/v5LJZKrKAgAAQA6IRqOSJMdpP4gJhY78+Zufn5/2mnqylAwa/vKXv+izn/2sLr74Ym3btk1LlizRFVdc0WEXoU+fPpo6daruuecebd26VYWFhbr++uvbzWQHAABAz5DuOQ3H069fP0lSQ0NDu+Uf/TxgwIDuPdEck5JBw7333qs1a9boM5/5zEk9Li8vT7Nnz9by5cu1YsWKVJQGAACAHDBu3DhJ0u7du9st37Vrl6QjV05C56Vk0PCP//iP3brG7ZAhQ457+SwAAABkKc+R3BT864IpU6aob9++2rp1a7vlW7Zs0YQJEzR8+HCLZ5wzsuKSq6tXr850CQAAAOiBWlpaJEmu67ZbHolEtHjxYlVUVKi5uVmStHfvXm3YsEFLlixJe509XVovubp3716999577SY6e56nH/7wh/rKV76SzlLSwJO84E3o9rLtOWVbPbK5fLDreCY5nlFOKGSznvNDbSY5EdnUE5VVPTbrOd/o9ZPnRE1yQjr5SxymklU9YbPtbnPczeqDOCL3xHfqhLBRjlU9VsKOTT0hq+eVZft5q5x0e+GFF/TQQw9Jkp588kmNHDlS06ZNU0lJiSRpwYIFikajmj17tsaMGaNt27apoqJC06dPz2TZPVLaBg0PPPCAbr31VnnesS/Kv53VDgAAgJ7J6pKrnTF58mRNnjzZ9z5z5szRnDlz0lRRcKXt9KRf/epX+uMf/6hkMinXdY/+SyaTuuyyy9JVBgAAAJA2v/vd77Ry5Uq98sormS6lW9I2aJgwYYLOPvvsY7oKjuPoW9/6VrrKAAAAQIo4yp5LrmbKhAkTdNVVV+n555/X1q1bNWnSJP35z3/W888/r4cffjjT5XVZ2k5Pcl1X8XhcBQUFx9z2zjvvaMqUKekqBQAAAEiJGTNm6Nvf/rYk6ZprrtH06dOPfpXAd77znUyW1i1pGzTMnTtXt912m8aPH6+zzz776HLP8/TII49o/vz56SoFAAAAKdLTOgPWPvpSOUl6+eWX9U//9E9Hfy4sLMxESSbSNmhYu3atHnrooWMuhyUxERoAAADB8NHfuq+88ooaGxt1+eWXH73twIEDmSqr25gIDQAAABsecxpc19X8+fM1e/ZsXX/99Ro6dKgqKys1derUDk/T7ynS1mkYP368Bg8efMxyx3H03e9+N11lAAAAAClzyy236D/+4z80ZcoUTZs2TfF4XHv27NF1112nSCStX5FmKm2dhkgkosOHD3d428svv5yuMgAAAICUOv/889XU1KR///d/V0FBgUaNGqVLLrlEn//85zNdWpelbbgzcuRI3XDDDbrooovadRw8z9Ojjz56dJY5AAAAei6jL9/usd5++21NmTJFBQUFuvjii/X3f//3Gj16tFasWKErr7xSkyZNynSJXZK2QcMNN9yg+vp6bd68+ZjbmAgNAACAIPjOd76jzZs36/zzz9f9998v6chVk5YsWaLbb7+9xw4a0nZ60ogRI3TgwIF2k6CZCA0AABAk9pOge9pE6PPOO0/nn3++pGMPjPfkOQ1pq/zuu+/WKaeccsxyx3G0ZMmSdJVx1Lp161RZWamhQ4eqqqpKs2bN0tVXX23+GAAAAOSO/fv3H/1/z/OO/r/rutq5c2cGKrKRtkHDlVdeqXfeeUfDhg1TXl6eJGn79u2KxWL6xCc+ka4yJElr1qzR0qVLtWPHDsViMdXU1Gj06NHauHHjcVtGXXkMAABALnHEl7uddtpp+vKXv6y5c+eqsbFR7733nn73u9/pgQce0MyZMzNdXpel7fSkVatWacyYMfrnf/7no8uGDBmin//853rppZfSVYbq6+u1cOFC3XjjjYrFYpKkgQMHqry8XPPmzTN7DAAAAHLPt771LSWTSY0bN06LFy/WsGHDNHPmTI0dO1Zf+cpXMl1el6Vt0HDw4EFVVFS0G2EVFhZq4cKFaR00bN68WYcOHVJZWVm75WVlZaqurtb27dtNHgMAAJBz+HI3hUIhrV27Vr/97W+1cuVKrVq1Sm+99ZZWrVqV6dK6JW2nJ3med9xr07a2tqarDFVXV0uSBg0a1G75R5eBraqq0nnnndftxwAAACD3vP7666qtrdU111yjsWPHZrocM2kbNLz33ntKJpMKh8PtltfX1+vtt99OVxlHJ6cUFxe3W15UVCRJqq2tNXnMwfgeLX1tggoixSqMlOjC/terrP/13X8CAAAAWeS9rY9pxys/VFu8ToV9+2e6nIy77rrr1Lt3b11zzTWZLsVU2gYNn/zkJzV+/Hj9wz/8g4YNGybpyETohx56SLfddlu6ylA0GpV07CWwQqEjZ2rl5+ebPOaUgv5aMP6p7hcMAACQxc698As698IvSJKeW/0pOW7POp3I2s0336zFixd3eNvXvvY13XfffWmuyEbaBg0333yz9u3bp6997WtqaWmR53nKy8vTt771LX35y19OVxnq16+fJKmhoaHd8o9+HjBggMljAAAAkHumTZumu+66SxMnTtS5556rXr16STpyydXnn38+w9V1XVq/YeIb3/iGZs2apddee03JZFIXX3yxTj/99HSWoHHjxkmSdu/erY997GNHl+/atUuSOjz3rCuPAQAAyEU9beKytSuuuEJNTU1Hf/7oTBXP8445a6UnSfvX0p1yyikZPcdrypQp6tu3r7Zu3app06YdXb5lyxZNmDBBw4cPN3kMAAAAcs+QIUO0du1a9enTp91y13V13XXXZaiq7jO/5OqyZcs6nBjcWQcOHNCtt95qWFF7kUhEixcvVkVFhZqbmyVJe/fu1YYNG9p9M/Xy5cs1ZswY7du3r9OPAQAAyG32l1vtaZ2Lb37zm7rgggs0ePDgdv/OOeccff3rX890eV1m3mmYP3++Zs+erU996lP6/Oc/f8zVkvysX79ejz/+uH74wx9al9XOggULFI1GNXv2bI0ZM0bbtm1TRUWFpk+ffvQ+Bw4cUG1treLxeKcfAwAAgNz04YcfaufOnb5/G/bkToP5oKGoqEj/+q//qtWrV2v8+PG65pprNGnSJF144YUqLS1td9/Gxkb953/+p15++WU9/fTTmjZtmp544gkVFhZal3WMOXPmaM6cOce9fcWKFVqxYsVJPQYAACCXOZ5y8upJK1eu1Le//W21traqtLRUa9eu1ac//elMl2UqJXMawuGw5s+fry996Uv68Y9/rFWrVumVV16R53nq3bu3HMfRwYMHlUwmVVZWpqlTp2rDhg0644wzUlEOAAAAkBLPPPOM7rjjDk2aNEn9+/fXrl279LnPfU7vvvuuzjrrrEyXZyalE6GLi4s1d+5czZ07V8lkUrW1tfrzn/+sZDKp0047TWeccYYKCgpSWQIAAACQMj/4wQ/02muv6cILLzy67Je//KUefvhhffe7381gZbbSdvWkcDis/v37q39/vikQAAAgqEI9bOJyd+Xl5bUbMEjSjBkz9Oyzz2aootQwv3oSAAAAkCt69+7d4fKSkpI0V5JaDBoAAABgJtcuuRqJdHziTih07J/ZX/ziF1NdTsqk/cvdAAAAgKCoqanRhx9+eMzyhoYG7d69W57nSTryjdDV1dXpLs8MgwYAAACYcDxHjptbJ7JUVlbqtNNO6/C21atXp7ma1GHQAAAAAHRRaWmp5s+f3+HpSH/NdV09+OCDaarKHoMGAAAAmMn2OQjWrrzySn3nO9/p1H3ffvvtFFeTOrnVPwIAAAAMLVy4sNP3/frXv57CSlKLTkPKOJITznQR5pxse07ZVo+SJilW17i2OtrjujbrudXNM8lJyKaeFlnVY7OeW41eP21ei0lOyLFZPyGj9eyqzSQnqYRJTkKuUY6NhNFxwKRRjlU9VpKeTT2u1fPKsv18rnUHLF100UUpuW+2YdAAAAAAMyGXAUgQpe0wQF1dXbuf9+/fr9raWiWTNkfWAAAAAKRG2gYNgwcP1k9/+tOjP3/wwQd67LHHNHny5ONepgoAAAA9S659uVuuSNug4dxzz9VNN92km2++WQ0NDTr//PP19a9/XS+99JKGDh2arjIAAAAAnKS0DRo++9nPasuWLdqyZYvGjh2r119/XZLkOI4uvfTSdJUBAACAFHE8yXEd83/IvLQNGhKJhC644AK98cYbuvLKK3XppZfq+9//vjzPU0FBQbrKAAAAAHCS0nb1pOrqaklSYWGhHn74YZWXl2v27Nl69tlndc4556SrDAAAAKSMY3bZcGSXtHUafvGLX+j222/X888/L9d19ZnPfEa/+93vlJ+fr8ceeyxdZQAAAAA4SWnrNNTU1OjQoUM6ePDg0WX9+/dXZWWlKioq0lUGAAAAgJOUtkHDGWecoTPOOKPD2774xS+mqwwAAACkEBOXgym7vuM9QJoTdVq/Y5He2V+Z6VIAAABSas+7z2nbv92W6TKQQmnrNOSawkiJZo64O9NlAAAApFz/kVep/8ir9MIDU5kIHVB0GgAAAAD4otMAAAAAM8xpCCY6DQAAAAB80WkAAACAmRCdhkCi0wAAAADAF52GLOcYjescJ88mJ2SVk2+T4xiNe52wTY6RvFab5xVK2jyvpGuT0+LZ7HIa3ahJTtzo9dwom5yY02KSk++1meSE1GySE5ZNPUklTHLavFaTnKRcoxwbCaPPi4Rs3u9WOS2ezfvLav24VlcGMspxPJMY4IQYNAAAAMCGx0AmqDg9CQAAAIAvOg0AAAAw4chhInRA0WkAAAAA4ItOAwAAAMzw5W7BRKcBAAAAgC86DQAAALDh8eVuQUWnAQAAAIAvBg0AAAAAfHF6EgAAAEw4kkJW35qNrEKnAQAAAIAvOg0AAAAw4nDJ1YCi0wAAAADAF50GAAAA2PCkkJvpIpAKdBoAAAAA+KLTAAAAABOO+HK3oKLTAAAAAMAXnYYs5zj5Rjl5JjmhcNQkx03GTXKckM3zcozGz55ncyJnfotNPeFE2CTHTdis52bX5vXc6BVkV46MnpfTZpITcRImOfJs3qcRo/dXQjbvr6RRTpNjk9Mom/dpi9FHelw27/cWL7tyWl2b9ZMwypFn875wXKPPiyTHkeGPQQMAAABseJLReBpZhmElAAAAAF90GgAAAGCGidDBRKchRZoTdVq/Y5He2V+Z6VIAAABS6oMdz+n1pxZmugykEJ2GFCmMlGjmiLszXQYAAEDKDRhxlQaMuEov3j+VOQ0BRacBAAAAgC86DQAAALDhSSE6DYFEpwEAAACALwYNAAAAAHxxehIAAADMcMnVYKLTAAAAAMAXnQYAAACYcDxxydWAotMAAAAAwBedBgAAAJjhkqvBRKcBAAAAgC86DQAAADDDnIZgotMAAAAAwBedhmzn2IzrnFCeUU6BSU4o3GKS4zg2z0tO2CbHazWJicZtrnEdbjN6iyds1nN9Wy+TnLqoTc5hzyjHsckpUMIkJ6K4SU7Csaonu9g8K6nR6Lhbo/JtcryoUY7Nft4qp8Wz2f+0ejavxIRr83nhJI1yjL4TwSoHwZVt+3IAAAD0UI4nhVwv02UgBTg9CQAAAIAvOg0AAAAww0ToYKLTAAAAAMAXnQYAAADYYE5DYNFpAAAAAOCLTgMAAADMMKchmOg0AAAAAPDFoAEAAACAL05PAgAAgAlHksNE6ECi0wAAAADAF50GAAAA2PA8Og0BRacBAAAAgC86DQAAADDDl7sFE52GFGlO1Gn9jkV6Z39lpksBAABIqZodz2nrLxdmugykEJ2GFCmMlGjmiLszXQYAAEDKDRxxlQaOuEovr/yUHJdvdwsiOg0AAAAAfNFpyHKO8m1yQlGTnFDYJsfzepnkOOECkxw5NuNnT0mTnGiTzfmg0Uab9RNqtdnuTYlCk5xDiZhJzoFwsUlOzImb5BSozSRHjk1MTK0mOWFl1/nNSaMV1Gi0f27wbN5fh2SzX230bPYbja7RfsO1Wc/xpE1OIplnkuO4Np87IaOccJLjyPDHoAEAAAAmHHlyvOw6UAAbDCsBAAAA+KLTAAAAADNMhA4mOg0AAAAAfNFpAAAAgA1Pcvhyt0Ci0wAAAADAF50GAAAAGPEkjzkNQUSnAQAAAIAvBg0AAAAAfHF6EgAAAMxwydVgotMAAAAAwBedBgAAANjwJIeJ0IFEpwEAAACALzoNAAAAMOHIk+MlM10GUoBOAwAAAABfdBoAAABgh6snBRKdBgAAAAC+6DRkOcfJM8kJOQU2OeFeJjme0ZUVQqGoSY7VepZszuPMb2ozyYk22mz3SGu+SU5za6FJzoeJIpOcfZFSk5yYEzfJiYRs3hcJhU1y4jJ6Xk52HXVMeDbHy1pks99okM379LAXM8qx2c83ejbPq8m12c+3JG32Y27S5k+ncNLmfRpqs8kJJzmODH8MGgAAAGDE45KrAZWTw8p169Zp9uzZuvfee3Xttdfq2Wef9b1/W1ubvve972nYsGEqKirS+PHj9fTTT6epWgAAACCzcq7TsGbNGi1dulQ7duxQLBZTTU2NRo8erY0bN2rSpEkdPua2225TKBTSPffco507d+ree+/VjBkz9NJLL+myyy5L8zMAAADIUp4kLrkaSDk1aKivr9fChQt1yy23KBY7cu7nwIEDVV5ernnz5umNN9445jF79uxRYWGhli1bdnTZpZdeqokTJ+pHP/oRgwYAAIAMWbdunSorKzV06FBVVVVp1qxZuvrqqzNdViDl1KBh8+bNOnTokMrKytotLysr089+9jNt375d5513Xrvbamtrddttt7VbNmHCBPXp00cHDx5Mec0AAAA9hyelaU5DV84eQdfl1JyG6upqSdKgQYPaLR88eLAkqaqq6pjHXHDBBerdu/cxy+PxuC655JIUVAkAAAA/H509cuONN3Z49gjs5VSnYf/+/ZKk4uLidsuLio5cvrG2trZTOVu2bFEsFtOsWbOOe5+D8Q+09NWPqyBSosJIiS7sf73KBnyui5UDAABkp9//9sfa/psfqDVep9PCZ8pJw5yGrpw9gu7p8YOGmpoaJRKJE95vwIABikaPXOvZcZx2t4VCRxou+fmdu4bzsmXL9Mgjj6hPnz7Hvc8pBQO0YMKGTuUBAAD0VMM/fpOGf/wmSVLlP12elt/ZmbNHGDTY6vGDhkmTJun9998/4f3effdd9evXT5LU0NDQ7raPfh4wYMAJc1avXq3JkydrxowZXagWAAAAnfGbvev00u5HFU/Uq9cp7f9ktTp7BJ3X4wcNv//97+V53gnvF41GNW7cOEnS7t279bGPfezobbt27ZIkjR071jfjqaeeUl1dnRYtWtSNigEAAILKM7vk6kVn/C9ddMb/kiQ90fSldrdZnT2CzuvxE6Gj0agKCgpO+M9xHE2ZMkV9+/bV1q1b22Vs2bJFEyZM0PDhw4/7e5577jm9+eabxwwY3nzzzZQ8LwAAAHTM4uwRnJweP2g4GZFIRIsXL1ZFRYWam5slSXv37tWGDRu0ZMmSo/dbvny5xowZo3379kmSXn31Vd11110aNWqU1q9fr/Xr1+vJJ5/Urbfeqj179mTkuQAAAGQlz7X/9zf++uyRv9bZs0dw8nr86Ukna8GCBYpGo5o9e7bGjBmjbdu2qaKiQtOnTz96nwMHDqi2tlbxeFzV1dWaNm2a6uvr9etf/7pd1uDBg7Vy5cp0PwUAAICc9tdnj0ybNu3o8s6cPYKuyblBgyTNmTNHc+bMOe7tK1as0IoVKyRJZ511lurq6tJVGgAAQA/mSUr9JVc/Ontk1apVWrRokQoLC4+ePfKTn/wk5b8/F+XkoAEAAAA9W2fOHoEdBg0AAACw4Xlp+XK3j5zo7BHYyamJ0AAAAABOHp2GbOeEbWJCUZOcULiXSY5ndBQiFCowyXFks56trk0daWkxyenVUGiSkxe3ud51a6vN9jrcVmSSsz/SZJITc+ImOVYSIZvjQTHHZr9R4LWZ5FhJGL3fW7w8k5wGGb0vXJv9s1VOXdJm/9OQtFk/8aTN69lL2vzpFEravA7DCascjiPDH4MGAAAA2Enj6UlIH4aVAAAAAHzRaQAAAICR9FxyFelHpwEAAACALzoNAAAAsMOchkCi0wAAAADAF50GAAAAGGFOQ1DRaQAAAADgi0EDAAAAAF+cngQAAAAjnjwmQgcSnQYAAAAAvug0AAAAwBCdhiCi0wAAAADAF50GAAAAGPEkz810EUgBOg0AAAAAfNFpAAAAgCHmNAQRnQYAAAAAvug0pEhzok5P7vimRp06RaNOm9LlHEf5JvU4oQKjnKhJTijUZpJjVY8TyjPJsRJui5vkFNcVmeTkx21eh80tNq/DhpaYSc7BiM366RVqMcmxklTYJCfm2LwOo47N+z1idPQyYbR+Wjyb/UbcKKfO7ZVVOfVuoUlOU8Jmv9GWNNrPJ2xywm02r8NIq009kWT3jiPv/O9Nev+Pm01qQXZi0JAiBZESzRy5PNNlAAAApNzZQ8t19tBybVw9TuLL3QKJ05MAAAAA+KLTAAAAAEN0GoKITgMAAAAAX3QaAAAAYMSTx5yGQKLTAAAAAMAXnQYAAAAY8cSchmCi0wAAAADAF4MGAAAAAL44PQkAAACGOD0piOg0AAAAAPBFpwEAAABGuORqUNFpAAAAAOCLTgMAAACMcMnVoKLTAAAAAMAXnQYAAADY8dxMV4AUoNMAAAAAwBedhmzn5JvEhJyoTU6ol0mOwjbnOzpOXlbleLI5uhJKNJnkxBr6mOREGwpNcvJKCkxyWgpsXoeH8opNcvJCCZMcKwmFTXJKQjbviwKnzSQn28Q9m/XTYpRT5xq9LxIxk5y6hE09zUmbz69EwmY9hxI2fzqFkjbv03DCKscxyUFwMWgAAACACU+ePCZCBxKnJwEAAADwRacBAAAAhug0BBGdBgAAAAC+6DQAAADAiCd5Keg0ME874+g0AAAAAPBFpwEAAABmuHpSMNFpAAAAAOCLQQMAAAAAX5yeBAAAACOeJDfTRSAF6DSkSDxRp/Xv3qF39lVmuhQAAICU2vnHTXr5+fmZLgMpRKchRQoiJZo5cnmmywAAAEi5s4eU6+wh5frlD0dzydWAotMAAAAAwBedBgAAABjxuORqQNFpAAAAAOCLTgMAAADseFw9KYjoNAAAAADwRachyzlOnk1OqMAoJ2qT47XZ5Bitn2wbPzvJZpOcwsawSU5BQ6FJTl5LvklOa4vN67kpv5dJzuGQzes5bHRt86Rns91bwjbvr6hjs34iWXaedEI267nJtdmvWuXUJ23eX40Jm5x4wuZ5uQmb/U84abPdwwmjnDabP+Ucl8sTwR+DBgAAABhhInRQZdfhVQAAAABZh04DAAAAjHip+XI3ZBydBgAAAAC+6DQAAADAEJdcDSI6DQAAAAB80WkAAACAEa6eFFR0GgAAAAD4YtAAAAAAwBenJwEAAMAOl1wNJDoNAAAAAHzRaQAAAIAJT548LrkaSHQaAAAAAPii0wAAAAA7zGkIJDoNAAAAAHzRaQAAAIAR5jQEFZ0GAAAAAL7oNGS9sEmKozyTnFCowCTH89pMchyr9ePYrB8zRuunV4NnlFNokpPXYrOeI635JjltLTbPqyFss71CTnYdnWvxbD4ieoVaTHLCWXb0Mml03K3VtXlfNLk274vGpM1+3up5tSVsnpeSNp8XIbMcm9dPOGFTTyTpmOQguBg0AAAAwIYnJkIHFKcnAQAAAPBFpwEAAABGPCnLTiWEDToNKRJP1Gn9u3fonX2VmS4FAAAgpd770zN64cV5mS4DKUSnIUUKIiWaOXJ5pssAAABIuXPPmapzz5mqJ9/bKI85DYFEpwEAAACALzoNAAAAMMKchqCi0wAAAADAF4MGAAAAAL44PQkAAABmmAgdTHQaAAAAAPii0wAAAAAjnuQxETqI6DQAAAAA8EWnAQAAAGY8MachiOg0AAAAAPBFpwEAAABGmNMQVHQaAAAAAPii05DtnLBNjJNvlBM1yQmF2kxyzBitZzNeq0lMXtzmvNJeTTbbPd8oJxLLM8lJRG3eF21tNs+rKWSzvcKOzVG+pNFxpVbX5qMmP5QwybGS9LJr/cRdm9dzS9ImJ56weV+4SZv14xjlhBM2nxehpE1OxKgeo90GAoxBAwAAAEx4YiJ0UHF6EgAAAABfdBoAAABgw2MidFDRaQAAAADgi04DAAAAzHgecxqCiE4DAAAAAF90GgAAAGDEk8SchiCi0wAAAADAV852GtatW6fKykoNHTpUVVVVmjVrlq6++upOP/7OO+/U+++/r7Vr16auSAAAACAL5OSgYc2aNVq6dKl27NihWCymmpoajR49Whs3btSkSZNO+PjXX39dy5cv1w033JCGagEAAHoQJkIHUs6dnlRfX6+FCxfqxhtvVCwWkyQNHDhQ5eXlmjdv3gkf39TUpAcffFATJ05MdakAAABAVsi5QcPmzZt16NAhlZWVtVteVlam6upqbd++3ffxS5Ys0eLFixUOh1NZJgAAQA/kyZNr/g+Zl3ODhurqaknSoEGD2i0fPHiwJKmqquq4j920aZOGDBmiYcOGpa5AAAAAIMvk3JyG/fv3S5KKi4vbLS8qKpIk1dbWdvi4AwcOaN26dXr00UdTWyAAAEBP5tEZCKJADBpqamqUSCT+X3v3HxxVee9x/LMbklxgQyEhTYZ5IrkAABOiSURBVGFTok1oxkowncAlI5FayQyjwcFxLtOxloGhNENnKqHY2ptpifmjIIK2dSp0atVCGpQbS9uhKJQrIESv+aUTCAqMCoYEYgwQzG9Isuf+wWWva3CTbJ49m+y+XzM7wz7nnOf5nn04e/ab53l2B93P7XYrNjZWkuRwOHy2OZ3XB11iYmJuemxhYaE2bNgw5Jg6ey/rmarF3ufz3N9Xtvv7Qz4eAABgLKh770XVvb9dksTk7fAVFklDTk6O6uvrB93v5MmTSkpKkiR1dHT4bLvx3O12Dzhux44duueeezR9+vQhxzQxOl4F/753yPsDAACMRRm3r1TG7SslSf/1glsW354UlsJiTcPp06fV3d096CM9PV1ZWVmSpIaGBp86zp07J0nKzMwcUP/27du1atUquVwu76O8vFw7d+6Uy+XSxo0bg3+SAAAAQIiExUjDjSlHQ5Gbm6uEhARVVlYqLy/PW15RUaG5c+cqPT19wDGlpaXq7u72KXv44YeVnJysJ598UvHx8YEHPyhDA32OaEP1mInHYSoeQxyjLX829FeaqGuDT9sbithuM/0V3XPz6X/DNa7XzFuXs9fMefX3Dv09yJ9rUWb6q9MxuuYT9zrNnNc1y0w9o02vx8z/555+M9fXNY+Z66Kv39D7vMfQfaffTD3OfjP3C2efoXo8pupxDL4TItoo+6QUfOPGjdP69etVUlLiTQSampq0Z88eFRUVeffbtGmTMjIy1NLSIrfbrbS0NJ/H+PHjFRcXp7S0tCAnDQAAAGOEpesLoU0/EHJhMdIwXAUFBYqNjVV+fr4yMjJUU1OjkpISLV78/wuXL126pObmZvX09IQwUgAAACD0IjJpkKTVq1dr9erVX7p9y5Yt2rJly5duf+ONN4IQFQAAwFhmyRILocNRxE1PAgAAADA8ETvSAAAAgCBgDUJYYqQBAAAAgF+MNAAAAMAISxY/7hamGGkAAAAA4BdJAwAAAAC/mJ4EAAAAg1gIHY4YaQAAAADgFyMNAAAAMISF0OGKkQYAAAAAfjHSAAAAAHP4cbewxEgDAAAAAL8YaQAAAIAZliWLkYawRNIAAAAAfMHf/vY3ffzxx4qKilJUVJR+8pOfhDqkkCJpiBAORZmpxxFtpB5rtM2Mc5h5fcwx880Tzn4z9UT3mnmrGHfNzP8fZ7+Z/jJVT3+/mdfHVD19UWbO66onxkg9pvRbZt43ohxm/gpqKh6PoXr6LEP/fzxm/v9YHkPv84bqcYyyepz9hv4/G6rH0GURNj744AM98cQTqq6uliQtWbJE2dnZmjNnTogjC51R9skNAAAAY5rVb/5hs5KSEuXk5HifL1y4UM8995ztcYwmJA0AAADA59TV1Sk5Odn7/Otf/7rq6upCGFHoMT0JAAAAhliyFIy5TsP7O3dzc7N+85vfaNq0aVq7du2A7WVlZXr99deVlpam6upqrVq1SosWLfJu7+zslMvl8j6Pi4tTS0tL4OGHAZIGAAAAhI19+/bppZdeUmlpqR5//PEB21944QUVFxfr1KlTmjhxohobG3X77bfr1Vdf9U5Jio+PV2dnp/eYzs5OJSQk2HYOoxHTkwAAAGBOiNc03HvvvSouLr7ptvb2dv3sZz/TsmXLNHHiRElScnKy7r33Xj3yyCPe/TIzM3X+/Hnv88bGRt1xxx3Dfy3CCEkDAAAAwkrUl3yL3P79+3XlyhVlZ2f7lGdnZ6u2tlYnTpyQJC1dulTl5eXe7YcOHdLy5cuDF/AYwPSkIOnpa9NfT/6nvjU1V99KzA11OAAAAEHzUf1r+qj+NUnmftyttvOyKjtadNXjketavJk6a2slSTNmzPApT0lJkSRVV1dr1qxZSktL05o1a7R582ZNmDBBubm5mj9/vpEYxiqShiD5t3GT9B+3bQp1GAAAAEGXmnKfUlPu086PdhmrM3NivDInXk8WXp8Wa6TOixcvSrq+sPnzbix6bm5u9pb94Ac/MNJmuGB6EgAAACJCbOz15MPhcPiUO53XPxLHxIyuH7UcTUgaAAAAYI4NC6HLy8vlcrl8HufOnRs0tKSkJElSR0eHT/mN526328ALEJ6YngQAAIAxZc6cOd71CTdMnz590OOysrIkSQ0NDZo9e7a3/EbCkZmZaTDK8ELSAAAAACMsy9xCaH/Gjx+vtLS0YR+Xm5urhIQEVVZWKi8vz1teUVGhuXPnKj093WSYYYXpSQAAAAgrV69elSR5PL4JzLhx47R+/XqVlJSou7tbktTU1KQ9e/aoqKjI9jjHEkYaAAAAYM4wf4zNtIMHD2rbtm2SpFdeeUW33Xab8vLyNGnSJElSQUGBYmNjlZ+fr4yMDNXU1KikpESLFy8OZdijHkkDAAAAwsbChQu1cOFCv/usXr1aq1evtimi8EDSAAAAAEPsWdMA+7GmAQAAAIBfjDSMcg5HVKhDCI5wPa9RxuEx89eeqD4zf19w9pupx+FxDL7TEJiLx0w9Ho+Z66LfY+atvc9jZl6y09CtJtrZZ6QeUzyWmX7vNdRfHsvMdWHqvCxD9cjQeTkM1WPKaIsHGAxJAwAAAAwK7UJoBAfTkwAAAAD4xUgDAAAADGEhdLhipAEAAACAX4w0AAAAwBgrxD/uhuBgpAEAAACAX4w0AAAAwAzLkljTEJYYaQAAAADgF0kDAAAAAL+YngQAAABjWAgdnhhpAAAAAOAXIw0AAAAwxJIYaQhLjDQAAAAA8IuRBgAAABhhSbI8fOVqOGKkASNSdak21CHAkMqGv4Q6BBhyqeyNUIcAgz7Z9WaoQ4AhLa/tCXUIQMBIGsLIe62VtrdZfdn+pOFU2xnb2zzZ9oGt7b3X+rat7UnSkbPbbG+zue6g7W22Vtn/Aay9vMrW9lpefM3W9iTpyqFjtrd58eAJ+9t8/T3b22x87nVb2/vssP3v6+1vvGN7m21vVdje5id/3WV7mxfe/297G7T+b02D6QdCjqQhjLwfgqQhFE63n7W9zVNtH9ra3vut9t/MevrabG/z07rDtrfZWm1/0tDxpr1JQ397l63tSdKVQ8dtb/PSQfs/wF8MQZv97d22ttcWgqSh4+i7trfZ/j/23zP7Oztsb7PpfXuTToQvh2VZVqiDCEdTp07VLbfcYmubn332mb7yla/Y2mZLS4sSExNtbTMU52l3m6E4x3PnzmnGjBm2thkJfRmKNunL8GrT7v6MlNc1EvpSsv88a2trlZmZabzeqVOnav/+/cbrxdCRNAAAAADwi+lJAAAAAPwiaQAAAADgF0kDhq2srEz5+fnavHmzli5dqn/961/DOv7xxx/XihUrghMchmW4fdnb26tf//rXmjlzplwul+bMmaO9e/faFC2kwK6/kV6zCB6uwfDBvRFhzwKG4fnnn7eSk5Otjo4Oy7Isq6GhwZo0aZJVXl4+pOMrKyutmJgYa/ny5UGMEkMRSF+uXbvWWrdunbV7927r6aeftpKSkiyn02kdOXLErrAjWiB9NtJrFsHDNRg+uDciEpA0YMja2tqsyZMnW4WFhT7l3/ve96zMzMxBj+/s7LSWLVtm5eTk8MYYYoH05fnz5wfsX1VVZUmiP20QSJ+N9JpF8HANhg/ujYgUTE/CkO3fv19XrlxRdna2T3l2drZqa2t14oT/H1oqKirS+vXrFRUVFcwwMQSB9GVzc7Mee+wxn7K5c+cqPj5era2tQY0XgfXZSK9ZBA/XYPjg3ohIQdKAIautvf6DP1/8jumUlBRJUnV19Zceu2/fPqWmpmrmzJnBCxBDFkhffvvb39bkyZMHlPf09Gj+/PlBiBKfF0ifjeSaRXBxDYYP7o2IFONCHQDGjosXL0qS4uLifMpdLpek638Fu5lLly6prKxMf/7zn4MbIIYs0L78ooqKCk2cOFGrVq0yGyAGCKTPTPUzzOMaDB/cGxEpSBoiXGNjo/r6+gbdz+12KzY2VpLkcDh8tjmd1wesYmJibnpsYWGhNmzYMMJIMRg7+vKLNm7cqD/96U+Kj48fZrQYrkD6zFQ/wzyuwfDBvRGRgqQhwuXk5Ki+vn7Q/U6ePKmkpCRJUkdHh8+2G8/dbveA43bs2KF77rlH06dPNxAt/Al2X37R1q1btXDhQi1ZsiSAaDFcgfSZiX5GcHANhg/ujYgUrGmIcKdPn1Z3d/egj/T0dGVlZUmSGhoafOo4d+6cJCkzM3NA/du3b9eqVavkcrm8j/Lycu3cuVMul0sbN24M/klGiGD35ef94x//UFtbmwoKCoJzMhggkD4baT8jeLgGwwf3RkQKRhoi3I1h1aHIzc1VQkKCKisrlZeX5y2vqKjQ3LlzlZ6ePuCY0tJSdXd3+5Q9/PDDSk5O1pNPPsmQukHB7ssbDhw4oOPHj6uoqMin/Pjx45o9e/bwA8eQBNJnI+lnBBfXYPjg3oiIEervfMXY8rvf/c5KSUmxurq6LMuyrAsXLlgul8v65z//6d3niSeesGbNmmV9+umnN63jO9/5Dt9FPQoE0pdHjx615s+fb73yyiveR1lZmbV27Vpr3759ITmPSBJInw3lGIQG12D44N6ISMBIA4aloKBAsbGxys/PV0ZGhmpqalRSUqLFixd797l06ZKam5vV09MTwkgxmOH2ZW1trfLy8tTe3q633nrLp66UlBQ9/fTTdp9CxAnk+hvKMQgNrsHwwb0RkcBhWZYV6iAAAAAAjF4shAYAAADgF0kDAAAAAL9IGgAAAAD4RdIAAAAAwC+SBgAAAAB+kTQAAAAA8IukAQAAAIBfJA0AAAAA/CJpAAAAAOAXSQMAjHHt7e3asGFDqMMAAIQxkgYAGMP6+vqUn5+vlStX2tLeo48+qubmZlvaAgCMHiQNADCGbd26VYsWLdK0adNsaa+wsFD5+fnq6emxpT0AwOjgsCzLCnUQAIDha2tr01133aWamhpFR0fb1u7u3bv19ttv66mnnrKtTQBAaDHSAABj1I4dO3T//ffbmjBI0oMPPqhDhw6psbHR1nYBAKFD0gAAY9Srr76qnJwc29t1OBxasmSJXnzxRdvbBgCEBtOTAMAGf/jDH/TUU0/pzJkzmjdvnv7+979r2rRpWrFihXbs2KE77rhDe/fuVXJy8pDq6+vrU1xcnC5cuKApU6YM2L59+3YdOHBAt956q5xOp6ZMmaJ169bp4MGDKiws1KlTp/Tyyy/r5MmT6uvrU01NjRYsWKAVK1bo2WefldPpVHV1tRYsWKCCgoIB9R8+fFiPPvqo3n333RG/NgCA0Y+kAQBs0tLSohkzZqikpERLly6VJHV2dmrZsmXavXu3HA7HkOs6f/68vvGNb+jq1asDtm3ZskWlpaWqrq5WTEyMSktLtWzZMtXV1WnWrFm6fPmyEhIStGjRIr388suaMmWKPv74Y6WmpurHP/6xNm/erAkTJujs2bNKTU1VQ0OD3G63TxttbW1KSEhQR0eHYmNjR/bCAABGPaYnAYBNEhMT9dBDD+nZZ5/1lu3atUvFxcXDShgk6ZNPPtHkyZMHlF++fFlFRUXKz89XTEyMJOm73/2ufvvb32rmzJmSpPj4eElSdna2d5RixowZ8ng8ysrK0oQJEyRJKSkpsixLZ86cGdDOpEmT5HQ6dfbs2WHFDQAYm0gaAMBGa9as0dGjR3X8+HFJUl1dnWbPnj3sevr7+2+aaLz55pvq6enRN7/5TW+Z2+3W2rVrB4wI3HLLLd5/O53Xbwe33nrrgLL+/v6bxhAfH6/W1tZhxw4AGHtIGgDARpmZmcrJydHvf/97lZeX66677gqonsTExJt+YP+yD/jB0NfXx9QkAIgQJA0AYLNHHnlEO3fuVElJiR544IGA6vja176m/v5+tbe3+5Tfeeedio6O1okTJ3zKu7q6VFdXF3DMX2RZllpbW/XVr37VWJ0AgNGLpAEAbPbggw8qPj5eqampioqKCqiO8ePHKzs7W++8845PeVJSkn75y19q27Ztamtr85Zv3brVu1bhxvdffP57MIZadsPly5cVHR2tpKSkgOIHAIwtUcXFxcWhDgIAIsmNBcTr1q3zfpAPRHNzsz766CPdfffdPuV33323xo8frw0bNujYsWM6cuSI7rzzTmVlZenQoUNauXKl6uvrdezYMbW1tcnpdGr58uWqr69XdXW1ent71d7erh/+8IfeMo/Ho3nz5nnbOHz4sJqbm7V8+fKA4wcAjB185SoA2ODq1au6ePGi3G63enp6VFxcrE2bNo2ozqamJt1///2qqqryLlq2y2OPPabk5GStWbPG1nYBAKHB9CQAsMGvfvUrLViwQNL1H3r70Y9+NOI6p02bpry8PO3evXvEdQ3HtWvXdODAAUYZACCCMNIAADaoqqrS1q1blZaWpqysLN13331G6u3q6tJDDz2k559/XomJiUbqHMwf//hHdXV16ac//akt7QEAQo+kAQDGuKamJm3atEnPPPNM0Nv68MMP9Ytf/EK7du1SdHR00NsDAIwOJA0AgCErKirSz3/+c8XFxYU6FACAjUgaAAAAAPjFQmgAAAAAfpE0AAAAAPCLpAEAAACAXyQNAAAAAPwiaQAAAADgF0kDAAAAAL9IGgAAAAD4RdIAAAAAwC+SBgAAAAB+kTQAAAAA8IukAQAAAIBfJA0AAAAA/CJpAAAAAOAXSQMAAAAAv0gaAAAAAPhF0gAAAADAL5IGAAAAAH6RNAAAAADwi6QBAAAAgF//C7mGxarqGtW4AAAAAElFTkSuQmCC\"><br>"
      ],
      "text/plain": [
       "<yt.visualization.plot_window.AxisAlignedSlicePlot at 0x7f8023fcfa50>"
      ]
     },
     "metadata": {},
     "output_type": "display_data"
    }
   ],
   "source": [
    "plot_index(data_files[-1], \"pres\", \"x\")"
   ]
  },
  {
   "cell_type": "markdown",
   "metadata": {},
   "source": [
    "# Analyse Data"
   ]
  },
  {
   "cell_type": "markdown",
   "metadata": {},
   "source": [
    "... with `numpy`"
   ]
  },
  {
   "cell_type": "markdown",
   "metadata": {},
   "source": [
    "## Velocity fluctuations"
   ]
  },
  {
   "cell_type": "code",
   "execution_count": 13,
   "metadata": {},
   "outputs": [
    {
     "name": "stderr",
     "output_type": "stream",
     "text": [
      "yt : [INFO     ] 2019-07-19 16:38:44,017 Parameters: current_time              = 0.001\n",
      "yt : [INFO     ] 2019-07-19 16:38:44,018 Parameters: domain_dimensions         = [32 32 32]\n",
      "yt : [INFO     ] 2019-07-19 16:38:44,020 Parameters: domain_left_edge          = [0. 0. 0.]\n",
      "yt : [INFO     ] 2019-07-19 16:38:44,023 Parameters: domain_right_edge         = [1. 1. 1.]\n"
     ]
    }
   ],
   "source": [
    "ds = yt.load(data_files[-1])"
   ]
  },
  {
   "cell_type": "markdown",
   "metadata": {},
   "source": [
    "Get information about geometry: $\\mathrm{d}x$ and index of centre"
   ]
  },
  {
   "cell_type": "code",
   "execution_count": 14,
   "metadata": {},
   "outputs": [
    {
     "name": "stdout",
     "output_type": "stream",
     "text": [
      "[16. 16. 16.]\n"
     ]
    }
   ],
   "source": [
    "dx = np.array(\n",
    "    [\n",
    "        ( ds.domain_right_edge[i] - ds.domain_left_edge[i] ) / ds.domain_dimensions[i] \n",
    "        for i in range(ds.dimensionality) \n",
    "    ]\n",
    ")\n",
    "\n",
    "\n",
    "centre_slice = np.array([ei for ei in ds.domain_right_edge ])/2\n",
    "ind_cen      = centre_slice / dx\n",
    "print(ind_cen)"
   ]
  },
  {
   "cell_type": "markdown",
   "metadata": {},
   "source": [
    "Extract a \"cube of data\" from the plot file. This might seem a bit convoluted, but remember that YT is built to handle multi-level data. This function covers a given level (in our case, level 0) with a 3D grid (cube) and exports the data into a dict of `numpy` arrays. This way `cube[\"filed name\"]` is a 3D numpy array."
   ]
  },
  {
   "cell_type": "code",
   "execution_count": 15,
   "metadata": {},
   "outputs": [],
   "source": [
    "cube = ds.covering_grid(level=0, fields=[\"shifted_velx\", \"shifted_vely\", \"shifted_velz\"], \n",
    "                        left_edge=ds.domain_left_edge, dims=ds.domain_dimensions)\n",
    "velx = cube[\"shifted_velx\"]\n",
    "vely = cube[\"shifted_vely\"]\n",
    "velz = cube[\"shifted_velz\"]"
   ]
  },
  {
   "cell_type": "markdown",
   "metadata": {},
   "source": [
    "Double-check the data."
   ]
  },
  {
   "cell_type": "code",
   "execution_count": 16,
   "metadata": {},
   "outputs": [
    {
     "data": {
      "text/plain": [
       "<matplotlib.colorbar.Colorbar at 0x7f8023601450>"
      ]
     },
     "execution_count": 16,
     "metadata": {},
     "output_type": "execute_result"
    },
    {
     "data": {
      "image/png": "[encoded data removed]",
      "text/plain": [
       "<Figure size 288x288 with 2 Axes>"
      ]
     },
     "metadata": {
      "needs_background": "light"
     },
     "output_type": "display_data"
    }
   ],
   "source": [
    "matshow(velx[:, 16, :])\n",
    "colorbar()"
   ]
  },
  {
   "cell_type": "code",
   "execution_count": 17,
   "metadata": {},
   "outputs": [
    {
     "data": {
      "text/plain": [
       "<matplotlib.colorbar.Colorbar at 0x7f8023653c90>"
      ]
     },
     "execution_count": 17,
     "metadata": {},
     "output_type": "execute_result"
    },
    {
     "data": {
      "image/png": "[encoded data removed]",
      "text/plain": [
       "<Figure size 288x288 with 2 Axes>"
      ]
     },
     "metadata": {
      "needs_background": "light"
     },
     "output_type": "display_data"
    }
   ],
   "source": [
    "matshow(vely[:, 16, :])\n",
    "colorbar()"
   ]
  },
  {
   "cell_type": "code",
   "execution_count": 18,
   "metadata": {},
   "outputs": [
    {
     "data": {
      "text/plain": [
       "<matplotlib.colorbar.Colorbar at 0x7f8024cd1ad0>"
      ]
     },
     "execution_count": 18,
     "metadata": {},
     "output_type": "execute_result"
    },
    {
     "data": {
      "image/png": "[encoded data removed]",
      "text/plain": [
       "<Figure size 288x288 with 2 Axes>"
      ]
     },
     "metadata": {
      "needs_background": "light"
     },
     "output_type": "display_data"
    }
   ],
   "source": [
    "matshow(velz[:, 16, :])\n",
    "colorbar()"
   ]
  },
  {
   "cell_type": "code",
   "execution_count": 19,
   "metadata": {},
   "outputs": [],
   "source": [
    "class SoA:\n",
    "    _pref = \"particle_\"\n",
    "    _pos  = \"position_\"\n",
    "    _vel  = \"vel\"\n",
    "    def __init__(self, data):\n",
    "        str_pos = self._pref+self._pos\n",
    "        self.px = np.array(data[str_pos + \"x\"])\n",
    "        self.py = np.array(data[str_pos + \"y\"])\n",
    "        self.pz = np.array(data[str_pos + \"z\"])\n",
    "\n",
    "        str_vel = self._pref+self._vel\n",
    "        self.vx = np.array(data[str_vel + \"x\"])\n",
    "        self.vy = np.array(data[str_vel + \"y\"])\n",
    "        self.vz = np.array(data[str_vel + \"z\"])\n",
    "\n",
    "        \n",
    "    def __str__(self):\n",
    "        return \"{pos:\"  + str(self.px) + \",\" + str(self.py) + \",\" + str(self.pz) + \\\n",
    "              \"; vel:\"  + str(self.vx) + \",\" + str(self.vy) + \",\" + str(self.vz) + \"}\"\n",
    "\n",
    "\n",
    "    def __repr__(self):\n",
    "        return str(self)\n",
    "\n",
    "\n",
    "\n",
    "class Particle:\n",
    "    def __init__(self, px, py, pz, vx, vy, vz):\n",
    "        self.pos = np.array([px, py, pz])\n",
    "        self.vel = np.array([vx, vy, vz])\n",
    "\n",
    "\n",
    "    def __str__(self):\n",
    "        return \"P(\" + str(self.pos) + \",\" + str(self.vel) + \",\" + \")\"\n",
    "\n",
    "\n",
    "    def __repr__(self):\n",
    "        return str(self)\n",
    "\n",
    "\n",
    "class AoS:\n",
    "    def __init__(self, amrex_data):\n",
    "        self.particles = list()\n",
    "        soa = SoA(amrex_data)\n",
    "        \n",
    "        data = zip(soa.px, soa.py, soa.pz, soa.vx, soa.vy, soa.vz)\n",
    "        for elt in data:\n",
    "            self.particles.append(Particle(* elt))\n",
    "\n"
   ]
  },
  {
   "cell_type": "code",
   "execution_count": 20,
   "metadata": {},
   "outputs": [
    {
     "name": "stderr",
     "output_type": "stream",
     "text": [
      "yt : [INFO     ] 2019-07-19 16:38:46,120 Parameters: current_time              = 0.001\n",
      "yt : [INFO     ] 2019-07-19 16:38:46,121 Parameters: domain_dimensions         = [32 32 32]\n",
      "yt : [INFO     ] 2019-07-19 16:38:46,123 Parameters: domain_left_edge          = [0. 0. 0.]\n",
      "yt : [INFO     ] 2019-07-19 16:38:46,124 Parameters: domain_right_edge         = [1. 1. 1.]\n"
     ]
    }
   ],
   "source": [
    "ds = AMReXDataset(data_files[-1])"
   ]
  },
  {
   "cell_type": "code",
   "execution_count": 21,
   "metadata": {},
   "outputs": [
    {
     "data": {
      "text/plain": [
       "defaultdict(list,\n",
       "            {'immbdy_markers': ['particle_cpu',\n",
       "              'particle_cpu_0',\n",
       "              'particle_cpu_1',\n",
       "              'particle_forcex',\n",
       "              'particle_forcey',\n",
       "              'particle_forcez',\n",
       "              'particle_id',\n",
       "              'particle_id_0',\n",
       "              'particle_id_1',\n",
       "              'particle_position_x',\n",
       "              'particle_position_y',\n",
       "              'particle_position_z',\n",
       "              'particle_pred_forcex',\n",
       "              'particle_pred_forcey',\n",
       "              'particle_pred_forcez',\n",
       "              'particle_pred_posx',\n",
       "              'particle_pred_posy',\n",
       "              'particle_pred_posz',\n",
       "              'particle_pred_velx',\n",
       "              'particle_pred_vely',\n",
       "              'particle_pred_velz',\n",
       "              'particle_radius',\n",
       "              'particle_velx',\n",
       "              'particle_vely',\n",
       "              'particle_velz']})"
      ]
     },
     "execution_count": 21,
     "metadata": {},
     "output_type": "execute_result"
    }
   ],
   "source": [
    "ds.particle_fields_by_type"
   ]
  },
  {
   "cell_type": "code",
   "execution_count": 22,
   "metadata": {},
   "outputs": [],
   "source": [
    "ad = ds.all_data()\n",
    "soa = SoA(ad)\n",
    "aos = AoS(ad)"
   ]
  },
  {
   "cell_type": "code",
   "execution_count": 23,
   "metadata": {},
   "outputs": [
    {
     "data": {
      "text/plain": [
       "[P([0.09117195 0.45855728 0.5       ],[ 3.84225705 -4.00168194  0.        ],),\n",
       " P([0.0491203  0.48992839 0.5       ],[  0.3534643 -13.4838806   0.       ],),\n",
       " P([0.14404936 0.46308084 0.5       ],[ 1.50506545 -4.08988525  0.        ],)]"
      ]
     },
     "execution_count": 23,
     "metadata": {},
     "output_type": "execute_result"
    }
   ],
   "source": [
    "aos.particles"
   ]
  },
  {
   "cell_type": "code",
   "execution_count": 24,
   "metadata": {},
   "outputs": [
    {
     "data": {
      "text/plain": [
       "array([0.09117195, 0.45855728, 0.5       ])"
      ]
     },
     "execution_count": 24,
     "metadata": {},
     "output_type": "execute_result"
    }
   ],
   "source": [
    "aos.particles[0].pos[0:3]"
   ]
  },
  {
   "cell_type": "code",
   "execution_count": 25,
   "metadata": {},
   "outputs": [
    {
     "name": "stderr",
     "output_type": "stream",
     "text": [
      "yt : [INFO     ] 2019-07-19 16:38:46,734 Parameters: current_time              = 0.0\n",
      "yt : [INFO     ] 2019-07-19 16:38:46,734 Parameters: domain_dimensions         = [32 32 32]\n",
      "yt : [INFO     ] 2019-07-19 16:38:46,737 Parameters: domain_left_edge          = [0. 0. 0.]\n",
      "yt : [INFO     ] 2019-07-19 16:38:46,738 Parameters: domain_right_edge         = [1. 1. 1.]\n"
     ]
    },
    {
     "ename": "IndexError",
     "evalue": "list index out of range",
     "output_type": "error",
     "traceback": [
      "\u001b[0;31m---------------------------------------------------------------------------\u001b[0m",
      "\u001b[0;31mIndexError\u001b[0m                                Traceback (most recent call last)",
      "\u001b[0;32m<ipython-input-25-2e734556844e>\u001b[0m in \u001b[0;36m<module>\u001b[0;34m()\u001b[0m\n\u001b[1;32m     17\u001b[0m     \u001b[0mpositions_2\u001b[0m\u001b[0;34m.\u001b[0m\u001b[0mappend\u001b[0m\u001b[0;34m(\u001b[0m\u001b[0maos\u001b[0m\u001b[0;34m.\u001b[0m\u001b[0mparticles\u001b[0m\u001b[0;34m[\u001b[0m\u001b[0;36m1\u001b[0m\u001b[0;34m]\u001b[0m\u001b[0;34m.\u001b[0m\u001b[0mpos\u001b[0m\u001b[0;34m)\u001b[0m\u001b[0;34m\u001b[0m\u001b[0m\n\u001b[1;32m     18\u001b[0m     \u001b[0mpositions_3\u001b[0m\u001b[0;34m.\u001b[0m\u001b[0mappend\u001b[0m\u001b[0;34m(\u001b[0m\u001b[0maos\u001b[0m\u001b[0;34m.\u001b[0m\u001b[0mparticles\u001b[0m\u001b[0;34m[\u001b[0m\u001b[0;36m2\u001b[0m\u001b[0;34m]\u001b[0m\u001b[0;34m.\u001b[0m\u001b[0mpos\u001b[0m\u001b[0;34m)\u001b[0m\u001b[0;34m\u001b[0m\u001b[0m\n\u001b[0;32m---> 19\u001b[0;31m     \u001b[0mpositions_4\u001b[0m\u001b[0;34m.\u001b[0m\u001b[0mappend\u001b[0m\u001b[0;34m(\u001b[0m\u001b[0maos\u001b[0m\u001b[0;34m.\u001b[0m\u001b[0mparticles\u001b[0m\u001b[0;34m[\u001b[0m\u001b[0;36m3\u001b[0m\u001b[0;34m]\u001b[0m\u001b[0;34m.\u001b[0m\u001b[0mpos\u001b[0m\u001b[0;34m)\u001b[0m\u001b[0;34m\u001b[0m\u001b[0m\n\u001b[0m\u001b[1;32m     20\u001b[0m     \u001b[0mpositions_5\u001b[0m\u001b[0;34m.\u001b[0m\u001b[0mappend\u001b[0m\u001b[0;34m(\u001b[0m\u001b[0maos\u001b[0m\u001b[0;34m.\u001b[0m\u001b[0mparticles\u001b[0m\u001b[0;34m[\u001b[0m\u001b[0;36m4\u001b[0m\u001b[0;34m]\u001b[0m\u001b[0;34m.\u001b[0m\u001b[0mpos\u001b[0m\u001b[0;34m)\u001b[0m\u001b[0;34m\u001b[0m\u001b[0m\n\u001b[1;32m     21\u001b[0m     \u001b[0mpositions_6\u001b[0m\u001b[0;34m.\u001b[0m\u001b[0mappend\u001b[0m\u001b[0;34m(\u001b[0m\u001b[0maos\u001b[0m\u001b[0;34m.\u001b[0m\u001b[0mparticles\u001b[0m\u001b[0;34m[\u001b[0m\u001b[0;36m5\u001b[0m\u001b[0;34m]\u001b[0m\u001b[0;34m.\u001b[0m\u001b[0mpos\u001b[0m\u001b[0;34m)\u001b[0m\u001b[0;34m\u001b[0m\u001b[0m\n",
      "\u001b[0;31mIndexError\u001b[0m: list index out of range"
     ]
    }
   ],
   "source": [
    "positions_1  = list()\n",
    "positions_2  = list()\n",
    "positions_3  = list()\n",
    "positions_4  = list()\n",
    "positions_5  = list()\n",
    "positions_6  = list()\n",
    "positions_7  = list()\n",
    "positions_8  = list()\n",
    "positions_9  = list()\n",
    "positions_10 = list()\n",
    "\n",
    "for data_file in data_files:\n",
    "    ds = AMReXDataset(data_file)\n",
    "    ad = ds.all_data()\n",
    "    aos = AoS(ad)\n",
    "    positions_1.append(aos.particles[0].pos)\n",
    "    positions_2.append(aos.particles[1].pos)\n",
    "    positions_3.append(aos.particles[2].pos)\n"
   ]
  },
  {
   "cell_type": "code",
   "execution_count": null,
   "metadata": {},
   "outputs": [],
   "source": [
    "x_1 = np.array([pos[0] for pos in positions_1])\n",
    "y_1 = np.array([pos[1] for pos in positions_1])\n",
    "z_1 = np.array([pos[2] for pos in positions_1])\n",
    "\n",
    "x_2 = np.array([pos[0] for pos in positions_2])\n",
    "y_2 = np.array([pos[1] for pos in positions_2])\n",
    "z_2 = np.array([pos[2] for pos in positions_2])\n",
    "\n",
    "x_3 = np.array([pos[0] for pos in positions_3])\n",
    "y_3 = np.array([pos[1] for pos in positions_3])\n",
    "z_3 = np.array([pos[2] for pos in positions_3])\n",
    "\n",
    "x_4 = np.array([pos[0] for pos in positions_4])\n",
    "y_4 = np.array([pos[1] for pos in positions_4])\n",
    "z_4 = np.array([pos[2] for pos in positions_4])\n",
    "\n",
    "x_5 = np.array([pos[0] for pos in positions_5])\n",
    "y_5 = np.array([pos[1] for pos in positions_5])\n",
    "z_5 = np.array([pos[2] for pos in positions_5])\n",
    "\n",
    "x_6 = np.array([pos[0] for pos in positions_6])\n",
    "y_6 = np.array([pos[1] for pos in positions_6])\n",
    "z_6 = np.array([pos[2] for pos in positions_6])\n",
    "\n",
    "x_7 = np.array([pos[0] for pos in positions_7])\n",
    "y_7 = np.array([pos[1] for pos in positions_7])\n",
    "z_7 = np.array([pos[2] for pos in positions_7])\n",
    "\n",
    "x_8 = np.array([pos[0] for pos in positions_8])\n",
    "y_8 = np.array([pos[1] for pos in positions_8])\n",
    "z_8 = np.array([pos[2] for pos in positions_8])\n",
    "\n",
    "x_9 = np.array([pos[0] for pos in positions_9])\n",
    "y_9 = np.array([pos[1] for pos in positions_9])\n",
    "z_9 = np.array([pos[2] for pos in positions_9])\n",
    "\n",
    "x_10 = np.array([pos[0] for pos in positions_10])\n",
    "y_10 = np.array([pos[1] for pos in positions_10])\n",
    "z_10 = np.array([pos[2] for pos in positions_10])\n",
    "\n",
    "plot(x_1, y_1)\n",
    "plot(x_2, y_2)\n",
    "plot(x_3, y_3)\n",
    "plot(x_4, y_4)\n",
    "plot(x_5, y_5)\n",
    "plot(x_6, y_6)\n",
    "plot(x_7, y_7)\n",
    "plot(x_8, y_8)\n",
    "plot(x_9, y_9)\n",
    "plot(x_10, y_10)"
   ]
  },
  {
   "cell_type": "code",
   "execution_count": null,
   "metadata": {},
   "outputs": [],
   "source": [
    "plot(x_1)\n",
    "plot(x_2)\n",
    "plot(x_3)\n",
    "plot(x_4)\n",
    "plot(x_5)\n",
    "plot(x_6)\n",
    "plot(x_7)\n",
    "plot(x_8)\n",
    "plot(x_9)\n",
    "plot(x_10)"
   ]
  },
  {
   "cell_type": "code",
   "execution_count": null,
   "metadata": {},
   "outputs": [],
   "source": [
    "plot(y_1)\n",
    "plot(y_2)\n",
    "plot(y_3)\n",
    "plot(y_4)\n",
    "plot(y_5)\n",
    "plot(y_6)\n",
    "plot(y_7)\n",
    "plot(y_8)\n",
    "plot(y_9)\n",
    "plot(y_10)"
   ]
  },
  {
   "cell_type": "code",
   "execution_count": null,
   "metadata": {},
   "outputs": [],
   "source": [
    "plot(z_1)\n",
    "plot(z_2)\n",
    "plot(z_3)\n",
    "plot(z_4)\n",
    "plot(z_5)\n",
    "plot(z_6)\n",
    "plot(z_7)\n",
    "plot(z_8)\n",
    "plot(z_9)\n",
    "plot(z_10)"
   ]
  },
  {
   "cell_type": "code",
   "execution_count": null,
   "metadata": {},
   "outputs": [],
   "source": [
    "z_3"
   ]
  },
  {
   "cell_type": "code",
   "execution_count": null,
   "metadata": {},
   "outputs": [],
   "source": []
  },
  {
   "cell_type": "code",
   "execution_count": null,
   "metadata": {},
   "outputs": [],
   "source": []
  },
  {
   "cell_type": "code",
   "execution_count": null,
   "metadata": {},
   "outputs": [],
   "source": []
  },
  {
   "cell_type": "code",
   "execution_count": null,
   "metadata": {},
   "outputs": [],
   "source": []
  },
  {
   "cell_type": "code",
   "execution_count": null,
   "metadata": {},
   "outputs": [],
   "source": []
  },
  {
   "cell_type": "markdown",
   "metadata": {},
   "source": [
    "## Remove Average `vely`"
   ]
  },
  {
   "cell_type": "markdown",
   "metadata": {},
   "source": [
    "The $y$-data might seem smooth. But there will be tiny fluctuations. In order to see those, let's compute the average in dimensions 2 and 3."
   ]
  },
  {
   "cell_type": "code",
   "execution_count": null,
   "metadata": {},
   "outputs": [],
   "source": [
    "m_vely = mean(mean(vely[:, :, :], axis=1), axis=1)\n",
    "#              ^^-- returns a 2D array of average velocities\n",
    "#         ^^------- returns a 1D array of average velocities (the average of the previous average)\n",
    "plot(m_vely)"
   ]
  },
  {
   "cell_type": "markdown",
   "metadata": {},
   "source": [
    "Compute fluctuations: `m_vely` is applied to all `dim=1` slices"
   ]
  },
  {
   "cell_type": "code",
   "execution_count": null,
   "metadata": {},
   "outputs": [],
   "source": [
    "# slice-wise subtraction of the average velocity... \n",
    "# I can't think of a fancy pythonic way of doing this => I'll do it in this cumbersome way:\n",
    "fluct_vely = np.zeros_like(vely)\n",
    "for i in range(vely.shape[0]):\n",
    "    for j in range(vely.shape[1]):\n",
    "            fluct_vely[:, i, j] = vely[:, i, j] - m_vely[:]"
   ]
  },
  {
   "cell_type": "code",
   "execution_count": null,
   "metadata": {},
   "outputs": [],
   "source": [
    "matshow(fluct_vely[:, 8, :])\n",
    "colorbar()"
   ]
  },
  {
   "cell_type": "markdown",
   "metadata": {},
   "source": [
    "## Compute $x$, $y$ and $z$ Temperatures (Fluctuations in `velx`, `vely`, `velz`)"
   ]
  },
  {
   "cell_type": "code",
   "execution_count": null,
   "metadata": {},
   "outputs": [],
   "source": [
    "t_x = mean(mean(velx[:, :, :]**2, axis=1), axis=1)\n",
    "#           ^^-- returns a 2D array of average velocities\n",
    "#      ^^------- returns a 1D array of average velocities (the average of the previous average)\n",
    "t_x = sqrt(t_x)"
   ]
  },
  {
   "cell_type": "code",
   "execution_count": null,
   "metadata": {},
   "outputs": [],
   "source": [
    "t_y = mean(mean(fluct_vely[:, :, :]**2, axis=1), axis=1)\n",
    "#           ^^-- returns a 2D array of average velocities\n",
    "#      ^^------- returns a 1D array of average velocities (the average of the previous average)\n",
    "t_y = sqrt(t_y)"
   ]
  },
  {
   "cell_type": "code",
   "execution_count": null,
   "metadata": {},
   "outputs": [],
   "source": [
    "t_z = mean(mean(velz[:, :, :]**2, axis=1), axis=1)\n",
    "#           ^^-- returns a 2D array of average velocities\n",
    "#      ^^------- returns a 1D array of average velocities (the average of the previous average)\n",
    "t_z = sqrt(t_z)"
   ]
  },
  {
   "cell_type": "code",
   "execution_count": null,
   "metadata": {},
   "outputs": [],
   "source": [
    "plot(t_x)\n",
    "plot(t_y)\n",
    "plot(t_z)"
   ]
  },
  {
   "cell_type": "markdown",
   "metadata": {},
   "source": [
    "We see that the $x$-fluctuations are supressed due to the wall $\\Rightarrow{}$ needs fixing!"
   ]
  },
  {
   "cell_type": "code",
   "execution_count": null,
   "metadata": {},
   "outputs": [],
   "source": []
  },
  {
   "cell_type": "code",
   "execution_count": null,
   "metadata": {},
   "outputs": [],
   "source": []
  },
  {
   "cell_type": "code",
   "execution_count": null,
   "metadata": {},
   "outputs": [],
   "source": []
  },
  {
   "cell_type": "code",
   "execution_count": null,
   "metadata": {},
   "outputs": [],
   "source": []
  },
  {
   "cell_type": "code",
   "execution_count": null,
   "metadata": {},
   "outputs": [],
   "source": []
  },
  {
   "cell_type": "code",
   "execution_count": null,
   "metadata": {},
   "outputs": [],
   "source": []
  },
  {
   "cell_type": "code",
   "execution_count": null,
   "metadata": {},
   "outputs": [],
   "source": []
  },
  {
   "cell_type": "code",
   "execution_count": null,
   "metadata": {},
   "outputs": [],
   "source": []
  },
  {
   "cell_type": "code",
   "execution_count": null,
   "metadata": {},
   "outputs": [],
   "source": []
  },
  {
   "cell_type": "code",
   "execution_count": null,
   "metadata": {},
   "outputs": [],
   "source": []
  },
  {
   "cell_type": "markdown",
   "metadata": {},
   "source": [
    "# Old Stuff $\\Rightarrow{}$ Clean up at some point"
   ]
  },
  {
   "cell_type": "code",
   "execution_count": null,
   "metadata": {},
   "outputs": [],
   "source": [
    "def grad(phi):\n",
    "    dphi_x = np.zeros_like(phi)\n",
    "    dphi_y = np.zeros_like(phi)\n",
    "    dphi_z = np.zeros_like(phi)\n",
    "    \n",
    "    dphi_x[ :-1, :, :] += phi[1:,   :, :]\n",
    "    dphi_x[1:,   :, :] -= phi[ :-1, :, :]\n",
    "    \n",
    "    dphi_y[:,  :-1, :] += phi[:, 1:,   :]\n",
    "    dphi_y[:, 1:,   :] -= phi[:,  :-1, :]\n",
    "    \n",
    "    dphi_z[:, :,  :-1] += phi[:, :, 1:, ]\n",
    "    dphi_z[:, :, 1:  ] -= phi[:, :,  :-1]\n",
    "    \n",
    "    return dphi_x, dphi_y, dphi_z"
   ]
  },
  {
   "cell_type": "code",
   "execution_count": null,
   "metadata": {},
   "outputs": [],
   "source": [
    "grad_x, grad_y, grad_z = grad(cube[\"con\"])"
   ]
  },
  {
   "cell_type": "code",
   "execution_count": null,
   "metadata": {},
   "outputs": [],
   "source": [
    "matshow(cube['con'][32, :, :])"
   ]
  },
  {
   "cell_type": "code",
   "execution_count": null,
   "metadata": {},
   "outputs": [],
   "source": [
    "matshow(grad_z[32, :, 65:])"
   ]
  },
  {
   "cell_type": "code",
   "execution_count": null,
   "metadata": {},
   "outputs": [],
   "source": [
    "matshow(cube['con'][43, :, :])"
   ]
  },
  {
   "cell_type": "code",
   "execution_count": null,
   "metadata": {},
   "outputs": [],
   "source": [
    "matshow(grad_z[43, :, :])"
   ]
  },
  {
   "cell_type": "code",
   "execution_count": null,
   "metadata": {},
   "outputs": [],
   "source": [
    "plot(grad_z[43, 30, :])"
   ]
  },
  {
   "cell_type": "code",
   "execution_count": null,
   "metadata": {},
   "outputs": [],
   "source": [
    "matshow(grad_z[32, :, :])"
   ]
  },
  {
   "cell_type": "code",
   "execution_count": null,
   "metadata": {},
   "outputs": [],
   "source": [
    "matshow(cube['con'][:, :, 45])"
   ]
  },
  {
   "cell_type": "code",
   "execution_count": null,
   "metadata": {},
   "outputs": [],
   "source": [
    "matshow(grad_x[:, :, 45])"
   ]
  },
  {
   "cell_type": "code",
   "execution_count": null,
   "metadata": {},
   "outputs": [],
   "source": [
    "def sphere_coord(i_x, i_y, i_z, dr=dx, r_c=centre_colloid):\n",
    "    x = (i_x + 0.5)*dr[0] - r_c[0]\n",
    "    y = (i_y + 0.5)*dr[1] - r_c[1]\n",
    "    z = (i_z + 0.5)*dr[2] - r_c[2]\n",
    "    \n",
    "    r     = np.sqrt( x**2 + y**2 + z**2)\n",
    "    theta = np.arccos(z/r)\n",
    "    phi   = np.arctan2(y, x)\n",
    "        \n",
    "    return r, theta, phi\n",
    "\n",
    "def r_unit(theta, phi):\n",
    "    return np.array([\n",
    "        np.sin(theta)*np.cos(phi),\n",
    "        np.sin(theta)*np.sin(phi),\n",
    "        np.cos(theta)\n",
    "    ])\n",
    "\n",
    "def theta_unit(theta, phi):\n",
    "    return np.array([\n",
    "        np.cos(theta)*np.cos(phi),\n",
    "        np.cos(theta)*np.sin(phi),\n",
    "       -np.sin(theta)\n",
    "    ])\n",
    "\n",
    "def phi_unit(phi):\n",
    "    return np.array([\n",
    "       -np.sin(phi),\n",
    "        np.cos(phi),\n",
    "        0\n",
    "    ])"
   ]
  },
  {
   "cell_type": "code",
   "execution_count": null,
   "metadata": {},
   "outputs": [],
   "source": [
    "def grad_sphere(grad_x, grad_y, grad_z):\n",
    "    grad_r     = np.zeros_like(grad_x)\n",
    "    grad_phi   = np.zeros_like(grad_y)\n",
    "    grad_theta = np.zeros_like(grad_z)\n",
    "    \n",
    "    r_dat     = np.zeros_like(grad_x)\n",
    "    phi_dat   = np.zeros_like(grad_x)\n",
    "    theta_dat = np.zeros_like(grad_x)\n",
    "    \n",
    "    for ind, x in ndenumerate(grad_x):\n",
    "        y = grad_y[ind]\n",
    "        z = grad_z[ind]\n",
    "        \n",
    "        r, theta, phi = sphere_coord(ind[0], ind[1], ind[2])\n",
    "        r_vec     = r_unit(theta, phi)\n",
    "        theta_vec = theta_unit(theta, phi)\n",
    "        phi_vec   = phi_unit(phi)\n",
    "        \n",
    "        grad_r[ind]     = np.dot(np.array([x, y, z]), r_vec)\n",
    "        grad_phi[ind]   = np.dot(np.array([x, y, z]), phi_vec)\n",
    "        grad_theta[ind] = np.dot(np.array([x, y, z]), theta_vec)\n",
    "        \n",
    "        r_dat[ind]     = r\n",
    "        phi_dat[ind]   = phi\n",
    "        theta_dat[ind] = theta\n",
    "        \n",
    "    return np.array(grad_r), np.array(grad_phi), np.array(grad_theta), r_dat, phi_dat, theta_dat"
   ]
  },
  {
   "cell_type": "code",
   "execution_count": null,
   "metadata": {},
   "outputs": [],
   "source": [
    "grad_r, grad_phi, grad_theta, r_dat, phi_dat, theta_dat = grad_sphere(grad_x, grad_y, grad_z)"
   ]
  },
  {
   "cell_type": "code",
   "execution_count": 26,
   "metadata": {},
   "outputs": [
    {
     "ename": "NameError",
     "evalue": "name 'r_dat' is not defined",
     "output_type": "error",
     "traceback": [
      "\u001b[0;31m---------------------------------------------------------------------------\u001b[0m",
      "\u001b[0;31mNameError\u001b[0m                                 Traceback (most recent call last)",
      "\u001b[0;32m<ipython-input-26-1249632db263>\u001b[0m in \u001b[0;36m<module>\u001b[0;34m()\u001b[0m\n\u001b[0;32m----> 1\u001b[0;31m \u001b[0mmatshow\u001b[0m\u001b[0;34m(\u001b[0m\u001b[0mr_dat\u001b[0m\u001b[0;34m[\u001b[0m\u001b[0;36m32\u001b[0m\u001b[0;34m,\u001b[0m \u001b[0;34m:\u001b[0m\u001b[0;34m,\u001b[0m \u001b[0;34m:\u001b[0m\u001b[0;34m]\u001b[0m\u001b[0;34m)\u001b[0m\u001b[0;34m\u001b[0m\u001b[0m\n\u001b[0m",
      "\u001b[0;31mNameError\u001b[0m: name 'r_dat' is not defined"
     ]
    }
   ],
   "source": [
    "matshow(r_dat[32, :, :])"
   ]
  },
  {
   "cell_type": "code",
   "execution_count": 27,
   "metadata": {},
   "outputs": [
    {
     "ename": "NameError",
     "evalue": "name 'phi_dat' is not defined",
     "output_type": "error",
     "traceback": [
      "\u001b[0;31m---------------------------------------------------------------------------\u001b[0m",
      "\u001b[0;31mNameError\u001b[0m                                 Traceback (most recent call last)",
      "\u001b[0;32m<ipython-input-27-d1195a1f44de>\u001b[0m in \u001b[0;36m<module>\u001b[0;34m()\u001b[0m\n\u001b[0;32m----> 1\u001b[0;31m \u001b[0mmatshow\u001b[0m\u001b[0;34m(\u001b[0m\u001b[0mphi_dat\u001b[0m\u001b[0;34m[\u001b[0m\u001b[0;36m32\u001b[0m\u001b[0;34m,\u001b[0m \u001b[0;34m:\u001b[0m\u001b[0;34m,\u001b[0m \u001b[0;34m:\u001b[0m\u001b[0;34m]\u001b[0m\u001b[0;34m)\u001b[0m\u001b[0;34m\u001b[0m\u001b[0m\n\u001b[0m",
      "\u001b[0;31mNameError\u001b[0m: name 'phi_dat' is not defined"
     ]
    }
   ],
   "source": [
    "matshow(phi_dat[32, :, :])"
   ]
  },
  {
   "cell_type": "code",
   "execution_count": 28,
   "metadata": {},
   "outputs": [
    {
     "ename": "NameError",
     "evalue": "name 'theta_dat' is not defined",
     "output_type": "error",
     "traceback": [
      "\u001b[0;31m---------------------------------------------------------------------------\u001b[0m",
      "\u001b[0;31mNameError\u001b[0m                                 Traceback (most recent call last)",
      "\u001b[0;32m<ipython-input-28-3efd51339b70>\u001b[0m in \u001b[0;36m<module>\u001b[0;34m()\u001b[0m\n\u001b[0;32m----> 1\u001b[0;31m \u001b[0mmatshow\u001b[0m\u001b[0;34m(\u001b[0m\u001b[0mtheta_dat\u001b[0m\u001b[0;34m[\u001b[0m\u001b[0;36m32\u001b[0m\u001b[0;34m,\u001b[0m \u001b[0;34m:\u001b[0m\u001b[0;34m,\u001b[0m \u001b[0;34m:\u001b[0m\u001b[0;34m]\u001b[0m\u001b[0;34m)\u001b[0m\u001b[0;34m\u001b[0m\u001b[0m\n\u001b[0m",
      "\u001b[0;31mNameError\u001b[0m: name 'theta_dat' is not defined"
     ]
    }
   ],
   "source": [
    "matshow(theta_dat[32, :, :])"
   ]
  },
  {
   "cell_type": "code",
   "execution_count": null,
   "metadata": {},
   "outputs": [],
   "source": [
    "matshow(grad_norm[43, :, :])"
   ]
  },
  {
   "cell_type": "code",
   "execution_count": null,
   "metadata": {},
   "outputs": [],
   "source": [
    "matshow(grad_phi[45, :, :])"
   ]
  },
  {
   "cell_type": "code",
   "execution_count": null,
   "metadata": {},
   "outputs": [],
   "source": [
    "matshow(grad_theta[45, :, :])"
   ]
  },
  {
   "cell_type": "code",
   "execution_count": null,
   "metadata": {},
   "outputs": [],
   "source": [
    "plot(grad_theta[45, 32, :])\n",
    "plot(grad_phi[45, 40, :])"
   ]
  },
  {
   "cell_type": "code",
   "execution_count": null,
   "metadata": {},
   "outputs": [],
   "source": [
    "plot(grad_theta[45, 40, :])\n",
    "plot(grad_phi[45, 40, :])"
   ]
  },
  {
   "cell_type": "code",
   "execution_count": null,
   "metadata": {},
   "outputs": [],
   "source": [
    "matshow(grad_theta[:, :, 60])"
   ]
  },
  {
   "cell_type": "code",
   "execution_count": null,
   "metadata": {},
   "outputs": [],
   "source": [
    "matshow(grad_phi[:, :, 60])"
   ]
  },
  {
   "cell_type": "code",
   "execution_count": null,
   "metadata": {},
   "outputs": [],
   "source": [
    "matshow(cube['con'][:, :, 60])"
   ]
  },
  {
   "cell_type": "code",
   "execution_count": null,
   "metadata": {},
   "outputs": [],
   "source": [
    "matshow(r_dat[:, :, 60])"
   ]
  },
  {
   "cell_type": "code",
   "execution_count": null,
   "metadata": {},
   "outputs": [],
   "source": [
    "matshow(theta_dat[:, :, 60])"
   ]
  },
  {
   "cell_type": "code",
   "execution_count": null,
   "metadata": {},
   "outputs": [],
   "source": [
    "matshow(phi_dat[:, :, 60])"
   ]
  },
  {
   "cell_type": "code",
   "execution_count": null,
   "metadata": {},
   "outputs": [],
   "source": [
    "def scan_theta(r, phi, theta_range, grad_x, grad_y, grad_z, r_c=centre_colloid, dr=dx):\n",
    "    scan = np.zeros_like(theta_range)\n",
    "    \n",
    "    for i, theta in enumerate(theta_range):\n",
    "        x = r_c[0] + r * np.sin(theta)*np.cos(phi)\n",
    "        y = r_c[1] + r * np.sin(theta)*np.sin(phi)\n",
    "        z = r_c[2] + r * np.cos(theta)\n",
    "                \n",
    "        i_x = int(x / dx[0])\n",
    "        i_y = int(y / dx[1])\n",
    "        i_z = int(z / dx[2])\n",
    "        \n",
    "        dphi_x = grad_x[i_x, i_y, i_z]\n",
    "        dphi_y = grad_y[i_x, i_y, i_z]\n",
    "        dphi_z = grad_z[i_x, i_y, i_z]\n",
    "        \n",
    "        e_theta = theta_unit(theta, phi)\n",
    "        scan[i] = np.dot(np.array([dphi_x, dphi_y, dphi_z]), -e_theta)\n",
    "    \n",
    "    return scan"
   ]
  },
  {
   "cell_type": "code",
   "execution_count": null,
   "metadata": {},
   "outputs": [],
   "source": [
    "x = np.linspace(0, np.pi, num=100)\n",
    "y_1 = scan_theta(1.4e-3, 0.0, x, grad_x, grad_y, grad_z)\n",
    "y_2 = scan_theta(1.4e-3, 0.5, x, grad_x, grad_y, grad_z)\n",
    "y_3 = scan_theta(1.4e-3, 1, x, grad_x, grad_y, grad_z)"
   ]
  },
  {
   "cell_type": "code",
   "execution_count": null,
   "metadata": {},
   "outputs": [],
   "source": [
    "plot(np.pi-x, y_1)\n",
    "plot(np.pi-x, y_2)\n",
    "plot(np.pi-x, y_3)"
   ]
  },
  {
   "cell_type": "code",
   "execution_count": null,
   "metadata": {},
   "outputs": [],
   "source": [
    "y"
   ]
  },
  {
   "cell_type": "code",
   "execution_count": null,
   "metadata": {},
   "outputs": [],
   "source": [
    "sel = np.abs(r_dat - 1.1e-3) < 1e-3\n",
    "sum(sel)"
   ]
  },
  {
   "cell_type": "code",
   "execution_count": null,
   "metadata": {},
   "outputs": [],
   "source": [
    "theta_sel = theta_dat[sel]\n",
    "phi_sel   = phi_dat[sel]\n",
    "\n",
    "grad_norm_sel  = grad_norm[sel]\n",
    "grad_phi_sel   = grad_phi[sel]\n",
    "grad_theta_sel = grad_theta[sel]"
   ]
  },
  {
   "cell_type": "code",
   "execution_count": null,
   "metadata": {},
   "outputs": [],
   "source": [
    "phi_selector = np.abs(phi_sel - 0.6) < 1e-3\n",
    "sum(phi_selector)"
   ]
  },
  {
   "cell_type": "code",
   "execution_count": null,
   "metadata": {},
   "outputs": [],
   "source": [
    "sorted_pts = np.array(sorted(zip(theta_sel[phi_selector], grad_theta_sel[phi_selector])))"
   ]
  },
  {
   "cell_type": "code",
   "execution_count": 29,
   "metadata": {},
   "outputs": [
    {
     "ename": "NameError",
     "evalue": "name 'sorted_pts' is not defined",
     "output_type": "error",
     "traceback": [
      "\u001b[0;31m---------------------------------------------------------------------------\u001b[0m",
      "\u001b[0;31mNameError\u001b[0m                                 Traceback (most recent call last)",
      "\u001b[0;32m<ipython-input-29-ae5412f5b350>\u001b[0m in \u001b[0;36m<module>\u001b[0;34m()\u001b[0m\n\u001b[0;32m----> 1\u001b[0;31m \u001b[0mplot\u001b[0m\u001b[0;34m(\u001b[0m\u001b[0msorted_pts\u001b[0m\u001b[0;34m[\u001b[0m\u001b[0;34m:\u001b[0m\u001b[0;34m,\u001b[0m\u001b[0;36m0\u001b[0m\u001b[0;34m]\u001b[0m\u001b[0;34m,\u001b[0m \u001b[0msorted_pts\u001b[0m\u001b[0;34m[\u001b[0m\u001b[0;34m:\u001b[0m\u001b[0;34m,\u001b[0m\u001b[0;36m1\u001b[0m\u001b[0;34m]\u001b[0m\u001b[0;34m)\u001b[0m\u001b[0;34m\u001b[0m\u001b[0m\n\u001b[0m",
      "\u001b[0;31mNameError\u001b[0m: name 'sorted_pts' is not defined"
     ]
    }
   ],
   "source": [
    "plot(sorted_pts[:,0], sorted_pts[:,1])"
   ]
  },
  {
   "cell_type": "code",
   "execution_count": null,
   "metadata": {},
   "outputs": [],
   "source": [
    "plot(theta_sel[:100])"
   ]
  },
  {
   "cell_type": "code",
   "execution_count": null,
   "metadata": {},
   "outputs": [],
   "source": []
  },
  {
   "cell_type": "code",
   "execution_count": null,
   "metadata": {},
   "outputs": [],
   "source": []
  },
  {
   "cell_type": "code",
   "execution_count": null,
   "metadata": {},
   "outputs": [],
   "source": []
  },
  {
   "cell_type": "code",
   "execution_count": null,
   "metadata": {},
   "outputs": [],
   "source": []
  }
 ],
 "metadata": {
  "kernelspec": {
   "display_name": "Python 2",
   "language": "python",
   "name": "python2"
  },
  "language_info": {
   "codemirror_mode": {
    "name": "ipython",
    "version": 2
   },
   "file_extension": ".py",
   "mimetype": "text/x-python",
   "name": "python",
   "nbconvert_exporter": "python",
   "pygments_lexer": "ipython2",
   "version": "2.7.16"
  }
 },
 "nbformat": 4,
 "nbformat_minor": 4
}
