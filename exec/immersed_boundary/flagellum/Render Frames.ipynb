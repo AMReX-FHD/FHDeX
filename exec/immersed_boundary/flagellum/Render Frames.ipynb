{
 "cells": [
  {
   "cell_type": "code",
   "execution_count": 1,
   "metadata": {},
   "outputs": [
    {
     "name": "stdout",
     "output_type": "stream",
     "text": [
      "/home/edrewke/FHDeX/exec/immersed_boundary/flagellum\n"
     ]
    }
   ],
   "source": [
    "cd /home/edrewke/FHDeX/exec/immersed_boundary/flagellum/"
   ]
  },
  {
   "cell_type": "code",
   "execution_count": 2,
   "metadata": {},
   "outputs": [],
   "source": [
    "import sys, os, os.path\n",
    "import glob\n",
    "\n",
    "import scipy as sp\n",
    "import numpy as np\n",
    "\n",
    "import matplotlib\n",
    "import matplotlib.pyplot as pp\n",
    "\n",
    "import yt\n",
    "from yt.frontends.boxlib.data_structures import AMReXDataset"
   ]
  },
  {
   "cell_type": "code",
   "execution_count": 3,
   "metadata": {},
   "outputs": [
    {
     "name": "stdout",
     "output_type": "stream",
     "text": [
      "Populating the interactive namespace from numpy and matplotlib\n"
     ]
    }
   ],
   "source": [
    "%pylab inline"
   ]
  },
  {
   "cell_type": "code",
   "execution_count": 4,
   "metadata": {},
   "outputs": [],
   "source": [
    "class SoA:\n",
    "    _pref = \"particle_\"\n",
    "    _pos  = \"position_\"\n",
    "    _vel  = \"vel\"\n",
    "    # New here\n",
    "    _id   = \"id\"\n",
    "    _cpu  = \"cpu\"\n",
    "    _id_0 = \"id_0\"\n",
    "    _cpu_0 = \"cpu_0\"\n",
    "    \n",
    "    def __init__(self, data):\n",
    "        str_pos = self._pref+self._pos\n",
    "        self.px = np.array(data[str_pos + \"x\"])\n",
    "        self.py = np.array(data[str_pos + \"y\"])\n",
    "        self.pz = np.array(data[str_pos + \"z\"])\n",
    "\n",
    "        str_vel = self._pref+self._vel\n",
    "        self.vx = np.array(data[str_vel + \"x\"])\n",
    "        self.vy = np.array(data[str_vel + \"y\"])\n",
    "        self.vz = np.array(data[str_vel + \"z\"])\n",
    "\n",
    "        str_id = self._pref+self._id\n",
    "        self.id = np.array(data[str_id])\n",
    "        str_cpu = self._pref+self._cpu\n",
    "        self.cpu = np.array(data[str_cpu])\n",
    "        \n",
    "        str_id_0 = self._pref+self._id_0\n",
    "        self.id_0 = np.array(data[str_id_0])\n",
    "        str_cpu_0 = self._pref+self._cpu_0\n",
    "        self.cpu_0 = np.array(data[str_cpu_0])\n",
    " \n",
    "    # new here\n",
    "    def __str__(self):\n",
    "        return \"{pos:\"  + str(self.px) + \",\" + str(self.py) + \",\" + str(self.pz) + \\\n",
    "              \"; vel:\"  + str(self.vx) + \",\" + str(self.vy) + \",\" + str(self.vz) + \\\n",
    "              \"; id:\"   + str(self.id) + \", cpu:\" + str(self.cpu) + \", id_0:\" + str(self.id_0) + \", cpu_0:\" + str(self.cpu_0) + \",\" + \"}\"\n",
    "\n",
    "\n",
    "    def __repr__(self):\n",
    "        return str(self)\n",
    "\n",
    "\n",
    "# new here\n",
    "class Particle:\n",
    "    def __init__(self, px, py, pz, vx, vy, vz, id, cpu, id_0, cpu_0):\n",
    "        self.pos = np.array([px, py, pz])\n",
    "        self.vel = np.array([vx, vy, vz])\n",
    "        self.id  = np.array(id)\n",
    "        self.cpu  = np.array(cpu)\n",
    "        self.id_0  = np.array(id_0)\n",
    "        self.cpu_0  = np.array(cpu_0)\n",
    "\n",
    "    def __str__(self):\n",
    "        return \"P(\" + str(self.pos) + \",\" + str(self.vel) + \",\" + str(self.id) + \",\" + str(self.cpu) + \",\" + str(self.id_0) + \",\" + str(self.cpu_0) + \",\" + \")\"\n",
    "    \n",
    "\n",
    "    def __repr__(self):\n",
    "        return str(self)\n",
    "\n",
    "\n",
    "class AoS:\n",
    "    def __init__(self, amrex_data):\n",
    "        self.particles = list()\n",
    "        soa = SoA(amrex_data)\n",
    "        # new here        \n",
    "        data = zip(soa.px, soa.py, soa.pz, soa.vx, soa.vy, soa.vz, soa.id, soa.cpu, soa.id_0, soa.cpu_0)\n",
    "        for elt in data:\n",
    "            self.particles.append(Particle(* elt))\n",
    "\n",
    "\n"
   ]
  },
  {
   "cell_type": "code",
   "execution_count": 5,
   "metadata": {},
   "outputs": [],
   "source": [
    "data_root = \".\"\n",
    "data_dir  = \".\""
   ]
  },
  {
   "cell_type": "code",
   "execution_count": 6,
   "metadata": {},
   "outputs": [],
   "source": [
    "data_path = os.path.join(data_root, data_dir)"
   ]
  },
  {
   "cell_type": "code",
   "execution_count": 7,
   "metadata": {},
   "outputs": [],
   "source": [
    "n_fill   = 5\n",
    "prefix   = \"plt\"\n",
    "file_fmt = prefix + \"{:0\" + str(n_fill) + \"d}\""
   ]
  },
  {
   "cell_type": "code",
   "execution_count": 8,
   "metadata": {},
   "outputs": [
    {
     "name": "stdout",
     "output_type": "stream",
     "text": [
      "['././plt0000000', '././plt0000016', '././plt0000032', '././plt0000048', '././plt0000064', '././plt0000080', '././plt0000096', '././plt0000112', '././plt0000128', '././plt0000144', '././plt0000160', '././plt0000176', '././plt0000192', '././plt0000208', '././plt0000224', '././plt0000240', '././plt0000256', '././plt0000272', '././plt0000288', '././plt0000304', '././plt0000320', '././plt0000336', '././plt0000352', '././plt0000368', '././plt0000384', '././plt0000400', '././plt0000416', '././plt0000432', '././plt0000448', '././plt0000464', '././plt0000480', '././plt0000496', '././plt0000512', '././plt0000528', '././plt0000544', '././plt0000560', '././plt0000576', '././plt0000592', '././plt0000608', '././plt0000624', '././plt0000640', '././plt0000656', '././plt0000672', '././plt0000688', '././plt0000704', '././plt0000720', '././plt0000736', '././plt0000752', '././plt0000768', '././plt0000784', '././plt0000800', '././plt0000816', '././plt0000832', '././plt0000848', '././plt0000864', '././plt0000880', '././plt0000896', '././plt0000912', '././plt0000928', '././plt0000944', '././plt0000960', '././plt0000976', '././plt0000992', '././plt0001008', '././plt0001024', '././plt0001040', '././plt0001056', '././plt0001072', '././plt0001088', '././plt0001104', '././plt0001120', '././plt0001136', '././plt0001152', '././plt0001168', '././plt0001184', '././plt0001200', '././plt0001216', '././plt0001232', '././plt0001248', '././plt0001264', '././plt0001280', '././plt0001296', '././plt0001312', '././plt0001328', '././plt0001344', '././plt0001360', '././plt0001376', '././plt0001392', '././plt0001408', '././plt0001424', '././plt0001440', '././plt0001456', '././plt0001472', '././plt0001488', '././plt0001504', '././plt0001520', '././plt0001536', '././plt0001552', '././plt0001568', '././plt0001584', '././plt0001600', '././plt0001616', '././plt0001632', '././plt0001648', '././plt0001664', '././plt0001680', '././plt0001696', '././plt0001712', '././plt0001728', '././plt0001744', '././plt0001760', '././plt0001776', '././plt0001792', '././plt0001808', '././plt0001824', '././plt0001840', '././plt0001856', '././plt0001872', '././plt0001888', '././plt0001904', '././plt0001920', '././plt0001936', '././plt0001952', '././plt0001968', '././plt0001984', '././plt0002000', '././plt0002016', '././plt0002032', '././plt0002048', '././plt0002064', '././plt0002080', '././plt0002096', '././plt0002112', '././plt0002128', '././plt0002144', '././plt0002160', '././plt0002176', '././plt0002192', '././plt0002208', '././plt0002224', '././plt0002240', '././plt0002256', '././plt0002272', '././plt0002288', '././plt0002304', '././plt0002320', '././plt0002336', '././plt0002352', '././plt0002368', '././plt0002384', '././plt0002400', '././plt0002416', '././plt0002432', '././plt0002448', '././plt0002464', '././plt0002480', '././plt0002496', '././plt0002512', '././plt0002528', '././plt0002544', '././plt0002560', '././plt0002576', '././plt0002592', '././plt0002608', '././plt0002624', '././plt0002640', '././plt0002656', '././plt0002672', '././plt0002688', '././plt0002704', '././plt0002720', '././plt0002736', '././plt0002752', '././plt0002768', '././plt0002784', '././plt0002800', '././plt0002816', '././plt0002832', '././plt0002848', '././plt0002864', '././plt0002880', '././plt0002896', '././plt0002912', '././plt0002928', '././plt0002944', '././plt0002960', '././plt0002976', '././plt0002992', '././plt0003008', '././plt0003024', '././plt0003040', '././plt0003056', '././plt0003072', '././plt0003088', '././plt0003104', '././plt0003120', '././plt0003136', '././plt0003152', '././plt0003168', '././plt0003184', '././plt0003200', '././plt0003216', '././plt0003232', '././plt0003248', '././plt0003264', '././plt0003280', '././plt0003296', '././plt0003312', '././plt0003328', '././plt0003344', '././plt0003360', '././plt0003376', '././plt0003392', '././plt0003408', '././plt0003424', '././plt0003440', '././plt0003456', '././plt0003472', '././plt0003488', '././plt0003504', '././plt0003520', '././plt0003536', '././plt0003552', '././plt0003568', '././plt0003584', '././plt0003600', '././plt0003616', '././plt0003632', '././plt0003648', '././plt0003664', '././plt0003680', '././plt0003696', '././plt0003712', '././plt0003728', '././plt0003744', '././plt0003760', '././plt0003776', '././plt0003792', '././plt0003808', '././plt0003824', '././plt0003840', '././plt0003856', '././plt0003872', '././plt0003888', '././plt0003904', '././plt0003920', '././plt0003936', '././plt0003952', '././plt0003968', '././plt0003984', '././plt0004000', '././plt0004016', '././plt0004032', '././plt0004048', '././plt0004064', '././plt0004080', '././plt0004096', '././plt0004112', '././plt0004128', '././plt0004144', '././plt0004160', '././plt0004176', '././plt0004192', '././plt0004208', '././plt0004224', '././plt0004240', '././plt0004256', '././plt0004272', '././plt0004288', '././plt0004304', '././plt0004320', '././plt0004336', '././plt0004352', '././plt0004368', '././plt0004384', '././plt0004400', '././plt0004416', '././plt0004432', '././plt0004448', '././plt0004464', '././plt0004480', '././plt0004496', '././plt0004512', '././plt0004528', '././plt0004544', '././plt0004560', '././plt0004576', '././plt0004592', '././plt0004608', '././plt0004624', '././plt0004640', '././plt0004656', '././plt0004672', '././plt0004688', '././plt0004704', '././plt0004720', '././plt0004736', '././plt0004752', '././plt0004768', '././plt0004784', '././plt0004800', '././plt0004816', '././plt0004832', '././plt0004848', '././plt0004864', '././plt0004880', '././plt0004896', '././plt0004912', '././plt0004928', '././plt0004944', '././plt0004960', '././plt0004976', '././plt0004992', '././plt0005008', '././plt0005024', '././plt0005040', '././plt0005056', '././plt0005072', '././plt0005088', '././plt0005104', '././plt0005120', '././plt0005136', '././plt0005152', '././plt0005168', '././plt0005184', '././plt0005200', '././plt0005216', '././plt0005232', '././plt0005248', '././plt0005264', '././plt0005280', '././plt0005296', '././plt0005312', '././plt0005328', '././plt0005344', '././plt0005360', '././plt0005376', '././plt0005392', '././plt0005408', '././plt0005424', '././plt0005440', '././plt0005456', '././plt0005472', '././plt0005488', '././plt0005504', '././plt0005520', '././plt0005536', '././plt0005552', '././plt0005568', '././plt0005584', '././plt0005600', '././plt0005616', '././plt0005632', '././plt0005648', '././plt0005664', '././plt0005680', '././plt0005696', '././plt0005712', '././plt0005728', '././plt0005744', '././plt0005760', '././plt0005776', '././plt0005792', '././plt0005808', '././plt0005824', '././plt0005840', '././plt0005856', '././plt0005872', '././plt0005888', '././plt0005904', '././plt0005920', '././plt0005936', '././plt0005952', '././plt0005968', '././plt0005984', '././plt0006000', '././plt0006016', '././plt0006032', '././plt0006048', '././plt0006064', '././plt0006080', '././plt0006096', '././plt0006112', '././plt0006128', '././plt0006144', '././plt0006160', '././plt0006176', '././plt0006192', '././plt0006208', '././plt0006224', '././plt0006240', '././plt0006256', '././plt0006272', '././plt0006288', '././plt0006304', '././plt0006320', '././plt0006336', '././plt0006352', '././plt0006368', '././plt0006384', '././plt0006400']\n"
     ]
    }
   ],
   "source": [
    "data_glob  = os.path.join(data_path, prefix + \"*\")\n",
    "data_files = glob.glob(data_glob)\n",
    "data_files.sort()\n",
    "print(data_files)"
   ]
  },
  {
   "cell_type": "code",
   "execution_count": 9,
   "metadata": {},
   "outputs": [
    {
     "data": {
      "text/plain": [
       "401"
      ]
     },
     "execution_count": 9,
     "metadata": {},
     "output_type": "execute_result"
    }
   ],
   "source": [
    "len(data_files)"
   ]
  },
  {
   "cell_type": "code",
   "execution_count": null,
   "metadata": {},
   "outputs": [
    {
     "name": "stderr",
     "output_type": "stream",
     "text": [
      "yt : [INFO     ] 2019-07-15 16:41:13,042 Parameters: current_time              = 0.0\n",
      "yt : [INFO     ] 2019-07-15 16:41:13,042 Parameters: domain_dimensions         = [32 32 32]\n",
      "yt : [INFO     ] 2019-07-15 16:41:13,043 Parameters: domain_left_edge          = [0. 0. 0.]\n",
      "yt : [INFO     ] 2019-07-15 16:41:13,044 Parameters: domain_right_edge         = [1. 1. 1.]\n",
      "yt : [INFO     ] 2019-07-15 16:41:13,058 Parameters: current_time              = 0.0\n",
      "yt : [INFO     ] 2019-07-15 16:41:13,058 Parameters: domain_dimensions         = [32 32 32]\n",
      "yt : [INFO     ] 2019-07-15 16:41:13,059 Parameters: domain_left_edge          = [0. 0. 0.]\n",
      "yt : [INFO     ] 2019-07-15 16:41:13,059 Parameters: domain_right_edge         = [1. 1. 1.]\n",
      "yt : [INFO     ] 2019-07-15 16:41:13,413 xlim = 0.000000 1.000000\n",
      "yt : [INFO     ] 2019-07-15 16:41:13,413 ylim = 0.000000 1.000000\n",
      "yt : [INFO     ] 2019-07-15 16:41:13,414 xlim = 0.000000 1.000000\n",
      "yt : [INFO     ] 2019-07-15 16:41:13,414 ylim = 0.000000 1.000000\n",
      "yt : [INFO     ] 2019-07-15 16:41:13,416 Making a fixed resolution buffer of (('boxlib', 'averaged_velz')) 800 by 800\n",
      "yt : [WARNING  ] 2019-07-15 16:41:13,433 Plot image for field ('boxlib', 'averaged_velz') has zero dynamic range. Min = Max = 0.000000.\n",
      "yt : [WARNING  ] 2019-07-15 16:41:13,433 Switching to linear colorbar scaling.\n",
      "yt : [INFO     ] 2019-07-15 16:41:13,714 Saving plot frame_00000.png\n",
      "/home/edrewke/miniconda3/lib/python3.7/site-packages/matplotlib/quiver.py:696: RuntimeWarning: divide by zero encountered in double_scalars\n",
      "  length = a * (widthu_per_lenu / (self.scale * self.width))\n",
      "/home/edrewke/miniconda3/lib/python3.7/site-packages/matplotlib/quiver.py:696: RuntimeWarning: invalid value encountered in multiply\n",
      "  length = a * (widthu_per_lenu / (self.scale * self.width))\n",
      "/home/edrewke/miniconda3/lib/python3.7/site-packages/matplotlib/quiver.py:748: RuntimeWarning: invalid value encountered in less\n",
      "  short = np.repeat(length < minsh, 8, axis=1)\n",
      "/home/edrewke/miniconda3/lib/python3.7/site-packages/matplotlib/quiver.py:762: RuntimeWarning: invalid value encountered in less\n",
      "  tooshort = length < self.minlength\n",
      "yt : [INFO     ] 2019-07-15 16:48:07,952 Saving plot frame_00000.png\n"
     ]
    }
   ],
   "source": [
    "#positions_ = dict()\n",
    "\n",
    "\n",
    "for i, data_file in enumerate(data_files):\n",
    "    ds = yt.load(data_file)\n",
    "    \n",
    "    amrex_ds = AMReXDataset(data_file)\n",
    "    ad = amrex_ds.all_data()\n",
    "    aos = AoS(ad)\n",
    "    \n",
    "    \n",
    "        \n",
    "    slc = yt.SlicePlot(ds, \"z\", \"averaged_velz\")\n",
    "    \n",
    "   \n",
    "    \n",
    "    slc.set_log(\"averaged_velx\", False)\n",
    "    slc.set_log(\"averaged_vely\", False)\n",
    "    slc.set_log(\"averaged_velz\", False)\n",
    "    slc.set_zlim('averaged_velz', 0.0, .025)\n",
    "    \n",
    "    slc.annotate_quiver(\"averaged_velx\", \"averaged_vely\")\n",
    "    for j, part in enumerate(aos.particles):\n",
    "        p = part.pos\n",
    "        p.tolist()\n",
    "        slc.annotate_sphere(p, radius=(2, 'kpc'),circle_args={'color':'black'})\n",
    "        #slc.annotate_marker(p)\n",
    "\n",
    "        slc.save(\"frame_\" + str(i).zfill(5) + \".png\")"
   ]
  },
  {
   "cell_type": "code",
   "execution_count": null,
   "metadata": {},
   "outputs": [],
   "source": [
    "ds.field_list"
   ]
  },
  {
   "cell_type": "code",
   "execution_count": null,
   "metadata": {},
   "outputs": [],
   "source": [
    "ds.particle_field_by_type\n"
   ]
  },
  {
   "cell_type": "code",
   "execution_count": null,
   "metadata": {},
   "outputs": [],
   "source": [
    "ad = ds.all_data()\n",
    "aos = AoS(ad)"
   ]
  },
  {
   "cell_type": "code",
   "execution_count": null,
   "metadata": {},
   "outputs": [],
   "source": [
    "for i, part in enumerate(aos.particles):\n",
    "    print(part.pos)"
   ]
  },
  {
   "cell_type": "code",
   "execution_count": null,
   "metadata": {},
   "outputs": [],
   "source": [
    "p = aos.particles[1]\n"
   ]
  },
  {
   "cell_type": "code",
   "execution_count": null,
   "metadata": {},
   "outputs": [],
   "source": [
    "p.annotate_sphere([0.5, 0.5, 0.5], radius=(2, 'kpc'),\n",
    "                  circle_args={'color':'black'})"
   ]
  },
  {
   "cell_type": "code",
   "execution_count": null,
   "metadata": {},
   "outputs": [],
   "source": [
    "p\n"
   ]
  },
  {
   "cell_type": "code",
   "execution_count": null,
   "metadata": {},
   "outputs": [],
   "source": []
  },
  {
   "cell_type": "code",
   "execution_count": null,
   "metadata": {},
   "outputs": [],
   "source": []
  },
  {
   "cell_type": "code",
   "execution_count": null,
   "metadata": {},
   "outputs": [],
   "source": []
  }
 ],
 "metadata": {
  "kernelspec": {
   "display_name": "Python 3",
   "language": "python",
   "name": "python3"
  },
  "language_info": {
   "codemirror_mode": {
    "name": "ipython",
    "version": 3
   },
   "file_extension": ".py",
   "mimetype": "text/x-python",
   "name": "python",
   "nbconvert_exporter": "python",
   "pygments_lexer": "ipython3",
   "version": "3.7.3"
  }
 },
 "nbformat": 4,
 "nbformat_minor": 2
}
