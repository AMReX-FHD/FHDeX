{
 "cells": [
  {
   "cell_type": "code",
   "execution_count": 1,
   "metadata": {},
   "outputs": [
    {
     "name": "stdout",
     "output_type": "stream",
     "text": [
      "[Errno 2] No such file or directory: '/home/edrewke/FHDeX/exec/immersed_boundary/flagellum/'\n",
      "/home/jblaschke/FHDeX/exec/immersed_boundary/flagellum\n"
     ]
    }
   ],
   "source": [
    "cd /home/edrewke/FHDeX/exec/immersed_boundary/flagellum/"
   ]
  },
  {
   "cell_type": "code",
   "execution_count": 1,
   "metadata": {},
   "outputs": [],
   "source": [
    "import sys, os, os.path\n",
    "import glob\n",
    "\n",
    "import scipy as sp\n",
    "import numpy as np\n",
    "\n",
    "import matplotlib\n",
    "import matplotlib.pyplot as pp\n",
    "\n",
    "import yt\n",
    "from yt.frontends.boxlib.data_structures import AMReXDataset"
   ]
  },
  {
   "cell_type": "code",
   "execution_count": 2,
   "metadata": {},
   "outputs": [
    {
     "name": "stdout",
     "output_type": "stream",
     "text": [
      "Populating the interactive namespace from numpy and matplotlib\n"
     ]
    }
   ],
   "source": [
    "%pylab inline"
   ]
  },
  {
   "cell_type": "code",
   "execution_count": 3,
   "metadata": {},
   "outputs": [],
   "source": [
    "sys.path.append(\"../src_analysis\")\n",
    "from data_model import *\n",
    "from visualize  import *"
   ]
  },
  {
   "cell_type": "code",
   "execution_count": 4,
   "metadata": {},
   "outputs": [],
   "source": [
    "sys.path.append(\"/home/jblaschke/chlamy-flagellum\")\n",
    "import pychlamy.data_model       as cdm\n",
    "from   pychlamy.geometry         import DiscreteCurve\n",
    "from   pychlamy.fourier_analysis import FourierTransform\n",
    "from   scipy.io                  import loadmat"
   ]
  },
  {
   "cell_type": "code",
   "execution_count": 5,
   "metadata": {},
   "outputs": [],
   "source": [
    "data_root = \".\"\n",
    "data_dir  = \".\""
   ]
  },
  {
   "cell_type": "code",
   "execution_count": 6,
   "metadata": {},
   "outputs": [],
   "source": [
    "data_path = os.path.join(data_root, data_dir)"
   ]
  },
  {
   "cell_type": "code",
   "execution_count": 7,
   "metadata": {},
   "outputs": [],
   "source": [
    "n_fill   = 5\n",
    "prefix   = \"plt\"\n",
    "file_fmt = prefix + \"{:0\" + str(n_fill) + \"d}\""
   ]
  },
  {
   "cell_type": "code",
   "execution_count": 8,
   "metadata": {},
   "outputs": [
    {
     "data": {
      "text/plain": [
       "623"
      ]
     },
     "execution_count": 8,
     "metadata": {},
     "output_type": "execute_result"
    }
   ],
   "source": [
    "data_glob  = os.path.join(data_path, prefix + \"*\")\n",
    "data_files = glob.glob(data_glob)\n",
    "data_files.sort()\n",
    "#print(data_files)\n",
    "len(data_files)"
   ]
  },
  {
   "cell_type": "code",
   "execution_count": 9,
   "metadata": {},
   "outputs": [],
   "source": [
    "data_raw = loadmat(os.path.join(\"/home/jblaschke/chlamy-flagellum/original_data\",\"WT63test4.mat\"))\n",
    "data     = cdm.SoA(data_raw)\n",
    "dc       = DiscreteCurve(data, 21)"
   ]
  },
  {
   "cell_type": "code",
   "execution_count": 10,
   "metadata": {},
   "outputs": [],
   "source": [
    "fft_nodes = [None]*dc.length_angles()\n",
    "fft = FourierTransform(dc, stride=1)\n",
    "for i_node in range(dc.length_angles()):\n",
    "    fft_nodes[i_node] = fft.fft_angle(i_node)"
   ]
  },
  {
   "cell_type": "code",
   "execution_count": 11,
   "metadata": {},
   "outputs": [],
   "source": [
    "theta_nodes = lambda t: np.array([node.eval(t, 4) for node in fft_nodes])"
   ]
  },
  {
   "cell_type": "code",
   "execution_count": 12,
   "metadata": {},
   "outputs": [
    {
     "data": {
      "text/plain": [
       "1.246"
      ]
     },
     "execution_count": 12,
     "metadata": {},
     "output_type": "execute_result"
    }
   ],
   "source": [
    "dt          = 1e-5\n",
    "plot_int    = 200\n",
    "frequency   = .1\n",
    "len(data_files)*plot_int*dt"
   ]
  },
  {
   "cell_type": "code",
   "execution_count": 29,
   "metadata": {},
   "outputs": [],
   "source": [
    "def rotate(tx, ty, theta):\n",
    "    ct = np.cos(theta)\n",
    "    st = np.sin(theta)\n",
    "    \n",
    "    rx = ct*tx - st*ty\n",
    "    ry = st*tx + ct*ty\n",
    "    \n",
    "    return rx, ry\n",
    "\n",
    "def next_node(px, py, tx, ty, ds):\n",
    "    return px + tx*ds, py + ty*ds\n",
    "\n",
    "def generate_curve(x0, y0, ds, theta):\n",
    "    x = np.zeros(len(theta)+1)\n",
    "    y = np.zeros(len(theta)+1)\n",
    "\n",
    "    # first angle is the ancoring angle:\n",
    "    tx = np.cos(theta[0])\n",
    "    ty = np.sin(theta[0])\n",
    "\n",
    "    x[0] = x0\n",
    "    y[0] = y0\n",
    "\n",
    "    for i in range(1, len(theta)):\n",
    "        x[i], y[i] = next_node(x[i-1], y[i-1], tx, ty, ds)\n",
    "        tx,   ty   = rotate(tx, ty, theta[i])\n",
    "\n",
    "    # last node\n",
    "    x[-1], y[-1] = next_node(x[-2], y[-2], tx, ty, ds)\n",
    "\n",
    "    return x, y\n",
    "\n",
    "def add_equilibrium(slc, dc, theta_nodes, data_files, plot_index, dt, plot_int, frequency, prop):\n",
    "    amrex_ds = AMReXDataset(data_files[plot_index])\n",
    "    ad = amrex_ds.all_data()\n",
    "    aos = AoS(ad, copy_id=True)\n",
    "    \n",
    "    t = plot_index*frequency*plot_int*dt\n",
    "    \n",
    "    theta = theta_nodes(t)\n",
    "    \n",
    "    x0, y0, z0, x1, y1, z1 = [None]*6\n",
    "    for p in aos.particles:\n",
    "        print(p.id, p.cpu)\n",
    "        if p.id == 0:\n",
    "            x0, y0, z0 = aos.particles[0].pos[:]\n",
    "        elif p.id == 1:\n",
    "            x1, y1, z1 = aos.particles[1].pos[:]\n",
    "    \n",
    "    ds = (x1-x0)\n",
    "    x_pred, y_pred = generate_curve(x1, y1, ds, theta)\n",
    "    # add first marker to list\n",
    "    x = np.concatenate((np.array([x0]), x_pred))\n",
    "    y = np.concatenate((np.array([y0]), y_pred))\n",
    "    \n",
    "    for j, p in enumerate(zip(x, y, np.ones_like(x)*z0)):\n",
    "        slc.annotate_sphere(p, radius=prop.marker_rad, circle_args={'fill':True, 'color':'white'})\n",
    "        slc.annotate_sphere(p, radius=prop.marker_rad*0.7, circle_args={'fill':True, 'color':'black'})\n",
    "    \n",
    "    return slc"
   ]
  },
  {
   "cell_type": "code",
   "execution_count": 30,
   "metadata": {},
   "outputs": [
    {
     "name": "stdout",
     "output_type": "stream",
     "text": [
      "2 3\n",
      "1 3\n",
      "15 3\n",
      "14 3\n",
      "1 2\n",
      "2 2\n",
      "3 2\n",
      "4 2\n",
      "5 2\n",
      "6 2\n",
      "7 2\n",
      "3 3\n",
      "4 3\n",
      "5 3\n",
      "6 3\n",
      "13 3\n",
      "10 3\n",
      "12 3\n",
      "11 3\n",
      "7 3\n",
      "8 3\n",
      "9 3\n"
     ]
    },
    {
     "ename": "TypeError",
     "evalue": "unsupported operand type(s) for -: 'float' and 'NoneType'",
     "output_type": "error",
     "traceback": [
      "\u001b[0;31m---------------------------------------------------------------------------\u001b[0m",
      "\u001b[0;31mTypeError\u001b[0m                                 Traceback (most recent call last)",
      "\u001b[0;32m<ipython-input-30-e95117d4008f>\u001b[0m in \u001b[0;36m<module>\u001b[0;34m\u001b[0m\n\u001b[1;32m     12\u001b[0m \u001b[0mslc\u001b[0m  \u001b[0;34m=\u001b[0m \u001b[0mslice_plt\u001b[0m\u001b[0;34m(\u001b[0m\u001b[0mds\u001b[0m\u001b[0;34m,\u001b[0m \u001b[0mprop\u001b[0m\u001b[0;34m)\u001b[0m\u001b[0;34m\u001b[0m\u001b[0;34m\u001b[0m\u001b[0m\n\u001b[1;32m     13\u001b[0m \u001b[0madd_ibm\u001b[0m\u001b[0;34m(\u001b[0m\u001b[0mslc\u001b[0m\u001b[0;34m,\u001b[0m \u001b[0mdata_files\u001b[0m\u001b[0;34m[\u001b[0m\u001b[0mplot_index\u001b[0m\u001b[0;34m]\u001b[0m\u001b[0;34m,\u001b[0m \u001b[0mprop\u001b[0m\u001b[0;34m)\u001b[0m\u001b[0;34m\u001b[0m\u001b[0;34m\u001b[0m\u001b[0m\n\u001b[0;32m---> 14\u001b[0;31m \u001b[0madd_equilibrium\u001b[0m\u001b[0;34m(\u001b[0m\u001b[0mslc\u001b[0m\u001b[0;34m,\u001b[0m \u001b[0mdc\u001b[0m\u001b[0;34m,\u001b[0m \u001b[0mtheta_nodes\u001b[0m\u001b[0;34m,\u001b[0m \u001b[0mdata_files\u001b[0m\u001b[0;34m,\u001b[0m \u001b[0mplot_index\u001b[0m\u001b[0;34m,\u001b[0m \u001b[0mdt\u001b[0m\u001b[0;34m,\u001b[0m \u001b[0mplot_int\u001b[0m\u001b[0;34m,\u001b[0m \u001b[0mfrequency\u001b[0m\u001b[0;34m,\u001b[0m \u001b[0mprop\u001b[0m\u001b[0;34m)\u001b[0m\u001b[0;34m\u001b[0m\u001b[0;34m\u001b[0m\u001b[0m\n\u001b[0m\u001b[1;32m     15\u001b[0m \u001b[0mslc\u001b[0m\u001b[0;34m.\u001b[0m\u001b[0mshow\u001b[0m\u001b[0;34m(\u001b[0m\u001b[0;34m)\u001b[0m\u001b[0;34m\u001b[0m\u001b[0;34m\u001b[0m\u001b[0m\n",
      "\u001b[0;32m<ipython-input-29-8337f1950ce5>\u001b[0m in \u001b[0;36madd_equilibrium\u001b[0;34m(slc, dc, theta_nodes, data_files, plot_index, dt, plot_int, frequency, prop)\u001b[0m\n\u001b[1;32m     48\u001b[0m             \u001b[0mx1\u001b[0m\u001b[0;34m,\u001b[0m \u001b[0my1\u001b[0m\u001b[0;34m,\u001b[0m \u001b[0mz1\u001b[0m \u001b[0;34m=\u001b[0m \u001b[0maos\u001b[0m\u001b[0;34m.\u001b[0m\u001b[0mparticles\u001b[0m\u001b[0;34m[\u001b[0m\u001b[0;36m1\u001b[0m\u001b[0;34m]\u001b[0m\u001b[0;34m.\u001b[0m\u001b[0mpos\u001b[0m\u001b[0;34m[\u001b[0m\u001b[0;34m:\u001b[0m\u001b[0;34m]\u001b[0m\u001b[0;34m\u001b[0m\u001b[0;34m\u001b[0m\u001b[0m\n\u001b[1;32m     49\u001b[0m \u001b[0;34m\u001b[0m\u001b[0m\n\u001b[0;32m---> 50\u001b[0;31m     \u001b[0mds\u001b[0m \u001b[0;34m=\u001b[0m \u001b[0;34m(\u001b[0m\u001b[0mx1\u001b[0m\u001b[0;34m-\u001b[0m\u001b[0mx0\u001b[0m\u001b[0;34m)\u001b[0m\u001b[0;34m\u001b[0m\u001b[0;34m\u001b[0m\u001b[0m\n\u001b[0m\u001b[1;32m     51\u001b[0m     \u001b[0mx_pred\u001b[0m\u001b[0;34m,\u001b[0m \u001b[0my_pred\u001b[0m \u001b[0;34m=\u001b[0m \u001b[0mgenerate_curve\u001b[0m\u001b[0;34m(\u001b[0m\u001b[0mx1\u001b[0m\u001b[0;34m,\u001b[0m \u001b[0my1\u001b[0m\u001b[0;34m,\u001b[0m \u001b[0mds\u001b[0m\u001b[0;34m,\u001b[0m \u001b[0mtheta\u001b[0m\u001b[0;34m)\u001b[0m\u001b[0;34m\u001b[0m\u001b[0;34m\u001b[0m\u001b[0m\n\u001b[1;32m     52\u001b[0m     \u001b[0;31m# add first marker to list\u001b[0m\u001b[0;34m\u001b[0m\u001b[0;34m\u001b[0m\u001b[0;34m\u001b[0m\u001b[0m\n",
      "\u001b[0;31mTypeError\u001b[0m: unsupported operand type(s) for -: 'float' and 'NoneType'"
     ]
    }
   ],
   "source": [
    "# don't use `plot_index = -1` here because this would get the equilibrium \n",
    "# configuration's time wrong\n",
    "plot_index = len(data_files)-1\n",
    "\n",
    "# set up plot\n",
    "prop = PlotProperies(marker_rad=5e-5, slc_name=\"pres\", slc_max=2e-2)\n",
    "\n",
    "# load data\n",
    "ds = yt.load(data_files[plot_index])\n",
    "\n",
    "# plot everything\n",
    "slc  = slice_plt(ds, prop)\n",
    "add_ibm(slc, data_files[plot_index], prop)\n",
    "add_equilibrium(slc, dc, theta_nodes, data_files, plot_index, dt, plot_int, frequency, prop)\n",
    "slc.show()"
   ]
  },
  {
   "cell_type": "code",
   "execution_count": 15,
   "metadata": {},
   "outputs": [],
   "source": [
    "amrex_ds = AMReXDataset(data_files[plot_index])\n",
    "ad = amrex_ds.all_data()\n",
    "aos = AoS(ad, copy_id=True)"
   ]
  },
  {
   "cell_type": "code",
   "execution_count": 18,
   "metadata": {},
   "outputs": [
    {
     "data": {
      "text/plain": [
       "2"
      ]
     },
     "execution_count": 18,
     "metadata": {},
     "output_type": "execute_result"
    }
   ],
   "source": [
    "aos.particles[0].id"
   ]
  },
  {
   "cell_type": "code",
   "execution_count": 15,
   "metadata": {},
   "outputs": [
    {
     "name": "stdout",
     "output_type": "stream",
     "text": [
      "Working on: frame_00603.png\r"
     ]
    }
   ],
   "source": [
    "for i, data_file in enumerate(data_files):\n",
    "    frame_file = \"frame_\" + str(i).zfill(5) + \".png\"\n",
    "\n",
    "    if os.path.isfile(frame_file):\n",
    "        continue\n",
    "    else:\n",
    "        print(f\"Working on: {frame_file}\", end=\"\\r\")\n",
    "\n",
    "    # load data\n",
    "    ds = yt.load(data_file)\n",
    "\n",
    "    # plot everything\n",
    "    slc  = slice_plt(ds, prop)\n",
    "    add_ibm(slc, data_file, prop)\n",
    "    add_equilibrium(slc, dc, theta_nodes, data_files, i, dt, plot_int, frequency, prop)\n",
    "\n",
    "    slc.save(frame_file)"
   ]
  },
  {
   "cell_type": "code",
   "execution_count": 64,
   "metadata": {},
   "outputs": [
    {
     "ename": "NameError",
     "evalue": "name 'n_marker_skip' is not defined",
     "output_type": "error",
     "traceback": [
      "\u001b[0;31m---------------------------------------------------------------------------\u001b[0m",
      "\u001b[0;31mNameError\u001b[0m                                 Traceback (most recent call last)",
      "\u001b[0;32m<ipython-input-64-bdec6b24cffb>\u001b[0m in \u001b[0;36m<module>\u001b[0;34m\u001b[0m\n\u001b[1;32m     15\u001b[0m     \u001b[0mn\u001b[0m \u001b[0;34m=\u001b[0m \u001b[0;36m0\u001b[0m\u001b[0;34m\u001b[0m\u001b[0;34m\u001b[0m\u001b[0m\n\u001b[1;32m     16\u001b[0m \u001b[0;34m\u001b[0m\u001b[0m\n\u001b[0;32m---> 17\u001b[0;31m     \u001b[0;32mfor\u001b[0m \u001b[0mj\u001b[0m\u001b[0;34m,\u001b[0m \u001b[0mpart\u001b[0m \u001b[0;32min\u001b[0m \u001b[0menumerate\u001b[0m\u001b[0;34m(\u001b[0m\u001b[0maos\u001b[0m\u001b[0;34m.\u001b[0m\u001b[0mparticles\u001b[0m\u001b[0;34m[\u001b[0m\u001b[0;34m:\u001b[0m\u001b[0;34m:\u001b[0m\u001b[0mn_marker_skip\u001b[0m\u001b[0;34m]\u001b[0m\u001b[0;34m)\u001b[0m\u001b[0;34m:\u001b[0m\u001b[0;34m\u001b[0m\u001b[0;34m\u001b[0m\u001b[0m\n\u001b[0m\u001b[1;32m     18\u001b[0m         \u001b[0mp_x\u001b[0m \u001b[0;34m+=\u001b[0m \u001b[0mpart\u001b[0m\u001b[0;34m.\u001b[0m\u001b[0mpos\u001b[0m\u001b[0;34m[\u001b[0m\u001b[0;36m0\u001b[0m\u001b[0;34m]\u001b[0m\u001b[0;34m\u001b[0m\u001b[0;34m\u001b[0m\u001b[0m\n\u001b[1;32m     19\u001b[0m         \u001b[0mp_y\u001b[0m \u001b[0;34m+=\u001b[0m \u001b[0mpart\u001b[0m\u001b[0;34m.\u001b[0m\u001b[0mpos\u001b[0m\u001b[0;34m[\u001b[0m\u001b[0;36m1\u001b[0m\u001b[0;34m]\u001b[0m\u001b[0;34m\u001b[0m\u001b[0;34m\u001b[0m\u001b[0m\n",
      "\u001b[0;31mNameError\u001b[0m: name 'n_marker_skip' is not defined"
     ]
    }
   ],
   "source": [
    "yt.funcs.mylog.setLevel(50)\n",
    "\n",
    "avg_pos_x = list()\n",
    "avg_pos_y = list()\n",
    "\n",
    "for i, data_file in enumerate(data_files[::5]):\n",
    "    ds = yt.load(data_file)\n",
    "    \n",
    "    amrex_ds = AMReXDataset(data_file)\n",
    "    ad = amrex_ds.all_data()\n",
    "    aos = AoS(ad)\n",
    "    \n",
    "    p_x = 0\n",
    "    p_y = 0\n",
    "    n = 0\n",
    "    \n",
    "    for j, part in enumerate(aos.particles[::n_marker_skip]):\n",
    "        p_x += part.pos[0]\n",
    "        p_y += part.pos[1]\n",
    "        n += 1\n",
    "\n",
    "    avg_pos_x.append(p_x/n)\n",
    "    avg_pos_y.append(p_y/n)"
   ]
  },
  {
   "cell_type": "code",
   "execution_count": 2061,
   "metadata": {},
   "outputs": [
    {
     "data": {
      "image/png": "[encoded data removed]",
      "text/plain": [
       "<Figure size 432x288 with 1 Axes>"
      ]
     },
     "metadata": {
      "needs_background": "light"
     },
     "output_type": "display_data"
    }
   ],
   "source": [
    "plot(avg_pos_x, label = \"T = 300K\")\n",
    "plot(avg_pos_x_highres_lofluct, label = \"T = 100K\")\n",
    "plot(avg_pos_x_highres_nofluct, label = \"T = 0K\")\n",
    "\n",
    "#plot(avg_pos_x_highres_sparse)\n",
    "#plot(avg_pos_x_highres, label = \"$\\mathrm{d}x = h/2$\")\n",
    "#plot(avg_pos_x_lowres,  label = \"$\\mathrm{d}x = h$\")\n",
    "xlabel(\"time step/10\")\n",
    "ylabel(\"average x-position\")\n",
    "legend();\n",
    "\n",
    "#savefig(\"xvst.pdf\")"
   ]
  },
  {
   "cell_type": "code",
   "execution_count": 2062,
   "metadata": {},
   "outputs": [
    {
     "data": {
      "image/png": "[encoded data removed]",
      "text/plain": [
       "<Figure size 432x288 with 1 Axes>"
      ]
     },
     "metadata": {
      "needs_background": "light"
     },
     "output_type": "display_data"
    }
   ],
   "source": [
    "plot(np.array(avg_pos_x)-0.0004, label = \"x-position\")\n",
    "plot(np.array(avg_pos_y), label = \"y-position\")\n",
    "\n",
    "xlabel(\"time step/10\")\n",
    "ylabel(\"average position\")\n",
    "#grid()\n",
    "legend();\n",
    "\n",
    "#savefig(\"xyvst.pdf\")"
   ]
  },
  {
   "cell_type": "code",
   "execution_count": 1824,
   "metadata": {},
   "outputs": [],
   "source": [
    "#avg_pos_x_highres_lofluct = avg_pos_x\n",
    "#avg_pos_x_highres_nofluct = avg_pos_x\n",
    "#avg_pos_x_highres_sparse = avg_pos_x\n",
    "#avg_pos_x_highres_slow = avg_pos_x\n",
    "#avg_pos_x_highres = avg_pos_x\n",
    "#avg_pos_x_lowres = avg_pos_x"
   ]
  },
  {
   "cell_type": "code",
   "execution_count": 891,
   "metadata": {},
   "outputs": [
    {
     "data": {
      "text/plain": [
       "[('boxlib', 'averaged_velx'),\n",
       " ('boxlib', 'averaged_vely'),\n",
       " ('boxlib', 'averaged_velz'),\n",
       " ('boxlib', 'divergence'),\n",
       " ('boxlib', 'pres'),\n",
       " ('boxlib', 'shifted_velx'),\n",
       " ('boxlib', 'shifted_vely'),\n",
       " ('boxlib', 'shifted_velz'),\n",
       " ('boxlib', 'tracer')]"
      ]
     },
     "execution_count": 891,
     "metadata": {},
     "output_type": "execute_result"
    }
   ],
   "source": [
    "ds.field_list"
   ]
  },
  {
   "cell_type": "code",
   "execution_count": 31,
   "metadata": {},
   "outputs": [
    {
     "ename": "AttributeError",
     "evalue": "'BoxlibDataset' object has no attribute 'particle_field_by_type'",
     "output_type": "error",
     "traceback": [
      "\u001b[0;31m---------------------------------------------------------------------------\u001b[0m",
      "\u001b[0;31mAttributeError\u001b[0m                            Traceback (most recent call last)",
      "\u001b[0;32m<ipython-input-31-abb3a66f9be3>\u001b[0m in \u001b[0;36m<module>\u001b[0;34m\u001b[0m\n\u001b[0;32m----> 1\u001b[0;31m \u001b[0mds\u001b[0m\u001b[0;34m.\u001b[0m\u001b[0mparticle_field_by_type\u001b[0m\u001b[0;34m\u001b[0m\u001b[0;34m\u001b[0m\u001b[0m\n\u001b[0m",
      "\u001b[0;31mAttributeError\u001b[0m: 'BoxlibDataset' object has no attribute 'particle_field_by_type'"
     ]
    }
   ],
   "source": [
    "ds.particle_field_by_type\n"
   ]
  },
  {
   "cell_type": "code",
   "execution_count": null,
   "metadata": {},
   "outputs": [],
   "source": [
    "ad = ds.all_data()\n",
    "aos = AoS(ad)"
   ]
  },
  {
   "cell_type": "code",
   "execution_count": null,
   "metadata": {},
   "outputs": [],
   "source": [
    "for i, part in enumerate(aos.particles):\n",
    "    print(part.pos)"
   ]
  },
  {
   "cell_type": "code",
   "execution_count": null,
   "metadata": {},
   "outputs": [],
   "source": [
    "p = aos.particles[1]\n"
   ]
  },
  {
   "cell_type": "code",
   "execution_count": null,
   "metadata": {},
   "outputs": [],
   "source": [
    "p.annotate_sphere([0.5, 0.5, 0.5], radius=(2, 'kpc'),\n",
    "                  circle_args={'color':'black'})"
   ]
  },
  {
   "cell_type": "code",
   "execution_count": null,
   "metadata": {},
   "outputs": [],
   "source": [
    "p\n"
   ]
  },
  {
   "cell_type": "code",
   "execution_count": null,
   "metadata": {},
   "outputs": [],
   "source": []
  },
  {
   "cell_type": "code",
   "execution_count": null,
   "metadata": {},
   "outputs": [],
   "source": []
  },
  {
   "cell_type": "code",
   "execution_count": null,
   "metadata": {},
   "outputs": [],
   "source": []
  },
  {
   "cell_type": "code",
   "execution_count": null,
   "metadata": {},
   "outputs": [],
   "source": []
  },
  {
   "cell_type": "code",
   "execution_count": null,
   "metadata": {},
   "outputs": [],
   "source": []
  },
  {
   "cell_type": "code",
   "execution_count": null,
   "metadata": {},
   "outputs": [],
   "source": []
  },
  {
   "cell_type": "code",
   "execution_count": null,
   "metadata": {},
   "outputs": [],
   "source": []
  },
  {
   "cell_type": "code",
   "execution_count": null,
   "metadata": {},
   "outputs": [],
   "source": []
  },
  {
   "cell_type": "code",
   "execution_count": null,
   "metadata": {},
   "outputs": [],
   "source": []
  },
  {
   "cell_type": "code",
   "execution_count": null,
   "metadata": {},
   "outputs": [],
   "source": []
  },
  {
   "cell_type": "code",
   "execution_count": null,
   "metadata": {},
   "outputs": [],
   "source": []
  },
  {
   "cell_type": "code",
   "execution_count": null,
   "metadata": {},
   "outputs": [],
   "source": []
  },
  {
   "cell_type": "code",
   "execution_count": null,
   "metadata": {},
   "outputs": [],
   "source": []
  },
  {
   "cell_type": "code",
   "execution_count": null,
   "metadata": {},
   "outputs": [],
   "source": []
  },
  {
   "cell_type": "code",
   "execution_count": null,
   "metadata": {},
   "outputs": [],
   "source": []
  }
 ],
 "metadata": {
  "kernelspec": {
   "display_name": "Python 3",
   "language": "python",
   "name": "python3"
  },
  "language_info": {
   "codemirror_mode": {
    "name": "ipython",
    "version": 3
   },
   "file_extension": ".py",
   "mimetype": "text/x-python",
   "name": "python",
   "nbconvert_exporter": "python",
   "pygments_lexer": "ipython3",
   "version": "3.6.8"
  }
 },
 "nbformat": 4,
 "nbformat_minor": 4
}
