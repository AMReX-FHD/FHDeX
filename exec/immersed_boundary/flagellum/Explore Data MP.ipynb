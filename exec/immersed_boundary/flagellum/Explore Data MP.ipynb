{
 "cells": [
  {
   "cell_type": "markdown",
   "metadata": {},
   "source": [
    "# An Exploration of Fluctuating Channel Flow"
   ]
  },
  {
   "cell_type": "markdown",
   "metadata": {},
   "source": [
    "This is a sandbox for exploring the fluctuating channel flow data. Data is loaded using the YT package. You might need to install (using `pip`):\n",
    "1. Jupyter (and Jupyter Lab)\n",
    "2. YT\n",
    "3. numpy\n",
    "4. matplotlib\n",
    "\n",
    "... Have fun!"
   ]
  },
  {
   "cell_type": "markdown",
   "metadata": {},
   "source": [
    "## Import Basics"
   ]
  },
  {
   "cell_type": "code",
   "execution_count": 171,
   "metadata": {},
   "outputs": [],
   "source": [
    "import sys, os, os.path\n",
    "import glob\n",
    "\n",
    "import scipy as sp\n",
    "import numpy as np\n",
    "\n",
    "import matplotlib\n",
    "import matplotlib.pyplot as pp\n",
    "\n",
    "import yt\n",
    "from yt.frontends.boxlib.data_structures import AMReXDataset"
   ]
  },
  {
   "cell_type": "markdown",
   "metadata": {},
   "source": [
    "Inline plots and namespace:"
   ]
  },
  {
   "cell_type": "code",
   "execution_count": 172,
   "metadata": {},
   "outputs": [
    {
     "name": "stdout",
     "output_type": "stream",
     "text": [
      "Populating the interactive namespace from numpy and matplotlib\n"
     ]
    },
    {
     "data": {
      "text/plain": [
       "u'%e'"
      ]
     },
     "execution_count": 172,
     "metadata": {},
     "output_type": "execute_result"
    }
   ],
   "source": [
    "%pylab inline\n",
    "%precision %e"
   ]
  },
  {
   "cell_type": "markdown",
   "metadata": {},
   "source": [
    "# Utilities"
   ]
  },
  {
   "cell_type": "markdown",
   "metadata": {},
   "source": [
    "Replace `phi` with `concentration` in plot file's header file (yt doesn't like `phi`...)"
   ]
  },
  {
   "cell_type": "code",
   "execution_count": 173,
   "metadata": {},
   "outputs": [],
   "source": [
    "### Replace \"phi\" with \"concentration\" in plt header file (yt doesn't like phi...)\n",
    "def substitute_header(plt_file, source=\"phi\", target=\"con\"):\n",
    "    \n",
    "    # load header file\n",
    "    header_file = os.path.join(plt_file, \"Header\")\n",
    "    with open(header_file, \"r\") as f:\n",
    "        header_orig = f.readlines()\n",
    "    \n",
    "    # select variable lables\n",
    "    n_lables   = int(header_orig[1])\n",
    "    l_offset   = 2\n",
    "    \n",
    "    # make a backup copy(iff the source was found in original)\n",
    "    if source+\"\\n\" in header_orig:\n",
    "        header_cpy  = os.path.join(plt_file, \"Header.backup\")\n",
    "        with open(header_cpy, \"w\") as f:\n",
    "            for line in header_orig:\n",
    "                f.write(line)\n",
    "    \n",
    "    # replace source with target\n",
    "    for i in range(l_offset, n_lables+l_offset):\n",
    "        if header_orig[i] == source+\"\\n\":\n",
    "            header_orig[i] = target+\"\\n\"\n",
    "    \n",
    "    # save substituted file in place of original\n",
    "    with open(header_file, \"w\") as f:\n",
    "        for line in header_orig:\n",
    "            f.write(line)"
   ]
  },
  {
   "cell_type": "markdown",
   "metadata": {},
   "source": [
    "# Find Data"
   ]
  },
  {
   "cell_type": "markdown",
   "metadata": {},
   "source": [
    "Currently we're working in the same directory as a the data $=>$ look in `.` for plot files"
   ]
  },
  {
   "cell_type": "code",
   "execution_count": 174,
   "metadata": {},
   "outputs": [],
   "source": [
    "data_root = \".\"\n",
    "data_dir  = \".\""
   ]
  },
  {
   "cell_type": "code",
   "execution_count": 175,
   "metadata": {},
   "outputs": [],
   "source": [
    "data_path = os.path.join(data_root, data_dir)"
   ]
  },
  {
   "cell_type": "code",
   "execution_count": 176,
   "metadata": {},
   "outputs": [],
   "source": [
    "n_fill   = 5\n",
    "prefix   = \"plt\"\n",
    "file_fmt = prefix + \"{:0\" + str(n_fill) + \"d}\""
   ]
  },
  {
   "cell_type": "code",
   "execution_count": 177,
   "metadata": {},
   "outputs": [
    {
     "data": {
      "text/plain": [
       "'plt{:05d}'"
      ]
     },
     "execution_count": 177,
     "metadata": {},
     "output_type": "execute_result"
    }
   ],
   "source": [
    "file_fmt"
   ]
  },
  {
   "cell_type": "code",
   "execution_count": 178,
   "metadata": {},
   "outputs": [
    {
     "name": "stdout",
     "output_type": "stream",
     "text": [
      "['././plt0000000', '././plt0000010', '././plt0000020', '././plt0000030', '././plt0000040', '././plt0000050', '././plt0000060', '././plt0000070', '././plt0000080', '././plt0000090', '././plt0000100', '././plt0000110', '././plt0000120', '././plt0000130', '././plt0000140', '././plt0000150', '././plt0000160', '././plt0000170', '././plt0000180', '././plt0000190', '././plt0000200', '././plt0000210', '././plt0000220', '././plt0000230', '././plt0000240', '././plt0000250', '././plt0000260', '././plt0000270', '././plt0000280', '././plt0000290', '././plt0000300', '././plt0000310', '././plt0000320', '././plt0000330', '././plt0000340', '././plt0000350', '././plt0000360', '././plt0000370', '././plt0000380', '././plt0000390', '././plt0000400', '././plt0000410', '././plt0000420', '././plt0000430', '././plt0000440', '././plt0000450', '././plt0000460', '././plt0000470', '././plt0000480', '././plt0000490', '././plt0000500']\n"
     ]
    }
   ],
   "source": [
    "data_glob  = os.path.join(data_path, prefix + \"*\")\n",
    "data_files = glob.glob(data_glob)\n",
    "data_files.sort()\n",
    "print(data_files)"
   ]
  },
  {
   "cell_type": "code",
   "execution_count": 179,
   "metadata": {},
   "outputs": [
    {
     "data": {
      "text/plain": [
       "51"
      ]
     },
     "execution_count": 179,
     "metadata": {},
     "output_type": "execute_result"
    }
   ],
   "source": [
    "len(data_files)"
   ]
  },
  {
   "cell_type": "markdown",
   "metadata": {},
   "source": [
    "## Plot Final State of the Simulation"
   ]
  },
  {
   "cell_type": "code",
   "execution_count": 180,
   "metadata": {},
   "outputs": [],
   "source": [
    "def plot_index(data_file, str_field, str_coord):\n",
    "    substitute_header(data_file)\n",
    "    \n",
    "    # Loads the data file\n",
    "    ds = yt.load(data_file)\n",
    "    \n",
    "    # Takes a slice perpendicular to the coordinate represented by `str_coord`\n",
    "    # -> the slice is at the center of the box.\n",
    "    # -> the data field being sliced has to have the same name as `str_field`\n",
    "    slc = yt.SlicePlot(ds, str_coord, str_field)\n",
    "    \n",
    "    # Set the plotted variable to log scale\n",
    "    #slc.set_log(str_field, True)\n",
    "    \n",
    "    # Show data\n",
    "    slc.show()\n",
    "    #slc.save(\"step_0.png\")"
   ]
  },
  {
   "cell_type": "markdown",
   "metadata": {},
   "source": [
    "Let's find out what fields are contained in the plot file"
   ]
  },
  {
   "cell_type": "code",
   "execution_count": 181,
   "metadata": {},
   "outputs": [
    {
     "name": "stderr",
     "output_type": "stream",
     "text": [
      "yt : [INFO     ] 2019-07-23 14:24:49,942 Parameters: current_time              = 0.005\n",
      "yt : [INFO     ] 2019-07-23 14:24:49,943 Parameters: domain_dimensions         = [32 32 32]\n",
      "yt : [INFO     ] 2019-07-23 14:24:49,945 Parameters: domain_left_edge          = [0. 0. 0.]\n",
      "yt : [INFO     ] 2019-07-23 14:24:49,947 Parameters: domain_right_edge         = [1. 1. 1.]\n"
     ]
    },
    {
     "data": {
      "text/plain": [
       "array([32, 32, 32])"
      ]
     },
     "execution_count": 181,
     "metadata": {},
     "output_type": "execute_result"
    }
   ],
   "source": [
    "ds = yt.load(data_files[-1])\n",
    "ds.field_list\n",
    "ds.domain_dimensions"
   ]
  },
  {
   "cell_type": "markdown",
   "metadata": {},
   "source": [
    "Plot the last plot file's $y$-velocity (slicing normal the $y$-axis)."
   ]
  },
  {
   "cell_type": "code",
   "execution_count": 182,
   "metadata": {},
   "outputs": [
    {
     "name": "stderr",
     "output_type": "stream",
     "text": [
      "yt : [INFO     ] 2019-07-23 14:24:50,224 Parameters: current_time              = 0.005\n",
      "yt : [INFO     ] 2019-07-23 14:24:50,225 Parameters: domain_dimensions         = [32 32 32]\n",
      "yt : [INFO     ] 2019-07-23 14:24:50,229 Parameters: domain_left_edge          = [0. 0. 0.]\n",
      "yt : [INFO     ] 2019-07-23 14:24:50,234 Parameters: domain_right_edge         = [1. 1. 1.]\n",
      "yt : [INFO     ] 2019-07-23 14:24:50,393 xlim = 0.000000 1.000000\n",
      "yt : [INFO     ] 2019-07-23 14:24:50,394 ylim = 0.000000 1.000000\n",
      "yt : [INFO     ] 2019-07-23 14:24:50,396 xlim = 0.000000 1.000000\n",
      "yt : [INFO     ] 2019-07-23 14:24:50,397 ylim = 0.000000 1.000000\n",
      "yt : [INFO     ] 2019-07-23 14:24:50,399 Making a fixed resolution buffer of (('boxlib', 'shifted_vely')) 800 by 800\n",
      "yt : [WARNING  ] 2019-07-23 14:24:50,420 Plot image for field ('boxlib', 'shifted_vely') has both positive and negative values. Min = -15.492875, Max = 37.661723.\n",
      "yt : [WARNING  ] 2019-07-23 14:24:50,421 Switching to symlog colorbar scaling unless linear scaling is specified later\n"
     ]
    },
    {
     "data": {
      "text/html": [
       "<img style=\"max-width:100%%;max-height:100%%;\" src=\"data:image/png;base64,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\"><br>"
      ],
      "text/plain": [
       "<yt.visualization.plot_window.AxisAlignedSlicePlot at 0x7f1b08b53710>"
      ]
     },
     "metadata": {},
     "output_type": "display_data"
    }
   ],
   "source": [
    "plot_index(data_files[-1], \"shifted_vely\", \"y\")"
   ]
  },
  {
   "cell_type": "markdown",
   "metadata": {},
   "source": [
    "Let's do the same for the presure"
   ]
  },
  {
   "cell_type": "code",
   "execution_count": 183,
   "metadata": {},
   "outputs": [
    {
     "name": "stderr",
     "output_type": "stream",
     "text": [
      "yt : [INFO     ] 2019-07-23 14:24:51,014 Parameters: current_time              = 0.005\n",
      "yt : [INFO     ] 2019-07-23 14:24:51,015 Parameters: domain_dimensions         = [32 32 32]\n",
      "yt : [INFO     ] 2019-07-23 14:24:51,017 Parameters: domain_left_edge          = [0. 0. 0.]\n",
      "yt : [INFO     ] 2019-07-23 14:24:51,018 Parameters: domain_right_edge         = [1. 1. 1.]\n",
      "yt : [INFO     ] 2019-07-23 14:24:51,167 xlim = 0.000000 1.000000\n",
      "yt : [INFO     ] 2019-07-23 14:24:51,169 ylim = 0.000000 1.000000\n",
      "yt : [INFO     ] 2019-07-23 14:24:51,174 xlim = 0.000000 1.000000\n",
      "yt : [INFO     ] 2019-07-23 14:24:51,175 ylim = 0.000000 1.000000\n",
      "yt : [INFO     ] 2019-07-23 14:24:51,177 Making a fixed resolution buffer of (('boxlib', 'pres')) 800 by 800\n",
      "yt : [WARNING  ] 2019-07-23 14:24:51,201 Plot image for field ('boxlib', 'pres') has both positive and negative values. Min = -111.473926, Max = 27.577269.\n",
      "yt : [WARNING  ] 2019-07-23 14:24:51,202 Switching to symlog colorbar scaling unless linear scaling is specified later\n"
     ]
    },
    {
     "data": {
      "text/html": [
       "<img style=\"max-width:100%%;max-height:100%%;\" src=\"data:image/png;base64,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\"><br>"
      ],
      "text/plain": [
       "<yt.visualization.plot_window.AxisAlignedSlicePlot at 0x7f1b087a2850>"
      ]
     },
     "metadata": {},
     "output_type": "display_data"
    }
   ],
   "source": [
    "plot_index(data_files[-1], \"pres\", \"x\")"
   ]
  },
  {
   "cell_type": "markdown",
   "metadata": {},
   "source": [
    "# Analyse Data"
   ]
  },
  {
   "cell_type": "markdown",
   "metadata": {},
   "source": [
    "... with `numpy`"
   ]
  },
  {
   "cell_type": "markdown",
   "metadata": {},
   "source": [
    "## Velocity fluctuations"
   ]
  },
  {
   "cell_type": "code",
   "execution_count": 184,
   "metadata": {},
   "outputs": [
    {
     "name": "stderr",
     "output_type": "stream",
     "text": [
      "yt : [INFO     ] 2019-07-23 14:24:51,903 Parameters: current_time              = 0.005\n",
      "yt : [INFO     ] 2019-07-23 14:24:51,904 Parameters: domain_dimensions         = [32 32 32]\n",
      "yt : [INFO     ] 2019-07-23 14:24:51,911 Parameters: domain_left_edge          = [0. 0. 0.]\n",
      "yt : [INFO     ] 2019-07-23 14:24:51,913 Parameters: domain_right_edge         = [1. 1. 1.]\n"
     ]
    }
   ],
   "source": [
    "ds = yt.load(data_files[-1])"
   ]
  },
  {
   "cell_type": "markdown",
   "metadata": {},
   "source": [
    "Get information about geometry: $\\mathrm{d}x$ and index of centre"
   ]
  },
  {
   "cell_type": "code",
   "execution_count": 185,
   "metadata": {},
   "outputs": [
    {
     "name": "stdout",
     "output_type": "stream",
     "text": [
      "[16. 16. 16.]\n"
     ]
    }
   ],
   "source": [
    "dx = np.array(\n",
    "    [\n",
    "        ( ds.domain_right_edge[i] - ds.domain_left_edge[i] ) / ds.domain_dimensions[i] \n",
    "        for i in range(ds.dimensionality) \n",
    "    ]\n",
    ")\n",
    "\n",
    "\n",
    "centre_slice = np.array([ei for ei in ds.domain_right_edge ])/2\n",
    "ind_cen      = centre_slice / dx\n",
    "print(ind_cen)"
   ]
  },
  {
   "cell_type": "markdown",
   "metadata": {},
   "source": [
    "Extract a \"cube of data\" from the plot file. This might seem a bit convoluted, but remember that YT is built to handle multi-level data. This function covers a given level (in our case, level 0) with a 3D grid (cube) and exports the data into a dict of `numpy` arrays. This way `cube[\"filed name\"]` is a 3D numpy array."
   ]
  },
  {
   "cell_type": "code",
   "execution_count": 186,
   "metadata": {},
   "outputs": [],
   "source": [
    "cube = ds.covering_grid(level=0, fields=[\"shifted_velx\", \"shifted_vely\", \"shifted_velz\"], \n",
    "                        left_edge=ds.domain_left_edge, dims=ds.domain_dimensions)\n",
    "velx = cube[\"shifted_velx\"]\n",
    "vely = cube[\"shifted_vely\"]\n",
    "velz = cube[\"shifted_velz\"]"
   ]
  },
  {
   "cell_type": "markdown",
   "metadata": {},
   "source": [
    "Double-check the data."
   ]
  },
  {
   "cell_type": "code",
   "execution_count": 187,
   "metadata": {},
   "outputs": [
    {
     "data": {
      "text/plain": [
       "<matplotlib.colorbar.Colorbar at 0x7f1b0a1587d0>"
      ]
     },
     "execution_count": 187,
     "metadata": {},
     "output_type": "execute_result"
    },
    {
     "data": {
      "image/png": "[encoded data removed]",
      "text/plain": [
       "<Figure size 288x288 with 2 Axes>"
      ]
     },
     "metadata": {
      "needs_background": "light"
     },
     "output_type": "display_data"
    }
   ],
   "source": [
    "matshow(velx[:, 16, :])\n",
    "colorbar()"
   ]
  },
  {
   "cell_type": "code",
   "execution_count": 188,
   "metadata": {},
   "outputs": [
    {
     "data": {
      "text/plain": [
       "<matplotlib.colorbar.Colorbar at 0x7f1b0a158c10>"
      ]
     },
     "execution_count": 188,
     "metadata": {},
     "output_type": "execute_result"
    },
    {
     "data": {
      "image/png": "[encoded data removed]",
      "text/plain": [
       "<Figure size 288x288 with 2 Axes>"
      ]
     },
     "metadata": {
      "needs_background": "light"
     },
     "output_type": "display_data"
    }
   ],
   "source": [
    "matshow(vely[:, 16, :])\n",
    "colorbar()"
   ]
  },
  {
   "cell_type": "code",
   "execution_count": 189,
   "metadata": {},
   "outputs": [
    {
     "data": {
      "text/plain": [
       "<matplotlib.colorbar.Colorbar at 0x7f1b08668d50>"
      ]
     },
     "execution_count": 189,
     "metadata": {},
     "output_type": "execute_result"
    },
    {
     "data": {
      "image/png": "[encoded data removed]",
      "text/plain": [
       "<Figure size 288x288 with 2 Axes>"
      ]
     },
     "metadata": {
      "needs_background": "light"
     },
     "output_type": "display_data"
    }
   ],
   "source": [
    "matshow(velz[:, 16, :])\n",
    "colorbar()"
   ]
  },
  {
   "cell_type": "code",
   "execution_count": 190,
   "metadata": {},
   "outputs": [],
   "source": [
    "class SoA:\n",
    "    _pref = \"particle_\"\n",
    "    _pos  = \"position_\"\n",
    "    _vel  = \"vel\"\n",
    "# New here\n",
    "    _id   = \"id\"\n",
    "    _cpu  = \"cpu\"\n",
    "    _id_0 = \"id_0\"\n",
    "    _cpu_0 = \"cpu_0\"\n",
    "    \n",
    "    def __init__(self, data):\n",
    "        str_pos = self._pref+self._pos\n",
    "        self.px = np.array(data[str_pos + \"x\"])\n",
    "        self.py = np.array(data[str_pos + \"y\"])\n",
    "        self.pz = np.array(data[str_pos + \"z\"])\n",
    "\n",
    "        str_vel = self._pref+self._vel\n",
    "        self.vx = np.array(data[str_vel + \"x\"])\n",
    "        self.vy = np.array(data[str_vel + \"y\"])\n",
    "        self.vz = np.array(data[str_vel + \"z\"])\n",
    "\n",
    "        str_id = self._pref+self._id\n",
    "        self.id = np.array(data[str_id])\n",
    "        str_cpu = self._pref+self._cpu\n",
    "        self.cpu = np.array(data[str_cpu])\n",
    "        \n",
    "        str_id_0 = self._pref+self._id_0\n",
    "        self.id_0 = np.array(data[str_id_0])\n",
    "        str_cpu_0 = self._pref+self._cpu_0\n",
    "        self.cpu_0 = np.array(data[str_cpu_0])\n",
    " \n",
    "# new here\n",
    "    def __str__(self):\n",
    "        return \"{pos:\"  + str(self.px) + \",\" + str(self.py) + \",\" + str(self.pz) + \\\n",
    "              \"; vel:\"  + str(self.vx) + \",\" + str(self.vy) + \",\" + str(self.vz) + \\\n",
    "              \"; id:\"   + str(self.id) + \", cpu:\" + str(self.cpu) + \", id_0:\" + str(self.id_0) + \", cpu_0:\" + str(self.cpu_0) + \",\" + \"}\"\n",
    "\n",
    "\n",
    "    def __repr__(self):\n",
    "        return str(self)\n",
    "\n",
    "\n",
    "# new here\n",
    "class Particle:\n",
    "    def __init__(self, px, py, pz, vx, vy, vz, id, cpu, id_0, cpu_0):\n",
    "        self.pos = np.array([px, py, pz])\n",
    "        self.vel = np.array([vx, vy, vz])\n",
    "        self.id  = np.array(id)\n",
    "        self.cpu  = np.array(cpu)\n",
    "        self.id_0  = np.array(id_0)\n",
    "        self.cpu_0  = np.array(cpu_0)\n",
    "\n",
    "    def __str__(self):\n",
    "        return \"P(\" + str(self.pos) + \",\" + str(self.vel) + \",\" + str(self.id) + \",\" + str(self.cpu) + \",\" + str(self.id_0) + \",\" + str(self.cpu_0) + \",\" + \")\"\n",
    "    \n",
    "\n",
    "    def __repr__(self):\n",
    "        return str(self)\n",
    "\n",
    "\n",
    "class AoS:\n",
    "    def __init__(self, amrex_data):\n",
    "        self.particles = list()\n",
    "        soa = SoA(amrex_data)\n",
    "# new here        \n",
    "        data = zip(soa.px, soa.py, soa.pz, soa.vx, soa.vy, soa.vz, soa.id, soa.cpu, soa.id_0, soa.cpu_0)\n",
    "        for elt in data:\n",
    "            self.particles.append(Particle(* elt))\n",
    "\n",
    "\n"
   ]
  },
  {
   "cell_type": "code",
   "execution_count": 191,
   "metadata": {},
   "outputs": [
    {
     "name": "stderr",
     "output_type": "stream",
     "text": [
      "yt : [INFO     ] 2019-07-23 14:24:54,026 Parameters: current_time              = 0.005\n",
      "yt : [INFO     ] 2019-07-23 14:24:54,032 Parameters: domain_dimensions         = [32 32 32]\n",
      "yt : [INFO     ] 2019-07-23 14:24:54,034 Parameters: domain_left_edge          = [0. 0. 0.]\n",
      "yt : [INFO     ] 2019-07-23 14:24:54,036 Parameters: domain_right_edge         = [1. 1. 1.]\n"
     ]
    }
   ],
   "source": [
    "ds = AMReXDataset(data_files[-1])"
   ]
  },
  {
   "cell_type": "code",
   "execution_count": 192,
   "metadata": {},
   "outputs": [
    {
     "data": {
      "text/plain": [
       "defaultdict(list,\n",
       "            {'immbdy_markers': ['particle_cpu',\n",
       "              'particle_cpu_0',\n",
       "              'particle_cpu_1',\n",
       "              'particle_forcex',\n",
       "              'particle_forcey',\n",
       "              'particle_forcez',\n",
       "              'particle_id',\n",
       "              'particle_id_0',\n",
       "              'particle_id_1',\n",
       "              'particle_position_x',\n",
       "              'particle_position_y',\n",
       "              'particle_position_z',\n",
       "              'particle_pred_forcex',\n",
       "              'particle_pred_forcey',\n",
       "              'particle_pred_forcez',\n",
       "              'particle_pred_posx',\n",
       "              'particle_pred_posy',\n",
       "              'particle_pred_posz',\n",
       "              'particle_pred_velx',\n",
       "              'particle_pred_vely',\n",
       "              'particle_pred_velz',\n",
       "              'particle_radius',\n",
       "              'particle_velx',\n",
       "              'particle_vely',\n",
       "              'particle_velz']})"
      ]
     },
     "execution_count": 192,
     "metadata": {},
     "output_type": "execute_result"
    }
   ],
   "source": [
    "ds.particle_fields_by_type"
   ]
  },
  {
   "cell_type": "code",
   "execution_count": 193,
   "metadata": {},
   "outputs": [],
   "source": [
    "ad = ds.all_data()\n",
    "soa = SoA(ad)\n",
    "aos = AoS(ad)"
   ]
  },
  {
   "cell_type": "code",
   "execution_count": 194,
   "metadata": {},
   "outputs": [
    {
     "data": {
      "text/plain": [
       "[P([0.11216252 0.49049643 0.5       ],[-24.11123386  27.79823145   0.        ],2.0,6.0,1.0,6.0,),\n",
       " P([0.10589604 0.43341703 0.5       ],[ 8.14552201 25.21081043  0.        ],1.0,6.0,-1.0,-1.0,),\n",
       " P([0.23520732 0.62056568 0.5       ],[-19.43453118 -12.05647785   0.        ],6.0,6.0,5.0,6.0,),\n",
       " P([0.34653307 0.51840505 0.5       ],[-15.25309746  -4.3424927    0.        ],9.0,6.0,8.0,6.0,),\n",
       " P([0.30581424 0.54861953 0.5       ],[-24.46050252 -17.21243881   0.        ],8.0,6.0,7.0,6.0,),\n",
       " P([0.27408867 0.58793107 0.5       ],[-26.98377922 -19.72262621   0.        ],7.0,6.0,6.0,6.0,),\n",
       " P([0.3979182  0.51640247 0.5       ],[-15.09676484  16.43474015   0.        ],10.0,6.0,9.0,6.0,),\n",
       " P([0.18343165 0.62759534 0.5       ],[-15.66748009   6.94047531   0.        ],5.0,6.0,4.0,6.0,),\n",
       " P([0.1377355  0.59837016 0.5       ],[-25.28397442  23.76100422   0.        ],4.0,6.0,3.0,6.0,),\n",
       " P([0.11594281 0.54727683 0.5       ],[-33.2166129   27.23850219   0.        ],3.0,6.0,2.0,6.0,)]"
      ]
     },
     "execution_count": 194,
     "metadata": {},
     "output_type": "execute_result"
    }
   ],
   "source": [
    "aos.particles"
   ]
  },
  {
   "cell_type": "code",
   "execution_count": null,
   "metadata": {},
   "outputs": [],
   "source": []
  },
  {
   "cell_type": "code",
   "execution_count": 195,
   "metadata": {},
   "outputs": [],
   "source": [
    "nop = 10#number of particles"
   ]
  },
  {
   "cell_type": "code",
   "execution_count": null,
   "metadata": {},
   "outputs": [],
   "source": []
  },
  {
   "cell_type": "code",
   "execution_count": null,
   "metadata": {},
   "outputs": [],
   "source": []
  },
  {
   "cell_type": "code",
   "execution_count": 196,
   "metadata": {},
   "outputs": [
    {
     "data": {
      "text/plain": [
       "array([0.11216252, 0.49049643, 0.5       ])"
      ]
     },
     "execution_count": 196,
     "metadata": {},
     "output_type": "execute_result"
    }
   ],
   "source": [
    "aos.particles[0].pos[0:nop]"
   ]
  },
  {
   "cell_type": "code",
   "execution_count": 197,
   "metadata": {},
   "outputs": [
    {
     "name": "stderr",
     "output_type": "stream",
     "text": [
      "yt : [INFO     ] 2019-07-23 14:24:55,620 Parameters: current_time              = 0.0\n",
      "yt : [INFO     ] 2019-07-23 14:24:55,622 Parameters: domain_dimensions         = [32 32 32]\n",
      "yt : [INFO     ] 2019-07-23 14:24:55,624 Parameters: domain_left_edge          = [0. 0. 0.]\n",
      "yt : [INFO     ] 2019-07-23 14:24:55,626 Parameters: domain_right_edge         = [1. 1. 1.]\n",
      "yt : [INFO     ] 2019-07-23 14:24:55,920 Parameters: current_time              = 0.0001\n",
      "yt : [INFO     ] 2019-07-23 14:24:55,922 Parameters: domain_dimensions         = [32 32 32]\n",
      "yt : [INFO     ] 2019-07-23 14:24:55,924 Parameters: domain_left_edge          = [0. 0. 0.]\n",
      "yt : [INFO     ] 2019-07-23 14:24:55,925 Parameters: domain_right_edge         = [1. 1. 1.]\n",
      "yt : [INFO     ] 2019-07-23 14:24:56,365 Parameters: current_time              = 0.0002\n",
      "yt : [INFO     ] 2019-07-23 14:24:56,366 Parameters: domain_dimensions         = [32 32 32]\n",
      "yt : [INFO     ] 2019-07-23 14:24:56,368 Parameters: domain_left_edge          = [0. 0. 0.]\n",
      "yt : [INFO     ] 2019-07-23 14:24:56,370 Parameters: domain_right_edge         = [1. 1. 1.]\n",
      "yt : [INFO     ] 2019-07-23 14:24:56,728 Parameters: current_time              = 0.0003\n",
      "yt : [INFO     ] 2019-07-23 14:24:56,730 Parameters: domain_dimensions         = [32 32 32]\n",
      "yt : [INFO     ] 2019-07-23 14:24:56,731 Parameters: domain_left_edge          = [0. 0. 0.]\n",
      "yt : [INFO     ] 2019-07-23 14:24:56,733 Parameters: domain_right_edge         = [1. 1. 1.]\n",
      "yt : [INFO     ] 2019-07-23 14:24:56,993 Parameters: current_time              = 0.0004\n",
      "yt : [INFO     ] 2019-07-23 14:24:56,994 Parameters: domain_dimensions         = [32 32 32]\n",
      "yt : [INFO     ] 2019-07-23 14:24:56,995 Parameters: domain_left_edge          = [0. 0. 0.]\n",
      "yt : [INFO     ] 2019-07-23 14:24:56,997 Parameters: domain_right_edge         = [1. 1. 1.]\n",
      "yt : [INFO     ] 2019-07-23 14:24:57,250 Parameters: current_time              = 0.0005\n",
      "yt : [INFO     ] 2019-07-23 14:24:57,251 Parameters: domain_dimensions         = [32 32 32]\n",
      "yt : [INFO     ] 2019-07-23 14:24:57,253 Parameters: domain_left_edge          = [0. 0. 0.]\n",
      "yt : [INFO     ] 2019-07-23 14:24:57,254 Parameters: domain_right_edge         = [1. 1. 1.]\n",
      "yt : [INFO     ] 2019-07-23 14:24:57,531 Parameters: current_time              = 0.0006\n",
      "yt : [INFO     ] 2019-07-23 14:24:57,532 Parameters: domain_dimensions         = [32 32 32]\n",
      "yt : [INFO     ] 2019-07-23 14:24:57,534 Parameters: domain_left_edge          = [0. 0. 0.]\n",
      "yt : [INFO     ] 2019-07-23 14:24:57,535 Parameters: domain_right_edge         = [1. 1. 1.]\n",
      "yt : [INFO     ] 2019-07-23 14:24:57,897 Parameters: current_time              = 0.0007\n",
      "yt : [INFO     ] 2019-07-23 14:24:57,898 Parameters: domain_dimensions         = [32 32 32]\n",
      "yt : [INFO     ] 2019-07-23 14:24:57,900 Parameters: domain_left_edge          = [0. 0. 0.]\n",
      "yt : [INFO     ] 2019-07-23 14:24:57,902 Parameters: domain_right_edge         = [1. 1. 1.]\n",
      "yt : [INFO     ] 2019-07-23 14:24:58,298 Parameters: current_time              = 0.0008\n",
      "yt : [INFO     ] 2019-07-23 14:24:58,301 Parameters: domain_dimensions         = [32 32 32]\n",
      "yt : [INFO     ] 2019-07-23 14:24:58,302 Parameters: domain_left_edge          = [0. 0. 0.]\n",
      "yt : [INFO     ] 2019-07-23 14:24:58,305 Parameters: domain_right_edge         = [1. 1. 1.]\n",
      "yt : [INFO     ] 2019-07-23 14:24:58,768 Parameters: current_time              = 0.0009\n",
      "yt : [INFO     ] 2019-07-23 14:24:58,770 Parameters: domain_dimensions         = [32 32 32]\n",
      "yt : [INFO     ] 2019-07-23 14:24:58,771 Parameters: domain_left_edge          = [0. 0. 0.]\n",
      "yt : [INFO     ] 2019-07-23 14:24:58,774 Parameters: domain_right_edge         = [1. 1. 1.]\n",
      "yt : [INFO     ] 2019-07-23 14:24:59,196 Parameters: current_time              = 0.001\n",
      "yt : [INFO     ] 2019-07-23 14:24:59,197 Parameters: domain_dimensions         = [32 32 32]\n",
      "yt : [INFO     ] 2019-07-23 14:24:59,198 Parameters: domain_left_edge          = [0. 0. 0.]\n",
      "yt : [INFO     ] 2019-07-23 14:24:59,199 Parameters: domain_right_edge         = [1. 1. 1.]\n"
     ]
    }
   ],
   "source": [
    "positions_ = dict()\n",
    "id_        = dict()\n",
    "cpu_       = dict()\n",
    "id0_       = dict()\n",
    "cpu0_      = dict()\n",
    "\n",
    "for x in range(1,nop+1):\n",
    "    positions_[x] = list()\n",
    "    id_[x]        = list()\n",
    "    cpu_[x]       = list()\n",
    "    id0_[x]       = list()\n",
    "    cpu0_[x]      = list()\n",
    "    \n",
    "\n",
    "for k in range(0, nop+1):\n",
    "    data_file = data_files[k]\n",
    "    #ds = yt.load(data_files[-1])\n",
    "    ds = AMReXDataset(data_file)\n",
    "    t = ds.current_time\n",
    "    ad = ds.all_data()\n",
    "    aos = AoS(ad)\n",
    "    for y in range(1,nop+1):\n",
    "        positions_[y].append(aos.particles[y-1].pos)\n",
    "        id_[y].append(aos.particles[y-1].id)\n",
    "        cpu_[y].append(aos.particles[y-1].cpu)\n",
    "        id0_[y].append(aos.particles[y-1].id_0)\n",
    "        cpu0_[y].append(aos.particles[y-1].cpu_0)\n",
    "        \n",
    "   "
   ]
  },
  {
   "cell_type": "code",
   "execution_count": 198,
   "metadata": {},
   "outputs": [
    {
     "data": {
      "image/png": "[encoded data removed]",
      "text/plain": [
       "<Figure size 432x288 with 1 Axes>"
      ]
     },
     "metadata": {
      "needs_background": "light"
     },
     "output_type": "display_data"
    }
   ],
   "source": [
    "x_ = dict()\n",
    "y_ = dict()\n",
    "z_ = dict()\n",
    "for v in range(1,nop+1):\n",
    "    x_[v] = np.array([pos[0] for pos in positions_[v]])\n",
    "    y_[v] = np.array([pos[1] for pos in positions_[v]])\n",
    "    z_[v] = np.array([pos[2] for pos in positions_[v]])\n",
    "\n",
    "\n",
    "    \n",
    "for p in range(1, nop+1):\n",
    "    plot(x_[p], y_[p])\n",
    "    "
   ]
  },
  {
   "cell_type": "code",
   "execution_count": 199,
   "metadata": {},
   "outputs": [
    {
     "data": {
      "image/png": "[encoded data removed]",
      "text/plain": [
       "<Figure size 432x288 with 1 Axes>"
      ]
     },
     "metadata": {
      "needs_background": "light"
     },
     "output_type": "display_data"
    }
   ],
   "source": [
    "for p in range(1,nop+1):\n",
    "    plot(x_[p])\n",
    "   "
   ]
  },
  {
   "cell_type": "code",
   "execution_count": 200,
   "metadata": {},
   "outputs": [
    {
     "data": {
      "image/png": "[encoded data removed]",
      "text/plain": [
       "<Figure size 432x288 with 1 Axes>"
      ]
     },
     "metadata": {
      "needs_background": "light"
     },
     "output_type": "display_data"
    }
   ],
   "source": [
    "for p in range(1,nop+1):\n",
    "    plot(y_[p])"
   ]
  },
  {
   "cell_type": "code",
   "execution_count": 201,
   "metadata": {},
   "outputs": [
    {
     "data": {
      "image/png": "[encoded data removed]",
      "text/plain": [
       "<Figure size 432x288 with 1 Axes>"
      ]
     },
     "metadata": {
      "needs_background": "light"
     },
     "output_type": "display_data"
    }
   ],
   "source": [
    "for p in range(1,nop+1):\n",
    "    plot(z_[p])"
   ]
  },
  {
   "cell_type": "code",
   "execution_count": 202,
   "metadata": {},
   "outputs": [
    {
     "data": {
      "image/png": "[encoded data removed]",
      "text/plain": [
       "<Figure size 432x288 with 1 Axes>"
      ]
     },
     "metadata": {
      "needs_background": "light"
     },
     "output_type": "display_data"
    }
   ],
   "source": [
    "for p in range(1,nop+1):\n",
    "    plot(id_[p], '^')"
   ]
  },
  {
   "cell_type": "code",
   "execution_count": 203,
   "metadata": {},
   "outputs": [
    {
     "data": {
      "image/png": "[encoded data removed]",
      "text/plain": [
       "<Figure size 432x288 with 1 Axes>"
      ]
     },
     "metadata": {
      "needs_background": "light"
     },
     "output_type": "display_data"
    }
   ],
   "source": [
    "for p in range(1,nop+1):\n",
    "    plot(cpu_[p], '^')"
   ]
  },
  {
   "cell_type": "code",
   "execution_count": 204,
   "metadata": {},
   "outputs": [
    {
     "data": {
      "image/png": "[encoded data removed]",
      "text/plain": [
       "<Figure size 432x288 with 1 Axes>"
      ]
     },
     "metadata": {
      "needs_background": "light"
     },
     "output_type": "display_data"
    }
   ],
   "source": [
    "for p in range(1,nop+1):\n",
    "    plot(id0_[p], '^')"
   ]
  },
  {
   "cell_type": "code",
   "execution_count": 205,
   "metadata": {},
   "outputs": [
    {
     "name": "stderr",
     "output_type": "stream",
     "text": [
      "yt : [INFO     ] 2019-07-23 14:25:00,714 Parameters: current_time              = 0.0\n",
      "yt : [INFO     ] 2019-07-23 14:25:00,715 Parameters: domain_dimensions         = [32 32 32]\n",
      "yt : [INFO     ] 2019-07-23 14:25:00,717 Parameters: domain_left_edge          = [0. 0. 0.]\n",
      "yt : [INFO     ] 2019-07-23 14:25:00,718 Parameters: domain_right_edge         = [1. 1. 1.]\n",
      "yt : [INFO     ] 2019-07-23 14:25:01,009 Parameters: current_time              = 0.0001\n",
      "yt : [INFO     ] 2019-07-23 14:25:01,010 Parameters: domain_dimensions         = [32 32 32]\n",
      "yt : [INFO     ] 2019-07-23 14:25:01,011 Parameters: domain_left_edge          = [0. 0. 0.]\n",
      "yt : [INFO     ] 2019-07-23 14:25:01,013 Parameters: domain_right_edge         = [1. 1. 1.]\n",
      "yt : [INFO     ] 2019-07-23 14:25:01,277 Parameters: current_time              = 0.0002\n",
      "yt : [INFO     ] 2019-07-23 14:25:01,278 Parameters: domain_dimensions         = [32 32 32]\n",
      "yt : [INFO     ] 2019-07-23 14:25:01,280 Parameters: domain_left_edge          = [0. 0. 0.]\n",
      "yt : [INFO     ] 2019-07-23 14:25:01,282 Parameters: domain_right_edge         = [1. 1. 1.]\n",
      "yt : [INFO     ] 2019-07-23 14:25:01,540 Parameters: current_time              = 0.0003\n",
      "yt : [INFO     ] 2019-07-23 14:25:01,542 Parameters: domain_dimensions         = [32 32 32]\n",
      "yt : [INFO     ] 2019-07-23 14:25:01,543 Parameters: domain_left_edge          = [0. 0. 0.]\n",
      "yt : [INFO     ] 2019-07-23 14:25:01,544 Parameters: domain_right_edge         = [1. 1. 1.]\n",
      "yt : [INFO     ] 2019-07-23 14:25:01,779 Parameters: current_time              = 0.0004\n",
      "yt : [INFO     ] 2019-07-23 14:25:01,781 Parameters: domain_dimensions         = [32 32 32]\n",
      "yt : [INFO     ] 2019-07-23 14:25:01,782 Parameters: domain_left_edge          = [0. 0. 0.]\n",
      "yt : [INFO     ] 2019-07-23 14:25:01,784 Parameters: domain_right_edge         = [1. 1. 1.]\n",
      "yt : [INFO     ] 2019-07-23 14:25:02,149 Parameters: current_time              = 0.0005\n",
      "yt : [INFO     ] 2019-07-23 14:25:02,150 Parameters: domain_dimensions         = [32 32 32]\n",
      "yt : [INFO     ] 2019-07-23 14:25:02,151 Parameters: domain_left_edge          = [0. 0. 0.]\n",
      "yt : [INFO     ] 2019-07-23 14:25:02,153 Parameters: domain_right_edge         = [1. 1. 1.]\n",
      "yt : [INFO     ] 2019-07-23 14:25:02,386 Parameters: current_time              = 0.0006\n",
      "yt : [INFO     ] 2019-07-23 14:25:02,388 Parameters: domain_dimensions         = [32 32 32]\n",
      "yt : [INFO     ] 2019-07-23 14:25:02,389 Parameters: domain_left_edge          = [0. 0. 0.]\n",
      "yt : [INFO     ] 2019-07-23 14:25:02,391 Parameters: domain_right_edge         = [1. 1. 1.]\n",
      "yt : [INFO     ] 2019-07-23 14:25:02,673 Parameters: current_time              = 0.0007\n",
      "yt : [INFO     ] 2019-07-23 14:25:02,675 Parameters: domain_dimensions         = [32 32 32]\n",
      "yt : [INFO     ] 2019-07-23 14:25:02,676 Parameters: domain_left_edge          = [0. 0. 0.]\n",
      "yt : [INFO     ] 2019-07-23 14:25:02,677 Parameters: domain_right_edge         = [1. 1. 1.]\n",
      "yt : [INFO     ] 2019-07-23 14:25:02,925 Parameters: current_time              = 0.0008\n",
      "yt : [INFO     ] 2019-07-23 14:25:02,926 Parameters: domain_dimensions         = [32 32 32]\n",
      "yt : [INFO     ] 2019-07-23 14:25:02,928 Parameters: domain_left_edge          = [0. 0. 0.]\n",
      "yt : [INFO     ] 2019-07-23 14:25:02,930 Parameters: domain_right_edge         = [1. 1. 1.]\n"
     ]
    },
    {
     "data": {
      "image/png": "[encoded data removed]",
      "text/plain": [
       "<Figure size 432x288 with 1 Axes>"
      ]
     },
     "metadata": {
      "needs_background": "light"
     },
     "output_type": "display_data"
    }
   ],
   "source": [
    "id_sorted_       = dict()\n",
    "cpu_sorted_      = dict()\n",
    "position_sorted_ = dict()\n",
    "marker_id_       = dict()\n",
    "marker_cpu_      = dict()\n",
    "\n",
    "x_               = dict()\n",
    "y_               = dict()\n",
    "z_               = dict()\n",
    "\n",
    "marker_posy_ = dict()\n",
    "\n",
    "m_index = dict()\n",
    "\n",
    "\n",
    "for x in range(1,nop+1):\n",
    "    id_sorted_[x]       = list()\n",
    "    cpu_sorted_[x]      = list()\n",
    "    position_sorted_[x] = list()\n",
    "    \n",
    "    \n",
    "prevmarker_id  = -1\n",
    "prevmarker_cpu = -1    \n",
    "\n",
    "#for data_file in data_files:\n",
    "#    ds = AMReXDataset(data_file)\n",
    "#    ad = ds.all_data()\n",
    "\n",
    "for n in range(1, 10):\n",
    "    marker_posy_[n] = list()\n",
    "\n",
    "for n in range(1, 10):\n",
    "    m = (n-1)*1\n",
    "    \n",
    "    data_file = data_files[m]\n",
    "    #ds = yt.load(data_files[-1])\n",
    "    ds = AMReXDataset(data_file)\n",
    "    t = ds.current_time\n",
    "    ad = ds.all_data()\n",
    "    aos = AoS(ad)\n",
    "    prevmarker_id = -1\n",
    "    prevmarker_cpu = -1\n",
    "    for k in range(0, nop):\n",
    "        if aos.particles[k].id_0 == prevmarker_id and aos.particles[k].cpu_0 == prevmarker_cpu:\n",
    "                id_sorted_[1].append(aos.particles[k].id)\n",
    "                cpu_sorted_[1].append(aos.particles[k].cpu)\n",
    "                position_sorted_[1].append(aos.particles[k].pos)\n",
    "                marker_id_[1] = aos.particles[k].id\n",
    "                marker_cpu_[1] = aos.particles[k].cpu\n",
    "                \n",
    "    for i in range(1,nop):    \n",
    "        for k in range(0, nop):\n",
    "            if aos.particles[k].id_0 == marker_id_[i] and aos.particles[k].cpu_0 == marker_cpu_[i]:\n",
    "                id_sorted_[i+1].append(aos.particles[k].id)\n",
    "                cpu_sorted_[i+1].append(aos.particles[k].cpu)\n",
    "                position_sorted_[i+1].append(aos.particles[k].pos)\n",
    "                marker_id_[i+1] = aos.particles[k].id\n",
    "                marker_cpu_[i+1] = aos.particles[k].cpu\n",
    "                \n",
    "    for v in range(1,nop+1):\n",
    "        m_index[v] = v\n",
    "        x_[v] = np.array([pos[0] for pos in position_sorted_[v]])\n",
    "        y_[v] = np.array([pos[1] for pos in position_sorted_[v]])\n",
    "        z_[v] = np.array([pos[2] for pos in position_sorted_[v]])\n",
    "               \n",
    "        marker_posy_[n].append([pos[1] for pos in position_sorted_[v]])\n",
    "        \n",
    "    plot(marker_posy_[n],'-o')  # this is to plot the marker y positions at a given time step to show the flagellum shape\n",
    "    #import time\n",
    "    #time.sleep(1.3) "
   ]
  },
  {
   "cell_type": "code",
   "execution_count": 206,
   "metadata": {},
   "outputs": [
    {
     "data": {
      "text/plain": [
       "[[0.502],\n",
       " [0.485],\n",
       " [0.475],\n",
       " [0.476],\n",
       " [0.486],\n",
       " [0.5],\n",
       " [0.512],\n",
       " [0.517],\n",
       " [0.512],\n",
       " [0.498]]"
      ]
     },
     "execution_count": 206,
     "metadata": {},
     "output_type": "execute_result"
    }
   ],
   "source": [
    "marker_posy_[1]"
   ]
  },
  {
   "cell_type": "code",
   "execution_count": 207,
   "metadata": {},
   "outputs": [],
   "source": [
    "%matplotlib inline\n",
    "\n",
    "#print(matplotlib.animation.writers.list())"
   ]
  },
  {
   "cell_type": "code",
   "execution_count": 208,
   "metadata": {},
   "outputs": [],
   "source": [
    "matplotlib.rcParams['animation.writer'] = 'ffmpeg'\n",
    "#matplotlib.rcParams['animation.writer'] = 'avconv'"
   ]
  },
  {
   "cell_type": "code",
   "execution_count": null,
   "metadata": {},
   "outputs": [],
   "source": []
  },
  {
   "cell_type": "code",
   "execution_count": 209,
   "metadata": {},
   "outputs": [
    {
     "data": {
      "image/png": "[encoded data removed]",
      "text/plain": [
       "<Figure size 432x288 with 1 Axes>"
      ]
     },
     "metadata": {
      "needs_background": "light"
     },
     "output_type": "display_data"
    }
   ],
   "source": [
    "x_                = dict()\n",
    "y_                = dict()\n",
    "z_                = dict()\n",
    "\n",
    "\n",
    "for v in range(1,nop+1):\n",
    "    x_[v] = np.array([pos[0] for pos in position_sorted_[v]])\n",
    "    y_[v] = np.array([pos[1] for pos in position_sorted_[v]])\n",
    "    z_[v] = np.array([pos[2] for pos in position_sorted_[v]])\n",
    "\n",
    "\n",
    "    \n",
    "for p in range(1,nop+1):\n",
    "    plot(x_[p], y_[p], \"-o\")\n",
    "    "
   ]
  },
  {
   "cell_type": "code",
   "execution_count": 210,
   "metadata": {},
   "outputs": [
    {
     "data": {
      "image/png": "[encoded data removed]",
      "text/plain": [
       "<Figure size 432x288 with 1 Axes>"
      ]
     },
     "metadata": {
      "needs_background": "light"
     },
     "output_type": "display_data"
    }
   ],
   "source": [
    "for p in range(1,nop+1):\n",
    "    plot(x_[p])\n",
    "   "
   ]
  },
  {
   "cell_type": "code",
   "execution_count": 211,
   "metadata": {},
   "outputs": [
    {
     "data": {
      "image/png": "[encoded data removed]",
      "text/plain": [
       "<Figure size 432x288 with 1 Axes>"
      ]
     },
     "metadata": {
      "needs_background": "light"
     },
     "output_type": "display_data"
    }
   ],
   "source": [
    "for p in range(1,nop+1):\n",
    "    plot(y_[p], \".\")\n",
    "   "
   ]
  },
  {
   "cell_type": "code",
   "execution_count": 212,
   "metadata": {},
   "outputs": [
    {
     "data": {
      "image/png": "[encoded data removed]",
      "text/plain": [
       "<Figure size 432x288 with 1 Axes>"
      ]
     },
     "metadata": {
      "needs_background": "light"
     },
     "output_type": "display_data"
    }
   ],
   "source": [
    "for p in range(1,nop+1):\n",
    "    plot(z_[p])\n",
    "   "
   ]
  },
  {
   "cell_type": "code",
   "execution_count": 213,
   "metadata": {},
   "outputs": [
    {
     "data": {
      "image/png": "[encoded data removed]",
      "text/plain": [
       "<Figure size 432x288 with 1 Axes>"
      ]
     },
     "metadata": {
      "needs_background": "light"
     },
     "output_type": "display_data"
    }
   ],
   "source": [
    "for p in range(1,nop+1):\n",
    "    plot(id_sorted_[p], '^')"
   ]
  },
  {
   "cell_type": "code",
   "execution_count": 214,
   "metadata": {},
   "outputs": [
    {
     "data": {
      "image/png": "[encoded data removed]",
      "text/plain": [
       "<Figure size 432x288 with 1 Axes>"
      ]
     },
     "metadata": {
      "needs_background": "light"
     },
     "output_type": "display_data"
    }
   ],
   "source": [
    "for p in range(1,nop+1):\n",
    "    plot(cpu_sorted_[p], '^')"
   ]
  },
  {
   "cell_type": "code",
   "execution_count": null,
   "metadata": {},
   "outputs": [],
   "source": []
  },
  {
   "cell_type": "code",
   "execution_count": null,
   "metadata": {},
   "outputs": [],
   "source": []
  },
  {
   "cell_type": "code",
   "execution_count": null,
   "metadata": {},
   "outputs": [],
   "source": []
  },
  {
   "cell_type": "code",
   "execution_count": null,
   "metadata": {},
   "outputs": [],
   "source": []
  },
  {
   "cell_type": "code",
   "execution_count": null,
   "metadata": {},
   "outputs": [],
   "source": []
  },
  {
   "cell_type": "markdown",
   "metadata": {},
   "source": [
    "## Remove Average `vely`"
   ]
  },
  {
   "cell_type": "markdown",
   "metadata": {},
   "source": [
    "The $y$-data might seem smooth. But there will be tiny fluctuations. In order to see those, let's compute the average in dimensions 2 and 3."
   ]
  },
  {
   "cell_type": "code",
   "execution_count": 215,
   "metadata": {},
   "outputs": [
    {
     "data": {
      "text/plain": [
       "[<matplotlib.lines.Line2D at 0x7f1b0823ef10>]"
      ]
     },
     "execution_count": 215,
     "metadata": {},
     "output_type": "execute_result"
    },
    {
     "data": {
      "image/png": "[encoded data removed]",
      "text/plain": [
       "<Figure size 432x288 with 1 Axes>"
      ]
     },
     "metadata": {
      "needs_background": "light"
     },
     "output_type": "display_data"
    }
   ],
   "source": [
    "m_vely = mean(mean(vely[:, :, :], axis=1), axis=1)\n",
    "#              ^^-- returns a 2D array of average velocities\n",
    "#         ^^------- returns a 1D array of average velocities (the average of the previous average)\n",
    "plot(m_vely)"
   ]
  },
  {
   "cell_type": "markdown",
   "metadata": {},
   "source": [
    "Compute fluctuations: `m_vely` is applied to all `dim=1` slices"
   ]
  },
  {
   "cell_type": "code",
   "execution_count": 216,
   "metadata": {},
   "outputs": [],
   "source": [
    "# slice-wise subtraction of the average velocity... \n",
    "# I can't think of a fancy pythonic way of doing this => I'll do it in this cumbersome way:\n",
    "fluct_vely = np.zeros_like(vely)\n",
    "for i in range(vely.shape[0]):\n",
    "    for j in range(vely.shape[1]):\n",
    "            fluct_vely[:, i, j] = vely[:, i, j] - m_vely[:]"
   ]
  },
  {
   "cell_type": "code",
   "execution_count": 217,
   "metadata": {},
   "outputs": [
    {
     "data": {
      "text/plain": [
       "<matplotlib.colorbar.Colorbar at 0x7f1b087a2c10>"
      ]
     },
     "execution_count": 217,
     "metadata": {},
     "output_type": "execute_result"
    },
    {
     "data": {
      "image/png": "[encoded data removed]",
      "text/plain": [
       "<Figure size 288x288 with 2 Axes>"
      ]
     },
     "metadata": {
      "needs_background": "light"
     },
     "output_type": "display_data"
    }
   ],
   "source": [
    "matshow(fluct_vely[:, 8, :])\n",
    "colorbar()"
   ]
  },
  {
   "cell_type": "markdown",
   "metadata": {},
   "source": [
    "## Compute $x$, $y$ and $z$ Temperatures (Fluctuations in `velx`, `vely`, `velz`)"
   ]
  },
  {
   "cell_type": "code",
   "execution_count": 218,
   "metadata": {},
   "outputs": [],
   "source": [
    "t_x = mean(mean(velx[:, :, :]**2, axis=1), axis=1)\n",
    "#           ^^-- returns a 2D array of average velocities\n",
    "#      ^^------- returns a 1D array of average velocities (the average of the previous average)\n",
    "t_x = sqrt(t_x)"
   ]
  },
  {
   "cell_type": "code",
   "execution_count": 219,
   "metadata": {},
   "outputs": [],
   "source": [
    "t_y = mean(mean(fluct_vely[:, :, :]**2, axis=1), axis=1)\n",
    "#           ^^-- returns a 2D array of average velocities\n",
    "#      ^^------- returns a 1D array of average velocities (the average of the previous average)\n",
    "t_y = sqrt(t_y)"
   ]
  },
  {
   "cell_type": "code",
   "execution_count": 220,
   "metadata": {},
   "outputs": [],
   "source": [
    "t_z = mean(mean(velz[:, :, :]**2, axis=1), axis=1)\n",
    "#           ^^-- returns a 2D array of average velocities\n",
    "#      ^^------- returns a 1D array of average velocities (the average of the previous average)\n",
    "t_z = sqrt(t_z)"
   ]
  },
  {
   "cell_type": "code",
   "execution_count": 221,
   "metadata": {},
   "outputs": [
    {
     "data": {
      "text/plain": [
       "[<matplotlib.lines.Line2D at 0x7f1b0a425690>]"
      ]
     },
     "execution_count": 221,
     "metadata": {},
     "output_type": "execute_result"
    },
    {
     "data": {
      "image/png": "[encoded data removed]",
      "text/plain": [
       "<Figure size 432x288 with 1 Axes>"
      ]
     },
     "metadata": {
      "needs_background": "light"
     },
     "output_type": "display_data"
    }
   ],
   "source": [
    "plot(t_x)\n",
    "plot(t_y)\n",
    "plot(t_z)"
   ]
  },
  {
   "cell_type": "markdown",
   "metadata": {},
   "source": [
    "We see that the $x$-fluctuations are supressed due to the wall $\\Rightarrow{}$ needs fixing!"
   ]
  },
  {
   "cell_type": "code",
   "execution_count": null,
   "metadata": {},
   "outputs": [],
   "source": []
  },
  {
   "cell_type": "code",
   "execution_count": null,
   "metadata": {},
   "outputs": [],
   "source": []
  },
  {
   "cell_type": "code",
   "execution_count": null,
   "metadata": {},
   "outputs": [],
   "source": []
  },
  {
   "cell_type": "code",
   "execution_count": null,
   "metadata": {},
   "outputs": [],
   "source": []
  },
  {
   "cell_type": "code",
   "execution_count": null,
   "metadata": {},
   "outputs": [],
   "source": []
  },
  {
   "cell_type": "code",
   "execution_count": null,
   "metadata": {},
   "outputs": [],
   "source": []
  },
  {
   "cell_type": "code",
   "execution_count": null,
   "metadata": {},
   "outputs": [],
   "source": []
  },
  {
   "cell_type": "code",
   "execution_count": null,
   "metadata": {},
   "outputs": [],
   "source": []
  },
  {
   "cell_type": "code",
   "execution_count": null,
   "metadata": {},
   "outputs": [],
   "source": []
  },
  {
   "cell_type": "code",
   "execution_count": null,
   "metadata": {},
   "outputs": [],
   "source": []
  },
  {
   "cell_type": "markdown",
   "metadata": {},
   "source": [
    "# Old Stuff $\\Rightarrow{}$ Clean up at some point"
   ]
  },
  {
   "cell_type": "code",
   "execution_count": 222,
   "metadata": {},
   "outputs": [],
   "source": [
    "def grad(phi):\n",
    "    dphi_x = np.zeros_like(phi)\n",
    "    dphi_y = np.zeros_like(phi)\n",
    "    dphi_z = np.zeros_like(phi)\n",
    "    \n",
    "    dphi_x[ :-1, :, :] += phi[1:,   :, :]\n",
    "    dphi_x[1:,   :, :] -= phi[ :-1, :, :]\n",
    "    \n",
    "    dphi_y[:,  :-1, :] += phi[:, 1:,   :]\n",
    "    dphi_y[:, 1:,   :] -= phi[:,  :-1, :]\n",
    "    \n",
    "    dphi_z[:, :,  :-1] += phi[:, :, 1:, ]\n",
    "    dphi_z[:, :, 1:  ] -= phi[:, :,  :-1]\n",
    "    \n",
    "    return dphi_x, dphi_y, dphi_z"
   ]
  },
  {
   "cell_type": "code",
   "execution_count": 223,
   "metadata": {},
   "outputs": [
    {
     "ename": "ReferenceError",
     "evalue": "weakly-referenced object no longer exists",
     "output_type": "error",
     "traceback": [
      "\u001b[0;31m---------------------------------------------------------------------------\u001b[0m",
      "\u001b[0;31mReferenceError\u001b[0m                            Traceback (most recent call last)",
      "\u001b[0;32m<ipython-input-223-50359a45d56d>\u001b[0m in \u001b[0;36m<module>\u001b[0;34m()\u001b[0m\n\u001b[0;32m----> 1\u001b[0;31m \u001b[0mgrad_x\u001b[0m\u001b[0;34m,\u001b[0m \u001b[0mgrad_y\u001b[0m\u001b[0;34m,\u001b[0m \u001b[0mgrad_z\u001b[0m \u001b[0;34m=\u001b[0m \u001b[0mgrad\u001b[0m\u001b[0;34m(\u001b[0m\u001b[0mcube\u001b[0m\u001b[0;34m[\u001b[0m\u001b[0;34m\"con\"\u001b[0m\u001b[0;34m]\u001b[0m\u001b[0;34m)\u001b[0m\u001b[0;34m\u001b[0m\u001b[0m\n\u001b[0m",
      "\u001b[0;32m/home/jwagner/anaconda2/lib/python2.7/site-packages/yt/data_objects/data_containers.pyc\u001b[0m in \u001b[0;36m__getitem__\u001b[0;34m(self, key)\u001b[0m\n\u001b[1;32m    246\u001b[0m         \u001b[0mReturns\u001b[0m \u001b[0ma\u001b[0m \u001b[0msingle\u001b[0m \u001b[0mfield\u001b[0m\u001b[0;34m.\u001b[0m  \u001b[0mWill\u001b[0m \u001b[0madd\u001b[0m \u001b[0;32mif\u001b[0m \u001b[0mnecessary\u001b[0m\u001b[0;34m.\u001b[0m\u001b[0;34m\u001b[0m\u001b[0m\n\u001b[1;32m    247\u001b[0m         \"\"\"\n\u001b[0;32m--> 248\u001b[0;31m         \u001b[0mf\u001b[0m \u001b[0;34m=\u001b[0m \u001b[0mself\u001b[0m\u001b[0;34m.\u001b[0m\u001b[0m_determine_fields\u001b[0m\u001b[0;34m(\u001b[0m\u001b[0;34m[\u001b[0m\u001b[0mkey\u001b[0m\u001b[0;34m]\u001b[0m\u001b[0;34m)\u001b[0m\u001b[0;34m[\u001b[0m\u001b[0;36m0\u001b[0m\u001b[0;34m]\u001b[0m\u001b[0;34m\u001b[0m\u001b[0m\n\u001b[0m\u001b[1;32m    249\u001b[0m         \u001b[0;32mif\u001b[0m \u001b[0mf\u001b[0m \u001b[0;32mnot\u001b[0m \u001b[0;32min\u001b[0m \u001b[0mself\u001b[0m\u001b[0;34m.\u001b[0m\u001b[0mfield_data\u001b[0m \u001b[0;32mand\u001b[0m \u001b[0mkey\u001b[0m \u001b[0;32mnot\u001b[0m \u001b[0;32min\u001b[0m \u001b[0mself\u001b[0m\u001b[0;34m.\u001b[0m\u001b[0mfield_data\u001b[0m\u001b[0;34m:\u001b[0m\u001b[0;34m\u001b[0m\u001b[0m\n\u001b[1;32m    250\u001b[0m             \u001b[0;32mif\u001b[0m \u001b[0mf\u001b[0m \u001b[0;32min\u001b[0m \u001b[0mself\u001b[0m\u001b[0;34m.\u001b[0m\u001b[0m_container_fields\u001b[0m\u001b[0;34m:\u001b[0m\u001b[0;34m\u001b[0m\u001b[0m\n",
      "\u001b[0;32m/home/jwagner/anaconda2/lib/python2.7/site-packages/yt/data_objects/data_containers.pyc\u001b[0m in \u001b[0;36m_determine_fields\u001b[0;34m(self, fields)\u001b[0m\n\u001b[1;32m   1163\u001b[0m             \u001b[0;32melse\u001b[0m\u001b[0;34m:\u001b[0m\u001b[0;34m\u001b[0m\u001b[0m\n\u001b[1;32m   1164\u001b[0m                 \u001b[0mfname\u001b[0m \u001b[0;34m=\u001b[0m \u001b[0mfield\u001b[0m\u001b[0;34m\u001b[0m\u001b[0m\n\u001b[0;32m-> 1165\u001b[0;31m                 \u001b[0mfinfo\u001b[0m \u001b[0;34m=\u001b[0m \u001b[0mself\u001b[0m\u001b[0;34m.\u001b[0m\u001b[0mds\u001b[0m\u001b[0;34m.\u001b[0m\u001b[0m_get_field_info\u001b[0m\u001b[0;34m(\u001b[0m\u001b[0;34m\"unknown\"\u001b[0m\u001b[0;34m,\u001b[0m \u001b[0mfname\u001b[0m\u001b[0;34m)\u001b[0m\u001b[0;34m\u001b[0m\u001b[0m\n\u001b[0m\u001b[1;32m   1166\u001b[0m                 \u001b[0;32mif\u001b[0m \u001b[0mfinfo\u001b[0m\u001b[0;34m.\u001b[0m\u001b[0mparticle_type\u001b[0m\u001b[0;34m:\u001b[0m\u001b[0;34m\u001b[0m\u001b[0m\n\u001b[1;32m   1167\u001b[0m                     \u001b[0mftype\u001b[0m \u001b[0;34m=\u001b[0m \u001b[0mself\u001b[0m\u001b[0;34m.\u001b[0m\u001b[0m_current_particle_type\u001b[0m\u001b[0;34m\u001b[0m\u001b[0m\n",
      "\u001b[0;31mReferenceError\u001b[0m: weakly-referenced object no longer exists"
     ]
    }
   ],
   "source": [
    "grad_x, grad_y, grad_z = grad(cube[\"con\"])"
   ]
  },
  {
   "cell_type": "code",
   "execution_count": null,
   "metadata": {},
   "outputs": [],
   "source": [
    "matshow(cube['con'][32, :, :])"
   ]
  },
  {
   "cell_type": "code",
   "execution_count": null,
   "metadata": {},
   "outputs": [],
   "source": [
    "matshow(grad_z[32, :, 65:])"
   ]
  },
  {
   "cell_type": "code",
   "execution_count": null,
   "metadata": {},
   "outputs": [],
   "source": [
    "matshow(cube['con'][43, :, :])"
   ]
  },
  {
   "cell_type": "code",
   "execution_count": null,
   "metadata": {},
   "outputs": [],
   "source": [
    "matshow(grad_z[43, :, :])"
   ]
  },
  {
   "cell_type": "code",
   "execution_count": null,
   "metadata": {},
   "outputs": [],
   "source": [
    "plot(grad_z[43, 30, :])"
   ]
  },
  {
   "cell_type": "code",
   "execution_count": null,
   "metadata": {},
   "outputs": [],
   "source": [
    "matshow(grad_z[32, :, :])"
   ]
  },
  {
   "cell_type": "code",
   "execution_count": null,
   "metadata": {},
   "outputs": [],
   "source": [
    "matshow(cube['con'][:, :, 45])"
   ]
  },
  {
   "cell_type": "code",
   "execution_count": null,
   "metadata": {},
   "outputs": [],
   "source": [
    "matshow(grad_x[:, :, 45])"
   ]
  },
  {
   "cell_type": "code",
   "execution_count": null,
   "metadata": {},
   "outputs": [],
   "source": [
    "def sphere_coord(i_x, i_y, i_z, dr=dx, r_c=centre_colloid):\n",
    "    x = (i_x + 0.5)*dr[0] - r_c[0]\n",
    "    y = (i_y + 0.5)*dr[1] - r_c[1]\n",
    "    z = (i_z + 0.5)*dr[2] - r_c[2]\n",
    "    \n",
    "    r     = np.sqrt( x**2 + y**2 + z**2)\n",
    "    theta = np.arccos(z/r)\n",
    "    phi   = np.arctan2(y, x)\n",
    "        \n",
    "    return r, theta, phi\n",
    "\n",
    "def r_unit(theta, phi):\n",
    "    return np.array([\n",
    "        np.sin(theta)*np.cos(phi),\n",
    "        np.sin(theta)*np.sin(phi),\n",
    "        np.cos(theta)\n",
    "    ])\n",
    "\n",
    "def theta_unit(theta, phi):\n",
    "    return np.array([\n",
    "        np.cos(theta)*np.cos(phi),\n",
    "        np.cos(theta)*np.sin(phi),\n",
    "       -np.sin(theta)\n",
    "    ])\n",
    "\n",
    "def phi_unit(phi):\n",
    "    return np.array([\n",
    "       -np.sin(phi),\n",
    "        np.cos(phi),\n",
    "        0\n",
    "    ])"
   ]
  },
  {
   "cell_type": "code",
   "execution_count": null,
   "metadata": {},
   "outputs": [],
   "source": [
    "def grad_sphere(grad_x, grad_y, grad_z):\n",
    "    grad_r     = np.zeros_like(grad_x)\n",
    "    grad_phi   = np.zeros_like(grad_y)\n",
    "    grad_theta = np.zeros_like(grad_z)\n",
    "    \n",
    "    r_dat     = np.zeros_like(grad_x)\n",
    "    phi_dat   = np.zeros_like(grad_x)\n",
    "    theta_dat = np.zeros_like(grad_x)\n",
    "    \n",
    "    for ind, x in ndenumerate(grad_x):\n",
    "        y = grad_y[ind]\n",
    "        z = grad_z[ind]\n",
    "        \n",
    "        r, theta, phi = sphere_coord(ind[0], ind[1], ind[2])\n",
    "        r_vec     = r_unit(theta, phi)\n",
    "        theta_vec = theta_unit(theta, phi)\n",
    "        phi_vec   = phi_unit(phi)\n",
    "        \n",
    "        grad_r[ind]     = np.dot(np.array([x, y, z]), r_vec)\n",
    "        grad_phi[ind]   = np.dot(np.array([x, y, z]), phi_vec)\n",
    "        grad_theta[ind] = np.dot(np.array([x, y, z]), theta_vec)\n",
    "        \n",
    "        r_dat[ind]     = r\n",
    "        phi_dat[ind]   = phi\n",
    "        theta_dat[ind] = theta\n",
    "        \n",
    "    return np.array(grad_r), np.array(grad_phi), np.array(grad_theta), r_dat, phi_dat, theta_dat"
   ]
  },
  {
   "cell_type": "code",
   "execution_count": null,
   "metadata": {},
   "outputs": [],
   "source": [
    "grad_r, grad_phi, grad_theta, r_dat, phi_dat, theta_dat = grad_sphere(grad_x, grad_y, grad_z)"
   ]
  },
  {
   "cell_type": "code",
   "execution_count": null,
   "metadata": {},
   "outputs": [],
   "source": [
    "matshow(r_dat[32, :, :])"
   ]
  },
  {
   "cell_type": "code",
   "execution_count": null,
   "metadata": {},
   "outputs": [],
   "source": [
    "matshow(phi_dat[32, :, :])"
   ]
  },
  {
   "cell_type": "code",
   "execution_count": null,
   "metadata": {},
   "outputs": [],
   "source": [
    "matshow(theta_dat[32, :, :])"
   ]
  },
  {
   "cell_type": "code",
   "execution_count": null,
   "metadata": {},
   "outputs": [],
   "source": [
    "matshow(grad_norm[43, :, :])"
   ]
  },
  {
   "cell_type": "code",
   "execution_count": null,
   "metadata": {},
   "outputs": [],
   "source": [
    "matshow(grad_phi[45, :, :])"
   ]
  },
  {
   "cell_type": "code",
   "execution_count": null,
   "metadata": {},
   "outputs": [],
   "source": [
    "matshow(grad_theta[45, :, :])"
   ]
  },
  {
   "cell_type": "code",
   "execution_count": null,
   "metadata": {},
   "outputs": [],
   "source": [
    "plot(grad_theta[45, 32, :])\n",
    "plot(grad_phi[45, 40, :])"
   ]
  },
  {
   "cell_type": "code",
   "execution_count": null,
   "metadata": {},
   "outputs": [],
   "source": [
    "plot(grad_theta[45, 40, :])\n",
    "plot(grad_phi[45, 40, :])"
   ]
  },
  {
   "cell_type": "code",
   "execution_count": null,
   "metadata": {},
   "outputs": [],
   "source": [
    "matshow(grad_theta[:, :, 60])"
   ]
  },
  {
   "cell_type": "code",
   "execution_count": null,
   "metadata": {},
   "outputs": [],
   "source": [
    "matshow(grad_phi[:, :, 60])"
   ]
  },
  {
   "cell_type": "code",
   "execution_count": null,
   "metadata": {},
   "outputs": [],
   "source": [
    "matshow(cube['con'][:, :, 60])"
   ]
  },
  {
   "cell_type": "code",
   "execution_count": null,
   "metadata": {},
   "outputs": [],
   "source": [
    "matshow(r_dat[:, :, 60])"
   ]
  },
  {
   "cell_type": "code",
   "execution_count": null,
   "metadata": {},
   "outputs": [],
   "source": [
    "matshow(theta_dat[:, :, 60])"
   ]
  },
  {
   "cell_type": "code",
   "execution_count": null,
   "metadata": {},
   "outputs": [],
   "source": [
    "matshow(phi_dat[:, :, 60])"
   ]
  },
  {
   "cell_type": "code",
   "execution_count": null,
   "metadata": {},
   "outputs": [],
   "source": [
    "def scan_theta(r, phi, theta_range, grad_x, grad_y, grad_z, r_c=centre_colloid, dr=dx):\n",
    "    scan = np.zeros_like(theta_range)\n",
    "    \n",
    "    for i, theta in enumerate(theta_range):\n",
    "        x = r_c[0] + r * np.sin(theta)*np.cos(phi)\n",
    "        y = r_c[1] + r * np.sin(theta)*np.sin(phi)\n",
    "        z = r_c[2] + r * np.cos(theta)\n",
    "                \n",
    "        i_x = int(x / dx[0])\n",
    "        i_y = int(y / dx[1])\n",
    "        i_z = int(z / dx[2])\n",
    "        \n",
    "        dphi_x = grad_x[i_x, i_y, i_z]\n",
    "        dphi_y = grad_y[i_x, i_y, i_z]\n",
    "        dphi_z = grad_z[i_x, i_y, i_z]\n",
    "        \n",
    "        e_theta = theta_unit(theta, phi)\n",
    "        scan[i] = np.dot(np.array([dphi_x, dphi_y, dphi_z]), -e_theta)\n",
    "    \n",
    "    return scan"
   ]
  },
  {
   "cell_type": "code",
   "execution_count": null,
   "metadata": {},
   "outputs": [],
   "source": [
    "x = np.linspace(0, np.pi, num=100)\n",
    "y_1 = scan_theta(1.4e-3, 0.0, x, grad_x, grad_y, grad_z)\n",
    "y_2 = scan_theta(1.4e-3, 0.5, x, grad_x, grad_y, grad_z)\n",
    "y_3 = scan_theta(1.4e-3, 1, x, grad_x, grad_y, grad_z)"
   ]
  },
  {
   "cell_type": "code",
   "execution_count": null,
   "metadata": {},
   "outputs": [],
   "source": [
    "plot(np.pi-x, y_1)\n",
    "plot(np.pi-x, y_2)\n",
    "plot(np.pi-x, y_3)"
   ]
  },
  {
   "cell_type": "code",
   "execution_count": null,
   "metadata": {},
   "outputs": [],
   "source": [
    "y"
   ]
  },
  {
   "cell_type": "code",
   "execution_count": null,
   "metadata": {},
   "outputs": [],
   "source": [
    "sel = np.abs(r_dat - 1.1e-3) < 1e-3\n",
    "sum(sel)"
   ]
  },
  {
   "cell_type": "code",
   "execution_count": null,
   "metadata": {},
   "outputs": [],
   "source": [
    "theta_sel = theta_dat[sel]\n",
    "phi_sel   = phi_dat[sel]\n",
    "\n",
    "grad_norm_sel  = grad_norm[sel]\n",
    "grad_phi_sel   = grad_phi[sel]\n",
    "grad_theta_sel = grad_theta[sel]"
   ]
  },
  {
   "cell_type": "code",
   "execution_count": null,
   "metadata": {},
   "outputs": [],
   "source": [
    "phi_selector = np.abs(phi_sel - 0.6) < 1e-3\n",
    "sum(phi_selector)"
   ]
  },
  {
   "cell_type": "code",
   "execution_count": null,
   "metadata": {},
   "outputs": [],
   "source": [
    "sorted_pts = np.array(sorted(zip(theta_sel[phi_selector], grad_theta_sel[phi_selector])))"
   ]
  },
  {
   "cell_type": "code",
   "execution_count": null,
   "metadata": {},
   "outputs": [],
   "source": [
    "plot(sorted_pts[:,0], sorted_pts[:,1])"
   ]
  },
  {
   "cell_type": "code",
   "execution_count": null,
   "metadata": {},
   "outputs": [],
   "source": [
    "plot(theta_sel[:100])"
   ]
  },
  {
   "cell_type": "code",
   "execution_count": null,
   "metadata": {},
   "outputs": [],
   "source": []
  },
  {
   "cell_type": "code",
   "execution_count": null,
   "metadata": {},
   "outputs": [],
   "source": []
  },
  {
   "cell_type": "code",
   "execution_count": null,
   "metadata": {},
   "outputs": [],
   "source": []
  },
  {
   "cell_type": "code",
   "execution_count": null,
   "metadata": {},
   "outputs": [],
   "source": []
  },
  {
   "cell_type": "code",
   "execution_count": null,
   "metadata": {},
   "outputs": [],
   "source": []
  },
  {
   "cell_type": "code",
   "execution_count": null,
   "metadata": {},
   "outputs": [],
   "source": []
  },
  {
   "cell_type": "code",
   "execution_count": null,
   "metadata": {},
   "outputs": [],
   "source": []
  },
  {
   "cell_type": "code",
   "execution_count": null,
   "metadata": {},
   "outputs": [],
   "source": []
  },
  {
   "cell_type": "code",
   "execution_count": null,
   "metadata": {},
   "outputs": [],
   "source": []
  },
  {
   "cell_type": "code",
   "execution_count": null,
   "metadata": {},
   "outputs": [],
   "source": []
  },
  {
   "cell_type": "code",
   "execution_count": null,
   "metadata": {},
   "outputs": [],
   "source": []
  },
  {
   "cell_type": "code",
   "execution_count": null,
   "metadata": {},
   "outputs": [],
   "source": []
  },
  {
   "cell_type": "code",
   "execution_count": null,
   "metadata": {},
   "outputs": [],
   "source": []
  },
  {
   "cell_type": "code",
   "execution_count": null,
   "metadata": {},
   "outputs": [],
   "source": []
  },
  {
   "cell_type": "code",
   "execution_count": null,
   "metadata": {},
   "outputs": [],
   "source": []
  }
 ],
 "metadata": {
  "kernelspec": {
   "display_name": "Python 2",
   "language": "python",
   "name": "python2"
  },
  "language_info": {
   "codemirror_mode": {
    "name": "ipython",
    "version": 2
   },
   "file_extension": ".py",
   "mimetype": "text/x-python",
   "name": "python",
   "nbconvert_exporter": "python",
   "pygments_lexer": "ipython2",
   "version": "2.7.16"
  }
 },
 "nbformat": 4,
 "nbformat_minor": 4
}
