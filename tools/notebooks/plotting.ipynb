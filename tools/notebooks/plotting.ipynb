{
 "cells": [
  {
   "cell_type": "code",
   "execution_count": 1,
   "id": "9e9f95f5-3018-4764-874d-1d9b3c93fe04",
   "metadata": {},
   "outputs": [
    {
     "name": "stderr",
     "output_type": "stream",
     "text": [
      "/usr/lib/python3.8/_collections_abc.py:666: MatplotlibDeprecationWarning: The global colormaps dictionary is no longer considered public API.\n",
      "  self[key]\n"
     ]
    }
   ],
   "source": [
    "import yt\n",
    "import numpy as np\n",
    "import matplotlib.pyplot as plt"
   ]
  },
  {
   "cell_type": "code",
   "execution_count": 2,
   "id": "ed6798e5-1067-446f-99bd-ab873cb8015d",
   "metadata": {},
   "outputs": [],
   "source": [
    "def return_y_dens_cplt(folder,time,nbins,field=\"densityMean\"):\n",
    "    ds = yt.load(folder+'/cplt'+time+'/')\n",
    "    ad = ds.all_data()\n",
    "    plot = yt.ProfilePlot(ad,\"y\",[field],weight_field=\"cell_volume\",x_log=False,y_log={field:False},n_bins=nbins)\n",
    "    profile = plot.profiles[0]\n",
    "    x = np.array(profile.x)\n",
    "    y = np.array(profile[field])\n",
    "    return x, y"
   ]
  },
  {
   "cell_type": "code",
   "execution_count": 7,
   "id": "be2dcb7e-a157-46ff-9f42-fe68366c7755",
   "metadata": {},
   "outputs": [
    {
     "name": "stderr",
     "output_type": "stream",
     "text": [
      "yt : [INFO     ] 2021-07-06 11:18:47,728 Parameters: current_time              = 1.9490222218964263e-08\n",
      "yt : [INFO     ] 2021-07-06 11:18:47,730 Parameters: domain_dimensions         = [192  48 192]\n",
      "yt : [INFO     ] 2021-07-06 11:18:47,731 Parameters: domain_left_edge          = [0. 0. 0.]\n",
      "yt : [INFO     ] 2021-07-06 11:18:47,733 Parameters: domain_right_edge         = [1.2e-06 3.0e-07 1.2e-06]\n"
     ]
    },
    {
     "data": {
      "text/plain": [
       "[<matplotlib.lines.Line2D at 0x7fc4f9d697f0>]"
      ]
     },
     "execution_count": 7,
     "metadata": {},
     "output_type": "execute_result"
    },
    {
     "data": {
      "image/png": "[encoded data removed]",
      "text/plain": [
       "<Figure size 432x288 with 1 Axes>"
      ]
     },
     "metadata": {
      "needs_background": "light"
     },
     "output_type": "display_data"
    }
   ],
   "source": [
    "time = \"{:09d}\".format(int(195000))\n",
    "x, y = return_y_dens_cplt('~/projects/FHDeX/exec/static_eq_1_1_50',time,nbins=48,field=\"chargeDensityMeanSpecies00000\")\n",
    "\n",
    "fig = plt.figure(); ax = fig.add_subplot()\n",
    "ax.plot(x,y,marker='o',fillstyle='none',label='50% wet',color=\"black\")"
   ]
  },
  {
   "cell_type": "code",
   "execution_count": 4,
   "id": "0f28be7c-1c5c-4a30-9984-6517dd064c9d",
   "metadata": {},
   "outputs": [],
   "source": [
    "img_name='static_eq_1_1_50_raw.svg'\n",
    "img_format='svg'\n",
    "fig.savefig(img_name, format=img_format, dpi=1200)"
   ]
  },
  {
   "cell_type": "code",
   "execution_count": null,
   "id": "dd4caa39-c273-4451-9ea3-84275734074c",
   "metadata": {},
   "outputs": [],
   "source": []
  }
 ],
 "metadata": {
  "kernelspec": {
   "display_name": "Python 3",
   "language": "python",
   "name": "python3"
  },
  "language_info": {
   "codemirror_mode": {
    "name": "ipython",
    "version": 3
   },
   "file_extension": ".py",
   "mimetype": "text/x-python",
   "name": "python",
   "nbconvert_exporter": "python",
   "pygments_lexer": "ipython3",
   "version": "3.8.10"
  }
 },
 "nbformat": 4,
 "nbformat_minor": 5
}
